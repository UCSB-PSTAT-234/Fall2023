{
 "cells": [
  {
   "cell_type": "markdown",
   "id": "chemical-bradford",
   "metadata": {
    "slideshow": {
     "slide_type": "slide"
    }
   },
   "source": [
    "# Covariance Matrices in High Dimensions\n",
    "\n",
    "### Sang-Yun Oh"
   ]
  },
  {
   "cell_type": "markdown",
   "id": "prescribed-delight",
   "metadata": {
    "slideshow": {
     "slide_type": "slide"
    }
   },
   "source": [
    "# Covariance Matrices\n",
    "\n",
    "* Suppose data consist of $p$ variables and $n$ measurements\n",
    "* Variables: blood pressure, height, weight, etc.\n",
    "* Measurements: $n$-subjects, units, items, etc.\n",
    "* Data matrix: $\\boldsymbol{Y}\\in\\mathbb{R}^{n\\times p}$"
   ]
  },
  {
   "cell_type": "markdown",
   "id": "c57b284b",
   "metadata": {},
   "source": [
    "## Theoretical Concepts"
   ]
  },
  {
   "cell_type": "markdown",
   "id": "juvenile-surprise",
   "metadata": {
    "slideshow": {
     "slide_type": "slide"
    }
   },
   "source": [
    "## Covariance Matrix\n",
    "\n",
    "* Covariance matrix is defined as\n",
    "$$\n",
    "\\Sigma=E(\\boldsymbol{Y}-\\boldsymbol{\\mu})(\\boldsymbol{Y}-\\boldsymbol{\\mu})^{\\prime}=\\left(\\sigma_{i j}\\right),\n",
    "$$"
   ]
  },
  {
   "cell_type": "markdown",
   "id": "engaging-cooking",
   "metadata": {
    "slideshow": {
     "slide_type": "fragment"
    }
   },
   "source": [
    "* Sample covariance matrix is\n",
    "$$\n",
    "\\mathbf{S}=\\frac{1}{n} \\sum_{i=1}^{n}\\left(\\boldsymbol{Y}_{i}-\\overline{\\boldsymbol{Y}}\\right)\\left(\\boldsymbol{Y}_{i}-\\overline{\\boldsymbol{Y}}\\right)^{\\prime},\n",
    "$$\n",
    "* Other types of covariance estimates"
   ]
  },
  {
   "cell_type": "markdown",
   "id": "labeled-responsibility",
   "metadata": {
    "slideshow": {
     "slide_type": "slide"
    }
   },
   "source": [
    "## Examples of Covariance Matrices\n",
    "\n",
    "* Stocks: $p=4300+$ companies and 20 days per month  \n",
    "    Relationship between stocks (volatility structure)"
   ]
  },
  {
   "cell_type": "markdown",
   "id": "expanded-centre",
   "metadata": {
    "slideshow": {
     "slide_type": "fragment"
    }
   },
   "source": [
    "* Genomics: $p\\approx 20000$ genes and 100s of subjects  \n",
    "    Co-expression of genes (gene relevance network)"
   ]
  },
  {
   "cell_type": "markdown",
   "id": "champion-month",
   "metadata": {
    "slideshow": {
     "slide_type": "fragment"
    }
   },
   "source": [
    "* Neuroimaging: $p=90000$ voxels (or hundreds of aggregated ROIs) and thousands of time points  \n",
    "    Functional connectivity network"
   ]
  },
  {
   "cell_type": "markdown",
   "id": "quantitative-soldier",
   "metadata": {
    "slideshow": {
     "slide_type": "fragment"
    }
   },
   "source": [
    "* Ecology: $p=23$ environmental variables and $n=12$ locations  \n",
    "    Community abundance (Warton 2008)\n",
    "    \n",
    "**Data are often high dimensional**"
   ]
  },
  {
   "cell_type": "markdown",
   "id": "attempted-spray",
   "metadata": {
    "slideshow": {
     "slide_type": "slide"
    }
   },
   "source": [
    "## Properties of Covariance Matrices\n",
    "\n",
    "* Matrix $\\Sigma$ is symmetric\n",
    "* All eigenvalues are nonnegative\n",
    "* Nonnegative definite\n",
    "* If singular, dimensionality can be reduced"
   ]
  },
  {
   "cell_type": "markdown",
   "id": "funky-venture",
   "metadata": {
    "slideshow": {
     "slide_type": "slide"
    }
   },
   "source": [
    "## Estimation of Covariance Matrices\n",
    "\n",
    "* High dimensionality makes covariance estimation challenging\n",
    "* $O(p^2)$ parameters (high estimator variance)\n",
    "* $\\mathbf{S}$ is singular when $p>n$: i.e., some eigenvalues are zeros\n",
    "* Even when $p<n$, eigenvalues can be inaccurate"
   ]
  },
  {
   "cell_type": "markdown",
   "id": "difficult-renewal",
   "metadata": {
    "slideshow": {
     "slide_type": "slide"
    }
   },
   "source": [
    "## Uses of Covariance Matrices\n",
    "\n",
    "* Markowitz Portfolio Problem (encodes market volatility)\n",
    "* Regression (OLS)  \n",
    "$$\n",
    "\\widehat{\\beta}_{\\text {OLS}}=\\left(\\boldsymbol{X}^{\\prime} \\boldsymbol{X}\\right)^{-1} \\boldsymbol{X}^{\\prime} \\boldsymbol{Y}\n",
    "$$\n",
    "* Canonical Correlation Analysis (CCA): associations among two sets of variables ([examples](https://stats.idre.ucla.edu/r/dae/canonical-correlation-analysis/))\n",
    "* Input to clustering algorithm\n",
    "* Inverse of $\\Sigma$ often needed but doesn't exist in high dimensional setting"
   ]
  },
  {
   "cell_type": "markdown",
   "id": "cf1168c2",
   "metadata": {
    "slideshow": {
     "slide_type": "slide"
    }
   },
   "source": [
    "## PCA as Optimal Subspace Estimation\n",
    "\n",
    "Suppose we have data $X\\in \\mathbb{R}^{n\\times p}$ with mean zero with sample covariance $S=\\frac{1}{n-1} X^T X$. Note the following optimization problem\n",
    "$$\n",
    "\\begin{aligned}\n",
    "\\begin{array}{ll}\n",
    "\\max _{v_1} & v_1^T X^T X v_1, \\\\\n",
    "\\text{subject to} & v_1^T v_1=1 .\n",
    "\\end{array}\n",
    "\\end{aligned}\n",
    "$$\n",
    "Objective function is equivalent to $\\operatorname{var}\\left(X v_1\\right)=v_1^T S v_1$"
   ]
  },
  {
   "cell_type": "markdown",
   "id": "9681d71b",
   "metadata": {
    "slideshow": {
     "slide_type": "slide"
    }
   },
   "source": [
    "## PCA as Optimal Subspace Estimation\n",
    "\n",
    "Suppose we have data $X\\in \\mathbb{R}^{n\\times p}$ with mean zero with sample covariance $S=\\frac{1}{n-1} X^T X$. Note the following optimization problem\n",
    "$$\n",
    "\\begin{aligned}\n",
    "\\begin{array}{ll}\n",
    "\\max _{v_1} & v_1^T X^T X v_1, \\\\\n",
    "\\text{subject to} & v_1^T v_1=1 .\n",
    "\\end{array}\n",
    "\\end{aligned}\n",
    "$$\n",
    "Objective function is equivalent to $\\operatorname{var}\\left(X v_1\\right)=v_1^T S v_1$"
   ]
  },
  {
   "cell_type": "markdown",
   "id": "d7d1d4b8",
   "metadata": {
    "slideshow": {
     "slide_type": "subslide"
    }
   },
   "source": [
    "Next optimization problem is similar with additional constraints:\n",
    "$$\n",
    "\\begin{aligned}\n",
    "\\begin{array}{ll}\n",
    "\\max _{v_2} & v_2^T X^T X v_2, \\\\\n",
    "\\text{subject to} & v_2^T v_2=1 \\\\\n",
    "& v_1^T v_2=0.\n",
    "\\end{array}\n",
    "\\end{aligned}\n",
    "$$\n"
   ]
  },
  {
   "cell_type": "markdown",
   "id": "ac8f4c8f",
   "metadata": {
    "slideshow": {
     "slide_type": "subslide"
    }
   },
   "source": [
    "Continuing up to $k$-th PC loadings:\n",
    "$$\\begin{aligned}\n",
    "\\begin{array}{ll}\n",
    "\\max _{v_k} & v_k^T X^T X v_k \\\\\n",
    "\\text{subject to} & v_k^T v_k=1 \\\\\n",
    "& v_j^T v_k=0, j=1, \\ldots, k-1\n",
    "\\end{array}\n",
    "\\end{aligned}$$"
   ]
  },
  {
   "cell_type": "markdown",
   "id": "07b93ae4",
   "metadata": {
    "slideshow": {
     "slide_type": "subslide"
    }
   },
   "source": [
    "Collectively, we can write\n",
    "$$\n",
    "\\begin{aligned}\n",
    "\\begin{array}{ll}\n",
    "\\max_V & V^T X^T X V \\\\\n",
    "\\text{subject to} & V^T V=I\n",
    "\\end{array}\n",
    "\\end{aligned}\n",
    "$$\n",
    "\n",
    "For other formulation of PCA refer to _Principal Component Analysis and Optimization:\n",
    "A Tutorial_, Reris and Brooks ([manuscript](https://scholarscompass.vcu.edu/cgi/viewcontent.cgi?article=1006&context=ssor_pubs))"
   ]
  },
  {
   "cell_type": "markdown",
   "id": "continental-relevance",
   "metadata": {
    "slideshow": {
     "slide_type": "slide"
    }
   },
   "source": [
    "## Regularization\n",
    "\n",
    "* Eigenvalue structure (Ledoit-Wolf, condition number)"
   ]
  },
  {
   "cell_type": "markdown",
   "id": "basic-halifax",
   "metadata": {
    "slideshow": {
     "slide_type": "fragment"
    }
   },
   "source": [
    "* Sparsity pattern (graphical models)"
   ]
  },
  {
   "cell_type": "markdown",
   "id": "protected-railway",
   "metadata": {
    "slideshow": {
     "slide_type": "fragment"
    }
   },
   "source": [
    "* Structural assumptions (banding, tapering, low-rank)\n",
    "\n",
    "All stabilize estimates (bias variance trade off)"
   ]
  },
  {
   "cell_type": "markdown",
   "id": "hourly-parade",
   "metadata": {
    "slideshow": {
     "slide_type": "subslide"
    }
   },
   "source": [
    "## Eigen-structure regularization\n",
    "\n",
    "* Ledoit-Wolf Estimator (Ledoit and Wolf, 2004)\n",
    "$$\n",
    "\\widehat{\\mathbf{\\Sigma}}=\\alpha I+(1-\\alpha) \\mathbf{S}\n",
    "$$"
   ]
  },
  {
   "cell_type": "markdown",
   "id": "disturbed-knight",
   "metadata": {
    "slideshow": {
     "slide_type": "fragment"
    }
   },
   "source": [
    "* Condition number regularization (Won et al., 2009)\n",
    "$$\n",
    "\\begin{array}{ll}\n",
    "\\operatorname{maximize} & l(\\Sigma) \\\\\n",
    "\\text { subject to } & \\operatorname{cond}(\\Sigma) \\leq \\kappa_{\\max },\n",
    "\\end{array}\n",
    "$$  \n",
    "    where $l(\\Sigma)$ is the Gaussian Likelihood"
   ]
  },
  {
   "cell_type": "markdown",
   "id": "reliable-whale",
   "metadata": {
    "slideshow": {
     "slide_type": "fragment"
    }
   },
   "source": [
    "* Eigenvector regularization (sparse PCA, SVD, etc)"
   ]
  },
  {
   "cell_type": "markdown",
   "id": "2def7a2e-3395-40a2-b595-87abe70f965b",
   "metadata": {},
   "source": [
    "- Ridge regression: $\\min_\\beta \\|Y - X\\beta\\|^2 +\\gamma\\|\\beta\\|_2^2$\n",
    "$$\n",
    "\\widehat{\\beta}_{\\text {Ridge}}=\\left({X}^{\\prime} {X} + \\gamma I\\right)^{-1} {X}^{\\prime} {Y}\n",
    "$$"
   ]
  },
  {
   "cell_type": "markdown",
   "id": "pacific-glory",
   "metadata": {
    "slideshow": {
     "slide_type": "slide"
    }
   },
   "source": [
    "## Sparsity pattern (Graphical Model)\n",
    "\n",
    "* $\\mathbf{\\Theta}=\\mathbf{\\Sigma}^{-1}$ appear in many situations\n",
    "* $\\mathbf{\\Theta}$ can be regularized directly"
   ]
  },
  {
   "cell_type": "markdown",
   "id": "distributed-pixel",
   "metadata": {
    "slideshow": {
     "slide_type": "fragment"
    }
   },
   "source": [
    "* Assume $\\boldsymbol{Y}_{1}, \\ldots, \\boldsymbol{Y}_{n} \\sim N_{p}(\\boldsymbol{0}, \\boldsymbol{\\Sigma})$ and \n",
    "$$\n",
    "L(\\boldsymbol{\\Sigma})=\\frac{1}{(2 \\pi)^{n p / 2}|\\boldsymbol{\\Sigma}|^{n / 2}} \\exp \\left\\{-\\frac{1}{2} \\sum_{i=1}^{n} \\boldsymbol{Y}_{i}^{\\prime} \\boldsymbol{\\Sigma}^{-1} \\boldsymbol{Y}_{i}\\right\\} .\n",
    "$$"
   ]
  },
  {
   "cell_type": "markdown",
   "id": "lyric-potato",
   "metadata": {
    "slideshow": {
     "slide_type": "fragment"
    }
   },
   "source": [
    "* Compute $\\boldsymbol{\\Theta}$:\n",
    "$$\n",
    "\\ell_{P}(\\boldsymbol{\\Theta})=\\log |\\boldsymbol{\\Theta}|-\\operatorname{tr}(\\mathbf{S} \\Theta)-\\lambda\\|\\boldsymbol{\\Theta}\\|_{1},\n",
    "$$"
   ]
  },
  {
   "cell_type": "markdown",
   "id": "associate-facial",
   "metadata": {
    "slideshow": {
     "slide_type": "slide"
    }
   },
   "source": [
    "Reference: [High‐Dimensional Covariance Estimation](https://ucsb-primo.hosted.exlibrisgroup.com/permalink/f/1egv95m/01UCSB_ALMA51276966020003776) by Mohsen Pourahmadi"
   ]
  },
  {
   "cell_type": "markdown",
   "id": "19b9b8ba",
   "metadata": {},
   "source": [
    "# Numerical Experiments"
   ]
  },
  {
   "cell_type": "markdown",
   "id": "bulgarian-bangkok",
   "metadata": {
    "slideshow": {
     "slide_type": "slide"
    }
   },
   "source": [
    "## Sample Covariance Matrix\n",
    "\n",
    "$$\n",
    "\\mathbf{S}=\\frac{1}{n} \\sum_{i=1}^{n}\\left(\\boldsymbol{Y}_{i}-\\overline{\\boldsymbol{Y}}\\right)\\left(\\boldsymbol{Y}_{i}-\\overline{\\boldsymbol{Y}}\\right)^{\\prime},\n",
    "$$\n",
    "\n",
    "* MLE of covariance matrix for Gaussian data\n",
    "* Singular in high dimensional setting: Zero eigenvalues \n",
    "* When $p>n$, other covariance estimates are needed"
   ]
  },
  {
   "cell_type": "code",
   "execution_count": 1,
   "id": "assumed-actor",
   "metadata": {
    "hideCode": false,
    "slideshow": {
     "slide_type": "subslide"
    }
   },
   "outputs": [
    {
     "name": "stderr",
     "output_type": "stream",
     "text": [
      "/opt/conda/lib/python3.11/site-packages/matplotlib/cbook.py:1699: ComplexWarning: Casting complex values to real discards the imaginary part\n",
      "  return math.isfinite(val)\n",
      "/opt/conda/lib/python3.11/site-packages/matplotlib/cbook.py:1345: ComplexWarning: Casting complex values to real discards the imaginary part\n",
      "  return np.asarray(x, float)\n"
     ]
    },
    {
     "data": {
      "image/png": "[encoded data removed]",
      "text/plain": [
       "<Figure size 640x480 with 1 Axes>"
      ]
     },
     "metadata": {},
     "output_type": "display_data"
    }
   ],
   "source": [
    "import pandas as pd\n",
    "logret = pd.read_pickle('dowjones-logreturns.pkl').dropna()\n",
    "\n",
    "import sklearn.covariance as skcov\n",
    "import sklearn.model_selection as sksel\n",
    "import numpy.linalg as npl\n",
    "\n",
    "cov_sample = skcov.empirical_covariance(logret[:15])\n",
    "eigval_sample, eigvec_sample = npl.eig(cov_sample)\n",
    "pd.Series(eigval_sample).plot();"
   ]
  },
  {
   "cell_type": "markdown",
   "id": "unlimited-study",
   "metadata": {
    "slideshow": {
     "slide_type": "subslide"
    }
   },
   "source": [
    "## Ledoit-Wolf Estimator \n",
    "$$\n",
    "\\Sigma_{\\text {LW}}=(1-\\alpha) \\mathbf{S}+\\alpha \\frac{\\operatorname{Tr} \\mathbf{S}}{p} \\text { I }\n",
    "$$\n",
    "\n",
    "* Ledoit and Wolf, 2004 ([documentation page](https://scikit-learn.org/stable/modules/covariance.html#shrunk-covariance))\n",
    "* Weighted average between sample covariance and identity (times average eigenvalue)"
   ]
  },
  {
   "cell_type": "code",
   "execution_count": 2,
   "id": "altered-bracket",
   "metadata": {
    "slideshow": {
     "slide_type": "subslide"
    }
   },
   "outputs": [
    {
     "name": "stderr",
     "output_type": "stream",
     "text": [
      "/opt/conda/lib/python3.11/site-packages/matplotlib/cbook.py:1699: ComplexWarning: Casting complex values to real discards the imaginary part\n",
      "  return math.isfinite(val)\n",
      "/opt/conda/lib/python3.11/site-packages/matplotlib/cbook.py:1345: ComplexWarning: Casting complex values to real discards the imaginary part\n",
      "  return np.asarray(x, float)\n"
     ]
    },
    {
     "data": {
      "image/png": "[encoded data removed]",
      "text/plain": [
       "<Figure size 640x480 with 1 Axes>"
      ]
     },
     "metadata": {},
     "output_type": "display_data"
    }
   ],
   "source": [
    "cov_lw, shrinkage_lw = skcov.ledoit_wolf(logret[:15])\n",
    "eigval_lw, eigvec_lw = npl.eig(cov_lw)\n",
    "pd.Series(eigval_lw).plot();"
   ]
  },
  {
   "cell_type": "markdown",
   "id": "complete-azerbaijan",
   "metadata": {
    "slideshow": {
     "slide_type": "fragment"
    }
   },
   "source": [
    "* Large eigenvalues decrease\n",
    "* Zero eigenvalues increase (not sigular) "
   ]
  },
  {
   "cell_type": "code",
   "execution_count": 3,
   "id": "numeric-equipment",
   "metadata": {
    "slideshow": {
     "slide_type": "subslide"
    }
   },
   "outputs": [
    {
     "name": "stderr",
     "output_type": "stream",
     "text": [
      "/opt/conda/lib/python3.11/site-packages/matplotlib/cbook.py:1699: ComplexWarning: Casting complex values to real discards the imaginary part\n",
      "  return math.isfinite(val)\n",
      "/opt/conda/lib/python3.11/site-packages/matplotlib/cbook.py:1345: ComplexWarning: Casting complex values to real discards the imaginary part\n",
      "  return np.asarray(x, float)\n"
     ]
    },
    {
     "data": {
      "image/png": "[encoded data removed]",
      "text/plain": [
       "<Figure size 640x480 with 1 Axes>"
      ]
     },
     "metadata": {},
     "output_type": "display_data"
    }
   ],
   "source": [
    "pd.Series(eigval_lw - eigval_sample).plot();"
   ]
  },
  {
   "cell_type": "markdown",
   "id": "hawaiian-lightweight",
   "metadata": {
    "slideshow": {
     "slide_type": "slide"
    }
   },
   "source": [
    "## Graphical Model\n",
    "\n",
    "* Suppose $X = (X_a, X_b, X_c)^T \\sim N(0, \\Sigma)$ then,\n",
    "* $\\Omega= \\Sigma^{-1}$ encodes multivariate relationship (rather than pairwise)\n",
    "$$\n",
    "\\operatorname{cor}\\left(X_{a}, X_{b} \\mid X_{c}: c \\neq a, b\\right)=\\frac{\\operatorname{cov}\\left(X_{a}, X_{b} \\mid X_{c}: c \\neq a, b\\right)}{\\sqrt{\\operatorname{var}\\left(X_{a} \\mid X_{c}: c \\neq a, b\\right) \\operatorname{var}\\left(X_{b} \\mid X_{c}: c \\neq a, b\\right)}}\\\\\n",
    "=\\frac{-\\Omega_{a b}}{\\sqrt{\\Omega_{a a} \\Omega_{b b}}}\n",
    "$$\n",
    "* $\\Omega$ is useful for understanding relationships"
   ]
  },
  {
   "cell_type": "code",
   "execution_count": 4,
   "id": "confused-austria",
   "metadata": {
    "slideshow": {
     "slide_type": "subslide"
    }
   },
   "outputs": [
    {
     "name": "stderr",
     "output_type": "stream",
     "text": [
      "/opt/conda/lib/python3.11/site-packages/sklearn/covariance/_graph_lasso.py:159: RuntimeWarning: invalid value encountered in multiply\n",
      "  precision_[indices != idx, idx] = -precision_[idx, idx] * coefs\n",
      "/opt/conda/lib/python3.11/site-packages/sklearn/covariance/_graph_lasso.py:160: RuntimeWarning: invalid value encountered in multiply\n",
      "  precision_[idx, indices != idx] = -precision_[idx, idx] * coefs\n",
      "/opt/conda/lib/python3.11/site-packages/numpy/core/_methods.py:173: RuntimeWarning: invalid value encountered in subtract\n",
      "  x = asanyarray(arr - arrmean)\n"
     ]
    }
   ],
   "source": [
    "edge_model = skcov.GraphicalLassoCV(n_refinements=2)\n",
    "edge_model.fit(logret[:100])\n",
    "omega = edge_model.precision_.copy()\n",
    "cov_ggm = npl.inv(omega)\n",
    "eigval_ggm, eigvec_ggm = npl.eig(cov_ggm)"
   ]
  },
  {
   "cell_type": "code",
   "execution_count": 5,
   "id": "christian-indiana",
   "metadata": {
    "slideshow": {
     "slide_type": "subslide"
    }
   },
   "outputs": [
    {
     "data": {
      "image/png": "[encoded data removed]",
      "text/plain": [
       "<Figure size 640x480 with 1 Axes>"
      ]
     },
     "metadata": {},
     "output_type": "display_data"
    }
   ],
   "source": [
    "pd.Series(eigval_ggm).plot();"
   ]
  },
  {
   "cell_type": "markdown",
   "id": "decent-kenya",
   "metadata": {
    "slideshow": {
     "slide_type": "subslide"
    }
   },
   "source": [
    "### Visualize Graphical Model"
   ]
  },
  {
   "cell_type": "code",
   "execution_count": 6,
   "id": "874d3541-d36d-4583-8964-890c1fecde31",
   "metadata": {},
   "outputs": [
    {
     "name": "stdout",
     "output_type": "stream",
     "text": [
      "Requirement already satisfied: bokeh==2.4.1 in /opt/conda/lib/python3.11/site-packages (2.4.1)\n",
      "Requirement already satisfied: Jinja2>=2.9 in /opt/conda/lib/python3.11/site-packages (from bokeh==2.4.1) (3.1.2)\n",
      "Requirement already satisfied: numpy>=1.11.3 in /opt/conda/lib/python3.11/site-packages (from bokeh==2.4.1) (1.26.0)\n",
      "Requirement already satisfied: packaging>=16.8 in /opt/conda/lib/python3.11/site-packages (from bokeh==2.4.1) (23.1)\n",
      "Requirement already satisfied: pillow>=7.1.0 in /opt/conda/lib/python3.11/site-packages (from bokeh==2.4.1) (10.0.1)\n",
      "Requirement already satisfied: PyYAML>=3.10 in /opt/conda/lib/python3.11/site-packages (from bokeh==2.4.1) (6.0.1)\n",
      "Requirement already satisfied: tornado>=5.1 in /opt/conda/lib/python3.11/site-packages (from bokeh==2.4.1) (6.3.3)\n",
      "Requirement already satisfied: typing-extensions>=3.10.0 in /opt/conda/lib/python3.11/site-packages (from bokeh==2.4.1) (4.8.0)\n",
      "Requirement already satisfied: MarkupSafe>=2.0 in /opt/conda/lib/python3.11/site-packages (from Jinja2>=2.9->bokeh==2.4.1) (2.1.3)\n",
      "\u001b[33mWARNING: Running pip as the 'root' user can result in broken permissions and conflicting behaviour with the system package manager. It is recommended to use a virtual environment instead: https://pip.pypa.io/warnings/venv\u001b[0m\u001b[33m\n",
      "\u001b[0mRequirement already satisfied: networkx in /opt/conda/lib/python3.11/site-packages (3.2.1)\n",
      "\u001b[33mWARNING: Running pip as the 'root' user can result in broken permissions and conflicting behaviour with the system package manager. It is recommended to use a virtual environment instead: https://pip.pypa.io/warnings/venv\u001b[0m\u001b[33m\n",
      "\u001b[0m"
     ]
    }
   ],
   "source": [
    "!pip install bokeh==2.4.1\n",
    "!pip install networkx"
   ]
  },
  {
   "cell_type": "code",
   "execution_count": 7,
   "id": "official-dover",
   "metadata": {
    "slideshow": {
     "slide_type": "-"
    }
   },
   "outputs": [
    {
     "data": {
      "text/html": [
       "\n",
       "    <div class=\"bk-root\">\n",
       "        <a href=\"https://bokeh.org\" target=\"_blank\" class=\"bk-logo bk-logo-small bk-logo-notebook\"></a>\n",
       "        <span id=\"1002\">Loading BokehJS ...</span>\n",
       "    </div>"
      ]
     },
     "metadata": {},
     "output_type": "display_data"
    },
    {
     "data": {
      "application/javascript": [
       "\n",
       "(function(root) {\n",
       "  function now() {\n",
       "    return new Date();\n",
       "  }\n",
       "\n",
       "  const force = true;\n",
       "\n",
       "  if (typeof root._bokeh_onload_callbacks === \"undefined\" || force === true) {\n",
       "    root._bokeh_onload_callbacks = [];\n",
       "    root._bokeh_is_loading = undefined;\n",
       "  }\n",
       "\n",
       "  const JS_MIME_TYPE = 'application/javascript';\n",
       "  const HTML_MIME_TYPE = 'text/html';\n",
       "  const EXEC_MIME_TYPE = 'application/vnd.bokehjs_exec.v0+json';\n",
       "  const CLASS_NAME = 'output_bokeh rendered_html';\n",
       "\n",
       "  /**\n",
       "   * Render data to the DOM node\n",
       "   */\n",
       "  function render(props, node) {\n",
       "    const script = document.createElement(\"script\");\n",
       "    node.appendChild(script);\n",
       "  }\n",
       "\n",
       "  /**\n",
       "   * Handle when an output is cleared or removed\n",
       "   */\n",
       "  function handleClearOutput(event, handle) {\n",
       "    const cell = handle.cell;\n",
       "\n",
       "    const id = cell.output_area._bokeh_element_id;\n",
       "    const server_id = cell.output_area._bokeh_server_id;\n",
       "    // Clean up Bokeh references\n",
       "    if (id != null && id in Bokeh.index) {\n",
       "      Bokeh.index[id].model.document.clear();\n",
       "      delete Bokeh.index[id];\n",
       "    }\n",
       "\n",
       "    if (server_id !== undefined) {\n",
       "      // Clean up Bokeh references\n",
       "      const cmd_clean = \"from bokeh.io.state import curstate; print(curstate().uuid_to_server['\" + server_id + \"'].get_sessions()[0].document.roots[0]._id)\";\n",
       "      cell.notebook.kernel.execute(cmd_clean, {\n",
       "        iopub: {\n",
       "          output: function(msg) {\n",
       "            const id = msg.content.text.trim();\n",
       "            if (id in Bokeh.index) {\n",
       "              Bokeh.index[id].model.document.clear();\n",
       "              delete Bokeh.index[id];\n",
       "            }\n",
       "          }\n",
       "        }\n",
       "      });\n",
       "      // Destroy server and session\n",
       "      const cmd_destroy = \"import bokeh.io.notebook as ion; ion.destroy_server('\" + server_id + \"')\";\n",
       "      cell.notebook.kernel.execute(cmd_destroy);\n",
       "    }\n",
       "  }\n",
       "\n",
       "  /**\n",
       "   * Handle when a new output is added\n",
       "   */\n",
       "  function handleAddOutput(event, handle) {\n",
       "    const output_area = handle.output_area;\n",
       "    const output = handle.output;\n",
       "\n",
       "    // limit handleAddOutput to display_data with EXEC_MIME_TYPE content only\n",
       "    if ((output.output_type != \"display_data\") || (!Object.prototype.hasOwnProperty.call(output.data, EXEC_MIME_TYPE))) {\n",
       "      return\n",
       "    }\n",
       "\n",
       "    const toinsert = output_area.element.find(\".\" + CLASS_NAME.split(' ')[0]);\n",
       "\n",
       "    if (output.metadata[EXEC_MIME_TYPE][\"id\"] !== undefined) {\n",
       "      toinsert[toinsert.length - 1].firstChild.textContent = output.data[JS_MIME_TYPE];\n",
       "      // store reference to embed id on output_area\n",
       "      output_area._bokeh_element_id = output.metadata[EXEC_MIME_TYPE][\"id\"];\n",
       "    }\n",
       "    if (output.metadata[EXEC_MIME_TYPE][\"server_id\"] !== undefined) {\n",
       "      const bk_div = document.createElement(\"div\");\n",
       "      bk_div.innerHTML = output.data[HTML_MIME_TYPE];\n",
       "      const script_attrs = bk_div.children[0].attributes;\n",
       "      for (let i = 0; i < script_attrs.length; i++) {\n",
       "        toinsert[toinsert.length - 1].firstChild.setAttribute(script_attrs[i].name, script_attrs[i].value);\n",
       "        toinsert[toinsert.length - 1].firstChild.textContent = bk_div.children[0].textContent\n",
       "      }\n",
       "      // store reference to server id on output_area\n",
       "      output_area._bokeh_server_id = output.metadata[EXEC_MIME_TYPE][\"server_id\"];\n",
       "    }\n",
       "  }\n",
       "\n",
       "  function register_renderer(events, OutputArea) {\n",
       "\n",
       "    function append_mime(data, metadata, element) {\n",
       "      // create a DOM node to render to\n",
       "      const toinsert = this.create_output_subarea(\n",
       "        metadata,\n",
       "        CLASS_NAME,\n",
       "        EXEC_MIME_TYPE\n",
       "      );\n",
       "      this.keyboard_manager.register_events(toinsert);\n",
       "      // Render to node\n",
       "      const props = {data: data, metadata: metadata[EXEC_MIME_TYPE]};\n",
       "      render(props, toinsert[toinsert.length - 1]);\n",
       "      element.append(toinsert);\n",
       "      return toinsert\n",
       "    }\n",
       "\n",
       "    /* Handle when an output is cleared or removed */\n",
       "    events.on('clear_output.CodeCell', handleClearOutput);\n",
       "    events.on('delete.Cell', handleClearOutput);\n",
       "\n",
       "    /* Handle when a new output is added */\n",
       "    events.on('output_added.OutputArea', handleAddOutput);\n",
       "\n",
       "    /**\n",
       "     * Register the mime type and append_mime function with output_area\n",
       "     */\n",
       "    OutputArea.prototype.register_mime_type(EXEC_MIME_TYPE, append_mime, {\n",
       "      /* Is output safe? */\n",
       "      safe: true,\n",
       "      /* Index of renderer in `output_area.display_order` */\n",
       "      index: 0\n",
       "    });\n",
       "  }\n",
       "\n",
       "  // register the mime type if in Jupyter Notebook environment and previously unregistered\n",
       "  if (root.Jupyter !== undefined) {\n",
       "    const events = require('base/js/events');\n",
       "    const OutputArea = require('notebook/js/outputarea').OutputArea;\n",
       "\n",
       "    if (OutputArea.prototype.mime_types().indexOf(EXEC_MIME_TYPE) == -1) {\n",
       "      register_renderer(events, OutputArea);\n",
       "    }\n",
       "  }\n",
       "\n",
       "  \n",
       "  if (typeof (root._bokeh_timeout) === \"undefined\" || force === true) {\n",
       "    root._bokeh_timeout = Date.now() + 5000;\n",
       "    root._bokeh_failed_load = false;\n",
       "  }\n",
       "\n",
       "  const NB_LOAD_WARNING = {'data': {'text/html':\n",
       "     \"<div style='background-color: #fdd'>\\n\"+\n",
       "     \"<p>\\n\"+\n",
       "     \"BokehJS does not appear to have successfully loaded. If loading BokehJS from CDN, this \\n\"+\n",
       "     \"may be due to a slow or bad network connection. Possible fixes:\\n\"+\n",
       "     \"</p>\\n\"+\n",
       "     \"<ul>\\n\"+\n",
       "     \"<li>re-rerun `output_notebook()` to attempt to load from CDN again, or</li>\\n\"+\n",
       "     \"<li>use INLINE resources instead, as so:</li>\\n\"+\n",
       "     \"</ul>\\n\"+\n",
       "     \"<code>\\n\"+\n",
       "     \"from bokeh.resources import INLINE\\n\"+\n",
       "     \"output_notebook(resources=INLINE)\\n\"+\n",
       "     \"</code>\\n\"+\n",
       "     \"</div>\"}};\n",
       "\n",
       "  function display_loaded() {\n",
       "    const el = document.getElementById(\"1002\");\n",
       "    if (el != null) {\n",
       "      el.textContent = \"BokehJS is loading...\";\n",
       "    }\n",
       "    if (root.Bokeh !== undefined) {\n",
       "      if (el != null) {\n",
       "        el.textContent = \"BokehJS \" + root.Bokeh.version + \" successfully loaded.\";\n",
       "      }\n",
       "    } else if (Date.now() < root._bokeh_timeout) {\n",
       "      setTimeout(display_loaded, 100)\n",
       "    }\n",
       "  }\n",
       "\n",
       "\n",
       "  function run_callbacks() {\n",
       "    try {\n",
       "      root._bokeh_onload_callbacks.forEach(function(callback) {\n",
       "        if (callback != null)\n",
       "          callback();\n",
       "      });\n",
       "    } finally {\n",
       "      delete root._bokeh_onload_callbacks\n",
       "    }\n",
       "    console.debug(\"Bokeh: all callbacks have finished\");\n",
       "  }\n",
       "\n",
       "  function load_libs(css_urls, js_urls, callback) {\n",
       "    if (css_urls == null) css_urls = [];\n",
       "    if (js_urls == null) js_urls = [];\n",
       "\n",
       "    root._bokeh_onload_callbacks.push(callback);\n",
       "    if (root._bokeh_is_loading > 0) {\n",
       "      console.debug(\"Bokeh: BokehJS is being loaded, scheduling callback at\", now());\n",
       "      return null;\n",
       "    }\n",
       "    if (js_urls == null || js_urls.length === 0) {\n",
       "      run_callbacks();\n",
       "      return null;\n",
       "    }\n",
       "    console.debug(\"Bokeh: BokehJS not loaded, scheduling load and callback at\", now());\n",
       "    root._bokeh_is_loading = css_urls.length + js_urls.length;\n",
       "\n",
       "    function on_load() {\n",
       "      root._bokeh_is_loading--;\n",
       "      if (root._bokeh_is_loading === 0) {\n",
       "        console.debug(\"Bokeh: all BokehJS libraries/stylesheets loaded\");\n",
       "        run_callbacks()\n",
       "      }\n",
       "    }\n",
       "\n",
       "    function on_error(url) {\n",
       "      console.error(\"failed to load \" + url);\n",
       "    }\n",
       "\n",
       "    for (let i = 0; i < css_urls.length; i++) {\n",
       "      const url = css_urls[i];\n",
       "      const element = document.createElement(\"link\");\n",
       "      element.onload = on_load;\n",
       "      element.onerror = on_error.bind(null, url);\n",
       "      element.rel = \"stylesheet\";\n",
       "      element.type = \"text/css\";\n",
       "      element.href = url;\n",
       "      console.debug(\"Bokeh: injecting link tag for BokehJS stylesheet: \", url);\n",
       "      document.body.appendChild(element);\n",
       "    }\n",
       "\n",
       "    for (let i = 0; i < js_urls.length; i++) {\n",
       "      const url = js_urls[i];\n",
       "      const element = document.createElement('script');\n",
       "      element.onload = on_load;\n",
       "      element.onerror = on_error.bind(null, url);\n",
       "      element.async = false;\n",
       "      element.src = url;\n",
       "      console.debug(\"Bokeh: injecting script tag for BokehJS library: \", url);\n",
       "      document.head.appendChild(element);\n",
       "    }\n",
       "  };\n",
       "\n",
       "  function inject_raw_css(css) {\n",
       "    const element = document.createElement(\"style\");\n",
       "    element.appendChild(document.createTextNode(css));\n",
       "    document.body.appendChild(element);\n",
       "  }\n",
       "\n",
       "  \n",
       "  const js_urls = [\"https://cdn.bokeh.org/bokeh/release/bokeh-2.4.1.min.js\", \"https://cdn.bokeh.org/bokeh/release/bokeh-gl-2.4.1.min.js\", \"https://cdn.bokeh.org/bokeh/release/bokeh-widgets-2.4.1.min.js\", \"https://cdn.bokeh.org/bokeh/release/bokeh-tables-2.4.1.min.js\", \"https://cdn.bokeh.org/bokeh/release/bokeh-mathjax-2.4.1.min.js\"];\n",
       "  const css_urls = [];\n",
       "  \n",
       "\n",
       "  const inline_js = [\n",
       "    function(Bokeh) {\n",
       "      Bokeh.set_log_level(\"info\");\n",
       "    },\n",
       "    function(Bokeh) {\n",
       "    \n",
       "    \n",
       "    }\n",
       "  ];\n",
       "\n",
       "  function run_inline_js() {\n",
       "    \n",
       "    if (root.Bokeh !== undefined || force === true) {\n",
       "      \n",
       "    for (let i = 0; i < inline_js.length; i++) {\n",
       "      inline_js[i].call(root, root.Bokeh);\n",
       "    }\n",
       "    if (force === true) {\n",
       "        display_loaded();\n",
       "      }} else if (Date.now() < root._bokeh_timeout) {\n",
       "      setTimeout(run_inline_js, 100);\n",
       "    } else if (!root._bokeh_failed_load) {\n",
       "      console.log(\"Bokeh: BokehJS failed to load within specified timeout.\");\n",
       "      root._bokeh_failed_load = true;\n",
       "    } else if (force !== true) {\n",
       "      const cell = $(document.getElementById(\"1002\")).parents('.cell').data().cell;\n",
       "      cell.output_area.append_execute_result(NB_LOAD_WARNING)\n",
       "    }\n",
       "\n",
       "  }\n",
       "\n",
       "  if (root._bokeh_is_loading === 0) {\n",
       "    console.debug(\"Bokeh: BokehJS loaded, going straight to plotting\");\n",
       "    run_inline_js();\n",
       "  } else {\n",
       "    load_libs(css_urls, js_urls, function() {\n",
       "      console.debug(\"Bokeh: BokehJS plotting callback run at\", now());\n",
       "      run_inline_js();\n",
       "    });\n",
       "  }\n",
       "}(window));"
      ],
      "application/vnd.bokehjs_load.v0+json": "\n(function(root) {\n  function now() {\n    return new Date();\n  }\n\n  const force = true;\n\n  if (typeof root._bokeh_onload_callbacks === \"undefined\" || force === true) {\n    root._bokeh_onload_callbacks = [];\n    root._bokeh_is_loading = undefined;\n  }\n\n  \n\n  \n  if (typeof (root._bokeh_timeout) === \"undefined\" || force === true) {\n    root._bokeh_timeout = Date.now() + 5000;\n    root._bokeh_failed_load = false;\n  }\n\n  const NB_LOAD_WARNING = {'data': {'text/html':\n     \"<div style='background-color: #fdd'>\\n\"+\n     \"<p>\\n\"+\n     \"BokehJS does not appear to have successfully loaded. If loading BokehJS from CDN, this \\n\"+\n     \"may be due to a slow or bad network connection. Possible fixes:\\n\"+\n     \"</p>\\n\"+\n     \"<ul>\\n\"+\n     \"<li>re-rerun `output_notebook()` to attempt to load from CDN again, or</li>\\n\"+\n     \"<li>use INLINE resources instead, as so:</li>\\n\"+\n     \"</ul>\\n\"+\n     \"<code>\\n\"+\n     \"from bokeh.resources import INLINE\\n\"+\n     \"output_notebook(resources=INLINE)\\n\"+\n     \"</code>\\n\"+\n     \"</div>\"}};\n\n  function display_loaded() {\n    const el = document.getElementById(\"1002\");\n    if (el != null) {\n      el.textContent = \"BokehJS is loading...\";\n    }\n    if (root.Bokeh !== undefined) {\n      if (el != null) {\n        el.textContent = \"BokehJS \" + root.Bokeh.version + \" successfully loaded.\";\n      }\n    } else if (Date.now() < root._bokeh_timeout) {\n      setTimeout(display_loaded, 100)\n    }\n  }\n\n\n  function run_callbacks() {\n    try {\n      root._bokeh_onload_callbacks.forEach(function(callback) {\n        if (callback != null)\n          callback();\n      });\n    } finally {\n      delete root._bokeh_onload_callbacks\n    }\n    console.debug(\"Bokeh: all callbacks have finished\");\n  }\n\n  function load_libs(css_urls, js_urls, callback) {\n    if (css_urls == null) css_urls = [];\n    if (js_urls == null) js_urls = [];\n\n    root._bokeh_onload_callbacks.push(callback);\n    if (root._bokeh_is_loading > 0) {\n      console.debug(\"Bokeh: BokehJS is being loaded, scheduling callback at\", now());\n      return null;\n    }\n    if (js_urls == null || js_urls.length === 0) {\n      run_callbacks();\n      return null;\n    }\n    console.debug(\"Bokeh: BokehJS not loaded, scheduling load and callback at\", now());\n    root._bokeh_is_loading = css_urls.length + js_urls.length;\n\n    function on_load() {\n      root._bokeh_is_loading--;\n      if (root._bokeh_is_loading === 0) {\n        console.debug(\"Bokeh: all BokehJS libraries/stylesheets loaded\");\n        run_callbacks()\n      }\n    }\n\n    function on_error(url) {\n      console.error(\"failed to load \" + url);\n    }\n\n    for (let i = 0; i < css_urls.length; i++) {\n      const url = css_urls[i];\n      const element = document.createElement(\"link\");\n      element.onload = on_load;\n      element.onerror = on_error.bind(null, url);\n      element.rel = \"stylesheet\";\n      element.type = \"text/css\";\n      element.href = url;\n      console.debug(\"Bokeh: injecting link tag for BokehJS stylesheet: \", url);\n      document.body.appendChild(element);\n    }\n\n    for (let i = 0; i < js_urls.length; i++) {\n      const url = js_urls[i];\n      const element = document.createElement('script');\n      element.onload = on_load;\n      element.onerror = on_error.bind(null, url);\n      element.async = false;\n      element.src = url;\n      console.debug(\"Bokeh: injecting script tag for BokehJS library: \", url);\n      document.head.appendChild(element);\n    }\n  };\n\n  function inject_raw_css(css) {\n    const element = document.createElement(\"style\");\n    element.appendChild(document.createTextNode(css));\n    document.body.appendChild(element);\n  }\n\n  \n  const js_urls = [\"https://cdn.bokeh.org/bokeh/release/bokeh-2.4.1.min.js\", \"https://cdn.bokeh.org/bokeh/release/bokeh-gl-2.4.1.min.js\", \"https://cdn.bokeh.org/bokeh/release/bokeh-widgets-2.4.1.min.js\", \"https://cdn.bokeh.org/bokeh/release/bokeh-tables-2.4.1.min.js\", \"https://cdn.bokeh.org/bokeh/release/bokeh-mathjax-2.4.1.min.js\"];\n  const css_urls = [];\n  \n\n  const inline_js = [\n    function(Bokeh) {\n      Bokeh.set_log_level(\"info\");\n    },\n    function(Bokeh) {\n    \n    \n    }\n  ];\n\n  function run_inline_js() {\n    \n    if (root.Bokeh !== undefined || force === true) {\n      \n    for (let i = 0; i < inline_js.length; i++) {\n      inline_js[i].call(root, root.Bokeh);\n    }\n    if (force === true) {\n        display_loaded();\n      }} else if (Date.now() < root._bokeh_timeout) {\n      setTimeout(run_inline_js, 100);\n    } else if (!root._bokeh_failed_load) {\n      console.log(\"Bokeh: BokehJS failed to load within specified timeout.\");\n      root._bokeh_failed_load = true;\n    } else if (force !== true) {\n      const cell = $(document.getElementById(\"1002\")).parents('.cell').data().cell;\n      cell.output_area.append_execute_result(NB_LOAD_WARNING)\n    }\n\n  }\n\n  if (root._bokeh_is_loading === 0) {\n    console.debug(\"Bokeh: BokehJS loaded, going straight to plotting\");\n    run_inline_js();\n  } else {\n    load_libs(css_urls, js_urls, function() {\n      console.debug(\"Bokeh: BokehJS plotting callback run at\", now());\n      run_inline_js();\n    });\n  }\n}(window));"
     },
     "metadata": {},
     "output_type": "display_data"
    }
   ],
   "source": [
    "from bokeh.io import show, output_file, output_notebook\n",
    "from bokeh.models import (BoxSelectTool, Circle, EdgesAndLinkedNodes, \n",
    "                          HoverTool, MultiLine, NodesAndLinkedEdges, \n",
    "                          Plot, Range1d, TapTool, LabelSet, \n",
    "                          ColumnDataSource)\n",
    "from bokeh.plotting import from_networkx\n",
    "from bokeh.palettes import Spectral4\n",
    "output_notebook()\n",
    "\n",
    "import networkx as nx\n",
    "G = nx.from_pandas_adjacency(pd.DataFrame(omega, columns=logret.columns.to_list(), index=logret.columns.to_list()))"
   ]
  },
  {
   "cell_type": "code",
   "execution_count": 8,
   "id": "streaming-reservation",
   "metadata": {
    "hideCode": false,
    "hideOutput": false,
    "slideshow": {
     "slide_type": "subslide"
    }
   },
   "outputs": [
    {
     "data": {
      "text/html": [
       "\n",
       "\n",
       "\n",
       "\n",
       "\n",
       "\n",
       "  <div class=\"bk-root\" id=\"77e09177-b63f-4d09-bf11-ebaf36aa39bc\" data-root-id=\"1005\"></div>\n"
      ]
     },
     "metadata": {},
     "output_type": "display_data"
    },
    {
     "data": {
      "application/javascript": [
       "(function(root) {\n",
       "  function embed_document(root) {\n",
       "    \n",
       "  const docs_json = {\"71752390-e8ec-43d2-b5ae-a5931a0ef2ed\":{\"defs\":[],\"roots\":{\"references\":[{\"attributes\":{\"renderers\":[{\"id\":\"1009\"},{\"id\":\"1050\"}],\"title\":{\"id\":\"1008\"},\"toolbar\":{\"id\":\"1046\"},\"x_range\":{\"id\":\"1003\"},\"x_scale\":{\"id\":\"1052\"},\"y_range\":{\"id\":\"1004\"},\"y_scale\":{\"id\":\"1053\"}},\"id\":\"1005\",\"type\":\"Plot\"},{\"attributes\":{\"fill_color\":{\"value\":\"#2b83ba\"},\"size\":{\"value\":15}},\"id\":\"1019\",\"type\":\"Circle\"},{\"attributes\":{\"line_alpha\":{\"value\":0.8},\"line_color\":{\"value\":\"#CCCCCC\"},\"line_width\":{\"value\":5}},\"id\":\"1029\",\"type\":\"MultiLine\"},{\"attributes\":{\"end\":1.1,\"start\":-1.1},\"id\":\"1003\",\"type\":\"Range1d\"},{\"attributes\":{\"callback\":null},\"id\":\"1044\",\"type\":\"TapTool\"},{\"attributes\":{},\"id\":\"1064\",\"type\":\"UnionRenderers\"},{\"attributes\":{\"overlay\":{\"id\":\"1066\"}},\"id\":\"1045\",\"type\":\"BoxSelectTool\"},{\"attributes\":{\"fill_color\":{\"value\":\"#fdae61\"},\"size\":{\"value\":15}},\"id\":\"1024\",\"type\":\"Circle\"},{\"attributes\":{\"source\":{\"id\":\"1011\"}},\"id\":\"1013\",\"type\":\"CDSView\"},{\"attributes\":{\"data\":{\"end\":[\"AAPL\",\"CSCO\",\"CVX\",\"DD\",\"GE\",\"HD\",\"HPQ\",\"INTC\",\"JNJ\",\"JPM\",\"MRK\",\"MSFT\",\"T\",\"VZ\",\"AXP\",\"BAC\",\"DD\",\"GE\",\"HD\",\"INTC\",\"JNJ\",\"JPM\",\"PFE\",\"T\",\"TRV\",\"WMT\",\"XOM\",\"BA\",\"CVX\",\"DD\",\"JPM\",\"KO\",\"MRK\",\"MSFT\",\"PG\",\"TRV\",\"XOM\",\"BAC\",\"CAT\",\"DD\",\"DIS\",\"GE\",\"HPQ\",\"INTC\",\"JNJ\",\"JPM\",\"MMM\",\"TRV\",\"CAT\",\"CVX\",\"DD\",\"DIS\",\"GE\",\"IBM\",\"KO\",\"MMM\",\"MRK\",\"PFE\",\"PG\",\"TRV\",\"WMT\",\"CSCO\",\"GE\",\"HPQ\",\"IBM\",\"INTC\",\"MRK\",\"MSFT\",\"XOM\",\"CVX\",\"HD\",\"INTC\",\"KO\",\"MSFT\",\"PG\",\"TRV\",\"WMT\",\"XOM\",\"DD\",\"GE\",\"IBM\",\"MCD\",\"MMM\",\"PG\",\"TRV\",\"WMT\",\"DIS\",\"HD\",\"HPQ\",\"MCD\",\"MSFT\",\"WMT\",\"GE\",\"HD\",\"JPM\",\"MCD\",\"MMM\",\"MRK\",\"PG\",\"WMT\",\"HD\",\"INTC\",\"JPM\",\"MCD\",\"MRK\",\"PFE\",\"WMT\",\"HPQ\",\"IBM\",\"INTC\",\"KO\",\"VZ\",\"IBM\",\"INTC\",\"MCD\",\"T\",\"INTC\",\"JPM\",\"MSFT\",\"T\",\"XOM\",\"JNJ\",\"KO\",\"MRK\",\"PFE\",\"PG\",\"T\",\"JPM\",\"TRV\",\"KO\",\"MCD\",\"PFE\",\"PG\",\"VZ\",\"WMT\",\"XOM\",\"MCD\",\"MRK\",\"PFE\",\"PG\",\"WMT\",\"MMM\",\"MSFT\",\"PFE\",\"PG\",\"WMT\",\"XOM\",\"MRK\",\"PFE\",\"TRV\",\"WMT\",\"XOM\",\"MSFT\",\"PG\",\"TRV\",\"PFE\",\"PG\",\"WMT\",\"PG\",\"T\",\"WMT\",\"XOM\",\"T\",\"TRV\",\"VZ\",\"WMT\",\"XOM\",\"TRV\",\"VZ\",\"XOM\",\"WMT\",\"XOM\",\"XOM\"],\"start\":[\"AAPL\",\"AAPL\",\"AAPL\",\"AAPL\",\"AAPL\",\"AAPL\",\"AAPL\",\"AAPL\",\"AAPL\",\"AAPL\",\"AAPL\",\"AAPL\",\"AAPL\",\"AAPL\",\"AXP\",\"AXP\",\"AXP\",\"AXP\",\"AXP\",\"AXP\",\"AXP\",\"AXP\",\"AXP\",\"AXP\",\"AXP\",\"AXP\",\"AXP\",\"BA\",\"BA\",\"BA\",\"BA\",\"BA\",\"BA\",\"BA\",\"BA\",\"BA\",\"BA\",\"BAC\",\"BAC\",\"BAC\",\"BAC\",\"BAC\",\"BAC\",\"BAC\",\"BAC\",\"BAC\",\"BAC\",\"BAC\",\"CAT\",\"CAT\",\"CAT\",\"CAT\",\"CAT\",\"CAT\",\"CAT\",\"CAT\",\"CAT\",\"CAT\",\"CAT\",\"CAT\",\"CAT\",\"CSCO\",\"CSCO\",\"CSCO\",\"CSCO\",\"CSCO\",\"CSCO\",\"CSCO\",\"CSCO\",\"CVX\",\"CVX\",\"CVX\",\"CVX\",\"CVX\",\"CVX\",\"CVX\",\"CVX\",\"CVX\",\"DD\",\"DD\",\"DD\",\"DD\",\"DD\",\"DD\",\"DD\",\"DD\",\"DIS\",\"DIS\",\"DIS\",\"DIS\",\"DIS\",\"DIS\",\"GE\",\"GE\",\"GE\",\"GE\",\"GE\",\"GE\",\"GE\",\"GE\",\"HD\",\"HD\",\"HD\",\"HD\",\"HD\",\"HD\",\"HD\",\"HPQ\",\"HPQ\",\"HPQ\",\"HPQ\",\"HPQ\",\"IBM\",\"IBM\",\"IBM\",\"IBM\",\"INTC\",\"INTC\",\"INTC\",\"INTC\",\"INTC\",\"JNJ\",\"JNJ\",\"JNJ\",\"JNJ\",\"JNJ\",\"JNJ\",\"JPM\",\"JPM\",\"KO\",\"KO\",\"KO\",\"KO\",\"KO\",\"KO\",\"KO\",\"MCD\",\"MCD\",\"MCD\",\"MCD\",\"MCD\",\"MMM\",\"MMM\",\"MMM\",\"MMM\",\"MMM\",\"MMM\",\"MRK\",\"MRK\",\"MRK\",\"MRK\",\"MRK\",\"MSFT\",\"MSFT\",\"MSFT\",\"PFE\",\"PFE\",\"PFE\",\"PG\",\"PG\",\"PG\",\"PG\",\"T\",\"T\",\"T\",\"T\",\"T\",\"TRV\",\"VZ\",\"VZ\",\"WMT\",\"WMT\",\"XOM\"],\"weight\":[744.5843029207613,-139.14950314252022,35.2693872144626,93.80228673132363,-182.574259134095,46.734073386055094,-114.59112096179099,-250.12423062733785,-39.930291342979615,-91.416170426921,-10.362257230805366,-78.11339470529144,-3.2339248918350822,-79.37974182147994,2138.8820092729093,-613.1642435190387,-53.256104338978616,-352.55390707565954,-96.98981559420297,-51.133953385273266,-80.48300992500042,-460.664281934743,-64.80281942688323,-133.67577648596335,-248.49502000666962,-20.359363196176584,-122.32540265216527,1237.851997445894,-33.90937575023601,-78.53728284565568,-17.210491683238747,-106.08431039966999,-18.765978066246493,-11.23259226965483,-2.0198363394563583,-75.66285244667054,-5.469769411261489,2175.7339004839087,-29.68146003876321,-44.93835757492388,77.33012554539876,-7.576662527673731,37.20120351249428,-37.445523579386105,-15.177016219562615,-775.0906541399191,-379.41410083989575,-107.80966881317356,1993.7024404685246,-8.831346848586822,-494.68975604364977,140.41306694951734,-136.7889321629969,-42.60435516079419,-121.50272086358913,-286.228919748288,-261.63963343785895,-135.04208933933373,-66.62594865061564,-133.04424000269066,-103.02568795499067,1202.8323193102335,-195.30830944327693,-249.8249330928764,-57.85426124213613,-414.53135288855435,18.720673315115768,-345.5937661182394,26.27268991676672,2750.1841590801223,-34.78247995879958,57.81355424507971,-61.029074349110545,-77.71663216564832,153.21970241236355,-104.92669278866784,-34.2584039905134,-1282.2652938190363,1643.864236274076,-57.95357062602852,-122.14507206831641,-266.9354458816612,-343.6279089818271,-141.04551092405006,-316.0080504538771,-52.275288700443525,960.5935996047523,-54.66061113208221,-193.3650035900765,-95.57781996543076,-20.322906322278392,-39.1734095975825,2673.9174261689013,-252.12450266826983,-230.08627310873632,-12.61460577673976,-302.4952538980399,-73.01465445214484,-13.331851863370716,-370.17112592890356,1554.2805845769826,25.790014683034062,-272.6237513912908,-67.88604541809809,-164.79387184653123,-61.12819719213321,-473.1209883340507,1133.4330522569912,-87.54574831128289,-176.49185850791017,114.11212480509101,-37.19908765018537,1825.3234198324092,-406.01750344913916,-40.08456709347959,-20.808552131112236,1292.5655787969056,-14.298296662089784,-74.97234201080457,-128.85234093680768,31.933859162297853,1987.1016101894852,-159.72834484008098,-650.0923383307344,-287.64283022142996,-56.779112292641315,-18.278000394134313,2095.808876068148,-64.33719341689601,1286.1458860681555,-87.85056905036657,-56.21478674855753,-98.0764526596307,-150.7639609958478,-150.91928315703112,-93.65110600209916,1371.0113311485848,-117.27097981727292,-141.40513216643834,-57.14189146662682,-108.24683552615443,2151.1084303600305,4.288718972525182,-138.7097818513087,-175.75444248619374,-30.479796712961356,-359.82291757479425,1930.2892713697913,-557.1291956419216,-119.7841521836027,-9.13580054938201,-93.26911721190075,947.0381759542635,77.24150796659058,-35.956792852369894,2087.980458910578,-71.91910653324292,-121.74352322573013,593.9465392001506,-25.17729004460302,-66.21187300528207,175.73092542068625,1411.4745719233754,-69.44672787430805,-742.4617448910932,-154.473472674125,-72.50326466288709,1443.5906914582167,2056.347246622257,-129.31253767625327,1300.698602706791,-82.98609318425527,2670.818039335539]},\"selected\":{\"id\":\"1070\"},\"selection_policy\":{\"id\":\"1069\"}},\"id\":\"1015\",\"type\":\"ColumnDataSource\"},{\"attributes\":{\"tools\":[{\"id\":\"1043\"},{\"id\":\"1044\"},{\"id\":\"1045\"}]},\"id\":\"1046\",\"type\":\"Toolbar\"},{\"attributes\":{\"graph_layout\":{\"AAPL\":[1.0,-2.1996012511739344e-09],\"AXP\":[0.9749279023568862,0.22252092915560726],\"BA\":[0.9009688501930121,0.4338837518597454],\"BAC\":[0.7818315040909476,0.6234897915534269],\"CAT\":[0.6234897991457352,0.7818314964986393],\"CSCO\":[0.43388375945205376,0.9009688426007039],\"CVX\":[0.22252098145139884,0.974927894764578],\"DD\":[-3.831868103727451e-08,0.9999999924076918],\"DIS\":[-0.22252094086366261,0.974927894764578],\"GE\":[-0.43388380827128414,0.9009688426007039],\"HD\":[-0.6234897883603211,0.7818314964986393],\"HPQ\":[-0.7818314933055335,0.6234897915534269],\"IBM\":[-0.9009688394075981,0.4338838114643899],\"INTC\":[-0.9749278915714722,0.22252092915560726],\"JNJ\":[-0.999999989214586,-8.962237735320437e-08],\"JPM\":[-0.9749278915714722,-0.2225208739501653],\"KO\":[-0.9009688394075981,-0.433883756258948],\"MCD\":[-0.7818315529101779,-0.6234896767433405],\"MMM\":[-0.6234896095463878,-0.7818316201071307],\"MRK\":[-0.4338838976782508,-0.9009687873952619],\"MSFT\":[-0.22252100046830706,-0.9749278991637805],\"PFE\":[1.7317587587936386e-08,-0.9999999968068942],\"PG\":[0.22252104105604328,-0.9749278991637805],\"T\":[0.43388390846366487,-0.9009687873952619],\"TRV\":[0.6234896203318019,-0.7818316201071307],\"VZ\":[0.7818314444863032,-0.6234898555572739],\"WMT\":[0.9009688501930121,-0.433883756258948],\"XOM\":[0.9749279023568862,-0.22252084414784304]}},\"id\":\"1018\",\"type\":\"StaticLayoutProvider\"},{\"attributes\":{\"data\":{\"ticker\":[\"AAPL\",\"AXP\",\"BA\",\"BAC\",\"CAT\",\"CSCO\",\"CVX\",\"DD\",\"DIS\",\"GE\",\"HD\",\"HPQ\",\"IBM\",\"INTC\",\"JNJ\",\"JPM\",\"KO\",\"MCD\",\"MMM\",\"MRK\",\"MSFT\",\"PFE\",\"PG\",\"T\",\"TRV\",\"VZ\",\"WMT\",\"XOM\"],\"x\":[1.0,0.9749279023568862,0.9009688501930121,0.7818315040909476,0.6234897991457352,0.43388375945205376,0.22252098145139884,-3.831868103727451e-08,-0.22252094086366261,-0.43388380827128414,-0.6234897883603211,-0.7818314933055335,-0.9009688394075981,-0.9749278915714722,-0.999999989214586,-0.9749278915714722,-0.9009688394075981,-0.7818315529101779,-0.6234896095463878,-0.4338838976782508,-0.22252100046830706,1.7317587587936386e-08,0.22252104105604328,0.43388390846366487,0.6234896203318019,0.7818314444863032,0.9009688501930121,0.9749279023568862],\"y\":[-2.1996012511739344e-09,0.22252092915560726,0.4338837518597454,0.6234897915534269,0.7818314964986393,0.9009688426007039,0.974927894764578,0.9999999924076918,0.974927894764578,0.9009688426007039,0.7818314964986393,0.6234897915534269,0.4338838114643899,0.22252092915560726,-8.962237735320437e-08,-0.2225208739501653,-0.433883756258948,-0.6234896767433405,-0.7818316201071307,-0.9009687873952619,-0.9749278991637805,-0.9999999968068942,-0.9749278991637805,-0.9009687873952619,-0.7818316201071307,-0.6234898555572739,-0.433883756258948,-0.22252084414784304]},\"selected\":{\"id\":\"1065\"},\"selection_policy\":{\"id\":\"1064\"}},\"id\":\"1049\",\"type\":\"ColumnDataSource\"},{\"attributes\":{\"coordinates\":null,\"edge_renderer\":{\"id\":\"1016\"},\"group\":null,\"inspection_policy\":{\"id\":\"1041\"},\"layout_provider\":{\"id\":\"1018\"},\"node_renderer\":{\"id\":\"1012\"},\"selection_policy\":{\"id\":\"1039\"}},\"id\":\"1009\",\"type\":\"GraphRenderer\"},{\"attributes\":{},\"id\":\"1069\",\"type\":\"UnionRenderers\"},{\"attributes\":{},\"id\":\"1039\",\"type\":\"NodesAndLinkedEdges\"},{\"attributes\":{\"end\":1.1,\"start\":-1.1},\"id\":\"1004\",\"type\":\"Range1d\"},{\"attributes\":{\"data\":{\"index\":[\"AAPL\",\"AXP\",\"BA\",\"BAC\",\"CAT\",\"CSCO\",\"CVX\",\"DD\",\"DIS\",\"GE\",\"HD\",\"HPQ\",\"IBM\",\"INTC\",\"JNJ\",\"JPM\",\"KO\",\"MCD\",\"MMM\",\"MRK\",\"MSFT\",\"PFE\",\"PG\",\"T\",\"TRV\",\"VZ\",\"WMT\",\"XOM\"]},\"selected\":{\"id\":\"1068\"},\"selection_policy\":{\"id\":\"1067\"}},\"id\":\"1011\",\"type\":\"ColumnDataSource\"},{\"attributes\":{},\"id\":\"1053\",\"type\":\"LinearScale\"},{\"attributes\":{\"coordinates\":null,\"data_source\":{\"id\":\"1015\"},\"glyph\":{\"id\":\"1029\"},\"group\":null,\"hover_glyph\":null,\"selection_glyph\":{\"id\":\"1034\"},\"view\":{\"id\":\"1017\"}},\"id\":\"1016\",\"type\":\"GlyphRenderer\"},{\"attributes\":{},\"id\":\"1067\",\"type\":\"UnionRenderers\"},{\"attributes\":{},\"id\":\"1041\",\"type\":\"EdgesAndLinkedNodes\"},{\"attributes\":{},\"id\":\"1070\",\"type\":\"Selection\"},{\"attributes\":{\"coordinates\":null,\"data_source\":{\"id\":\"1011\"},\"glyph\":{\"id\":\"1019\"},\"group\":null,\"hover_glyph\":null,\"selection_glyph\":{\"id\":\"1024\"},\"view\":{\"id\":\"1013\"}},\"id\":\"1012\",\"type\":\"GlyphRenderer\"},{\"attributes\":{\"source\":{\"id\":\"1015\"}},\"id\":\"1017\",\"type\":\"CDSView\"},{\"attributes\":{\"line_color\":{\"value\":\"#fdae61\"},\"line_width\":{\"value\":5}},\"id\":\"1034\",\"type\":\"MultiLine\"},{\"attributes\":{},\"id\":\"1068\",\"type\":\"Selection\"},{\"attributes\":{},\"id\":\"1052\",\"type\":\"LinearScale\"},{\"attributes\":{\"bottom_units\":\"screen\",\"coordinates\":null,\"fill_alpha\":0.5,\"fill_color\":\"lightgrey\",\"group\":null,\"left_units\":\"screen\",\"level\":\"overlay\",\"line_alpha\":1.0,\"line_color\":\"black\",\"line_dash\":[4,4],\"line_width\":2,\"right_units\":\"screen\",\"syncable\":false,\"top_units\":\"screen\"},\"id\":\"1066\",\"type\":\"BoxAnnotation\"},{\"attributes\":{\"coordinates\":null,\"group\":null,\"source\":{\"id\":\"1049\"},\"text\":{\"field\":\"ticker\"},\"x\":{\"field\":\"x\"},\"y\":{\"field\":\"y\"}},\"id\":\"1050\",\"type\":\"LabelSet\"},{\"attributes\":{\"callback\":null,\"tooltips\":null},\"id\":\"1043\",\"type\":\"HoverTool\"},{\"attributes\":{},\"id\":\"1065\",\"type\":\"Selection\"},{\"attributes\":{\"coordinates\":null,\"group\":null,\"text\":\"Dow Jones Component Stock Graphical Models\"},\"id\":\"1008\",\"type\":\"Title\"}],\"root_ids\":[\"1005\"]},\"title\":\"Bokeh Application\",\"version\":\"2.4.1\"}};\n",
       "  const render_items = [{\"docid\":\"71752390-e8ec-43d2-b5ae-a5931a0ef2ed\",\"root_ids\":[\"1005\"],\"roots\":{\"1005\":\"77e09177-b63f-4d09-bf11-ebaf36aa39bc\"}}];\n",
       "  root.Bokeh.embed.embed_items_notebook(docs_json, render_items);\n",
       "\n",
       "  }\n",
       "  if (root.Bokeh !== undefined) {\n",
       "    embed_document(root);\n",
       "  } else {\n",
       "    let attempts = 0;\n",
       "    const timer = setInterval(function(root) {\n",
       "      if (root.Bokeh !== undefined) {\n",
       "        clearInterval(timer);\n",
       "        embed_document(root);\n",
       "      } else {\n",
       "        attempts++;\n",
       "        if (attempts > 100) {\n",
       "          clearInterval(timer);\n",
       "          console.log(\"Bokeh: ERROR: Unable to run BokehJS code because BokehJS library is missing\");\n",
       "        }\n",
       "      }\n",
       "    }, 10, root)\n",
       "  }\n",
       "})(window);"
      ],
      "application/vnd.bokehjs_exec.v0+json": ""
     },
     "metadata": {
      "application/vnd.bokehjs_exec.v0+json": {
       "id": "1005"
      }
     },
     "output_type": "display_data"
    }
   ],
   "source": [
    "plot = Plot(plot_width=600, plot_height=600,\n",
    "            x_range=Range1d(-1.1,1.1), y_range=Range1d(-1.1,1.1))\n",
    "plot.title.text = \"Dow Jones Component Stock Graphical Models\"\n",
    "\n",
    "graph_renderer = from_networkx(G, nx.circular_layout, scale=1, center=(0,0))\n",
    "\n",
    "graph_renderer.node_renderer.glyph = Circle(size=15, fill_color=Spectral4[0])\n",
    "graph_renderer.node_renderer.selection_glyph = Circle(size=15, fill_color=Spectral4[2])\n",
    "\n",
    "graph_renderer.edge_renderer.glyph = MultiLine(line_color=\"#CCCCCC\", line_alpha=0.8, line_width=5)\n",
    "graph_renderer.edge_renderer.selection_glyph = MultiLine(line_color=Spectral4[2], line_width=5)\n",
    "\n",
    "graph_renderer.selection_policy = NodesAndLinkedEdges()\n",
    "graph_renderer.inspection_policy = EdgesAndLinkedNodes()\n",
    "\n",
    "plot.add_tools(HoverTool(tooltips=None), TapTool(), BoxSelectTool())\n",
    "plot.renderers.append(graph_renderer)\n",
    "\n",
    "# add labels\n",
    "pos = nx.circular_layout(G)\n",
    "x, y=zip(*pos.values())\n",
    "\n",
    "source = ColumnDataSource({'x':x,'y':y,'ticker':logret.columns.to_list()})\n",
    "labels = LabelSet(x='x', y='y', text='ticker', source=source)\n",
    "\n",
    "plot.renderers.append(labels)\n",
    "\n",
    "show(plot)"
   ]
  },
  {
   "cell_type": "markdown",
   "id": "oriented-circular",
   "metadata": {
    "slideshow": {
     "slide_type": "slide"
    }
   },
   "source": [
    "## Compare Eigenvalues\n",
    "\n",
    "* Different estimates perform different regularization\n",
    "* There are similairies as well as differences"
   ]
  },
  {
   "cell_type": "code",
   "execution_count": 9,
   "id": "narrative-sample",
   "metadata": {
    "hideCode": true,
    "slideshow": {
     "slide_type": "-"
    }
   },
   "outputs": [
    {
     "name": "stderr",
     "output_type": "stream",
     "text": [
      "/opt/conda/lib/python3.11/site-packages/matplotlib/cbook.py:1699: ComplexWarning: Casting complex values to real discards the imaginary part\n",
      "  return math.isfinite(val)\n",
      "/opt/conda/lib/python3.11/site-packages/matplotlib/cbook.py:1345: ComplexWarning: Casting complex values to real discards the imaginary part\n",
      "  return np.asarray(x, float)\n"
     ]
    },
    {
     "data": {
      "image/png": "[encoded data removed]",
      "text/plain": [
       "<Figure size 640x480 with 1 Axes>"
      ]
     },
     "metadata": {},
     "output_type": "display_data"
    }
   ],
   "source": [
    "import numpy as np\n",
    "allevals = pd.DataFrame({\n",
    "    \"sample\": np.real(eigval_sample),\n",
    "    \"lw\": eigval_lw,\n",
    "    \"ggm\": eigval_ggm\n",
    "})\n",
    "allevals.plot();"
   ]
  }
 ],
 "metadata": {
  "celltoolbar": "Slideshow",
  "kernelspec": {
   "display_name": "Python 3 (ipykernel)",
   "language": "python",
   "name": "python3"
  },
  "language_info": {
   "codemirror_mode": {
    "name": "ipython",
    "version": 3
   },
   "file_extension": ".py",
   "mimetype": "text/x-python",
   "name": "python",
   "nbconvert_exporter": "python",
   "pygments_lexer": "ipython3",
   "version": "3.11.5"
  },
  "toc": {
   "base_numbering": 1,
   "nav_menu": {},
   "number_sections": true,
   "sideBar": true,
   "skip_h1_title": false,
   "title_cell": "Table of Contents",
   "title_sidebar": "Contents",
   "toc_cell": false,
   "toc_position": {},
   "toc_section_display": true,
   "toc_window_display": false
  },
  "vscode": {
   "interpreter": {
    "hash": "d4d1e4263499bec80672ea0156c357c1ee493ec2b1c70f0acce89fc37c4a6abe"
   }
  }
 },
 "nbformat": 4,
 "nbformat_minor": 5
}
