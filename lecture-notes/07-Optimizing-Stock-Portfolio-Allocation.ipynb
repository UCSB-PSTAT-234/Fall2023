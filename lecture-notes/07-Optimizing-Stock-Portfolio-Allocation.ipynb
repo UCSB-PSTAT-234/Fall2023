{
 "cells": [
  {
   "cell_type": "markdown",
   "metadata": {
    "slideshow": {
     "slide_type": "slide"
    }
   },
   "source": [
    "# Optimizing Stock Portfolio Allocation <a class='tocSkip'>\n",
    "\n",
    "## Sang-Yun Oh <a class='tocSkip'>"
   ]
  },
  {
   "cell_type": "markdown",
   "metadata": {
    "slideshow": {
     "slide_type": "slide"
    }
   },
   "source": [
    "## Installing Packages in Python\n",
    "\n",
    "* Default package source for `pip` command is Python Package Index (PyPI)  \n",
    "    e.g., https://pypi.org/project/yfinance/\n",
    "* Can also install from github repository: \n",
    "    https://pypi.org/project/yfinance/"
   ]
  },
  {
   "cell_type": "code",
   "execution_count": 1,
   "metadata": {
    "slideshow": {
     "slide_type": "subslide"
    }
   },
   "outputs": [
    {
     "name": "stdout",
     "output_type": "stream",
     "text": [
      "\u001b[33mWARNING: The directory '/home/jovyan/.cache/pip' or its parent directory is not owned or is not writable by the current user. The cache has been disabled. Check the permissions and owner of that directory. If executing pip with sudo, you should use sudo's -H flag.\u001b[0m\u001b[33m\n",
      "\u001b[0m"
     ]
    },
    {
     "name": "stdout",
     "output_type": "stream",
     "text": [
      "Collecting yfinance\n",
      "  Obtaining dependency information for yfinance from https://files.pythonhosted.org/packages/e6/b3/388ab967a387cc92926f70e97688dd9a7189b29a0773db815ffc5289e2b5/yfinance-0.2.31-py2.py3-none-any.whl.metadata\n",
      "  Downloading yfinance-0.2.31-py2.py3-none-any.whl.metadata (11 kB)\n",
      "Requirement already satisfied: pandas>=1.3.0 in /opt/conda/lib/python3.11/site-packages (from yfinance) (2.1.1)\n",
      "Requirement already satisfied: numpy>=1.16.5 in /opt/conda/lib/python3.11/site-packages (from yfinance) (1.26.0)\n",
      "Requirement already satisfied: requests>=2.31 in /opt/conda/lib/python3.11/site-packages (from yfinance) (2.31.0)\n",
      "Collecting multitasking>=0.0.7 (from yfinance)\n",
      "  Downloading multitasking-0.0.11-py3-none-any.whl (8.5 kB)\n",
      "Requirement already satisfied: lxml>=4.9.1 in /opt/conda/lib/python3.11/site-packages (from yfinance) (4.9.3)\n",
      "Collecting appdirs>=1.4.4 (from yfinance)\n",
      "  Downloading appdirs-1.4.4-py2.py3-none-any.whl (9.6 kB)\n",
      "Requirement already satisfied: pytz>=2022.5 in /opt/conda/lib/python3.11/site-packages (from yfinance) (2023.3.post1)\n",
      "Collecting frozendict>=2.3.4 (from yfinance)\n",
      "  Downloading frozendict-2.3.8-py311-none-any.whl (14 kB)\n",
      "Collecting peewee>=3.16.2 (from yfinance)\n",
      "  Downloading peewee-3.17.0.tar.gz (2.9 MB)\n",
      "\u001b[2K     \u001b[90m━━━━━━━━━━━━━━━━━━━━━━━━━━━━━━━━━━━━━━━━\u001b[0m \u001b[32m2.9/2.9 MB\u001b[0m \u001b[31m25.1 MB/s\u001b[0m eta \u001b[36m0:00:00\u001b[0ma \u001b[36m0:00:01\u001b[0m\n",
      "\u001b[?25h  Installing build dependencies ... \u001b[?25ldone\n",
      "\u001b[?25h  Getting requirements to build wheel ... \u001b[?25ldone\n",
      "\u001b[?25h  Preparing metadata (pyproject.toml) ... \u001b[?25ldone\n",
      "\u001b[?25hRequirement already satisfied: beautifulsoup4>=4.11.1 in /opt/conda/lib/python3.11/site-packages (from yfinance) (4.12.2)\n",
      "Collecting html5lib>=1.1 (from yfinance)\n",
      "  Downloading html5lib-1.1-py2.py3-none-any.whl (112 kB)\n",
      "\u001b[2K     \u001b[90m━━━━━━━━━━━━━━━━━━━━━━━━━━━━━━━━━━━━━━\u001b[0m \u001b[32m112.2/112.2 kB\u001b[0m \u001b[31m20.6 MB/s\u001b[0m eta \u001b[36m0:00:00\u001b[0m\n",
      "\u001b[?25hRequirement already satisfied: soupsieve>1.2 in /opt/conda/lib/python3.11/site-packages (from beautifulsoup4>=4.11.1->yfinance) (2.5)\n",
      "Requirement already satisfied: six>=1.9 in /opt/conda/lib/python3.11/site-packages (from html5lib>=1.1->yfinance) (1.16.0)\n",
      "Requirement already satisfied: webencodings in /opt/conda/lib/python3.11/site-packages (from html5lib>=1.1->yfinance) (0.5.1)\n",
      "Requirement already satisfied: python-dateutil>=2.8.2 in /opt/conda/lib/python3.11/site-packages (from pandas>=1.3.0->yfinance) (2.8.2)\n",
      "Requirement already satisfied: tzdata>=2022.1 in /opt/conda/lib/python3.11/site-packages (from pandas>=1.3.0->yfinance) (2023.3)\n",
      "Requirement already satisfied: charset-normalizer<4,>=2 in /opt/conda/lib/python3.11/site-packages (from requests>=2.31->yfinance) (3.2.0)\n",
      "Requirement already satisfied: idna<4,>=2.5 in /opt/conda/lib/python3.11/site-packages (from requests>=2.31->yfinance) (3.4)\n",
      "Requirement already satisfied: urllib3<3,>=1.21.1 in /opt/conda/lib/python3.11/site-packages (from requests>=2.31->yfinance) (2.0.5)\n",
      "Requirement already satisfied: certifi>=2017.4.17 in /opt/conda/lib/python3.11/site-packages (from requests>=2.31->yfinance) (2023.7.22)\n",
      "Downloading yfinance-0.2.31-py2.py3-none-any.whl (65 kB)\n",
      "\u001b[2K   \u001b[90m━━━━━━━━━━━━━━━━━━━━━━━━━━━━━━━━━━━━━━━━\u001b[0m \u001b[32m65.6/65.6 kB\u001b[0m \u001b[31m300.2 MB/s\u001b[0m eta \u001b[36m0:00:00\u001b[0m\n",
      "\u001b[?25hBuilding wheels for collected packages: peewee\n",
      "  Building wheel for peewee (pyproject.toml) ... \u001b[?25ldone\n",
      "\u001b[?25h  Created wheel for peewee: filename=peewee-3.17.0-cp311-cp311-linux_x86_64.whl size=271645 sha256=7c2e8864e23134d84631481c0a6abcaa84804501977b66a785bc3c03904e26d0\n",
      "  Stored in directory: /tmp/pip-ephem-wheel-cache-bgeb1h4u/wheels/02/20/23/74a10d0cd31f5d41c19b92ddf4c138ceff01b9f4675f19dbf5\n",
      "Successfully built peewee\n",
      "Installing collected packages: peewee, multitasking, appdirs, html5lib, frozendict, yfinance\n",
      "Successfully installed appdirs-1.4.4 frozendict-2.3.8 html5lib-1.1 multitasking-0.0.11 peewee-3.17.0 yfinance-0.2.31\n",
      "\u001b[33mWARNING: Running pip as the 'root' user can result in broken permissions and conflicting behaviour with the system package manager. It is recommended to use a virtual environment instead: https://pip.pypa.io/warnings/venv\u001b[0m\u001b[33m\n",
      "\u001b[0m"
     ]
    }
   ],
   "source": [
    "# install from pypi\n",
    "!pip install yfinance"
   ]
  },
  {
   "cell_type": "code",
   "execution_count": 2,
   "metadata": {
    "slideshow": {
     "slide_type": "skip"
    }
   },
   "outputs": [],
   "source": [
    "import pandas as pd\n",
    "import numpy as np\n",
    "import pickle\n",
    "import cvxpy"
   ]
  },
  {
   "cell_type": "markdown",
   "metadata": {
    "slideshow": {
     "slide_type": "slide"
    }
   },
   "source": [
    "## Introduction to Portfolio Theory\n",
    "\n",
    "### Stock Prices vs. Returns \n",
    "\n",
    "* Model stock returns as random variables\n",
    "* Returns depend on change in stock prices:  \n",
    "    $$ R_t = \\frac{P_t - P_{t-1}}{P_{t-1}} = \\frac{P_t}{P_{t-1}} - 1 $$"
   ]
  },
  {
   "cell_type": "markdown",
   "metadata": {
    "slideshow": {
     "slide_type": "fragment"
    }
   },
   "source": [
    "* Linear approximation of $\\log(1+x)\\approx x$ when $x$ is small. \n",
    "* Since daily stock returns are small,\n",
    "$$ R_t \\approx \\log(1 + R_t) = \\log\\left(\\frac{P_t}{P_{t-1}}\\right) = \\log(P_t) - \\log(P_{t-1})$$"
   ]
  },
  {
   "cell_type": "markdown",
   "metadata": {
    "slideshow": {
     "slide_type": "fragment"
    }
   },
   "source": [
    "* Compute the log-returns then difference of log prices (converting data)"
   ]
  },
  {
   "cell_type": "markdown",
   "metadata": {
    "slideshow": {
     "slide_type": "subslide"
    }
   },
   "source": [
    "### Modeling Stock Returns\n",
    "\n",
    "* In classical portfolio theory, stock returns are normally distributed\n",
    "* Daily returns of two stocks: $R_A$ and $R_B$ of two stocks $A$ and $B$\n",
    "* Jointly normally distributed: bivariate normal distribution: \n",
    "$$\\begin{aligned}\n",
    "\\begin{pmatrix}\n",
    "R_A\\\\ R_B\n",
    "\\end{pmatrix}\n",
    "\\sim\n",
    "N\\left(\n",
    "\\begin{pmatrix}\n",
    "\\mu_A\\\\ \\mu_B\n",
    "\\end{pmatrix},\n",
    "\\begin{pmatrix}\n",
    "\\sigma_A^2 & \\sigma_{AB}\\\\\n",
    "\\sigma_{AB} & \\sigma_B^2\n",
    "\\end{pmatrix}\n",
    "\\right)\n",
    "\\end{aligned}$$"
   ]
  },
  {
   "cell_type": "markdown",
   "metadata": {
    "slideshow": {
     "slide_type": "fragment"
    }
   },
   "source": [
    "* Marginal distributions: \n",
    "$$R_A \\sim N(\\mu_A,\\sigma_A^2) \\text{, and } R_B \\sim N(\\mu_B,\\sigma_B^2),$$\n",
    "* Covariance and correlation are\n",
    "$$\\sigma_\\text{AB} = \\text{Cov}(R_A,R_B) \\text{, and } \\rho_\\text{AB} = \\frac{\\sigma_\\text{AB}}{\\sigma_A\\sigma_B}$$"
   ]
  },
  {
   "cell_type": "markdown",
   "metadata": {
    "slideshow": {
     "slide_type": "subslide"
    }
   },
   "source": [
    "### Modeling Portfolio Returns\n",
    "\n",
    "* Two-stock portfolio: Return for the portfolio $R_p$ is \n",
    "$$R_p = R_A w_A + R_B w_B,$$\n",
    "* Allocations: $w_A$ and $w_B$ are proportions of stocks $A$ and $B$ such that  \n",
    "$$w_A + w_B = 1$$\n"
   ]
  },
  {
   "cell_type": "markdown",
   "metadata": {
    "slideshow": {
     "slide_type": "fragment"
    }
   },
   "source": [
    "* $R_p$ is also normally distributed with following mean and variance:\n",
    "$$\\begin{aligned}\n",
    "\\mu_p &= \\text{E}(R_p) \\\\\n",
    "    &= \\text{E}(R_A)\\, w_A + \\text{E}(R_B)\\, w_B\\\\\n",
    "    &= \\mu_A w_A + \\mu_B w_B\\\\\n",
    "\\sigma_p^2 &= \\text{Var}(R_p) \\\\\n",
    "    &= \\text{E}\\left((R_p - \\text{E}(R_p))^2\\right) \\\\\n",
    "    &= \\sigma_A^2\\,w_A^2 + \\sigma_B^2\\,w_B^2 + 2\\sigma_{AB}w_A w_B.\n",
    "\\end{aligned}\n",
    "$$\n",
    "Note that $\\sigma_{AB} = \\rho_{AB}\\sigma_A\\sigma_B$.\n",
    "* Distribution of the portfolio return is\n",
    "$$ R_p \\sim N(\\mu_p, \\sigma_p^2) $$"
   ]
  },
  {
   "cell_type": "markdown",
   "metadata": {
    "slideshow": {
     "slide_type": "subslide"
    }
   },
   "source": [
    "### Hedging Portfolio Risk\n",
    "\n",
    "* Mean return ($\\mu_p$): weighted average of returns\n",
    "* Risk ($\\sigma_p^2$):  Risk of $p$ can be decreased if $\\rho<0$\n",
    "* Hedge risk by having negatively correlated stocks"
   ]
  },
  {
   "cell_type": "markdown",
   "metadata": {
    "slideshow": {
     "slide_type": "subslide"
    }
   },
   "source": [
    "### Generate random returns"
   ]
  },
  {
   "cell_type": "markdown",
   "metadata": {},
   "source": [
    "The correlation matrix $R$ and a diagonal matrix consisting of standard deviations $D$ are:\n",
    "\n",
    "$$K = \\begin{bmatrix} 1 & \\rho_{AB} \\\\ \\rho_{AB} & 1 \\end{bmatrix}, \\quad D = \\begin{bmatrix} \\sigma_A & 0 \\\\ 0 & \\sigma_B \\end{bmatrix}$$\n",
    "\n",
    "In terms of $K$ and $D$, covariance matrix $\\Sigma$ can be written as:\n",
    "\n",
    "$$\\Sigma = DKD = \\begin{bmatrix} \\sigma_A^2 & \\sigma_{AB} \\\\ \\sigma_{AB} & \\sigma_B^2 \\end{bmatrix}$$"
   ]
  },
  {
   "cell_type": "markdown",
   "metadata": {},
   "source": [
    "### Simulate Random Returns"
   ]
  },
  {
   "cell_type": "code",
   "execution_count": 3,
   "metadata": {},
   "outputs": [],
   "source": [
    "import numpy as np\n",
    "\n",
    "def simulate_returns(means, stddevs, rho=0.25, size=1000, date_index=None):\n",
    "\n",
    "  import numpy as np\n",
    "\n",
    "  # correlation matrix\n",
    "  K = np.array([[  1, rho],\n",
    "                [rho,   1]])\n",
    "  \n",
    "  # covariance matrix\n",
    "  cov_matrix = np.diag(stddevs) @ K @ np.diag(stddevs)\n",
    "\n",
    "  # simulate returns\n",
    "  R = np.random.multivariate_normal(means, cov_matrix, size)\n",
    "\n",
    "  if date_index is None:\n",
    "    date_index = pd.date_range(end=pd.Timestamp.today(), periods=ndays, freq='B').strftime('%Y-%m-%d')\n",
    "  \n",
    "  R_df = pd.DataFrame(R, columns=['Stock A', 'Stock B'], index=date_index)\n",
    "\n",
    "  return R_df"
   ]
  },
  {
   "cell_type": "markdown",
   "metadata": {},
   "source": [
    "### Other Convenience Functions"
   ]
  },
  {
   "cell_type": "code",
   "execution_count": 4,
   "metadata": {},
   "outputs": [],
   "source": [
    "def calculate_portfolio_returns(weights, returns):\n",
    "  Rp = returns @ weights\n",
    "  return pd.concat((R, pd.DataFrame(Rp, columns=['Portfolio'])), axis=1)\n",
    "\n",
    "def annualize_returns(returns, trading_days=252):\n",
    "  return (1 + returns)**trading_days - 1\n",
    "\n",
    "def daily_returns(annual_return, trading_days=252):\n",
    "  return np.exp(np.log(1 + annual_return) / trading_days) - 1\n",
    "\n",
    "def returns_to_prices(returns, start_price=100):\n",
    "  prices = start_price * (1 + returns).cumprod()\n",
    "  return prices"
   ]
  },
  {
   "cell_type": "markdown",
   "metadata": {},
   "source": [
    "## Toy Example: Simulating $R_A$, $R_B$, and $R_p$\n",
    "\n",
    "* $R_A\\sim N(0.2, 0.8^2)$ and $R_B\\sim N(0.1, 0.3^2)$\n",
    "* Correlation: $\\rho_{AB} = -0.25$\n",
    "* Portfolio weight distributed evenly: i.e. $x_A = x_B = 0.5$"
   ]
  },
  {
   "cell_type": "code",
   "execution_count": 5,
   "metadata": {},
   "outputs": [],
   "source": [
    "# number of days to simulate\n",
    "ndays = 1000\n",
    "\n",
    "#              A     B\n",
    "mu = np.array([0.2, 0.1]) # mean returns\n",
    "sd = np.array([0.8 , 0.3]) # standard deviations\n",
    "\n",
    "mu = daily_returns(mu)\n",
    "sd = daily_returns(sd)\n",
    "\n",
    "# correlation between stocks A and B\n",
    "rho = -0.25\n",
    "\n",
    "# trading dates\n",
    "date_index = pd.date_range(end=pd.Timestamp.today(), periods=ndays, freq='B').strftime('%Y-%m-%d')\n",
    "\n",
    "# simulate stock returns\n",
    "R = simulate_returns(mu, sd, rho, size=ndays)\n",
    "\n",
    "# simulate portfolio returns\n",
    "w = np.array([0.5, 0.5])\n",
    "Rp = calculate_portfolio_returns(w, R)\n",
    "prices = returns_to_prices(Rp, np.array([100, 100, 100]))"
   ]
  },
  {
   "cell_type": "markdown",
   "metadata": {},
   "source": [
    "## Plot Portfolio Returns"
   ]
  },
  {
   "cell_type": "code",
   "execution_count": 6,
   "metadata": {},
   "outputs": [
    {
     "data": {
      "image/png": "[encoded data removed]",
      "text/plain": [
       "<Figure size 1000x600 with 1 Axes>"
      ]
     },
     "metadata": {},
     "output_type": "display_data"
    }
   ],
   "source": [
    "Rp.plot(figsize=(10, 6), title='Portfolio Returns');"
   ]
  },
  {
   "cell_type": "markdown",
   "metadata": {
    "slideshow": {
     "slide_type": "subslide"
    }
   },
   "source": [
    "### Efficient frontier of portfolios\n",
    "\n",
    "* Consider all values of $w_A$ and $w_B$\n",
    "\n",
    "* For each combination, compute $\\mu_p$ and $\\sigma_p^2$.\n",
    "\n",
    "![](images/efficient-frontier.png)"
   ]
  },
  {
   "cell_type": "markdown",
   "metadata": {
    "slideshow": {
     "slide_type": "subslide"
    }
   },
   "source": [
    "* Line is called efficient frontier\n",
    "* Represents the lower boundary of achievable volatility\n",
    "* Return and volatility of $A$ and $B$"
   ]
  },
  {
   "cell_type": "markdown",
   "metadata": {},
   "source": [
    "#### Long and short positions\n",
    "\n",
    "* Note that `xa` can be negative\n",
    "* Positive $x_A$ : _long position_ for stock A and indicates a purchase\n",
    "* Negative $x_A$ : _short position_ stock A and indicates a sale\n",
    "* _You are selling stocks that you do not own with the expectation that the price of the stock will fall_\n",
    "* Shorting allows for higher long positions on other stocks."
   ]
  },
  {
   "cell_type": "markdown",
   "metadata": {
    "slideshow": {
     "slide_type": "subslide"
    }
   },
   "source": [
    "#### Minimum variance portfolio (MVP)\n",
    "\n",
    "What is the point at the tip of the parabola? This point indicates what is called the minimum variance portfolio that, regardless of the return, has the minimum volatility. Minimum variance portfolio (MVP) has the minimum volatility of any portfolio achievable.\n",
    "\n",
    "It can be shown that minimum variance portfolio would have the following allocation $x_A$:\n",
    "\n",
    "$$x_A = \\frac{\\sigma_B^2-\\sigma_\\text{AB}^2}{\\sigma_A^2 + \\sigma_B^2 – \\sigma_\\text{AB}^2}$$"
   ]
  },
  {
   "cell_type": "markdown",
   "metadata": {
    "slideshow": {
     "slide_type": "slide"
    }
   },
   "source": [
    "The mathematical problem to solve for the minimum variance portfolio can be stated as follows:\n",
    "$$ \\min_{x_A,x_B}\\ \\ \\sigma_p^2 = \\sigma_A^2 x_A^2 + \\sigma_B^2 x_B^2 + \\sigma_{AB} x_A x_B\\\\\n",
    "\\text{such that }x_A + x_B = 1$$\n",
    "Here, $\\sigma_p^2 = \\sigma_A^2 x_A^2 + \\sigma_B^2 x_B^2 + \\sigma_{AB} x_A x_B$ is called the objective function, and $x_A + x_B = 1$ is called the constraint.\n",
    "\n",
    "The constraint has to be satisfied exactly, and objective wants to be minimized with the freedom of changing the values of $x_A$ and $x_B$."
   ]
  },
  {
   "cell_type": "markdown",
   "metadata": {
    "slideshow": {
     "slide_type": "subslide"
    }
   },
   "source": [
    "### Using `cvxpy` for numerical optimization\n",
    "\n",
    "Calculating analytical solutions is not always possible. There are ways to compute solutions numerically. Although out of scope of our class, a large field in applied math called optimization. The tools from this area allow us to compute solutions for problems such as the one we have here. (For more information, visit the "
   ]
  },
  {
   "cell_type": "markdown",
   "metadata": {
    "slideshow": {
     "slide_type": "subslide"
    }
   },
   "source": [
    "### Higher dimensional portfolios\n",
    "\n",
    "In higher dimensions, the portfolio equantion is written in terms of vectors and matrices. For example, suppose we construct a portfolio consisting of $s$-assets. The portfolio allocation can be written as,\n",
    "$$\\mathbf{1}^\\intercal x = 1,$$\n",
    "where $x$ is an $s$-vector whose sum adds up to 1: i.e., $x_1 + x_2 + \\cdots + x_s = 1$.\n",
    "\n",
    "The portfolio volatility in matrix-vector form looks like:\n",
    "$$\n",
    "\\begin{pmatrix}x_1 & x_2 & \\cdots & x_s\\end{pmatrix}\n",
    "\\begin{pmatrix}\n",
    "\\sigma_1^2 & \\sigma_{12} & \\cdots & \\sigma_{1s}\\\\\n",
    "\\sigma_{21} & \\sigma_2^2 & \\cdots & \\sigma_{2s}\\\\\n",
    "\\vdots & \\vdots & & \\vdots \\\\\n",
    "\\sigma_{s1} & \\sigma_{s2} & \\cdots & \\sigma_s^2\\\\\n",
    "\\end{pmatrix}\n",
    "\\begin{pmatrix}x_1 \\\\ x_2 \\\\ \\vdots \\\\ x_s\\end{pmatrix}.\n",
    "$$\n",
    "To verify the two stock example result, we check $\\sigma_p^2$:\n",
    "$$\n",
    "\\sigma_p^2 = \\begin{pmatrix}x_1 & x_2\\end{pmatrix}\n",
    "\\begin{pmatrix}\n",
    "\\sigma_1^2 & \\sigma_{12}\\\\\n",
    "\\sigma_{21} & \\sigma_2^2\\\\\n",
    "\\end{pmatrix}\n",
    "\\begin{pmatrix}x_1 \\\\ x_2\\end{pmatrix} = \n",
    "\\begin{pmatrix}x_1 & x_2\\end{pmatrix}\n",
    "\\begin{pmatrix}\n",
    "\\sigma_1^2 x_1 + \\sigma_{12} x_2\\\\\n",
    "\\sigma_{21} x_1 + \\sigma_2^2 x_2\\\\\n",
    "\\end{pmatrix} = \n",
    "\\sigma_1^2 x_1^2 + \\sigma_2^2 x_2^2 + \\sigma_{12} x_1 x_2,\n",
    "$$\n",
    "which matches the result from before.\n",
    "\n",
    "With this notation, we can re-write the problem.\n",
    "\n",
    "$$ \\min_{x\\in\\mathbb{R}^s}\\ \\ x^\\intercal \\Sigma x\\\\\n",
    "\\text{subject to }\\mathbf{1}^\\intercal x = 1,$$\n",
    "\n",
    "It can be shown that the optimal solution to this problem is,\n",
    "$$\n",
    "x^* = (\\mathbf{1}^\\intercal\\Sigma^{-1}\\mathbf{1})^{-1}\\Sigma^{-1}\\mathbf{1}\n",
    "$$."
   ]
  },
  {
   "cell_type": "markdown",
   "metadata": {
    "slideshow": {
     "slide_type": "subslide"
    }
   },
   "source": [
    "There are many variations of this problem. In fact the minimum variance portfolio is special case of a more general problem\n",
    "\n",
    "$$ \\min_{x\\in\\mathbb{R}^s}\\ \\ x^\\intercal \\Sigma x\\\\\n",
    "\\text{subject to }\\mu^\\intercal x\\geq \\mu^* \\text{, and } \\mathbf{1}^\\intercal x = 1,$$\n",
    "\n",
    "Note that in all of the above problems, the measure of $\\mu^*$, expected returns, and covariance matrix have to be provided. In practice, these quantities are estimated from data."
   ]
  },
  {
   "cell_type": "markdown",
   "metadata": {
    "slideshow": {
     "slide_type": "slide"
    }
   },
   "source": [
    "## Portfolio Allocation: Dow Jones component stocks\n",
    "\n",
    "Stock data can have irregularities such as missing data due stocks being added and removed from the index. Some examples are\n",
    "* Alcoa Corp. (AA) was removed in 2013\n",
    "* Apple (AAPL) was added in 2015\n",
    "* E.I. du Pont de Nemours & Company (DD) was removed and replaced with Dow du Pont (DWDP) as a continuation in 2017\n",
    "\n",
    "For simplicity the stocks we will use are based on the most recent DJIA constituent companies "
   ]
  },
  {
   "cell_type": "code",
   "execution_count": 9,
   "metadata": {
    "slideshow": {
     "slide_type": "subslide"
    }
   },
   "outputs": [
    {
     "name": "stdout",
     "output_type": "stream",
     "text": [
      "[*********************100%%**********************]  28 of 28 completed\n"
     ]
    },
    {
     "data": {
      "text/html": [
       "<div>\n",
       "<style scoped>\n",
       "    .dataframe tbody tr th:only-of-type {\n",
       "        vertical-align: middle;\n",
       "    }\n",
       "\n",
       "    .dataframe tbody tr th {\n",
       "        vertical-align: top;\n",
       "    }\n",
       "\n",
       "    .dataframe thead tr th {\n",
       "        text-align: left;\n",
       "    }\n",
       "\n",
       "    .dataframe thead tr:last-of-type th {\n",
       "        text-align: right;\n",
       "    }\n",
       "</style>\n",
       "<table border=\"1\" class=\"dataframe\">\n",
       "  <thead>\n",
       "    <tr>\n",
       "      <th></th>\n",
       "      <th colspan=\"10\" halign=\"left\">Adj Close</th>\n",
       "      <th>...</th>\n",
       "      <th colspan=\"10\" halign=\"left\">Volume</th>\n",
       "    </tr>\n",
       "    <tr>\n",
       "      <th></th>\n",
       "      <th>AAPL</th>\n",
       "      <th>AXP</th>\n",
       "      <th>BA</th>\n",
       "      <th>BAC</th>\n",
       "      <th>CAT</th>\n",
       "      <th>CSCO</th>\n",
       "      <th>CVX</th>\n",
       "      <th>DD</th>\n",
       "      <th>DIS</th>\n",
       "      <th>GE</th>\n",
       "      <th>...</th>\n",
       "      <th>MMM</th>\n",
       "      <th>MRK</th>\n",
       "      <th>MSFT</th>\n",
       "      <th>PFE</th>\n",
       "      <th>PG</th>\n",
       "      <th>T</th>\n",
       "      <th>TRV</th>\n",
       "      <th>VZ</th>\n",
       "      <th>WMT</th>\n",
       "      <th>XOM</th>\n",
       "    </tr>\n",
       "    <tr>\n",
       "      <th>Date</th>\n",
       "      <th></th>\n",
       "      <th></th>\n",
       "      <th></th>\n",
       "      <th></th>\n",
       "      <th></th>\n",
       "      <th></th>\n",
       "      <th></th>\n",
       "      <th></th>\n",
       "      <th></th>\n",
       "      <th></th>\n",
       "      <th></th>\n",
       "      <th></th>\n",
       "      <th></th>\n",
       "      <th></th>\n",
       "      <th></th>\n",
       "      <th></th>\n",
       "      <th></th>\n",
       "      <th></th>\n",
       "      <th></th>\n",
       "      <th></th>\n",
       "      <th></th>\n",
       "    </tr>\n",
       "  </thead>\n",
       "  <tbody>\n",
       "    <tr>\n",
       "      <th>2000-01-03</th>\n",
       "      <td>0.848323</td>\n",
       "      <td>33.063007</td>\n",
       "      <td>25.940285</td>\n",
       "      <td>13.141623</td>\n",
       "      <td>12.968642</td>\n",
       "      <td>37.228062</td>\n",
       "      <td>17.508457</td>\n",
       "      <td>29.504230</td>\n",
       "      <td>23.115252</td>\n",
       "      <td>164.528564</td>\n",
       "      <td>...</td>\n",
       "      <td>2173400</td>\n",
       "      <td>6265782</td>\n",
       "      <td>53228400</td>\n",
       "      <td>12873345</td>\n",
       "      <td>4275000</td>\n",
       "      <td>7668476</td>\n",
       "      <td>336400</td>\n",
       "      <td>4663843</td>\n",
       "      <td>8369900</td>\n",
       "      <td>13458200</td>\n",
       "    </tr>\n",
       "    <tr>\n",
       "      <th>2000-01-04</th>\n",
       "      <td>0.776801</td>\n",
       "      <td>31.814619</td>\n",
       "      <td>25.899940</td>\n",
       "      <td>12.361607</td>\n",
       "      <td>12.801950</td>\n",
       "      <td>35.139496</td>\n",
       "      <td>17.508457</td>\n",
       "      <td>28.697811</td>\n",
       "      <td>24.469284</td>\n",
       "      <td>157.947372</td>\n",
       "      <td>...</td>\n",
       "      <td>2713800</td>\n",
       "      <td>7894689</td>\n",
       "      <td>54119000</td>\n",
       "      <td>14208974</td>\n",
       "      <td>4270800</td>\n",
       "      <td>9497846</td>\n",
       "      <td>494400</td>\n",
       "      <td>5005878</td>\n",
       "      <td>6745100</td>\n",
       "      <td>14510800</td>\n",
       "    </tr>\n",
       "    <tr>\n",
       "      <th>2000-01-05</th>\n",
       "      <td>0.788168</td>\n",
       "      <td>31.006538</td>\n",
       "      <td>27.513641</td>\n",
       "      <td>12.497260</td>\n",
       "      <td>13.101996</td>\n",
       "      <td>35.031830</td>\n",
       "      <td>17.822521</td>\n",
       "      <td>29.629372</td>\n",
       "      <td>25.484814</td>\n",
       "      <td>157.673126</td>\n",
       "      <td>...</td>\n",
       "      <td>3699400</td>\n",
       "      <td>7963018</td>\n",
       "      <td>64059600</td>\n",
       "      <td>12981591</td>\n",
       "      <td>5098400</td>\n",
       "      <td>12035160</td>\n",
       "      <td>736000</td>\n",
       "      <td>6368681</td>\n",
       "      <td>7018700</td>\n",
       "      <td>17485000</td>\n",
       "    </tr>\n",
       "    <tr>\n",
       "      <th>2000-01-06</th>\n",
       "      <td>0.719961</td>\n",
       "      <td>31.638258</td>\n",
       "      <td>27.796030</td>\n",
       "      <td>13.565547</td>\n",
       "      <td>13.768770</td>\n",
       "      <td>34.450493</td>\n",
       "      <td>18.581478</td>\n",
       "      <td>30.463600</td>\n",
       "      <td>24.469284</td>\n",
       "      <td>159.781250</td>\n",
       "      <td>...</td>\n",
       "      <td>5975800</td>\n",
       "      <td>4989004</td>\n",
       "      <td>54976600</td>\n",
       "      <td>11115273</td>\n",
       "      <td>6524200</td>\n",
       "      <td>9471366</td>\n",
       "      <td>660400</td>\n",
       "      <td>4705763</td>\n",
       "      <td>6544500</td>\n",
       "      <td>19461600</td>\n",
       "    </tr>\n",
       "    <tr>\n",
       "      <th>2000-01-07</th>\n",
       "      <td>0.754065</td>\n",
       "      <td>32.098869</td>\n",
       "      <td>28.602894</td>\n",
       "      <td>13.209449</td>\n",
       "      <td>14.218838</td>\n",
       "      <td>36.474461</td>\n",
       "      <td>18.908613</td>\n",
       "      <td>31.144909</td>\n",
       "      <td>24.082420</td>\n",
       "      <td>165.968185</td>\n",
       "      <td>...</td>\n",
       "      <td>4101200</td>\n",
       "      <td>10871218</td>\n",
       "      <td>62013600</td>\n",
       "      <td>17962163</td>\n",
       "      <td>9832000</td>\n",
       "      <td>7792534</td>\n",
       "      <td>594700</td>\n",
       "      <td>5043907</td>\n",
       "      <td>7976900</td>\n",
       "      <td>16603800</td>\n",
       "    </tr>\n",
       "  </tbody>\n",
       "</table>\n",
       "<p>5 rows × 168 columns</p>\n",
       "</div>"
      ],
      "text/plain": [
       "           Adj Close                                                         \\\n",
       "                AAPL        AXP         BA        BAC        CAT       CSCO   \n",
       "Date                                                                          \n",
       "2000-01-03  0.848323  33.063007  25.940285  13.141623  12.968642  37.228062   \n",
       "2000-01-04  0.776801  31.814619  25.899940  12.361607  12.801950  35.139496   \n",
       "2000-01-05  0.788168  31.006538  27.513641  12.497260  13.101996  35.031830   \n",
       "2000-01-06  0.719961  31.638258  27.796030  13.565547  13.768770  34.450493   \n",
       "2000-01-07  0.754065  32.098869  28.602894  13.209449  14.218838  36.474461   \n",
       "\n",
       "                                                         ...   Volume  \\\n",
       "                  CVX         DD        DIS          GE  ...      MMM   \n",
       "Date                                                     ...            \n",
       "2000-01-03  17.508457  29.504230  23.115252  164.528564  ...  2173400   \n",
       "2000-01-04  17.508457  28.697811  24.469284  157.947372  ...  2713800   \n",
       "2000-01-05  17.822521  29.629372  25.484814  157.673126  ...  3699400   \n",
       "2000-01-06  18.581478  30.463600  24.469284  159.781250  ...  5975800   \n",
       "2000-01-07  18.908613  31.144909  24.082420  165.968185  ...  4101200   \n",
       "\n",
       "                                                                              \\\n",
       "                 MRK      MSFT       PFE       PG         T     TRV       VZ   \n",
       "Date                                                                           \n",
       "2000-01-03   6265782  53228400  12873345  4275000   7668476  336400  4663843   \n",
       "2000-01-04   7894689  54119000  14208974  4270800   9497846  494400  5005878   \n",
       "2000-01-05   7963018  64059600  12981591  5098400  12035160  736000  6368681   \n",
       "2000-01-06   4989004  54976600  11115273  6524200   9471366  660400  4705763   \n",
       "2000-01-07  10871218  62013600  17962163  9832000   7792534  594700  5043907   \n",
       "\n",
       "                               \n",
       "                WMT       XOM  \n",
       "Date                           \n",
       "2000-01-03  8369900  13458200  \n",
       "2000-01-04  6745100  14510800  \n",
       "2000-01-05  7018700  17485000  \n",
       "2000-01-06  6544500  19461600  \n",
       "2000-01-07  7976900  16603800  \n",
       "\n",
       "[5 rows x 168 columns]"
      ]
     },
     "execution_count": 9,
     "metadata": {},
     "output_type": "execute_result"
    }
   ],
   "source": [
    "dowjones_components = [\n",
    "    'AAPL','AXP','BA','BAC','CAT',\n",
    "    'CSCO','CVX','DD','DIS','GE',\n",
    "    'HD','HPQ','IBM','INTC','JNJ',\n",
    "    'JPM','KO','MCD','MMM',\n",
    "    'MRK','MSFT','PFE','PG','T',\n",
    "    'TRV','VZ','WMT','XOM'\n",
    "]\n",
    "\n",
    "symbols = pd.read_csv('data/tickers.csv').set_index('code')\n",
    "\n",
    "import yfinance as yf\n",
    "rawdata = yf.download(dowjones_components, start=\"2000-01-01\", end=\"2022-10-31\")\n",
    "rawdata.head()"
   ]
  },
  {
   "cell_type": "code",
   "execution_count": 10,
   "metadata": {},
   "outputs": [
    {
     "data": {
      "text/html": [
       "<div>\n",
       "<style scoped>\n",
       "    .dataframe tbody tr th:only-of-type {\n",
       "        vertical-align: middle;\n",
       "    }\n",
       "\n",
       "    .dataframe tbody tr th {\n",
       "        vertical-align: top;\n",
       "    }\n",
       "\n",
       "    .dataframe thead tr th {\n",
       "        text-align: left;\n",
       "    }\n",
       "\n",
       "    .dataframe thead tr:last-of-type th {\n",
       "        text-align: right;\n",
       "    }\n",
       "</style>\n",
       "<table border=\"1\" class=\"dataframe\">\n",
       "  <thead>\n",
       "    <tr>\n",
       "      <th></th>\n",
       "      <th colspan=\"10\" halign=\"left\">Adj Close</th>\n",
       "      <th>...</th>\n",
       "      <th colspan=\"10\" halign=\"left\">Volume</th>\n",
       "    </tr>\n",
       "    <tr>\n",
       "      <th></th>\n",
       "      <th>AAPL</th>\n",
       "      <th>AXP</th>\n",
       "      <th>BA</th>\n",
       "      <th>BAC</th>\n",
       "      <th>CAT</th>\n",
       "      <th>CSCO</th>\n",
       "      <th>CVX</th>\n",
       "      <th>DD</th>\n",
       "      <th>DIS</th>\n",
       "      <th>GE</th>\n",
       "      <th>...</th>\n",
       "      <th>MMM</th>\n",
       "      <th>MRK</th>\n",
       "      <th>MSFT</th>\n",
       "      <th>PFE</th>\n",
       "      <th>PG</th>\n",
       "      <th>T</th>\n",
       "      <th>TRV</th>\n",
       "      <th>VZ</th>\n",
       "      <th>WMT</th>\n",
       "      <th>XOM</th>\n",
       "    </tr>\n",
       "    <tr>\n",
       "      <th>Date</th>\n",
       "      <th></th>\n",
       "      <th></th>\n",
       "      <th></th>\n",
       "      <th></th>\n",
       "      <th></th>\n",
       "      <th></th>\n",
       "      <th></th>\n",
       "      <th></th>\n",
       "      <th></th>\n",
       "      <th></th>\n",
       "      <th></th>\n",
       "      <th></th>\n",
       "      <th></th>\n",
       "      <th></th>\n",
       "      <th></th>\n",
       "      <th></th>\n",
       "      <th></th>\n",
       "      <th></th>\n",
       "      <th></th>\n",
       "      <th></th>\n",
       "      <th></th>\n",
       "    </tr>\n",
       "  </thead>\n",
       "  <tbody>\n",
       "    <tr>\n",
       "      <th>2022-10-24</th>\n",
       "      <td>148.568634</td>\n",
       "      <td>139.565857</td>\n",
       "      <td>142.050003</td>\n",
       "      <td>34.083210</td>\n",
       "      <td>187.462326</td>\n",
       "      <td>42.245068</td>\n",
       "      <td>167.038834</td>\n",
       "      <td>54.917618</td>\n",
       "      <td>101.720001</td>\n",
       "      <td>57.076187</td>\n",
       "      <td>...</td>\n",
       "      <td>3394100</td>\n",
       "      <td>11414900</td>\n",
       "      <td>24911200</td>\n",
       "      <td>24972000</td>\n",
       "      <td>6946000</td>\n",
       "      <td>69196500</td>\n",
       "      <td>1649700</td>\n",
       "      <td>28844800</td>\n",
       "      <td>6268900</td>\n",
       "      <td>17024200</td>\n",
       "    </tr>\n",
       "    <tr>\n",
       "      <th>2022-10-25</th>\n",
       "      <td>151.441589</td>\n",
       "      <td>144.877274</td>\n",
       "      <td>146.649994</td>\n",
       "      <td>34.394207</td>\n",
       "      <td>190.931305</td>\n",
       "      <td>43.040684</td>\n",
       "      <td>168.775497</td>\n",
       "      <td>55.849091</td>\n",
       "      <td>104.360001</td>\n",
       "      <td>56.796093</td>\n",
       "      <td>...</td>\n",
       "      <td>5014700</td>\n",
       "      <td>8747900</td>\n",
       "      <td>34775500</td>\n",
       "      <td>23127000</td>\n",
       "      <td>6776000</td>\n",
       "      <td>58235100</td>\n",
       "      <td>2059800</td>\n",
       "      <td>25496500</td>\n",
       "      <td>5017100</td>\n",
       "      <td>15719800</td>\n",
       "    </tr>\n",
       "    <tr>\n",
       "      <th>2022-10-26</th>\n",
       "      <td>148.469223</td>\n",
       "      <td>144.739319</td>\n",
       "      <td>133.789993</td>\n",
       "      <td>34.695488</td>\n",
       "      <td>193.008774</td>\n",
       "      <td>43.060085</td>\n",
       "      <td>170.859482</td>\n",
       "      <td>55.976555</td>\n",
       "      <td>104.629997</td>\n",
       "      <td>58.710045</td>\n",
       "      <td>...</td>\n",
       "      <td>4628000</td>\n",
       "      <td>10374700</td>\n",
       "      <td>82543200</td>\n",
       "      <td>21407900</td>\n",
       "      <td>6612800</td>\n",
       "      <td>65157700</td>\n",
       "      <td>1926000</td>\n",
       "      <td>20328200</td>\n",
       "      <td>6918100</td>\n",
       "      <td>17383800</td>\n",
       "    </tr>\n",
       "    <tr>\n",
       "      <th>2022-10-27</th>\n",
       "      <td>143.946060</td>\n",
       "      <td>144.828003</td>\n",
       "      <td>139.759995</td>\n",
       "      <td>34.860703</td>\n",
       "      <td>207.884232</td>\n",
       "      <td>43.098892</td>\n",
       "      <td>171.640991</td>\n",
       "      <td>55.662800</td>\n",
       "      <td>104.440002</td>\n",
       "      <td>59.130180</td>\n",
       "      <td>...</td>\n",
       "      <td>3716500</td>\n",
       "      <td>12218400</td>\n",
       "      <td>40424600</td>\n",
       "      <td>20377700</td>\n",
       "      <td>6676700</td>\n",
       "      <td>53975500</td>\n",
       "      <td>1143500</td>\n",
       "      <td>20268000</td>\n",
       "      <td>5534300</td>\n",
       "      <td>18214000</td>\n",
       "    </tr>\n",
       "    <tr>\n",
       "      <th>2022-10-28</th>\n",
       "      <td>154.821548</td>\n",
       "      <td>148.247452</td>\n",
       "      <td>143.839996</td>\n",
       "      <td>35.161980</td>\n",
       "      <td>214.939804</td>\n",
       "      <td>44.282612</td>\n",
       "      <td>173.647827</td>\n",
       "      <td>56.437389</td>\n",
       "      <td>105.949997</td>\n",
       "      <td>60.942986</td>\n",
       "      <td>...</td>\n",
       "      <td>3812600</td>\n",
       "      <td>11228000</td>\n",
       "      <td>40647700</td>\n",
       "      <td>27854000</td>\n",
       "      <td>6996400</td>\n",
       "      <td>55833900</td>\n",
       "      <td>1750700</td>\n",
       "      <td>31824300</td>\n",
       "      <td>4549400</td>\n",
       "      <td>28169400</td>\n",
       "    </tr>\n",
       "  </tbody>\n",
       "</table>\n",
       "<p>5 rows × 168 columns</p>\n",
       "</div>"
      ],
      "text/plain": [
       "             Adj Close                                                 \\\n",
       "                  AAPL         AXP          BA        BAC         CAT   \n",
       "Date                                                                    \n",
       "2022-10-24  148.568634  139.565857  142.050003  34.083210  187.462326   \n",
       "2022-10-25  151.441589  144.877274  146.649994  34.394207  190.931305   \n",
       "2022-10-26  148.469223  144.739319  133.789993  34.695488  193.008774   \n",
       "2022-10-27  143.946060  144.828003  139.759995  34.860703  207.884232   \n",
       "2022-10-28  154.821548  148.247452  143.839996  35.161980  214.939804   \n",
       "\n",
       "                                                                     ...  \\\n",
       "                 CSCO         CVX         DD         DIS         GE  ...   \n",
       "Date                                                                 ...   \n",
       "2022-10-24  42.245068  167.038834  54.917618  101.720001  57.076187  ...   \n",
       "2022-10-25  43.040684  168.775497  55.849091  104.360001  56.796093  ...   \n",
       "2022-10-26  43.060085  170.859482  55.976555  104.629997  58.710045  ...   \n",
       "2022-10-27  43.098892  171.640991  55.662800  104.440002  59.130180  ...   \n",
       "2022-10-28  44.282612  173.647827  56.437389  105.949997  60.942986  ...   \n",
       "\n",
       "             Volume                                                            \\\n",
       "                MMM       MRK      MSFT       PFE       PG         T      TRV   \n",
       "Date                                                                            \n",
       "2022-10-24  3394100  11414900  24911200  24972000  6946000  69196500  1649700   \n",
       "2022-10-25  5014700   8747900  34775500  23127000  6776000  58235100  2059800   \n",
       "2022-10-26  4628000  10374700  82543200  21407900  6612800  65157700  1926000   \n",
       "2022-10-27  3716500  12218400  40424600  20377700  6676700  53975500  1143500   \n",
       "2022-10-28  3812600  11228000  40647700  27854000  6996400  55833900  1750700   \n",
       "\n",
       "                                         \n",
       "                  VZ      WMT       XOM  \n",
       "Date                                     \n",
       "2022-10-24  28844800  6268900  17024200  \n",
       "2022-10-25  25496500  5017100  15719800  \n",
       "2022-10-26  20328200  6918100  17383800  \n",
       "2022-10-27  20268000  5534300  18214000  \n",
       "2022-10-28  31824300  4549400  28169400  \n",
       "\n",
       "[5 rows x 168 columns]"
      ]
     },
     "execution_count": 10,
     "metadata": {},
     "output_type": "execute_result"
    }
   ],
   "source": [
    "rawdata.tail()"
   ]
  },
  {
   "cell_type": "code",
   "execution_count": 11,
   "metadata": {
    "slideshow": {
     "slide_type": "subslide"
    }
   },
   "outputs": [
    {
     "data": {
      "text/html": [
       "<div>\n",
       "<style scoped>\n",
       "    .dataframe tbody tr th:only-of-type {\n",
       "        vertical-align: middle;\n",
       "    }\n",
       "\n",
       "    .dataframe tbody tr th {\n",
       "        vertical-align: top;\n",
       "    }\n",
       "\n",
       "    .dataframe thead th {\n",
       "        text-align: right;\n",
       "    }\n",
       "</style>\n",
       "<table border=\"1\" class=\"dataframe\">\n",
       "  <thead>\n",
       "    <tr style=\"text-align: right;\">\n",
       "      <th></th>\n",
       "      <th>name</th>\n",
       "    </tr>\n",
       "    <tr>\n",
       "      <th>code</th>\n",
       "      <th></th>\n",
       "    </tr>\n",
       "  </thead>\n",
       "  <tbody>\n",
       "    <tr>\n",
       "      <th>AAPL</th>\n",
       "      <td>Apple Inc (AAPL)</td>\n",
       "    </tr>\n",
       "    <tr>\n",
       "      <th>AXP</th>\n",
       "      <td>American Express Co. (AXP)</td>\n",
       "    </tr>\n",
       "    <tr>\n",
       "      <th>BA</th>\n",
       "      <td>The Boeing Co. (BA)</td>\n",
       "    </tr>\n",
       "    <tr>\n",
       "      <th>BAC</th>\n",
       "      <td>Bank of America Corp. (BAC)</td>\n",
       "    </tr>\n",
       "    <tr>\n",
       "      <th>CAT</th>\n",
       "      <td>Caterpillar Inc. (CAT)</td>\n",
       "    </tr>\n",
       "    <tr>\n",
       "      <th>CSCO</th>\n",
       "      <td>Cisco Systems Inc. (CSCO)</td>\n",
       "    </tr>\n",
       "    <tr>\n",
       "      <th>CVX</th>\n",
       "      <td>Chevron Corporation (CVX)</td>\n",
       "    </tr>\n",
       "    <tr>\n",
       "      <th>DD</th>\n",
       "      <td>E.I. du Pont de Nemours and Co. (DD)</td>\n",
       "    </tr>\n",
       "    <tr>\n",
       "      <th>DIS</th>\n",
       "      <td>Disney (Walt) Co. (The) (DIS)</td>\n",
       "    </tr>\n",
       "    <tr>\n",
       "      <th>GE</th>\n",
       "      <td>General Electric Co (GE)</td>\n",
       "    </tr>\n",
       "    <tr>\n",
       "      <th>HD</th>\n",
       "      <td>Home Depot Inc (HD)</td>\n",
       "    </tr>\n",
       "    <tr>\n",
       "      <th>HPQ</th>\n",
       "      <td>Hewlett-Packard Co (HPQ)</td>\n",
       "    </tr>\n",
       "    <tr>\n",
       "      <th>IBM</th>\n",
       "      <td>International Business Machines Corp (IBM)</td>\n",
       "    </tr>\n",
       "    <tr>\n",
       "      <th>INTC</th>\n",
       "      <td>Intel Corp (INTC)</td>\n",
       "    </tr>\n",
       "    <tr>\n",
       "      <th>JNJ</th>\n",
       "      <td>Johnson &amp; Johnson (JNJ)</td>\n",
       "    </tr>\n",
       "    <tr>\n",
       "      <th>JPM</th>\n",
       "      <td>JP Morgan Chase (JPM)</td>\n",
       "    </tr>\n",
       "    <tr>\n",
       "      <th>KO</th>\n",
       "      <td>Coca-Cola Co (The) (KO)</td>\n",
       "    </tr>\n",
       "    <tr>\n",
       "      <th>MCD</th>\n",
       "      <td>McDonald's Corp (MCD)</td>\n",
       "    </tr>\n",
       "    <tr>\n",
       "      <th>MMM</th>\n",
       "      <td>3M Co (MMM)</td>\n",
       "    </tr>\n",
       "    <tr>\n",
       "      <th>MRK</th>\n",
       "      <td>Merck &amp; Co. Inc (MRK)</td>\n",
       "    </tr>\n",
       "    <tr>\n",
       "      <th>MSFT</th>\n",
       "      <td>Microsoft Corporation (MSFT)</td>\n",
       "    </tr>\n",
       "    <tr>\n",
       "      <th>PFE</th>\n",
       "      <td>Pfizer Inc (PFE)</td>\n",
       "    </tr>\n",
       "    <tr>\n",
       "      <th>PG</th>\n",
       "      <td>Procter &amp; Gamble Co. (PG)</td>\n",
       "    </tr>\n",
       "    <tr>\n",
       "      <th>T</th>\n",
       "      <td>AT&amp;T Inc (T)</td>\n",
       "    </tr>\n",
       "    <tr>\n",
       "      <th>TRV</th>\n",
       "      <td>Travelers Companies Inc (The) (TRV)</td>\n",
       "    </tr>\n",
       "    <tr>\n",
       "      <th>UTX</th>\n",
       "      <td>United Technologies Corp. (UTX)</td>\n",
       "    </tr>\n",
       "    <tr>\n",
       "      <th>VZ</th>\n",
       "      <td>Verizon Communications Inc (VZ)</td>\n",
       "    </tr>\n",
       "    <tr>\n",
       "      <th>WMT</th>\n",
       "      <td>Wal-Mart Stores (WMT)</td>\n",
       "    </tr>\n",
       "    <tr>\n",
       "      <th>XOM</th>\n",
       "      <td>Exxon Mobil Corp. (XOM)</td>\n",
       "    </tr>\n",
       "  </tbody>\n",
       "</table>\n",
       "</div>"
      ],
      "text/plain": [
       "                                            name\n",
       "code                                            \n",
       "AAPL                            Apple Inc (AAPL)\n",
       "AXP                   American Express Co. (AXP)\n",
       "BA                           The Boeing Co. (BA)\n",
       "BAC                  Bank of America Corp. (BAC)\n",
       "CAT                       Caterpillar Inc. (CAT)\n",
       "CSCO                   Cisco Systems Inc. (CSCO)\n",
       "CVX                    Chevron Corporation (CVX)\n",
       "DD          E.I. du Pont de Nemours and Co. (DD)\n",
       "DIS                Disney (Walt) Co. (The) (DIS)\n",
       "GE                      General Electric Co (GE)\n",
       "HD                           Home Depot Inc (HD)\n",
       "HPQ                     Hewlett-Packard Co (HPQ)\n",
       "IBM   International Business Machines Corp (IBM)\n",
       "INTC                           Intel Corp (INTC)\n",
       "JNJ                      Johnson & Johnson (JNJ)\n",
       "JPM                        JP Morgan Chase (JPM)\n",
       "KO                       Coca-Cola Co (The) (KO)\n",
       "MCD                        McDonald's Corp (MCD)\n",
       "MMM                                  3M Co (MMM)\n",
       "MRK                        Merck & Co. Inc (MRK)\n",
       "MSFT                Microsoft Corporation (MSFT)\n",
       "PFE                             Pfizer Inc (PFE)\n",
       "PG                     Procter & Gamble Co. (PG)\n",
       "T                                   AT&T Inc (T)\n",
       "TRV          Travelers Companies Inc (The) (TRV)\n",
       "UTX              United Technologies Corp. (UTX)\n",
       "VZ               Verizon Communications Inc (VZ)\n",
       "WMT                        Wal-Mart Stores (WMT)\n",
       "XOM                      Exxon Mobil Corp. (XOM)"
      ]
     },
     "execution_count": 11,
     "metadata": {},
     "output_type": "execute_result"
    }
   ],
   "source": [
    "symbols # full company names"
   ]
  },
  {
   "cell_type": "markdown",
   "metadata": {
    "slideshow": {
     "slide_type": "subslide"
    }
   },
   "source": [
    "## Data Format\n",
    "\n",
    "### Hierarchical Indexing\n",
    "\n",
    "* Column indexing is hierarchical\n",
    "* Adjusted close, close, high, low, open, and volume are given for each stock symbol"
   ]
  },
  {
   "cell_type": "code",
   "execution_count": 12,
   "metadata": {
    "slideshow": {
     "slide_type": "-"
    }
   },
   "outputs": [
    {
     "data": {
      "text/plain": [
       "FrozenList([['Adj Close', 'Close', 'High', 'Low', 'Open', 'Volume'], ['AAPL', 'AXP', 'BA', 'BAC', 'CAT', 'CSCO', 'CVX', 'DD', 'DIS', 'GE', 'HD', 'HPQ', 'IBM', 'INTC', 'JNJ', 'JPM', 'KO', 'MCD', 'MMM', 'MRK', 'MSFT', 'PFE', 'PG', 'T', 'TRV', 'VZ', 'WMT', 'XOM']])"
      ]
     },
     "execution_count": 12,
     "metadata": {},
     "output_type": "execute_result"
    }
   ],
   "source": [
    "rawdata.columns.levels"
   ]
  },
  {
   "cell_type": "markdown",
   "metadata": {
    "slideshow": {
     "slide_type": "subslide"
    }
   },
   "source": [
    "* Column levels can be named:"
   ]
  },
  {
   "cell_type": "code",
   "execution_count": 13,
   "metadata": {
    "slideshow": {
     "slide_type": "-"
    }
   },
   "outputs": [
    {
     "data": {
      "text/html": [
       "<div>\n",
       "<style scoped>\n",
       "    .dataframe tbody tr th:only-of-type {\n",
       "        vertical-align: middle;\n",
       "    }\n",
       "\n",
       "    .dataframe tbody tr th {\n",
       "        vertical-align: top;\n",
       "    }\n",
       "\n",
       "    .dataframe thead tr th {\n",
       "        text-align: left;\n",
       "    }\n",
       "\n",
       "    .dataframe thead tr:last-of-type th {\n",
       "        text-align: right;\n",
       "    }\n",
       "</style>\n",
       "<table border=\"1\" class=\"dataframe\">\n",
       "  <thead>\n",
       "    <tr>\n",
       "      <th>Value</th>\n",
       "      <th colspan=\"10\" halign=\"left\">Adj Close</th>\n",
       "      <th>...</th>\n",
       "      <th colspan=\"10\" halign=\"left\">Volume</th>\n",
       "    </tr>\n",
       "    <tr>\n",
       "      <th>Symbol</th>\n",
       "      <th>AAPL</th>\n",
       "      <th>AXP</th>\n",
       "      <th>BA</th>\n",
       "      <th>BAC</th>\n",
       "      <th>CAT</th>\n",
       "      <th>CSCO</th>\n",
       "      <th>CVX</th>\n",
       "      <th>DD</th>\n",
       "      <th>DIS</th>\n",
       "      <th>GE</th>\n",
       "      <th>...</th>\n",
       "      <th>MMM</th>\n",
       "      <th>MRK</th>\n",
       "      <th>MSFT</th>\n",
       "      <th>PFE</th>\n",
       "      <th>PG</th>\n",
       "      <th>T</th>\n",
       "      <th>TRV</th>\n",
       "      <th>VZ</th>\n",
       "      <th>WMT</th>\n",
       "      <th>XOM</th>\n",
       "    </tr>\n",
       "    <tr>\n",
       "      <th>Date</th>\n",
       "      <th></th>\n",
       "      <th></th>\n",
       "      <th></th>\n",
       "      <th></th>\n",
       "      <th></th>\n",
       "      <th></th>\n",
       "      <th></th>\n",
       "      <th></th>\n",
       "      <th></th>\n",
       "      <th></th>\n",
       "      <th></th>\n",
       "      <th></th>\n",
       "      <th></th>\n",
       "      <th></th>\n",
       "      <th></th>\n",
       "      <th></th>\n",
       "      <th></th>\n",
       "      <th></th>\n",
       "      <th></th>\n",
       "      <th></th>\n",
       "      <th></th>\n",
       "    </tr>\n",
       "  </thead>\n",
       "  <tbody>\n",
       "    <tr>\n",
       "      <th>2000-01-03</th>\n",
       "      <td>0.848323</td>\n",
       "      <td>33.063007</td>\n",
       "      <td>25.940285</td>\n",
       "      <td>13.141623</td>\n",
       "      <td>12.968642</td>\n",
       "      <td>37.228062</td>\n",
       "      <td>17.508457</td>\n",
       "      <td>29.504230</td>\n",
       "      <td>23.115252</td>\n",
       "      <td>164.528564</td>\n",
       "      <td>...</td>\n",
       "      <td>2173400</td>\n",
       "      <td>6265782</td>\n",
       "      <td>53228400</td>\n",
       "      <td>12873345</td>\n",
       "      <td>4275000</td>\n",
       "      <td>7668476</td>\n",
       "      <td>336400</td>\n",
       "      <td>4663843</td>\n",
       "      <td>8369900</td>\n",
       "      <td>13458200</td>\n",
       "    </tr>\n",
       "    <tr>\n",
       "      <th>2000-01-04</th>\n",
       "      <td>0.776801</td>\n",
       "      <td>31.814619</td>\n",
       "      <td>25.899940</td>\n",
       "      <td>12.361607</td>\n",
       "      <td>12.801950</td>\n",
       "      <td>35.139496</td>\n",
       "      <td>17.508457</td>\n",
       "      <td>28.697811</td>\n",
       "      <td>24.469284</td>\n",
       "      <td>157.947372</td>\n",
       "      <td>...</td>\n",
       "      <td>2713800</td>\n",
       "      <td>7894689</td>\n",
       "      <td>54119000</td>\n",
       "      <td>14208974</td>\n",
       "      <td>4270800</td>\n",
       "      <td>9497846</td>\n",
       "      <td>494400</td>\n",
       "      <td>5005878</td>\n",
       "      <td>6745100</td>\n",
       "      <td>14510800</td>\n",
       "    </tr>\n",
       "    <tr>\n",
       "      <th>2000-01-05</th>\n",
       "      <td>0.788168</td>\n",
       "      <td>31.006538</td>\n",
       "      <td>27.513641</td>\n",
       "      <td>12.497260</td>\n",
       "      <td>13.101996</td>\n",
       "      <td>35.031830</td>\n",
       "      <td>17.822521</td>\n",
       "      <td>29.629372</td>\n",
       "      <td>25.484814</td>\n",
       "      <td>157.673126</td>\n",
       "      <td>...</td>\n",
       "      <td>3699400</td>\n",
       "      <td>7963018</td>\n",
       "      <td>64059600</td>\n",
       "      <td>12981591</td>\n",
       "      <td>5098400</td>\n",
       "      <td>12035160</td>\n",
       "      <td>736000</td>\n",
       "      <td>6368681</td>\n",
       "      <td>7018700</td>\n",
       "      <td>17485000</td>\n",
       "    </tr>\n",
       "    <tr>\n",
       "      <th>2000-01-06</th>\n",
       "      <td>0.719961</td>\n",
       "      <td>31.638258</td>\n",
       "      <td>27.796030</td>\n",
       "      <td>13.565547</td>\n",
       "      <td>13.768770</td>\n",
       "      <td>34.450493</td>\n",
       "      <td>18.581478</td>\n",
       "      <td>30.463600</td>\n",
       "      <td>24.469284</td>\n",
       "      <td>159.781250</td>\n",
       "      <td>...</td>\n",
       "      <td>5975800</td>\n",
       "      <td>4989004</td>\n",
       "      <td>54976600</td>\n",
       "      <td>11115273</td>\n",
       "      <td>6524200</td>\n",
       "      <td>9471366</td>\n",
       "      <td>660400</td>\n",
       "      <td>4705763</td>\n",
       "      <td>6544500</td>\n",
       "      <td>19461600</td>\n",
       "    </tr>\n",
       "    <tr>\n",
       "      <th>2000-01-07</th>\n",
       "      <td>0.754065</td>\n",
       "      <td>32.098869</td>\n",
       "      <td>28.602894</td>\n",
       "      <td>13.209449</td>\n",
       "      <td>14.218838</td>\n",
       "      <td>36.474461</td>\n",
       "      <td>18.908613</td>\n",
       "      <td>31.144909</td>\n",
       "      <td>24.082420</td>\n",
       "      <td>165.968185</td>\n",
       "      <td>...</td>\n",
       "      <td>4101200</td>\n",
       "      <td>10871218</td>\n",
       "      <td>62013600</td>\n",
       "      <td>17962163</td>\n",
       "      <td>9832000</td>\n",
       "      <td>7792534</td>\n",
       "      <td>594700</td>\n",
       "      <td>5043907</td>\n",
       "      <td>7976900</td>\n",
       "      <td>16603800</td>\n",
       "    </tr>\n",
       "  </tbody>\n",
       "</table>\n",
       "<p>5 rows × 168 columns</p>\n",
       "</div>"
      ],
      "text/plain": [
       "Value      Adj Close                                                         \\\n",
       "Symbol          AAPL        AXP         BA        BAC        CAT       CSCO   \n",
       "Date                                                                          \n",
       "2000-01-03  0.848323  33.063007  25.940285  13.141623  12.968642  37.228062   \n",
       "2000-01-04  0.776801  31.814619  25.899940  12.361607  12.801950  35.139496   \n",
       "2000-01-05  0.788168  31.006538  27.513641  12.497260  13.101996  35.031830   \n",
       "2000-01-06  0.719961  31.638258  27.796030  13.565547  13.768770  34.450493   \n",
       "2000-01-07  0.754065  32.098869  28.602894  13.209449  14.218838  36.474461   \n",
       "\n",
       "Value                                                    ...   Volume  \\\n",
       "Symbol            CVX         DD        DIS          GE  ...      MMM   \n",
       "Date                                                     ...            \n",
       "2000-01-03  17.508457  29.504230  23.115252  164.528564  ...  2173400   \n",
       "2000-01-04  17.508457  28.697811  24.469284  157.947372  ...  2713800   \n",
       "2000-01-05  17.822521  29.629372  25.484814  157.673126  ...  3699400   \n",
       "2000-01-06  18.581478  30.463600  24.469284  159.781250  ...  5975800   \n",
       "2000-01-07  18.908613  31.144909  24.082420  165.968185  ...  4101200   \n",
       "\n",
       "Value                                                                         \\\n",
       "Symbol           MRK      MSFT       PFE       PG         T     TRV       VZ   \n",
       "Date                                                                           \n",
       "2000-01-03   6265782  53228400  12873345  4275000   7668476  336400  4663843   \n",
       "2000-01-04   7894689  54119000  14208974  4270800   9497846  494400  5005878   \n",
       "2000-01-05   7963018  64059600  12981591  5098400  12035160  736000  6368681   \n",
       "2000-01-06   4989004  54976600  11115273  6524200   9471366  660400  4705763   \n",
       "2000-01-07  10871218  62013600  17962163  9832000   7792534  594700  5043907   \n",
       "\n",
       "Value                          \n",
       "Symbol          WMT       XOM  \n",
       "Date                           \n",
       "2000-01-03  8369900  13458200  \n",
       "2000-01-04  6745100  14510800  \n",
       "2000-01-05  7018700  17485000  \n",
       "2000-01-06  6544500  19461600  \n",
       "2000-01-07  7976900  16603800  \n",
       "\n",
       "[5 rows x 168 columns]"
      ]
     },
     "execution_count": 13,
     "metadata": {},
     "output_type": "execute_result"
    }
   ],
   "source": [
    "rawdata.columns = rawdata.columns.set_names(['Value', 'Symbol'])\n",
    "rawdata.head()"
   ]
  },
  {
   "cell_type": "markdown",
   "metadata": {
    "slideshow": {
     "slide_type": "subslide"
    }
   },
   "source": [
    "* Subsetting first level of hierarchical indexing: `Adj Close`"
   ]
  },
  {
   "cell_type": "code",
   "execution_count": 14,
   "metadata": {
    "slideshow": {
     "slide_type": "-"
    }
   },
   "outputs": [
    {
     "data": {
      "text/html": [
       "<div>\n",
       "<style scoped>\n",
       "    .dataframe tbody tr th:only-of-type {\n",
       "        vertical-align: middle;\n",
       "    }\n",
       "\n",
       "    .dataframe tbody tr th {\n",
       "        vertical-align: top;\n",
       "    }\n",
       "\n",
       "    .dataframe thead th {\n",
       "        text-align: right;\n",
       "    }\n",
       "</style>\n",
       "<table border=\"1\" class=\"dataframe\">\n",
       "  <thead>\n",
       "    <tr style=\"text-align: right;\">\n",
       "      <th>Symbol</th>\n",
       "      <th>AAPL</th>\n",
       "      <th>AXP</th>\n",
       "      <th>BA</th>\n",
       "      <th>BAC</th>\n",
       "      <th>CAT</th>\n",
       "      <th>CSCO</th>\n",
       "      <th>CVX</th>\n",
       "      <th>DD</th>\n",
       "      <th>DIS</th>\n",
       "      <th>GE</th>\n",
       "      <th>...</th>\n",
       "      <th>MMM</th>\n",
       "      <th>MRK</th>\n",
       "      <th>MSFT</th>\n",
       "      <th>PFE</th>\n",
       "      <th>PG</th>\n",
       "      <th>T</th>\n",
       "      <th>TRV</th>\n",
       "      <th>VZ</th>\n",
       "      <th>WMT</th>\n",
       "      <th>XOM</th>\n",
       "    </tr>\n",
       "    <tr>\n",
       "      <th>Date</th>\n",
       "      <th></th>\n",
       "      <th></th>\n",
       "      <th></th>\n",
       "      <th></th>\n",
       "      <th></th>\n",
       "      <th></th>\n",
       "      <th></th>\n",
       "      <th></th>\n",
       "      <th></th>\n",
       "      <th></th>\n",
       "      <th></th>\n",
       "      <th></th>\n",
       "      <th></th>\n",
       "      <th></th>\n",
       "      <th></th>\n",
       "      <th></th>\n",
       "      <th></th>\n",
       "      <th></th>\n",
       "      <th></th>\n",
       "      <th></th>\n",
       "      <th></th>\n",
       "    </tr>\n",
       "  </thead>\n",
       "  <tbody>\n",
       "    <tr>\n",
       "      <th>2000-01-03</th>\n",
       "      <td>0.848323</td>\n",
       "      <td>33.063007</td>\n",
       "      <td>25.940285</td>\n",
       "      <td>13.141623</td>\n",
       "      <td>12.968642</td>\n",
       "      <td>37.228062</td>\n",
       "      <td>17.508457</td>\n",
       "      <td>29.504230</td>\n",
       "      <td>23.115252</td>\n",
       "      <td>164.528564</td>\n",
       "      <td>...</td>\n",
       "      <td>24.772842</td>\n",
       "      <td>27.068483</td>\n",
       "      <td>36.205612</td>\n",
       "      <td>13.436362</td>\n",
       "      <td>28.428757</td>\n",
       "      <td>7.016650</td>\n",
       "      <td>18.091146</td>\n",
       "      <td>17.758366</td>\n",
       "      <td>43.717686</td>\n",
       "      <td>18.668196</td>\n",
       "    </tr>\n",
       "    <tr>\n",
       "      <th>2000-01-04</th>\n",
       "      <td>0.776801</td>\n",
       "      <td>31.814619</td>\n",
       "      <td>25.899940</td>\n",
       "      <td>12.361607</td>\n",
       "      <td>12.801950</td>\n",
       "      <td>35.139496</td>\n",
       "      <td>17.508457</td>\n",
       "      <td>28.697811</td>\n",
       "      <td>24.469284</td>\n",
       "      <td>157.947372</td>\n",
       "      <td>...</td>\n",
       "      <td>23.788494</td>\n",
       "      <td>26.117830</td>\n",
       "      <td>34.982567</td>\n",
       "      <td>12.935787</td>\n",
       "      <td>27.881718</td>\n",
       "      <td>6.606101</td>\n",
       "      <td>17.851305</td>\n",
       "      <td>17.184313</td>\n",
       "      <td>42.081871</td>\n",
       "      <td>18.310621</td>\n",
       "    </tr>\n",
       "    <tr>\n",
       "      <th>2000-01-05</th>\n",
       "      <td>0.788168</td>\n",
       "      <td>31.006538</td>\n",
       "      <td>27.513641</td>\n",
       "      <td>12.497260</td>\n",
       "      <td>13.101996</td>\n",
       "      <td>35.031830</td>\n",
       "      <td>17.822521</td>\n",
       "      <td>29.629372</td>\n",
       "      <td>25.484814</td>\n",
       "      <td>157.673126</td>\n",
       "      <td>...</td>\n",
       "      <td>24.477530</td>\n",
       "      <td>27.143545</td>\n",
       "      <td>35.351414</td>\n",
       "      <td>13.146557</td>\n",
       "      <td>27.351286</td>\n",
       "      <td>6.708739</td>\n",
       "      <td>17.714251</td>\n",
       "      <td>17.758366</td>\n",
       "      <td>41.223064</td>\n",
       "      <td>19.308846</td>\n",
       "    </tr>\n",
       "    <tr>\n",
       "      <th>2000-01-06</th>\n",
       "      <td>0.719961</td>\n",
       "      <td>31.638258</td>\n",
       "      <td>27.796030</td>\n",
       "      <td>13.565547</td>\n",
       "      <td>13.768770</td>\n",
       "      <td>34.450493</td>\n",
       "      <td>18.581478</td>\n",
       "      <td>30.463600</td>\n",
       "      <td>24.469284</td>\n",
       "      <td>159.781250</td>\n",
       "      <td>...</td>\n",
       "      <td>26.446239</td>\n",
       "      <td>27.368683</td>\n",
       "      <td>34.167217</td>\n",
       "      <td>13.620778</td>\n",
       "      <td>28.611088</td>\n",
       "      <td>6.578752</td>\n",
       "      <td>18.056887</td>\n",
       "      <td>17.668158</td>\n",
       "      <td>41.672897</td>\n",
       "      <td>20.307060</td>\n",
       "    </tr>\n",
       "    <tr>\n",
       "      <th>2000-01-07</th>\n",
       "      <td>0.754065</td>\n",
       "      <td>32.098869</td>\n",
       "      <td>28.602894</td>\n",
       "      <td>13.209449</td>\n",
       "      <td>14.218838</td>\n",
       "      <td>36.474461</td>\n",
       "      <td>18.908613</td>\n",
       "      <td>31.144909</td>\n",
       "      <td>24.082420</td>\n",
       "      <td>165.968185</td>\n",
       "      <td>...</td>\n",
       "      <td>26.971220</td>\n",
       "      <td>29.995485</td>\n",
       "      <td>34.613731</td>\n",
       "      <td>14.542890</td>\n",
       "      <td>30.898653</td>\n",
       "      <td>6.635137</td>\n",
       "      <td>18.776419</td>\n",
       "      <td>17.537701</td>\n",
       "      <td>44.821896</td>\n",
       "      <td>20.247475</td>\n",
       "    </tr>\n",
       "  </tbody>\n",
       "</table>\n",
       "<p>5 rows × 28 columns</p>\n",
       "</div>"
      ],
      "text/plain": [
       "Symbol          AAPL        AXP         BA        BAC        CAT       CSCO  \\\n",
       "Date                                                                          \n",
       "2000-01-03  0.848323  33.063007  25.940285  13.141623  12.968642  37.228062   \n",
       "2000-01-04  0.776801  31.814619  25.899940  12.361607  12.801950  35.139496   \n",
       "2000-01-05  0.788168  31.006538  27.513641  12.497260  13.101996  35.031830   \n",
       "2000-01-06  0.719961  31.638258  27.796030  13.565547  13.768770  34.450493   \n",
       "2000-01-07  0.754065  32.098869  28.602894  13.209449  14.218838  36.474461   \n",
       "\n",
       "Symbol            CVX         DD        DIS          GE  ...        MMM  \\\n",
       "Date                                                     ...              \n",
       "2000-01-03  17.508457  29.504230  23.115252  164.528564  ...  24.772842   \n",
       "2000-01-04  17.508457  28.697811  24.469284  157.947372  ...  23.788494   \n",
       "2000-01-05  17.822521  29.629372  25.484814  157.673126  ...  24.477530   \n",
       "2000-01-06  18.581478  30.463600  24.469284  159.781250  ...  26.446239   \n",
       "2000-01-07  18.908613  31.144909  24.082420  165.968185  ...  26.971220   \n",
       "\n",
       "Symbol            MRK       MSFT        PFE         PG         T        TRV  \\\n",
       "Date                                                                          \n",
       "2000-01-03  27.068483  36.205612  13.436362  28.428757  7.016650  18.091146   \n",
       "2000-01-04  26.117830  34.982567  12.935787  27.881718  6.606101  17.851305   \n",
       "2000-01-05  27.143545  35.351414  13.146557  27.351286  6.708739  17.714251   \n",
       "2000-01-06  27.368683  34.167217  13.620778  28.611088  6.578752  18.056887   \n",
       "2000-01-07  29.995485  34.613731  14.542890  30.898653  6.635137  18.776419   \n",
       "\n",
       "Symbol             VZ        WMT        XOM  \n",
       "Date                                         \n",
       "2000-01-03  17.758366  43.717686  18.668196  \n",
       "2000-01-04  17.184313  42.081871  18.310621  \n",
       "2000-01-05  17.758366  41.223064  19.308846  \n",
       "2000-01-06  17.668158  41.672897  20.307060  \n",
       "2000-01-07  17.537701  44.821896  20.247475  \n",
       "\n",
       "[5 rows x 28 columns]"
      ]
     },
     "execution_count": 14,
     "metadata": {},
     "output_type": "execute_result"
    }
   ],
   "source": [
    "rawdata['Adj Close'].head()"
   ]
  },
  {
   "cell_type": "markdown",
   "metadata": {
    "slideshow": {
     "slide_type": "subslide"
    }
   },
   "source": [
    "* Subsetting first level of hierarchical indexing: `Volume`"
   ]
  },
  {
   "cell_type": "code",
   "execution_count": 15,
   "metadata": {
    "slideshow": {
     "slide_type": "-"
    }
   },
   "outputs": [
    {
     "data": {
      "text/html": [
       "<div>\n",
       "<style scoped>\n",
       "    .dataframe tbody tr th:only-of-type {\n",
       "        vertical-align: middle;\n",
       "    }\n",
       "\n",
       "    .dataframe tbody tr th {\n",
       "        vertical-align: top;\n",
       "    }\n",
       "\n",
       "    .dataframe thead th {\n",
       "        text-align: right;\n",
       "    }\n",
       "</style>\n",
       "<table border=\"1\" class=\"dataframe\">\n",
       "  <thead>\n",
       "    <tr style=\"text-align: right;\">\n",
       "      <th>Symbol</th>\n",
       "      <th>AAPL</th>\n",
       "      <th>AXP</th>\n",
       "      <th>BA</th>\n",
       "      <th>BAC</th>\n",
       "      <th>CAT</th>\n",
       "      <th>CSCO</th>\n",
       "      <th>CVX</th>\n",
       "      <th>DD</th>\n",
       "      <th>DIS</th>\n",
       "      <th>GE</th>\n",
       "      <th>...</th>\n",
       "      <th>MMM</th>\n",
       "      <th>MRK</th>\n",
       "      <th>MSFT</th>\n",
       "      <th>PFE</th>\n",
       "      <th>PG</th>\n",
       "      <th>T</th>\n",
       "      <th>TRV</th>\n",
       "      <th>VZ</th>\n",
       "      <th>WMT</th>\n",
       "      <th>XOM</th>\n",
       "    </tr>\n",
       "    <tr>\n",
       "      <th>Date</th>\n",
       "      <th></th>\n",
       "      <th></th>\n",
       "      <th></th>\n",
       "      <th></th>\n",
       "      <th></th>\n",
       "      <th></th>\n",
       "      <th></th>\n",
       "      <th></th>\n",
       "      <th></th>\n",
       "      <th></th>\n",
       "      <th></th>\n",
       "      <th></th>\n",
       "      <th></th>\n",
       "      <th></th>\n",
       "      <th></th>\n",
       "      <th></th>\n",
       "      <th></th>\n",
       "      <th></th>\n",
       "      <th></th>\n",
       "      <th></th>\n",
       "      <th></th>\n",
       "    </tr>\n",
       "  </thead>\n",
       "  <tbody>\n",
       "    <tr>\n",
       "      <th>2000-01-03</th>\n",
       "      <td>535796800</td>\n",
       "      <td>6471267</td>\n",
       "      <td>2638200</td>\n",
       "      <td>13705800</td>\n",
       "      <td>5055000</td>\n",
       "      <td>53076000</td>\n",
       "      <td>4387600</td>\n",
       "      <td>1296100</td>\n",
       "      <td>8402230</td>\n",
       "      <td>3675284</td>\n",
       "      <td>...</td>\n",
       "      <td>2173400</td>\n",
       "      <td>6265782</td>\n",
       "      <td>53228400</td>\n",
       "      <td>12873345</td>\n",
       "      <td>4275000</td>\n",
       "      <td>7668476</td>\n",
       "      <td>336400</td>\n",
       "      <td>4663843</td>\n",
       "      <td>8369900</td>\n",
       "      <td>13458200</td>\n",
       "    </tr>\n",
       "    <tr>\n",
       "      <th>2000-01-04</th>\n",
       "      <td>512377600</td>\n",
       "      <td>10440877</td>\n",
       "      <td>3592100</td>\n",
       "      <td>27293400</td>\n",
       "      <td>6181400</td>\n",
       "      <td>50805600</td>\n",
       "      <td>3702400</td>\n",
       "      <td>2073676</td>\n",
       "      <td>16051191</td>\n",
       "      <td>3683877</td>\n",
       "      <td>...</td>\n",
       "      <td>2713800</td>\n",
       "      <td>7894689</td>\n",
       "      <td>54119000</td>\n",
       "      <td>14208974</td>\n",
       "      <td>4270800</td>\n",
       "      <td>9497846</td>\n",
       "      <td>494400</td>\n",
       "      <td>5005878</td>\n",
       "      <td>6745100</td>\n",
       "      <td>14510800</td>\n",
       "    </tr>\n",
       "    <tr>\n",
       "      <th>2000-01-05</th>\n",
       "      <td>778321600</td>\n",
       "      <td>8646293</td>\n",
       "      <td>7631700</td>\n",
       "      <td>22855600</td>\n",
       "      <td>6398600</td>\n",
       "      <td>68524000</td>\n",
       "      <td>5567600</td>\n",
       "      <td>3653278</td>\n",
       "      <td>19823822</td>\n",
       "      <td>4545070</td>\n",
       "      <td>...</td>\n",
       "      <td>3699400</td>\n",
       "      <td>7963018</td>\n",
       "      <td>64059600</td>\n",
       "      <td>12981591</td>\n",
       "      <td>5098400</td>\n",
       "      <td>12035160</td>\n",
       "      <td>736000</td>\n",
       "      <td>6368681</td>\n",
       "      <td>7018700</td>\n",
       "      <td>17485000</td>\n",
       "    </tr>\n",
       "    <tr>\n",
       "      <th>2000-01-06</th>\n",
       "      <td>767972800</td>\n",
       "      <td>10990975</td>\n",
       "      <td>4922200</td>\n",
       "      <td>17307000</td>\n",
       "      <td>5140600</td>\n",
       "      <td>48242600</td>\n",
       "      <td>4353400</td>\n",
       "      <td>4885511</td>\n",
       "      <td>7903193</td>\n",
       "      <td>3309484</td>\n",
       "      <td>...</td>\n",
       "      <td>5975800</td>\n",
       "      <td>4989004</td>\n",
       "      <td>54976600</td>\n",
       "      <td>11115273</td>\n",
       "      <td>6524200</td>\n",
       "      <td>9471366</td>\n",
       "      <td>660400</td>\n",
       "      <td>4705763</td>\n",
       "      <td>6544500</td>\n",
       "      <td>19461600</td>\n",
       "    </tr>\n",
       "    <tr>\n",
       "      <th>2000-01-07</th>\n",
       "      <td>460734400</td>\n",
       "      <td>6016452</td>\n",
       "      <td>6008300</td>\n",
       "      <td>11632800</td>\n",
       "      <td>6360200</td>\n",
       "      <td>62260600</td>\n",
       "      <td>4487400</td>\n",
       "      <td>3469265</td>\n",
       "      <td>6773543</td>\n",
       "      <td>3354147</td>\n",
       "      <td>...</td>\n",
       "      <td>4101200</td>\n",
       "      <td>10871218</td>\n",
       "      <td>62013600</td>\n",
       "      <td>17962163</td>\n",
       "      <td>9832000</td>\n",
       "      <td>7792534</td>\n",
       "      <td>594700</td>\n",
       "      <td>5043907</td>\n",
       "      <td>7976900</td>\n",
       "      <td>16603800</td>\n",
       "    </tr>\n",
       "  </tbody>\n",
       "</table>\n",
       "<p>5 rows × 28 columns</p>\n",
       "</div>"
      ],
      "text/plain": [
       "Symbol           AAPL       AXP       BA       BAC      CAT      CSCO  \\\n",
       "Date                                                                    \n",
       "2000-01-03  535796800   6471267  2638200  13705800  5055000  53076000   \n",
       "2000-01-04  512377600  10440877  3592100  27293400  6181400  50805600   \n",
       "2000-01-05  778321600   8646293  7631700  22855600  6398600  68524000   \n",
       "2000-01-06  767972800  10990975  4922200  17307000  5140600  48242600   \n",
       "2000-01-07  460734400   6016452  6008300  11632800  6360200  62260600   \n",
       "\n",
       "Symbol          CVX       DD       DIS       GE  ...      MMM       MRK  \\\n",
       "Date                                             ...                      \n",
       "2000-01-03  4387600  1296100   8402230  3675284  ...  2173400   6265782   \n",
       "2000-01-04  3702400  2073676  16051191  3683877  ...  2713800   7894689   \n",
       "2000-01-05  5567600  3653278  19823822  4545070  ...  3699400   7963018   \n",
       "2000-01-06  4353400  4885511   7903193  3309484  ...  5975800   4989004   \n",
       "2000-01-07  4487400  3469265   6773543  3354147  ...  4101200  10871218   \n",
       "\n",
       "Symbol          MSFT       PFE       PG         T     TRV       VZ      WMT  \\\n",
       "Date                                                                          \n",
       "2000-01-03  53228400  12873345  4275000   7668476  336400  4663843  8369900   \n",
       "2000-01-04  54119000  14208974  4270800   9497846  494400  5005878  6745100   \n",
       "2000-01-05  64059600  12981591  5098400  12035160  736000  6368681  7018700   \n",
       "2000-01-06  54976600  11115273  6524200   9471366  660400  4705763  6544500   \n",
       "2000-01-07  62013600  17962163  9832000   7792534  594700  5043907  7976900   \n",
       "\n",
       "Symbol           XOM  \n",
       "Date                  \n",
       "2000-01-03  13458200  \n",
       "2000-01-04  14510800  \n",
       "2000-01-05  17485000  \n",
       "2000-01-06  19461600  \n",
       "2000-01-07  16603800  \n",
       "\n",
       "[5 rows x 28 columns]"
      ]
     },
     "execution_count": 15,
     "metadata": {},
     "output_type": "execute_result"
    }
   ],
   "source": [
    "rawdata.loc[:, 'Volume'].head()"
   ]
  },
  {
   "cell_type": "markdown",
   "metadata": {
    "slideshow": {
     "slide_type": "subslide"
    }
   },
   "source": [
    "* Subsetting second level is slightly harder: `AAPL`"
   ]
  },
  {
   "cell_type": "code",
   "execution_count": 16,
   "metadata": {
    "slideshow": {
     "slide_type": "-"
    }
   },
   "outputs": [
    {
     "data": {
      "text/html": [
       "<div>\n",
       "<style scoped>\n",
       "    .dataframe tbody tr th:only-of-type {\n",
       "        vertical-align: middle;\n",
       "    }\n",
       "\n",
       "    .dataframe tbody tr th {\n",
       "        vertical-align: top;\n",
       "    }\n",
       "\n",
       "    .dataframe thead tr th {\n",
       "        text-align: left;\n",
       "    }\n",
       "\n",
       "    .dataframe thead tr:last-of-type th {\n",
       "        text-align: right;\n",
       "    }\n",
       "</style>\n",
       "<table border=\"1\" class=\"dataframe\">\n",
       "  <thead>\n",
       "    <tr>\n",
       "      <th>Value</th>\n",
       "      <th>Adj Close</th>\n",
       "      <th>Close</th>\n",
       "      <th>High</th>\n",
       "      <th>Low</th>\n",
       "      <th>Open</th>\n",
       "      <th>Volume</th>\n",
       "    </tr>\n",
       "    <tr>\n",
       "      <th>Symbol</th>\n",
       "      <th>AAPL</th>\n",
       "      <th>AAPL</th>\n",
       "      <th>AAPL</th>\n",
       "      <th>AAPL</th>\n",
       "      <th>AAPL</th>\n",
       "      <th>AAPL</th>\n",
       "    </tr>\n",
       "    <tr>\n",
       "      <th>Date</th>\n",
       "      <th></th>\n",
       "      <th></th>\n",
       "      <th></th>\n",
       "      <th></th>\n",
       "      <th></th>\n",
       "      <th></th>\n",
       "    </tr>\n",
       "  </thead>\n",
       "  <tbody>\n",
       "    <tr>\n",
       "      <th>2000-01-03</th>\n",
       "      <td>0.848323</td>\n",
       "      <td>0.999442</td>\n",
       "      <td>1.004464</td>\n",
       "      <td>0.907924</td>\n",
       "      <td>0.936384</td>\n",
       "      <td>535796800</td>\n",
       "    </tr>\n",
       "    <tr>\n",
       "      <th>2000-01-04</th>\n",
       "      <td>0.776801</td>\n",
       "      <td>0.915179</td>\n",
       "      <td>0.987723</td>\n",
       "      <td>0.903460</td>\n",
       "      <td>0.966518</td>\n",
       "      <td>512377600</td>\n",
       "    </tr>\n",
       "    <tr>\n",
       "      <th>2000-01-05</th>\n",
       "      <td>0.788168</td>\n",
       "      <td>0.928571</td>\n",
       "      <td>0.987165</td>\n",
       "      <td>0.919643</td>\n",
       "      <td>0.926339</td>\n",
       "      <td>778321600</td>\n",
       "    </tr>\n",
       "    <tr>\n",
       "      <th>2000-01-06</th>\n",
       "      <td>0.719961</td>\n",
       "      <td>0.848214</td>\n",
       "      <td>0.955357</td>\n",
       "      <td>0.848214</td>\n",
       "      <td>0.947545</td>\n",
       "      <td>767972800</td>\n",
       "    </tr>\n",
       "    <tr>\n",
       "      <th>2000-01-07</th>\n",
       "      <td>0.754065</td>\n",
       "      <td>0.888393</td>\n",
       "      <td>0.901786</td>\n",
       "      <td>0.852679</td>\n",
       "      <td>0.861607</td>\n",
       "      <td>460734400</td>\n",
       "    </tr>\n",
       "  </tbody>\n",
       "</table>\n",
       "</div>"
      ],
      "text/plain": [
       "Value      Adj Close     Close      High       Low      Open     Volume\n",
       "Symbol          AAPL      AAPL      AAPL      AAPL      AAPL       AAPL\n",
       "Date                                                                   \n",
       "2000-01-03  0.848323  0.999442  1.004464  0.907924  0.936384  535796800\n",
       "2000-01-04  0.776801  0.915179  0.987723  0.903460  0.966518  512377600\n",
       "2000-01-05  0.788168  0.928571  0.987165  0.919643  0.926339  778321600\n",
       "2000-01-06  0.719961  0.848214  0.955357  0.848214  0.947545  767972800\n",
       "2000-01-07  0.754065  0.888393  0.901786  0.852679  0.861607  460734400"
      ]
     },
     "execution_count": 16,
     "metadata": {},
     "output_type": "execute_result"
    }
   ],
   "source": [
    "idx = pd.IndexSlice\n",
    "rawdata.loc[:, idx[:, 'AAPL']].head()"
   ]
  },
  {
   "cell_type": "markdown",
   "metadata": {
    "slideshow": {
     "slide_type": "subslide"
    }
   },
   "source": [
    "* Subsetting `Open`, `High`, `Low`, and `Close` (OHLC) for `AAPL`:"
   ]
  },
  {
   "cell_type": "code",
   "execution_count": 17,
   "metadata": {
    "slideshow": {
     "slide_type": "-"
    }
   },
   "outputs": [
    {
     "data": {
      "text/html": [
       "<div>\n",
       "<style scoped>\n",
       "    .dataframe tbody tr th:only-of-type {\n",
       "        vertical-align: middle;\n",
       "    }\n",
       "\n",
       "    .dataframe tbody tr th {\n",
       "        vertical-align: top;\n",
       "    }\n",
       "\n",
       "    .dataframe thead tr th {\n",
       "        text-align: left;\n",
       "    }\n",
       "\n",
       "    .dataframe thead tr:last-of-type th {\n",
       "        text-align: right;\n",
       "    }\n",
       "</style>\n",
       "<table border=\"1\" class=\"dataframe\">\n",
       "  <thead>\n",
       "    <tr>\n",
       "      <th>Value</th>\n",
       "      <th>Close</th>\n",
       "      <th>High</th>\n",
       "      <th>Low</th>\n",
       "      <th>Open</th>\n",
       "    </tr>\n",
       "    <tr>\n",
       "      <th>Symbol</th>\n",
       "      <th>AAPL</th>\n",
       "      <th>AAPL</th>\n",
       "      <th>AAPL</th>\n",
       "      <th>AAPL</th>\n",
       "    </tr>\n",
       "    <tr>\n",
       "      <th>Date</th>\n",
       "      <th></th>\n",
       "      <th></th>\n",
       "      <th></th>\n",
       "      <th></th>\n",
       "    </tr>\n",
       "  </thead>\n",
       "  <tbody>\n",
       "    <tr>\n",
       "      <th>2000-01-03</th>\n",
       "      <td>0.999442</td>\n",
       "      <td>1.004464</td>\n",
       "      <td>0.907924</td>\n",
       "      <td>0.936384</td>\n",
       "    </tr>\n",
       "    <tr>\n",
       "      <th>2000-01-04</th>\n",
       "      <td>0.915179</td>\n",
       "      <td>0.987723</td>\n",
       "      <td>0.903460</td>\n",
       "      <td>0.966518</td>\n",
       "    </tr>\n",
       "    <tr>\n",
       "      <th>2000-01-05</th>\n",
       "      <td>0.928571</td>\n",
       "      <td>0.987165</td>\n",
       "      <td>0.919643</td>\n",
       "      <td>0.926339</td>\n",
       "    </tr>\n",
       "    <tr>\n",
       "      <th>2000-01-06</th>\n",
       "      <td>0.848214</td>\n",
       "      <td>0.955357</td>\n",
       "      <td>0.848214</td>\n",
       "      <td>0.947545</td>\n",
       "    </tr>\n",
       "    <tr>\n",
       "      <th>2000-01-07</th>\n",
       "      <td>0.888393</td>\n",
       "      <td>0.901786</td>\n",
       "      <td>0.852679</td>\n",
       "      <td>0.861607</td>\n",
       "    </tr>\n",
       "  </tbody>\n",
       "</table>\n",
       "</div>"
      ],
      "text/plain": [
       "Value          Close      High       Low      Open\n",
       "Symbol          AAPL      AAPL      AAPL      AAPL\n",
       "Date                                              \n",
       "2000-01-03  0.999442  1.004464  0.907924  0.936384\n",
       "2000-01-04  0.915179  0.987723  0.903460  0.966518\n",
       "2000-01-05  0.928571  0.987165  0.919643  0.926339\n",
       "2000-01-06  0.848214  0.955357  0.848214  0.947545\n",
       "2000-01-07  0.888393  0.901786  0.852679  0.861607"
      ]
     },
     "execution_count": 17,
     "metadata": {},
     "output_type": "execute_result"
    }
   ],
   "source": [
    "aapl = rawdata.loc[:, idx['Close':'Open', 'AAPL']]\n",
    "aapl.head()"
   ]
  },
  {
   "cell_type": "markdown",
   "metadata": {
    "slideshow": {
     "slide_type": "subslide"
    }
   },
   "source": [
    "* Drop redudant index level, `AAPL`:"
   ]
  },
  {
   "cell_type": "code",
   "execution_count": 18,
   "metadata": {
    "slideshow": {
     "slide_type": "-"
    }
   },
   "outputs": [
    {
     "data": {
      "text/html": [
       "<div>\n",
       "<style scoped>\n",
       "    .dataframe tbody tr th:only-of-type {\n",
       "        vertical-align: middle;\n",
       "    }\n",
       "\n",
       "    .dataframe tbody tr th {\n",
       "        vertical-align: top;\n",
       "    }\n",
       "\n",
       "    .dataframe thead th {\n",
       "        text-align: right;\n",
       "    }\n",
       "</style>\n",
       "<table border=\"1\" class=\"dataframe\">\n",
       "  <thead>\n",
       "    <tr style=\"text-align: right;\">\n",
       "      <th>Value</th>\n",
       "      <th>Close</th>\n",
       "      <th>High</th>\n",
       "      <th>Low</th>\n",
       "      <th>Open</th>\n",
       "    </tr>\n",
       "    <tr>\n",
       "      <th>Date</th>\n",
       "      <th></th>\n",
       "      <th></th>\n",
       "      <th></th>\n",
       "      <th></th>\n",
       "    </tr>\n",
       "  </thead>\n",
       "  <tbody>\n",
       "    <tr>\n",
       "      <th>2022-08-05</th>\n",
       "      <td>165.350006</td>\n",
       "      <td>165.850006</td>\n",
       "      <td>163.000000</td>\n",
       "      <td>163.210007</td>\n",
       "    </tr>\n",
       "    <tr>\n",
       "      <th>2022-08-08</th>\n",
       "      <td>164.869995</td>\n",
       "      <td>167.809998</td>\n",
       "      <td>164.199997</td>\n",
       "      <td>166.369995</td>\n",
       "    </tr>\n",
       "    <tr>\n",
       "      <th>2022-08-09</th>\n",
       "      <td>164.919998</td>\n",
       "      <td>165.820007</td>\n",
       "      <td>163.250000</td>\n",
       "      <td>164.020004</td>\n",
       "    </tr>\n",
       "    <tr>\n",
       "      <th>2022-08-10</th>\n",
       "      <td>169.240005</td>\n",
       "      <td>169.339996</td>\n",
       "      <td>166.899994</td>\n",
       "      <td>167.679993</td>\n",
       "    </tr>\n",
       "    <tr>\n",
       "      <th>2022-08-11</th>\n",
       "      <td>168.490005</td>\n",
       "      <td>170.990005</td>\n",
       "      <td>168.190002</td>\n",
       "      <td>170.059998</td>\n",
       "    </tr>\n",
       "  </tbody>\n",
       "</table>\n",
       "</div>"
      ],
      "text/plain": [
       "Value            Close        High         Low        Open\n",
       "Date                                                      \n",
       "2022-08-05  165.350006  165.850006  163.000000  163.210007\n",
       "2022-08-08  164.869995  167.809998  164.199997  166.369995\n",
       "2022-08-09  164.919998  165.820007  163.250000  164.020004\n",
       "2022-08-10  169.240005  169.339996  166.899994  167.679993\n",
       "2022-08-11  168.490005  170.990005  168.190002  170.059998"
      ]
     },
     "execution_count": 18,
     "metadata": {},
     "output_type": "execute_result"
    }
   ],
   "source": [
    "aapl = rawdata.loc[:, idx['Close':'Open', 'AAPL']].droplevel('Symbol', axis=1).tail(60)\n",
    "aapl.head()"
   ]
  },
  {
   "cell_type": "markdown",
   "metadata": {
    "slideshow": {
     "slide_type": "slide"
    }
   },
   "source": [
    "### Example Figure: Candlestick Chart for 3M"
   ]
  },
  {
   "cell_type": "code",
   "execution_count": 19,
   "metadata": {
    "slideshow": {
     "slide_type": "-"
    }
   },
   "outputs": [
    {
     "data": {
      "text/html": [
       "\n",
       "<style>\n",
       "  #altair-viz-e00f17b9e8bb423cb131a8084f3e25be.vega-embed {\n",
       "    width: 100%;\n",
       "    display: flex;\n",
       "  }\n",
       "\n",
       "  #altair-viz-e00f17b9e8bb423cb131a8084f3e25be.vega-embed details,\n",
       "  #altair-viz-e00f17b9e8bb423cb131a8084f3e25be.vega-embed details summary {\n",
       "    position: relative;\n",
       "  }\n",
       "</style>\n",
       "<div id=\"altair-viz-e00f17b9e8bb423cb131a8084f3e25be\"></div>\n",
       "<script type=\"text/javascript\">\n",
       "  var VEGA_DEBUG = (typeof VEGA_DEBUG == \"undefined\") ? {} : VEGA_DEBUG;\n",
       "  (function(spec, embedOpt){\n",
       "    let outputDiv = document.currentScript.previousElementSibling;\n",
       "    if (outputDiv.id !== \"altair-viz-e00f17b9e8bb423cb131a8084f3e25be\") {\n",
       "      outputDiv = document.getElementById(\"altair-viz-e00f17b9e8bb423cb131a8084f3e25be\");\n",
       "    }\n",
       "    const paths = {\n",
       "      \"vega\": \"https://cdn.jsdelivr.net/npm/vega@5?noext\",\n",
       "      \"vega-lib\": \"https://cdn.jsdelivr.net/npm/vega-lib?noext\",\n",
       "      \"vega-lite\": \"https://cdn.jsdelivr.net/npm/vega-lite@5.14.1?noext\",\n",
       "      \"vega-embed\": \"https://cdn.jsdelivr.net/npm/vega-embed@6?noext\",\n",
       "    };\n",
       "\n",
       "    function maybeLoadScript(lib, version) {\n",
       "      var key = `${lib.replace(\"-\", \"\")}_version`;\n",
       "      return (VEGA_DEBUG[key] == version) ?\n",
       "        Promise.resolve(paths[lib]) :\n",
       "        new Promise(function(resolve, reject) {\n",
       "          var s = document.createElement('script');\n",
       "          document.getElementsByTagName(\"head\")[0].appendChild(s);\n",
       "          s.async = true;\n",
       "          s.onload = () => {\n",
       "            VEGA_DEBUG[key] = version;\n",
       "            return resolve(paths[lib]);\n",
       "          };\n",
       "          s.onerror = () => reject(`Error loading script: ${paths[lib]}`);\n",
       "          s.src = paths[lib];\n",
       "        });\n",
       "    }\n",
       "\n",
       "    function showError(err) {\n",
       "      outputDiv.innerHTML = `<div class=\"error\" style=\"color:red;\">${err}</div>`;\n",
       "      throw err;\n",
       "    }\n",
       "\n",
       "    function displayChart(vegaEmbed) {\n",
       "      vegaEmbed(outputDiv, spec, embedOpt)\n",
       "        .catch(err => showError(`Javascript Error: ${err.message}<br>This usually means there's a typo in your chart specification. See the javascript console for the full traceback.`));\n",
       "    }\n",
       "\n",
       "    if(typeof define === \"function\" && define.amd) {\n",
       "      requirejs.config({paths});\n",
       "      require([\"vega-embed\"], displayChart, err => showError(`Error loading script: ${err.message}`));\n",
       "    } else {\n",
       "      maybeLoadScript(\"vega\", \"5\")\n",
       "        .then(() => maybeLoadScript(\"vega-lite\", \"5.14.1\"))\n",
       "        .then(() => maybeLoadScript(\"vega-embed\", \"6\"))\n",
       "        .catch(showError)\n",
       "        .then(() => displayChart(vegaEmbed));\n",
       "    }\n",
       "  })({\"config\": {\"view\": {\"continuousWidth\": 300, \"continuousHeight\": 300}}, \"layer\": [{\"mark\": {\"type\": \"rule\"}, \"encoding\": {\"color\": {\"condition\": {\"test\": \"datum.Open <= datum.Close\", \"value\": \"#06982d\"}, \"value\": \"#ae1325\"}, \"x\": {\"axis\": {\"format\": \"%m-%d-%Y\", \"labelAngle\": -90}, \"field\": \"Date\", \"type\": \"temporal\"}, \"y\": {\"field\": \"Low\", \"scale\": {\"zero\": false}, \"title\": \"Price\", \"type\": \"quantitative\"}, \"y2\": {\"field\": \"High\"}}}, {\"mark\": {\"type\": \"bar\"}, \"encoding\": {\"color\": {\"condition\": {\"test\": \"datum.Open <= datum.Close\", \"value\": \"#06982d\"}, \"value\": \"#ae1325\"}, \"x\": {\"axis\": {\"format\": \"%m-%d-%Y\", \"labelAngle\": -90}, \"field\": \"Date\", \"type\": \"temporal\"}, \"y\": {\"field\": \"Open\", \"type\": \"quantitative\"}, \"y2\": {\"field\": \"Close\"}}}], \"data\": {\"name\": \"data-8c869b72378d93998bd5a2a7d2ca0c04\"}, \"$schema\": \"https://vega.github.io/schema/vega-lite/v5.14.1.json\", \"datasets\": {\"data-8c869b72378d93998bd5a2a7d2ca0c04\": [{\"Date\": \"2022-08-05T00:00:00\", \"Close\": 147.41000366210938, \"High\": 148.49000549316406, \"Low\": 146.38999938964844, \"Open\": 147.00999450683594}, {\"Date\": \"2022-08-08T00:00:00\", \"Close\": 148.47999572753906, \"High\": 150.14999389648438, \"Low\": 147.5800018310547, \"Open\": 148.02999877929688}, {\"Date\": \"2022-08-09T00:00:00\", \"Close\": 147.83999633789062, \"High\": 149.0500030517578, \"Low\": 147.19000244140625, \"Open\": 148.30999755859375}, {\"Date\": \"2022-08-10T00:00:00\", \"Close\": 149.3800048828125, \"High\": 150.61000061035156, \"Low\": 148.83999633789062, \"Open\": 149.8800048828125}, {\"Date\": \"2022-08-11T00:00:00\", \"Close\": 149.66000366210938, \"High\": 151.44000244140625, \"Low\": 149.3699951171875, \"Open\": 150.0}, {\"Date\": \"2022-08-12T00:00:00\", \"Close\": 152.24000549316406, \"High\": 152.3000030517578, \"Low\": 150.0, \"Open\": 150.3699951171875}, {\"Date\": \"2022-08-15T00:00:00\", \"Close\": 151.42999267578125, \"High\": 152.10000610351562, \"Low\": 150.47999572753906, \"Open\": 151.38999938964844}, {\"Date\": \"2022-08-16T00:00:00\", \"Close\": 150.25999450683594, \"High\": 151.30999755859375, \"Low\": 148.8800048828125, \"Open\": 150.47000122070312}, {\"Date\": \"2022-08-17T00:00:00\", \"Close\": 147.42999267578125, \"High\": 148.7899932861328, \"Low\": 147.07000732421875, \"Open\": 148.44000244140625}, {\"Date\": \"2022-08-18T00:00:00\", \"Close\": 146.67999267578125, \"High\": 147.44000244140625, \"Low\": 145.3800048828125, \"Open\": 147.39999389648438}, {\"Date\": \"2022-08-19T00:00:00\", \"Close\": 145.1999969482422, \"High\": 145.64999389648438, \"Low\": 143.2100067138672, \"Open\": 144.61000061035156}, {\"Date\": \"2022-08-22T00:00:00\", \"Close\": 141.58999633789062, \"High\": 143.67999267578125, \"Low\": 141.02999877929688, \"Open\": 143.27999877929688}, {\"Date\": \"2022-08-23T00:00:00\", \"Close\": 141.75, \"High\": 142.4199981689453, \"Low\": 140.7100067138672, \"Open\": 141.0}, {\"Date\": \"2022-08-24T00:00:00\", \"Close\": 141.0399932861328, \"High\": 141.58999633789062, \"Low\": 139.7100067138672, \"Open\": 140.91000366210938}, {\"Date\": \"2022-08-25T00:00:00\", \"Close\": 142.75999450683594, \"High\": 143.27000427246094, \"Low\": 140.63999938964844, \"Open\": 141.07000732421875}, {\"Date\": \"2022-08-26T00:00:00\", \"Close\": 129.13999938964844, \"High\": 144.00999450683594, \"Low\": 128.67999267578125, \"Open\": 143.63999938964844}, {\"Date\": \"2022-08-29T00:00:00\", \"Close\": 126.44000244140625, \"High\": 128.7899932861328, \"Low\": 125.2699966430664, \"Open\": 128.7899932861328}, {\"Date\": \"2022-08-30T00:00:00\", \"Close\": 124.86000061035156, \"High\": 127.73999786376953, \"Low\": 123.02999877929688, \"Open\": 126.88999938964844}, {\"Date\": \"2022-08-31T00:00:00\", \"Close\": 124.3499984741211, \"High\": 126.45999908447266, \"Low\": 123.61000061035156, \"Open\": 124.8499984741211}, {\"Date\": \"2022-09-01T00:00:00\", \"Close\": 125.62999725341797, \"High\": 126.38999938964844, \"Low\": 123.66999816894531, \"Open\": 124.30000305175781}, {\"Date\": \"2022-09-02T00:00:00\", \"Close\": 121.6500015258789, \"High\": 126.37000274658203, \"Low\": 121.1500015258789, \"Open\": 126.02999877929688}, {\"Date\": \"2022-09-06T00:00:00\", \"Close\": 116.5999984741211, \"High\": 121.5, \"Low\": 115.9800033569336, \"Open\": 121.36000061035156}, {\"Date\": \"2022-09-07T00:00:00\", \"Close\": 120.55000305175781, \"High\": 121.25, \"Low\": 116.0199966430664, \"Open\": 116.63999938964844}, {\"Date\": \"2022-09-08T00:00:00\", \"Close\": 119.2699966430664, \"High\": 119.79000091552734, \"Low\": 117.16000366210938, \"Open\": 118.38999938964844}, {\"Date\": \"2022-09-09T00:00:00\", \"Close\": 123.0999984741211, \"High\": 123.29000091552734, \"Low\": 119.87000274658203, \"Open\": 121.2699966430664}, {\"Date\": \"2022-09-12T00:00:00\", \"Close\": 124.25, \"High\": 126.5199966430664, \"Low\": 123.97000122070312, \"Open\": 124.31999969482422}, {\"Date\": \"2022-09-13T00:00:00\", \"Close\": 120.47000122070312, \"High\": 124.5999984741211, \"Low\": 120.2300033569336, \"Open\": 122.11000061035156}, {\"Date\": \"2022-09-14T00:00:00\", \"Close\": 117.52999877929688, \"High\": 120.58999633789062, \"Low\": 116.30999755859375, \"Open\": 120.58999633789062}, {\"Date\": \"2022-09-15T00:00:00\", \"Close\": 116.41999816894531, \"High\": 118.73999786376953, \"Low\": 116.06999969482422, \"Open\": 117.81999969482422}, {\"Date\": \"2022-09-16T00:00:00\", \"Close\": 116.61000061035156, \"High\": 117.30999755859375, \"Low\": 114.11000061035156, \"Open\": 114.69999694824219}, {\"Date\": \"2022-09-19T00:00:00\", \"Close\": 116.63999938964844, \"High\": 116.91000366210938, \"Low\": 115.27999877929688, \"Open\": 116.01000213623047}, {\"Date\": \"2022-09-20T00:00:00\", \"Close\": 116.5199966430664, \"High\": 117.19999694824219, \"Low\": 114.75, \"Open\": 115.30000305175781}, {\"Date\": \"2022-09-21T00:00:00\", \"Close\": 114.80999755859375, \"High\": 118.02999877929688, \"Low\": 114.80000305175781, \"Open\": 116.83000183105469}, {\"Date\": \"2022-09-22T00:00:00\", \"Close\": 114.13999938964844, \"High\": 115.05000305175781, \"Low\": 113.43000030517578, \"Open\": 114.16000366210938}, {\"Date\": \"2022-09-23T00:00:00\", \"Close\": 112.98999786376953, \"High\": 114.16999816894531, \"Low\": 111.62000274658203, \"Open\": 113.7300033569336}, {\"Date\": \"2022-09-26T00:00:00\", \"Close\": 113.0, \"High\": 113.80999755859375, \"Low\": 112.2300033569336, \"Open\": 112.76000213623047}, {\"Date\": \"2022-09-27T00:00:00\", \"Close\": 112.41000366210938, \"High\": 114.12999725341797, \"Low\": 111.41999816894531, \"Open\": 114.12999725341797}, {\"Date\": \"2022-09-28T00:00:00\", \"Close\": 114.27999877929688, \"High\": 114.70999908447266, \"Low\": 113.05999755859375, \"Open\": 113.51000213623047}, {\"Date\": \"2022-09-29T00:00:00\", \"Close\": 112.30000305175781, \"High\": 113.4000015258789, \"Low\": 111.5999984741211, \"Open\": 112.95999908447266}, {\"Date\": \"2022-09-30T00:00:00\", \"Close\": 110.5, \"High\": 113.1500015258789, \"Low\": 110.38999938964844, \"Open\": 112.0}, {\"Date\": \"2022-10-03T00:00:00\", \"Close\": 113.22000122070312, \"High\": 114.0199966430664, \"Low\": 110.91000366210938, \"Open\": 111.69000244140625}, {\"Date\": \"2022-10-04T00:00:00\", \"Close\": 115.62000274658203, \"High\": 115.9800033569336, \"Low\": 114.69000244140625, \"Open\": 114.73999786376953}, {\"Date\": \"2022-10-05T00:00:00\", \"Close\": 115.16999816894531, \"High\": 116.0999984741211, \"Low\": 113.41999816894531, \"Open\": 114.33999633789062}, {\"Date\": \"2022-10-06T00:00:00\", \"Close\": 111.12000274658203, \"High\": 114.94000244140625, \"Low\": 110.20999908447266, \"Open\": 114.3499984741211}, {\"Date\": \"2022-10-07T00:00:00\", \"Close\": 107.5199966430664, \"High\": 110.76000213623047, \"Low\": 107.08999633789062, \"Open\": 110.37000274658203}, {\"Date\": \"2022-10-10T00:00:00\", \"Close\": 108.45999908447266, \"High\": 109.12000274658203, \"Low\": 107.19000244140625, \"Open\": 108.52999877929688}, {\"Date\": \"2022-10-11T00:00:00\", \"Close\": 108.83999633789062, \"High\": 110.44999694824219, \"Low\": 107.94999694824219, \"Open\": 108.5}, {\"Date\": \"2022-10-12T00:00:00\", \"Close\": 108.94999694824219, \"High\": 109.69999694824219, \"Low\": 108.25, \"Open\": 108.56999969482422}, {\"Date\": \"2022-10-13T00:00:00\", \"Close\": 114.26000213623047, \"High\": 114.83000183105469, \"Low\": 107.06999969482422, \"Open\": 107.5}, {\"Date\": \"2022-10-14T00:00:00\", \"Close\": 113.62999725341797, \"High\": 115.16000366210938, \"Low\": 112.8499984741211, \"Open\": 114.26000213623047}, {\"Date\": \"2022-10-17T00:00:00\", \"Close\": 113.86000061035156, \"High\": 115.72000122070312, \"Low\": 113.29000091552734, \"Open\": 115.30999755859375}, {\"Date\": \"2022-10-18T00:00:00\", \"Close\": 115.94999694824219, \"High\": 116.4000015258789, \"Low\": 114.44999694824219, \"Open\": 115.73999786376953}, {\"Date\": \"2022-10-19T00:00:00\", \"Close\": 114.19999694824219, \"High\": 115.68000030517578, \"Low\": 113.23999786376953, \"Open\": 115.0999984741211}, {\"Date\": \"2022-10-20T00:00:00\", \"Close\": 113.11000061035156, \"High\": 115.6500015258789, \"Low\": 112.88999938964844, \"Open\": 113.9800033569336}, {\"Date\": \"2022-10-21T00:00:00\", \"Close\": 116.80999755859375, \"High\": 116.94000244140625, \"Low\": 113.05000305175781, \"Open\": 113.1500015258789}, {\"Date\": \"2022-10-24T00:00:00\", \"Close\": 118.37999725341797, \"High\": 119.13999938964844, \"Low\": 117.19000244140625, \"Open\": 117.52999877929688}, {\"Date\": \"2022-10-25T00:00:00\", \"Close\": 118.5, \"High\": 118.5999984741211, \"Low\": 113.1500015258789, \"Open\": 113.51000213623047}, {\"Date\": \"2022-10-26T00:00:00\", \"Close\": 122.69999694824219, \"High\": 123.29000091552734, \"Low\": 119.58999633789062, \"Open\": 119.58999633789062}, {\"Date\": \"2022-10-27T00:00:00\", \"Close\": 122.80000305175781, \"High\": 124.44999694824219, \"Low\": 122.02999877929688, \"Open\": 123.48999786376953}, {\"Date\": \"2022-10-28T00:00:00\", \"Close\": 126.5999984741211, \"High\": 126.66999816894531, \"Low\": 122.51000213623047, \"Open\": 122.9800033569336}]}}, {\"mode\": \"vega-lite\"});\n",
       "</script>"
      ],
      "text/plain": [
       "alt.LayerChart(...)"
      ]
     },
     "execution_count": 19,
     "metadata": {},
     "output_type": "execute_result"
    }
   ],
   "source": [
    "mmm = rawdata.loc[:, idx['Close':'Open', 'MMM']].droplevel('Symbol', axis=1).tail(60)\n",
    "\n",
    "import altair as alt\n",
    "\n",
    "open_close_color = alt.condition(\n",
    "    \"datum.Open <= datum.Close\",\n",
    "    alt.value(\"#06982d\"), # green for increase\n",
    "    alt.value(\"#ae1325\"), # red for decrease\n",
    ") \n",
    "\n",
    "base = alt.Chart(mmm.reset_index()).encode(\n",
    "    alt.X('Date:T',\n",
    "          axis=alt.Axis(\n",
    "              format='%m-%d-%Y',\n",
    "              labelAngle=-90)\n",
    "    ),\n",
    "    color=open_close_color\n",
    ")\n",
    "\n",
    "rule = base.mark_rule().encode(\n",
    "    alt.Y(\n",
    "        'Low:Q',\n",
    "        title='Price',\n",
    "        scale=alt.Scale(zero=False),\n",
    "    ),\n",
    "    alt.Y2('High:Q')\n",
    ")\n",
    "\n",
    "bar = base.mark_bar().encode(\n",
    "    alt.Y('Open:Q'),\n",
    "    alt.Y2('Close:Q')\n",
    ")\n",
    "\n",
    "rule + bar"
   ]
  },
  {
   "cell_type": "markdown",
   "metadata": {
    "slideshow": {
     "slide_type": "subslide"
    }
   },
   "source": [
    "### Example Figure: Adjusted close prices"
   ]
  },
  {
   "cell_type": "code",
   "execution_count": 29,
   "metadata": {
    "slideshow": {
     "slide_type": "-"
    }
   },
   "outputs": [
    {
     "data": {
      "text/html": [
       "<div>\n",
       "<style scoped>\n",
       "    .dataframe tbody tr th:only-of-type {\n",
       "        vertical-align: middle;\n",
       "    }\n",
       "\n",
       "    .dataframe tbody tr th {\n",
       "        vertical-align: top;\n",
       "    }\n",
       "\n",
       "    .dataframe thead tr th {\n",
       "        text-align: left;\n",
       "    }\n",
       "\n",
       "    .dataframe thead tr:last-of-type th {\n",
       "        text-align: right;\n",
       "    }\n",
       "</style>\n",
       "<table border=\"1\" class=\"dataframe\">\n",
       "  <thead>\n",
       "    <tr>\n",
       "      <th>Value</th>\n",
       "      <th colspan=\"5\" halign=\"left\">Adj Close</th>\n",
       "    </tr>\n",
       "    <tr>\n",
       "      <th>Symbol</th>\n",
       "      <th>MMM</th>\n",
       "      <th>MRK</th>\n",
       "      <th>PFE</th>\n",
       "      <th>PG</th>\n",
       "      <th>JNJ</th>\n",
       "    </tr>\n",
       "    <tr>\n",
       "      <th>Date</th>\n",
       "      <th></th>\n",
       "      <th></th>\n",
       "      <th></th>\n",
       "      <th></th>\n",
       "      <th></th>\n",
       "    </tr>\n",
       "  </thead>\n",
       "  <tbody>\n",
       "    <tr>\n",
       "      <th>2022-08-05</th>\n",
       "      <td>138.142029</td>\n",
       "      <td>84.402351</td>\n",
       "      <td>47.361053</td>\n",
       "      <td>140.142471</td>\n",
       "      <td>165.216812</td>\n",
       "    </tr>\n",
       "    <tr>\n",
       "      <th>2022-08-08</th>\n",
       "      <td>139.144730</td>\n",
       "      <td>85.445175</td>\n",
       "      <td>47.649429</td>\n",
       "      <td>140.675079</td>\n",
       "      <td>164.338150</td>\n",
       "    </tr>\n",
       "    <tr>\n",
       "      <th>2022-08-09</th>\n",
       "      <td>138.544983</td>\n",
       "      <td>86.439735</td>\n",
       "      <td>47.851292</td>\n",
       "      <td>140.345810</td>\n",
       "      <td>164.318832</td>\n",
       "    </tr>\n",
       "    <tr>\n",
       "      <th>2022-08-10</th>\n",
       "      <td>139.988159</td>\n",
       "      <td>86.121094</td>\n",
       "      <td>48.014702</td>\n",
       "      <td>141.672501</td>\n",
       "      <td>164.791977</td>\n",
       "    </tr>\n",
       "    <tr>\n",
       "      <th>2022-08-11</th>\n",
       "      <td>140.250565</td>\n",
       "      <td>85.870041</td>\n",
       "      <td>46.419022</td>\n",
       "      <td>140.665390</td>\n",
       "      <td>161.383545</td>\n",
       "    </tr>\n",
       "  </tbody>\n",
       "</table>\n",
       "</div>"
      ],
      "text/plain": [
       "Value        Adj Close                                              \n",
       "Symbol             MMM        MRK        PFE          PG         JNJ\n",
       "Date                                                                \n",
       "2022-08-05  138.142029  84.402351  47.361053  140.142471  165.216812\n",
       "2022-08-08  139.144730  85.445175  47.649429  140.675079  164.338150\n",
       "2022-08-09  138.544983  86.439735  47.851292  140.345810  164.318832\n",
       "2022-08-10  139.988159  86.121094  48.014702  141.672501  164.791977\n",
       "2022-08-11  140.250565  85.870041  46.419022  140.665390  161.383545"
      ]
     },
     "execution_count": 29,
     "metadata": {},
     "output_type": "execute_result"
    }
   ],
   "source": [
    "first10 = rawdata.loc[:, idx['Adj Close', ['MMM', 'MRK', 'PFE', 'PG', 'JNJ']]].tail(60)\n",
    "first10.head()"
   ]
  },
  {
   "cell_type": "markdown",
   "metadata": {
    "slideshow": {
     "slide_type": "subslide"
    }
   },
   "source": [
    "* Stacking transforms data into long-format:  \n",
    "    _Note: unstack does the opposite_"
   ]
  },
  {
   "cell_type": "code",
   "execution_count": 30,
   "metadata": {
    "slideshow": {
     "slide_type": "-"
    }
   },
   "outputs": [
    {
     "data": {
      "text/html": [
       "<div>\n",
       "<style scoped>\n",
       "    .dataframe tbody tr th:only-of-type {\n",
       "        vertical-align: middle;\n",
       "    }\n",
       "\n",
       "    .dataframe tbody tr th {\n",
       "        vertical-align: top;\n",
       "    }\n",
       "\n",
       "    .dataframe thead th {\n",
       "        text-align: right;\n",
       "    }\n",
       "</style>\n",
       "<table border=\"1\" class=\"dataframe\">\n",
       "  <thead>\n",
       "    <tr style=\"text-align: right;\">\n",
       "      <th></th>\n",
       "      <th>Value</th>\n",
       "      <th>Adj Close</th>\n",
       "    </tr>\n",
       "    <tr>\n",
       "      <th>Date</th>\n",
       "      <th>Symbol</th>\n",
       "      <th></th>\n",
       "    </tr>\n",
       "  </thead>\n",
       "  <tbody>\n",
       "    <tr>\n",
       "      <th rowspan=\"5\" valign=\"top\">2022-08-05</th>\n",
       "      <th>JNJ</th>\n",
       "      <td>165.216812</td>\n",
       "    </tr>\n",
       "    <tr>\n",
       "      <th>MMM</th>\n",
       "      <td>138.142029</td>\n",
       "    </tr>\n",
       "    <tr>\n",
       "      <th>MRK</th>\n",
       "      <td>84.402351</td>\n",
       "    </tr>\n",
       "    <tr>\n",
       "      <th>PFE</th>\n",
       "      <td>47.361053</td>\n",
       "    </tr>\n",
       "    <tr>\n",
       "      <th>PG</th>\n",
       "      <td>140.142471</td>\n",
       "    </tr>\n",
       "    <tr>\n",
       "      <th>...</th>\n",
       "      <th>...</th>\n",
       "      <td>...</td>\n",
       "    </tr>\n",
       "    <tr>\n",
       "      <th rowspan=\"5\" valign=\"top\">2022-10-28</th>\n",
       "      <th>JNJ</th>\n",
       "      <td>169.981796</td>\n",
       "    </tr>\n",
       "    <tr>\n",
       "      <th>MMM</th>\n",
       "      <td>119.857933</td>\n",
       "    </tr>\n",
       "    <tr>\n",
       "      <th>MRK</th>\n",
       "      <td>98.087051</td>\n",
       "    </tr>\n",
       "    <tr>\n",
       "      <th>PFE</th>\n",
       "      <td>45.592346</td>\n",
       "    </tr>\n",
       "    <tr>\n",
       "      <th>PG</th>\n",
       "      <td>131.872238</td>\n",
       "    </tr>\n",
       "  </tbody>\n",
       "</table>\n",
       "<p>300 rows × 1 columns</p>\n",
       "</div>"
      ],
      "text/plain": [
       "Value               Adj Close\n",
       "Date       Symbol            \n",
       "2022-08-05 JNJ     165.216812\n",
       "           MMM     138.142029\n",
       "           MRK      84.402351\n",
       "           PFE      47.361053\n",
       "           PG      140.142471\n",
       "...                       ...\n",
       "2022-10-28 JNJ     169.981796\n",
       "           MMM     119.857933\n",
       "           MRK      98.087051\n",
       "           PFE      45.592346\n",
       "           PG      131.872238\n",
       "\n",
       "[300 rows x 1 columns]"
      ]
     },
     "execution_count": 30,
     "metadata": {},
     "output_type": "execute_result"
    }
   ],
   "source": [
    "healthcare = first10.stack('Symbol')\n",
    "healthcare"
   ]
  },
  {
   "cell_type": "code",
   "execution_count": 31,
   "metadata": {
    "slideshow": {
     "slide_type": "subslide"
    }
   },
   "outputs": [
    {
     "name": "stderr",
     "output_type": "stream",
     "text": [
      "/opt/conda/lib/python3.11/site-packages/altair/utils/core.py:410: FutureWarning: the convert_dtype parameter is deprecated and will be removed in a future version.  Do ``ser.astype(object).apply()`` instead if you want ``convert_dtype=False``.\n",
      "  col = df[col_name].apply(to_list_if_array, convert_dtype=False)\n"
     ]
    },
    {
     "data": {
      "text/html": [
       "\n",
       "<style>\n",
       "  #altair-viz-af00e9d2980b41879ae37850d60823ae.vega-embed {\n",
       "    width: 100%;\n",
       "    display: flex;\n",
       "  }\n",
       "\n",
       "  #altair-viz-af00e9d2980b41879ae37850d60823ae.vega-embed details,\n",
       "  #altair-viz-af00e9d2980b41879ae37850d60823ae.vega-embed details summary {\n",
       "    position: relative;\n",
       "  }\n",
       "</style>\n",
       "<div id=\"altair-viz-af00e9d2980b41879ae37850d60823ae\"></div>\n",
       "<script type=\"text/javascript\">\n",
       "  var VEGA_DEBUG = (typeof VEGA_DEBUG == \"undefined\") ? {} : VEGA_DEBUG;\n",
       "  (function(spec, embedOpt){\n",
       "    let outputDiv = document.currentScript.previousElementSibling;\n",
       "    if (outputDiv.id !== \"altair-viz-af00e9d2980b41879ae37850d60823ae\") {\n",
       "      outputDiv = document.getElementById(\"altair-viz-af00e9d2980b41879ae37850d60823ae\");\n",
       "    }\n",
       "    const paths = {\n",
       "      \"vega\": \"https://cdn.jsdelivr.net/npm/vega@5?noext\",\n",
       "      \"vega-lib\": \"https://cdn.jsdelivr.net/npm/vega-lib?noext\",\n",
       "      \"vega-lite\": \"https://cdn.jsdelivr.net/npm/vega-lite@5.14.1?noext\",\n",
       "      \"vega-embed\": \"https://cdn.jsdelivr.net/npm/vega-embed@6?noext\",\n",
       "    };\n",
       "\n",
       "    function maybeLoadScript(lib, version) {\n",
       "      var key = `${lib.replace(\"-\", \"\")}_version`;\n",
       "      return (VEGA_DEBUG[key] == version) ?\n",
       "        Promise.resolve(paths[lib]) :\n",
       "        new Promise(function(resolve, reject) {\n",
       "          var s = document.createElement('script');\n",
       "          document.getElementsByTagName(\"head\")[0].appendChild(s);\n",
       "          s.async = true;\n",
       "          s.onload = () => {\n",
       "            VEGA_DEBUG[key] = version;\n",
       "            return resolve(paths[lib]);\n",
       "          };\n",
       "          s.onerror = () => reject(`Error loading script: ${paths[lib]}`);\n",
       "          s.src = paths[lib];\n",
       "        });\n",
       "    }\n",
       "\n",
       "    function showError(err) {\n",
       "      outputDiv.innerHTML = `<div class=\"error\" style=\"color:red;\">${err}</div>`;\n",
       "      throw err;\n",
       "    }\n",
       "\n",
       "    function displayChart(vegaEmbed) {\n",
       "      vegaEmbed(outputDiv, spec, embedOpt)\n",
       "        .catch(err => showError(`Javascript Error: ${err.message}<br>This usually means there's a typo in your chart specification. See the javascript console for the full traceback.`));\n",
       "    }\n",
       "\n",
       "    if(typeof define === \"function\" && define.amd) {\n",
       "      requirejs.config({paths});\n",
       "      require([\"vega-embed\"], displayChart, err => showError(`Error loading script: ${err.message}`));\n",
       "    } else {\n",
       "      maybeLoadScript(\"vega\", \"5\")\n",
       "        .then(() => maybeLoadScript(\"vega-lite\", \"5.14.1\"))\n",
       "        .then(() => maybeLoadScript(\"vega-embed\", \"6\"))\n",
       "        .catch(showError)\n",
       "        .then(() => displayChart(vegaEmbed));\n",
       "    }\n",
       "  })({\"config\": {\"view\": {\"continuousWidth\": 300, \"continuousHeight\": 300}}, \"data\": {\"name\": \"data-0c07bce908096cbb4f472ff5c44969a9\"}, \"mark\": {\"type\": \"line\"}, \"encoding\": {\"color\": {\"field\": \"Symbol\", \"type\": \"nominal\"}, \"x\": {\"axis\": {\"format\": \"%m-%d-%Y\", \"labelAngle\": -90}, \"field\": \"Date\", \"type\": \"temporal\"}, \"y\": {\"field\": \"Adj Close\", \"type\": \"quantitative\"}}, \"$schema\": \"https://vega.github.io/schema/vega-lite/v5.14.1.json\", \"datasets\": {\"data-0c07bce908096cbb4f472ff5c44969a9\": [{\"Date\": \"2022-08-05T00:00:00\", \"Symbol\": \"JNJ\", \"Adj Close\": 165.21681213378906}, {\"Date\": \"2022-08-05T00:00:00\", \"Symbol\": \"MMM\", \"Adj Close\": 138.14202880859375}, {\"Date\": \"2022-08-05T00:00:00\", \"Symbol\": \"MRK\", \"Adj Close\": 84.40235137939453}, {\"Date\": \"2022-08-05T00:00:00\", \"Symbol\": \"PFE\", \"Adj Close\": 47.361053466796875}, {\"Date\": \"2022-08-05T00:00:00\", \"Symbol\": \"PG\", \"Adj Close\": 140.14247131347656}, {\"Date\": \"2022-08-08T00:00:00\", \"Symbol\": \"JNJ\", \"Adj Close\": 164.33815002441406}, {\"Date\": \"2022-08-08T00:00:00\", \"Symbol\": \"MMM\", \"Adj Close\": 139.1447296142578}, {\"Date\": \"2022-08-08T00:00:00\", \"Symbol\": \"MRK\", \"Adj Close\": 85.44517517089844}, {\"Date\": \"2022-08-08T00:00:00\", \"Symbol\": \"PFE\", \"Adj Close\": 47.64942932128906}, {\"Date\": \"2022-08-08T00:00:00\", \"Symbol\": \"PG\", \"Adj Close\": 140.67507934570312}, {\"Date\": \"2022-08-09T00:00:00\", \"Symbol\": \"JNJ\", \"Adj Close\": 164.31883239746094}, {\"Date\": \"2022-08-09T00:00:00\", \"Symbol\": \"MMM\", \"Adj Close\": 138.54498291015625}, {\"Date\": \"2022-08-09T00:00:00\", \"Symbol\": \"MRK\", \"Adj Close\": 86.43973541259766}, {\"Date\": \"2022-08-09T00:00:00\", \"Symbol\": \"PFE\", \"Adj Close\": 47.85129165649414}, {\"Date\": \"2022-08-09T00:00:00\", \"Symbol\": \"PG\", \"Adj Close\": 140.34580993652344}, {\"Date\": \"2022-08-10T00:00:00\", \"Symbol\": \"JNJ\", \"Adj Close\": 164.79197692871094}, {\"Date\": \"2022-08-10T00:00:00\", \"Symbol\": \"MMM\", \"Adj Close\": 139.9881591796875}, {\"Date\": \"2022-08-10T00:00:00\", \"Symbol\": \"MRK\", \"Adj Close\": 86.12109375}, {\"Date\": \"2022-08-10T00:00:00\", \"Symbol\": \"PFE\", \"Adj Close\": 48.01470184326172}, {\"Date\": \"2022-08-10T00:00:00\", \"Symbol\": \"PG\", \"Adj Close\": 141.67250061035156}, {\"Date\": \"2022-08-11T00:00:00\", \"Symbol\": \"JNJ\", \"Adj Close\": 161.383544921875}, {\"Date\": \"2022-08-11T00:00:00\", \"Symbol\": \"MMM\", \"Adj Close\": 140.2505645751953}, {\"Date\": \"2022-08-11T00:00:00\", \"Symbol\": \"MRK\", \"Adj Close\": 85.87004089355469}, {\"Date\": \"2022-08-11T00:00:00\", \"Symbol\": \"PFE\", \"Adj Close\": 46.41902160644531}, {\"Date\": \"2022-08-11T00:00:00\", \"Symbol\": \"PG\", \"Adj Close\": 140.66539001464844}, {\"Date\": \"2022-08-12T00:00:00\", \"Symbol\": \"JNJ\", \"Adj Close\": 159.60691833496094}, {\"Date\": \"2022-08-12T00:00:00\", \"Symbol\": \"MMM\", \"Adj Close\": 142.66835021972656}, {\"Date\": \"2022-08-12T00:00:00\", \"Symbol\": \"MRK\", \"Adj Close\": 87.88811492919922}, {\"Date\": \"2022-08-12T00:00:00\", \"Symbol\": \"PFE\", \"Adj Close\": 48.16850662231445}, {\"Date\": \"2022-08-12T00:00:00\", \"Symbol\": \"PG\", \"Adj Close\": 142.03077697753906}, {\"Date\": \"2022-08-15T00:00:00\", \"Symbol\": \"JNJ\", \"Adj Close\": 160.3697052001953}, {\"Date\": \"2022-08-15T00:00:00\", \"Symbol\": \"MMM\", \"Adj Close\": 141.90927124023438}, {\"Date\": \"2022-08-15T00:00:00\", \"Symbol\": \"MRK\", \"Adj Close\": 87.48257446289062}, {\"Date\": \"2022-08-15T00:00:00\", \"Symbol\": \"PFE\", \"Adj Close\": 47.822452545166016}, {\"Date\": \"2022-08-15T00:00:00\", \"Symbol\": \"PG\", \"Adj Close\": 143.8610076904297}, {\"Date\": \"2022-08-16T00:00:00\", \"Symbol\": \"JNJ\", \"Adj Close\": 161.79873657226562}, {\"Date\": \"2022-08-16T00:00:00\", \"Symbol\": \"MMM\", \"Adj Close\": 140.81283569335938}, {\"Date\": \"2022-08-16T00:00:00\", \"Symbol\": \"MRK\", \"Adj Close\": 87.47291564941406}, {\"Date\": \"2022-08-16T00:00:00\", \"Symbol\": \"PFE\", \"Adj Close\": 47.92819595336914}, {\"Date\": \"2022-08-16T00:00:00\", \"Symbol\": \"PG\", \"Adj Close\": 145.1876678466797}, {\"Date\": \"2022-08-17T00:00:00\", \"Symbol\": \"JNJ\", \"Adj Close\": 161.8083953857422}, {\"Date\": \"2022-08-17T00:00:00\", \"Symbol\": \"MMM\", \"Adj Close\": 138.1607666015625}, {\"Date\": \"2022-08-17T00:00:00\", \"Symbol\": \"MRK\", \"Adj Close\": 87.90742492675781}, {\"Date\": \"2022-08-17T00:00:00\", \"Symbol\": \"PFE\", \"Adj Close\": 47.361053466796875}, {\"Date\": \"2022-08-17T00:00:00\", \"Symbol\": \"PG\", \"Adj Close\": 144.51950073242188}, {\"Date\": \"2022-08-18T00:00:00\", \"Symbol\": \"JNJ\", \"Adj Close\": 161.0262908935547}, {\"Date\": \"2022-08-18T00:00:00\", \"Symbol\": \"MMM\", \"Adj Close\": 137.45790100097656}, {\"Date\": \"2022-08-18T00:00:00\", \"Symbol\": \"MRK\", \"Adj Close\": 88.25505065917969}, {\"Date\": \"2022-08-18T00:00:00\", \"Symbol\": \"PFE\", \"Adj Close\": 46.697784423828125}, {\"Date\": \"2022-08-18T00:00:00\", \"Symbol\": \"PG\", \"Adj Close\": 145.03273010253906}, {\"Date\": \"2022-08-19T00:00:00\", \"Symbol\": \"JNJ\", \"Adj Close\": 163.4788055419922}, {\"Date\": \"2022-08-19T00:00:00\", \"Symbol\": \"MMM\", \"Adj Close\": 137.46737670898438}, {\"Date\": \"2022-08-19T00:00:00\", \"Symbol\": \"MRK\", \"Adj Close\": 88.91165161132812}, {\"Date\": \"2022-08-19T00:00:00\", \"Symbol\": \"PFE\", \"Adj Close\": 47.245704650878906}, {\"Date\": \"2022-08-19T00:00:00\", \"Symbol\": \"PG\", \"Adj Close\": 144.9939727783203}, {\"Date\": \"2022-08-22T00:00:00\", \"Symbol\": \"JNJ\", \"Adj Close\": 162.90530395507812}, {\"Date\": \"2022-08-22T00:00:00\", \"Symbol\": \"MMM\", \"Adj Close\": 134.0496368408203}, {\"Date\": \"2022-08-22T00:00:00\", \"Symbol\": \"MRK\", \"Adj Close\": 88.02330017089844}, {\"Date\": \"2022-08-22T00:00:00\", \"Symbol\": \"PFE\", \"Adj Close\": 47.00538635253906}, {\"Date\": \"2022-08-22T00:00:00\", \"Symbol\": \"PG\", \"Adj Close\": 144.60662841796875}, {\"Date\": \"2022-08-23T00:00:00\", \"Symbol\": \"JNJ\", \"Adj Close\": 161.48611450195312}, {\"Date\": \"2022-08-23T00:00:00\", \"Symbol\": \"MMM\", \"Adj Close\": 134.2011260986328}, {\"Date\": \"2022-08-23T00:00:00\", \"Symbol\": \"MRK\", \"Adj Close\": 87.09634399414062}, {\"Date\": \"2022-08-23T00:00:00\", \"Symbol\": \"PFE\", \"Adj Close\": 46.14986801147461}, {\"Date\": \"2022-08-23T00:00:00\", \"Symbol\": \"PG\", \"Adj Close\": 141.81773376464844}, {\"Date\": \"2022-08-24T00:00:00\", \"Symbol\": \"JNJ\", \"Adj Close\": 160.95150756835938}, {\"Date\": \"2022-08-24T00:00:00\", \"Symbol\": \"MMM\", \"Adj Close\": 133.5289306640625}, {\"Date\": \"2022-08-24T00:00:00\", \"Symbol\": \"MRK\", \"Adj Close\": 86.91287231445312}, {\"Date\": \"2022-08-24T00:00:00\", \"Symbol\": \"PFE\", \"Adj Close\": 45.59234619140625}, {\"Date\": \"2022-08-24T00:00:00\", \"Symbol\": \"PG\", \"Adj Close\": 141.20765686035156}, {\"Date\": \"2022-08-25T00:00:00\", \"Symbol\": \"JNJ\", \"Adj Close\": 162.4581756591797}, {\"Date\": \"2022-08-25T00:00:00\", \"Symbol\": \"MMM\", \"Adj Close\": 135.15733337402344}, {\"Date\": \"2022-08-25T00:00:00\", \"Symbol\": \"MRK\", \"Adj Close\": 87.16392517089844}, {\"Date\": \"2022-08-25T00:00:00\", \"Symbol\": \"PFE\", \"Adj Close\": 46.044132232666016}, {\"Date\": \"2022-08-25T00:00:00\", \"Symbol\": \"PG\", \"Adj Close\": 141.0914764404297}, {\"Date\": \"2022-08-26T00:00:00\", \"Symbol\": \"JNJ\", \"Adj Close\": 159.67811584472656}, {\"Date\": \"2022-08-26T00:00:00\", \"Symbol\": \"MMM\", \"Adj Close\": 122.26264953613281}, {\"Date\": \"2022-08-26T00:00:00\", \"Symbol\": \"MRK\", \"Adj Close\": 86.18868255615234}, {\"Date\": \"2022-08-26T00:00:00\", \"Symbol\": \"PFE\", \"Adj Close\": 45.00597381591797}, {\"Date\": \"2022-08-26T00:00:00\", \"Symbol\": \"PG\", \"Adj Close\": 137.789306640625}, {\"Date\": \"2022-08-29T00:00:00\", \"Symbol\": \"JNJ\", \"Adj Close\": 158.44361877441406}, {\"Date\": \"2022-08-29T00:00:00\", \"Symbol\": \"MMM\", \"Adj Close\": 119.70645141601562}, {\"Date\": \"2022-08-29T00:00:00\", \"Symbol\": \"MRK\", \"Adj Close\": 84.5761489868164}, {\"Date\": \"2022-08-29T00:00:00\", \"Symbol\": \"PFE\", \"Adj Close\": 44.4388313293457}, {\"Date\": \"2022-08-29T00:00:00\", \"Symbol\": \"PG\", \"Adj Close\": 137.2082977294922}, {\"Date\": \"2022-08-30T00:00:00\", \"Symbol\": \"JNJ\", \"Adj Close\": 157.8895263671875}, {\"Date\": \"2022-08-30T00:00:00\", \"Symbol\": \"MMM\", \"Adj Close\": 118.2105941772461}, {\"Date\": \"2022-08-30T00:00:00\", \"Symbol\": \"MRK\", \"Adj Close\": 83.89057159423828}, {\"Date\": \"2022-08-30T00:00:00\", \"Symbol\": \"PFE\", \"Adj Close\": 44.07355880737305}, {\"Date\": \"2022-08-30T00:00:00\", \"Symbol\": \"PG\", \"Adj Close\": 135.7460479736328}, {\"Date\": \"2022-08-31T00:00:00\", \"Symbol\": \"JNJ\", \"Adj Close\": 156.83001708984375}, {\"Date\": \"2022-08-31T00:00:00\", \"Symbol\": \"MMM\", \"Adj Close\": 117.7277603149414}, {\"Date\": \"2022-08-31T00:00:00\", \"Symbol\": \"MRK\", \"Adj Close\": 82.42286682128906}, {\"Date\": \"2022-08-31T00:00:00\", \"Symbol\": \"PFE\", \"Adj Close\": 43.477577209472656}, {\"Date\": \"2022-08-31T00:00:00\", \"Symbol\": \"PG\", \"Adj Close\": 133.576904296875}, {\"Date\": \"2022-09-01T00:00:00\", \"Symbol\": \"JNJ\", \"Adj Close\": 160.71820068359375}, {\"Date\": \"2022-09-01T00:00:00\", \"Symbol\": \"MMM\", \"Adj Close\": 118.93958282470703}, {\"Date\": \"2022-09-01T00:00:00\", \"Symbol\": \"MRK\", \"Adj Close\": 84.15128326416016}, {\"Date\": \"2022-09-01T00:00:00\", \"Symbol\": \"PFE\", \"Adj Close\": 44.82333755493164}, {\"Date\": \"2022-09-01T00:00:00\", \"Symbol\": \"PG\", \"Adj Close\": 135.22312927246094}, {\"Date\": \"2022-09-02T00:00:00\", \"Symbol\": \"JNJ\", \"Adj Close\": 158.19088745117188}, {\"Date\": \"2022-09-02T00:00:00\", \"Symbol\": \"MMM\", \"Adj Close\": 115.17154693603516}, {\"Date\": \"2022-09-02T00:00:00\", \"Symbol\": \"MRK\", \"Adj Close\": 83.26295471191406}, {\"Date\": \"2022-09-02T00:00:00\", \"Symbol\": \"PFE\", \"Adj Close\": 43.92936706542969}, {\"Date\": \"2022-09-02T00:00:00\", \"Symbol\": \"PG\", \"Adj Close\": 132.82159423828125}, {\"Date\": \"2022-09-06T00:00:00\", \"Symbol\": \"JNJ\", \"Adj Close\": 158.61856079101562}, {\"Date\": \"2022-09-06T00:00:00\", \"Symbol\": \"MMM\", \"Adj Close\": 110.3904800415039}, {\"Date\": \"2022-09-06T00:00:00\", \"Symbol\": \"MRK\", \"Adj Close\": 83.44639587402344}, {\"Date\": \"2022-09-06T00:00:00\", \"Symbol\": \"PFE\", \"Adj Close\": 43.98704147338867}, {\"Date\": \"2022-09-06T00:00:00\", \"Symbol\": \"PG\", \"Adj Close\": 131.3399658203125}, {\"Date\": \"2022-09-07T00:00:00\", \"Symbol\": \"JNJ\", \"Adj Close\": 159.48370361328125}, {\"Date\": \"2022-09-07T00:00:00\", \"Symbol\": \"MMM\", \"Adj Close\": 114.13013458251953}, {\"Date\": \"2022-09-07T00:00:00\", \"Symbol\": \"MRK\", \"Adj Close\": 83.88092803955078}, {\"Date\": \"2022-09-07T00:00:00\", \"Symbol\": \"PFE\", \"Adj Close\": 44.342708587646484}, {\"Date\": \"2022-09-07T00:00:00\", \"Symbol\": \"PG\", \"Adj Close\": 133.32513427734375}, {\"Date\": \"2022-09-08T00:00:00\", \"Symbol\": \"JNJ\", \"Adj Close\": 160.7667999267578}, {\"Date\": \"2022-09-08T00:00:00\", \"Symbol\": \"MMM\", \"Adj Close\": 112.91828155517578}, {\"Date\": \"2022-09-08T00:00:00\", \"Symbol\": \"MRK\", \"Adj Close\": 84.41199493408203}, {\"Date\": \"2022-09-08T00:00:00\", \"Symbol\": \"PFE\", \"Adj Close\": 45.25590133666992}, {\"Date\": \"2022-09-08T00:00:00\", \"Symbol\": \"PG\", \"Adj Close\": 133.49945068359375}, {\"Date\": \"2022-09-09T00:00:00\", \"Symbol\": \"JNJ\", \"Adj Close\": 161.07786560058594}, {\"Date\": \"2022-09-09T00:00:00\", \"Symbol\": \"MMM\", \"Adj Close\": 116.54432678222656}, {\"Date\": \"2022-09-09T00:00:00\", \"Symbol\": \"MRK\", \"Adj Close\": 84.3347396850586}, {\"Date\": \"2022-09-09T00:00:00\", \"Symbol\": \"PFE\", \"Adj Close\": 45.98645782470703}, {\"Date\": \"2022-09-09T00:00:00\", \"Symbol\": \"PG\", \"Adj Close\": 135.53302001953125}, {\"Date\": \"2022-09-12T00:00:00\", \"Symbol\": \"JNJ\", \"Adj Close\": 161.00982666015625}, {\"Date\": \"2022-09-12T00:00:00\", \"Symbol\": \"MMM\", \"Adj Close\": 117.6330795288086}, {\"Date\": \"2022-09-12T00:00:00\", \"Symbol\": \"MRK\", \"Adj Close\": 85.12654113769531}, {\"Date\": \"2022-09-12T00:00:00\", \"Symbol\": \"PFE\", \"Adj Close\": 45.90955352783203}, {\"Date\": \"2022-09-12T00:00:00\", \"Symbol\": \"PG\", \"Adj Close\": 136.63697814941406}, {\"Date\": \"2022-09-13T00:00:00\", \"Symbol\": \"JNJ\", \"Adj Close\": 156.82028198242188}, {\"Date\": \"2022-09-13T00:00:00\", \"Symbol\": \"MMM\", \"Adj Close\": 114.05438232421875}, {\"Date\": \"2022-09-13T00:00:00\", \"Symbol\": \"MRK\", \"Adj Close\": 83.31122589111328}, {\"Date\": \"2022-09-13T00:00:00\", \"Symbol\": \"PFE\", \"Adj Close\": 44.400386810302734}, {\"Date\": \"2022-09-13T00:00:00\", \"Symbol\": \"PG\", \"Adj Close\": 133.80931091308594}, {\"Date\": \"2022-09-14T00:00:00\", \"Symbol\": \"JNJ\", \"Adj Close\": 160.05722045898438}, {\"Date\": \"2022-09-14T00:00:00\", \"Symbol\": \"MMM\", \"Adj Close\": 111.27095031738281}, {\"Date\": \"2022-09-14T00:00:00\", \"Symbol\": \"MRK\", \"Adj Close\": 84.63500213623047}, {\"Date\": \"2022-09-14T00:00:00\", \"Symbol\": \"PFE\", \"Adj Close\": 44.361934661865234}, {\"Date\": \"2022-09-14T00:00:00\", \"Symbol\": \"PG\", \"Adj Close\": 134.12889099121094}, {\"Date\": \"2022-09-15T00:00:00\", \"Symbol\": \"JNJ\", \"Adj Close\": 160.46546936035156}, {\"Date\": \"2022-09-15T00:00:00\", \"Symbol\": \"MMM\", \"Adj Close\": 110.2200698852539}, {\"Date\": \"2022-09-15T00:00:00\", \"Symbol\": \"MRK\", \"Adj Close\": 84.4403305053711}, {\"Date\": \"2022-09-15T00:00:00\", \"Symbol\": \"PFE\", \"Adj Close\": 44.16006851196289}, {\"Date\": \"2022-09-15T00:00:00\", \"Symbol\": \"PG\", \"Adj Close\": 133.0927276611328}, {\"Date\": \"2022-09-16T00:00:00\", \"Symbol\": \"JNJ\", \"Adj Close\": 162.9150390625}, {\"Date\": \"2022-09-16T00:00:00\", \"Symbol\": \"MMM\", \"Adj Close\": 110.39994812011719}, {\"Date\": \"2022-09-16T00:00:00\", \"Symbol\": \"MRK\", \"Adj Close\": 85.38450622558594}, {\"Date\": \"2022-09-16T00:00:00\", \"Symbol\": \"PFE\", \"Adj Close\": 44.24658203125}, {\"Date\": \"2022-09-16T00:00:00\", \"Symbol\": \"PG\", \"Adj Close\": 133.90614318847656}, {\"Date\": \"2022-09-19T00:00:00\", \"Symbol\": \"JNJ\", \"Adj Close\": 161.63192749023438}, {\"Date\": \"2022-09-19T00:00:00\", \"Symbol\": \"MMM\", \"Adj Close\": 110.4283447265625}, {\"Date\": \"2022-09-19T00:00:00\", \"Symbol\": \"MRK\", \"Adj Close\": 84.33325958251953}, {\"Date\": \"2022-09-19T00:00:00\", \"Symbol\": \"PFE\", \"Adj Close\": 43.679439544677734}, {\"Date\": \"2022-09-19T00:00:00\", \"Symbol\": \"PG\", \"Adj Close\": 133.62533569335938}, {\"Date\": \"2022-09-20T00:00:00\", \"Symbol\": \"JNJ\", \"Adj Close\": 160.35855102539062}, {\"Date\": \"2022-09-20T00:00:00\", \"Symbol\": \"MMM\", \"Adj Close\": 110.31473541259766}, {\"Date\": \"2022-09-20T00:00:00\", \"Symbol\": \"MRK\", \"Adj Close\": 83.7103042602539}, {\"Date\": \"2022-09-20T00:00:00\", \"Symbol\": \"PFE\", \"Adj Close\": 43.035404205322266}, {\"Date\": \"2022-09-20T00:00:00\", \"Symbol\": \"PG\", \"Adj Close\": 133.1508331298828}, {\"Date\": \"2022-09-21T00:00:00\", \"Symbol\": \"JNJ\", \"Adj Close\": 158.71578979492188}, {\"Date\": \"2022-09-21T00:00:00\", \"Symbol\": \"MMM\", \"Adj Close\": 108.69580841064453}, {\"Date\": \"2022-09-21T00:00:00\", \"Symbol\": \"MRK\", \"Adj Close\": 82.2794418334961}, {\"Date\": \"2022-09-21T00:00:00\", \"Symbol\": \"PFE\", \"Adj Close\": 42.21833038330078}, {\"Date\": \"2022-09-21T00:00:00\", \"Symbol\": \"PG\", \"Adj Close\": 131.4368133544922}, {\"Date\": \"2022-09-22T00:00:00\", \"Symbol\": \"JNJ\", \"Adj Close\": 161.53469848632812}, {\"Date\": \"2022-09-22T00:00:00\", \"Symbol\": \"MMM\", \"Adj Close\": 108.06149291992188}, {\"Date\": \"2022-09-22T00:00:00\", \"Symbol\": \"MRK\", \"Adj Close\": 85.18009948730469}, {\"Date\": \"2022-09-22T00:00:00\", \"Symbol\": \"PFE\", \"Adj Close\": 42.84314727783203}, {\"Date\": \"2022-09-22T00:00:00\", \"Symbol\": \"PG\", \"Adj Close\": 131.90164184570312}, {\"Date\": \"2022-09-23T00:00:00\", \"Symbol\": \"JNJ\", \"Adj Close\": 162.05963134765625}, {\"Date\": \"2022-09-23T00:00:00\", \"Symbol\": \"MMM\", \"Adj Close\": 106.97273254394531}, {\"Date\": \"2022-09-23T00:00:00\", \"Symbol\": \"MRK\", \"Adj Close\": 84.46953582763672}, {\"Date\": \"2022-09-23T00:00:00\", \"Symbol\": \"PFE\", \"Adj Close\": 42.37213897705078}, {\"Date\": \"2022-09-23T00:00:00\", \"Symbol\": \"PG\", \"Adj Close\": 131.29156494140625}, {\"Date\": \"2022-09-26T00:00:00\", \"Symbol\": \"JNJ\", \"Adj Close\": 161.06814575195312}, {\"Date\": \"2022-09-26T00:00:00\", \"Symbol\": \"MMM\", \"Adj Close\": 106.98219299316406}, {\"Date\": \"2022-09-26T00:00:00\", \"Symbol\": \"MRK\", \"Adj Close\": 83.8855209350586}, {\"Date\": \"2022-09-26T00:00:00\", \"Symbol\": \"PFE\", \"Adj Close\": 42.1318244934082}, {\"Date\": \"2022-09-26T00:00:00\", \"Symbol\": \"PG\", \"Adj Close\": 131.41744995117188}, {\"Date\": \"2022-09-27T00:00:00\", \"Symbol\": \"JNJ\", \"Adj Close\": 160.3293914794922}, {\"Date\": \"2022-09-27T00:00:00\", \"Symbol\": \"MMM\", \"Adj Close\": 106.42362213134766}, {\"Date\": \"2022-09-27T00:00:00\", \"Symbol\": \"MRK\", \"Adj Close\": 83.55455017089844}, {\"Date\": \"2022-09-27T00:00:00\", \"Symbol\": \"PFE\", \"Adj Close\": 42.38174819946289}, {\"Date\": \"2022-09-27T00:00:00\", \"Symbol\": \"PG\", \"Adj Close\": 127.80542755126953}, {\"Date\": \"2022-09-28T00:00:00\", \"Symbol\": \"JNJ\", \"Adj Close\": 161.70968627929688}, {\"Date\": \"2022-09-28T00:00:00\", \"Symbol\": \"MMM\", \"Adj Close\": 108.19403076171875}, {\"Date\": \"2022-09-28T00:00:00\", \"Symbol\": \"MRK\", \"Adj Close\": 84.46953582763672}, {\"Date\": \"2022-09-28T00:00:00\", \"Symbol\": \"PFE\", \"Adj Close\": 42.70857620239258}, {\"Date\": \"2022-09-28T00:00:00\", \"Symbol\": \"PG\", \"Adj Close\": 127.80542755126953}, {\"Date\": \"2022-09-29T00:00:00\", \"Symbol\": \"JNJ\", \"Adj Close\": 159.93084716796875}, {\"Date\": \"2022-09-29T00:00:00\", \"Symbol\": \"MMM\", \"Adj Close\": 106.31947326660156}, {\"Date\": \"2022-09-29T00:00:00\", \"Symbol\": \"MRK\", \"Adj Close\": 84.33325958251953}, {\"Date\": \"2022-09-29T00:00:00\", \"Symbol\": \"PFE\", \"Adj Close\": 42.44903564453125}, {\"Date\": \"2022-09-29T00:00:00\", \"Symbol\": \"PG\", \"Adj Close\": 124.62916564941406}, {\"Date\": \"2022-09-30T00:00:00\", \"Symbol\": \"JNJ\", \"Adj Close\": 158.79354858398438}, {\"Date\": \"2022-09-30T00:00:00\", \"Symbol\": \"MMM\", \"Adj Close\": 104.6153335571289}, {\"Date\": \"2022-09-30T00:00:00\", \"Symbol\": \"MRK\", \"Adj Close\": 83.82711791992188}, {\"Date\": \"2022-09-30T00:00:00\", \"Symbol\": \"PFE\", \"Adj Close\": 42.064537048339844}, {\"Date\": \"2022-09-30T00:00:00\", \"Symbol\": \"PG\", \"Adj Close\": 122.25666809082031}, {\"Date\": \"2022-10-03T00:00:00\", \"Symbol\": \"JNJ\", \"Adj Close\": 158.63803100585938}, {\"Date\": \"2022-10-03T00:00:00\", \"Symbol\": \"MMM\", \"Adj Close\": 107.19048309326172}, {\"Date\": \"2022-10-03T00:00:00\", \"Symbol\": \"MRK\", \"Adj Close\": 85.21903991699219}, {\"Date\": \"2022-10-03T00:00:00\", \"Symbol\": \"PFE\", \"Adj Close\": 42.429813385009766}, {\"Date\": \"2022-10-03T00:00:00\", \"Symbol\": \"PG\", \"Adj Close\": 124.44518280029297}, {\"Date\": \"2022-10-04T00:00:00\", \"Symbol\": \"JNJ\", \"Adj Close\": 160.9903564453125}, {\"Date\": \"2022-10-04T00:00:00\", \"Symbol\": \"MMM\", \"Adj Close\": 109.46267700195312}, {\"Date\": \"2022-10-04T00:00:00\", \"Symbol\": \"MRK\", \"Adj Close\": 86.03667449951172}, {\"Date\": \"2022-10-04T00:00:00\", \"Symbol\": \"PFE\", \"Adj Close\": 42.73740768432617}, {\"Date\": \"2022-10-04T00:00:00\", \"Symbol\": \"PG\", \"Adj Close\": 125.98489379882812}, {\"Date\": \"2022-10-05T00:00:00\", \"Symbol\": \"JNJ\", \"Adj Close\": 160.49462890625}, {\"Date\": \"2022-10-05T00:00:00\", \"Symbol\": \"MMM\", \"Adj Close\": 109.03663635253906}, {\"Date\": \"2022-10-05T00:00:00\", \"Symbol\": \"MRK\", \"Adj Close\": 86.03667449951172}, {\"Date\": \"2022-10-05T00:00:00\", \"Symbol\": \"PFE\", \"Adj Close\": 42.41058349609375}, {\"Date\": \"2022-10-05T00:00:00\", \"Symbol\": \"PG\", \"Adj Close\": 125.11335754394531}, {\"Date\": \"2022-10-06T00:00:00\", \"Symbol\": \"JNJ\", \"Adj Close\": 157.38409423828125}, {\"Date\": \"2022-10-06T00:00:00\", \"Symbol\": \"MMM\", \"Adj Close\": 105.20231628417969}, {\"Date\": \"2022-10-06T00:00:00\", \"Symbol\": \"MRK\", \"Adj Close\": 85.11196899414062}, {\"Date\": \"2022-10-06T00:00:00\", \"Symbol\": \"PFE\", \"Adj Close\": 41.42049026489258}, {\"Date\": \"2022-10-06T00:00:00\", \"Symbol\": \"PG\", \"Adj Close\": 122.47940063476562}, {\"Date\": \"2022-10-07T00:00:00\", \"Symbol\": \"JNJ\", \"Adj Close\": 155.7218780517578}, {\"Date\": \"2022-10-07T00:00:00\", \"Symbol\": \"MMM\", \"Adj Close\": 101.79402923583984}, {\"Date\": \"2022-10-07T00:00:00\", \"Symbol\": \"MRK\", \"Adj Close\": 85.2677001953125}, {\"Date\": \"2022-10-07T00:00:00\", \"Symbol\": \"PFE\", \"Adj Close\": 40.68032455444336}, {\"Date\": \"2022-10-07T00:00:00\", \"Symbol\": \"PG\", \"Adj Close\": 120.33929443359375}, {\"Date\": \"2022-10-10T00:00:00\", \"Symbol\": \"JNJ\", \"Adj Close\": 155.926025390625}, {\"Date\": \"2022-10-10T00:00:00\", \"Symbol\": \"MMM\", \"Adj Close\": 102.68397521972656}, {\"Date\": \"2022-10-10T00:00:00\", \"Symbol\": \"MRK\", \"Adj Close\": 88.0710220336914}, {\"Date\": \"2022-10-10T00:00:00\", \"Symbol\": \"PFE\", \"Adj Close\": 40.13241195678711}, {\"Date\": \"2022-10-10T00:00:00\", \"Symbol\": \"PG\", \"Adj Close\": 119.84542846679688}, {\"Date\": \"2022-10-11T00:00:00\", \"Symbol\": \"JNJ\", \"Adj Close\": 158.18115234375}, {\"Date\": \"2022-10-11T00:00:00\", \"Symbol\": \"MMM\", \"Adj Close\": 103.04373931884766}, {\"Date\": \"2022-10-11T00:00:00\", \"Symbol\": \"MRK\", \"Adj Close\": 88.62584686279297}, {\"Date\": \"2022-10-11T00:00:00\", \"Symbol\": \"PFE\", \"Adj Close\": 40.29582214355469}, {\"Date\": \"2022-10-11T00:00:00\", \"Symbol\": \"PG\", \"Adj Close\": 120.3005599975586}, {\"Date\": \"2022-10-12T00:00:00\", \"Symbol\": \"JNJ\", \"Adj Close\": 158.1422882080078}, {\"Date\": \"2022-10-12T00:00:00\", \"Symbol\": \"MMM\", \"Adj Close\": 103.14787292480469}, {\"Date\": \"2022-10-12T00:00:00\", \"Symbol\": \"MRK\", \"Adj Close\": 88.01262664794922}, {\"Date\": \"2022-10-12T00:00:00\", \"Symbol\": \"PFE\", \"Adj Close\": 40.40155792236328}, {\"Date\": \"2022-10-12T00:00:00\", \"Symbol\": \"PG\", \"Adj Close\": 120.49423217773438}, {\"Date\": \"2022-10-13T00:00:00\", \"Symbol\": \"JNJ\", \"Adj Close\": 160.5334930419922}, {\"Date\": \"2022-10-13T00:00:00\", \"Symbol\": \"MMM\", \"Adj Close\": 108.17509460449219}, {\"Date\": \"2022-10-13T00:00:00\", \"Symbol\": \"MRK\", \"Adj Close\": 90.02750396728516}, {\"Date\": \"2022-10-13T00:00:00\", \"Symbol\": \"PFE\", \"Adj Close\": 41.314754486083984}, {\"Date\": \"2022-10-13T00:00:00\", \"Symbol\": \"PG\", \"Adj Close\": 122.31476593017578}, {\"Date\": \"2022-10-14T00:00:00\", \"Symbol\": \"JNJ\", \"Adj Close\": 159.86279296875}, {\"Date\": \"2022-10-14T00:00:00\", \"Symbol\": \"MMM\", \"Adj Close\": 107.57864379882812}, {\"Date\": \"2022-10-14T00:00:00\", \"Symbol\": \"MRK\", \"Adj Close\": 89.72576141357422}, {\"Date\": \"2022-10-14T00:00:00\", \"Symbol\": \"PFE\", \"Adj Close\": 41.199405670166016}, {\"Date\": \"2022-10-14T00:00:00\", \"Symbol\": \"PG\", \"Adj Close\": 121.1236801147461}, {\"Date\": \"2022-10-17T00:00:00\", \"Symbol\": \"JNJ\", \"Adj Close\": 161.93325805664062}, {\"Date\": \"2022-10-17T00:00:00\", \"Symbol\": \"MMM\", \"Adj Close\": 107.79640197753906}, {\"Date\": \"2022-10-17T00:00:00\", \"Symbol\": \"MRK\", \"Adj Close\": 91.6141128540039}, {\"Date\": \"2022-10-17T00:00:00\", \"Symbol\": \"PFE\", \"Adj Close\": 41.95880126953125}, {\"Date\": \"2022-10-17T00:00:00\", \"Symbol\": \"PG\", \"Adj Close\": 123.31219482421875}, {\"Date\": \"2022-10-18T00:00:00\", \"Symbol\": \"JNJ\", \"Adj Close\": 161.3694610595703}, {\"Date\": \"2022-10-18T00:00:00\", \"Symbol\": \"MMM\", \"Adj Close\": 109.77509307861328}, {\"Date\": \"2022-10-18T00:00:00\", \"Symbol\": \"MRK\", \"Adj Close\": 92.09107208251953}, {\"Date\": \"2022-10-18T00:00:00\", \"Symbol\": \"PFE\", \"Adj Close\": 42.38174819946289}, {\"Date\": \"2022-10-18T00:00:00\", \"Symbol\": \"PG\", \"Adj Close\": 124.30961608886719}, {\"Date\": \"2022-10-19T00:00:00\", \"Symbol\": \"JNJ\", \"Adj Close\": 160.08636474609375}, {\"Date\": \"2022-10-19T00:00:00\", \"Symbol\": \"MMM\", \"Adj Close\": 108.1182861328125}, {\"Date\": \"2022-10-19T00:00:00\", \"Symbol\": \"MRK\", \"Adj Close\": 90.77700805664062}, {\"Date\": \"2022-10-19T00:00:00\", \"Symbol\": \"PFE\", \"Adj Close\": 41.439720153808594}, {\"Date\": \"2022-10-19T00:00:00\", \"Symbol\": \"PG\", \"Adj Close\": 125.46197509765625}, {\"Date\": \"2022-10-20T00:00:00\", \"Symbol\": \"JNJ\", \"Adj Close\": 160.49462890625}, {\"Date\": \"2022-10-20T00:00:00\", \"Symbol\": \"MMM\", \"Adj Close\": 107.08633422851562}, {\"Date\": \"2022-10-20T00:00:00\", \"Symbol\": \"MRK\", \"Adj Close\": 90.46553039550781}, {\"Date\": \"2022-10-20T00:00:00\", \"Symbol\": \"PFE\", \"Adj Close\": 41.247467041015625}, {\"Date\": \"2022-10-20T00:00:00\", \"Symbol\": \"PG\", \"Adj Close\": 123.84599304199219}, {\"Date\": \"2022-10-21T00:00:00\", \"Symbol\": \"JNJ\", \"Adj Close\": 163.99400329589844}, {\"Date\": \"2022-10-21T00:00:00\", \"Symbol\": \"MMM\", \"Adj Close\": 110.58929443359375}, {\"Date\": \"2022-10-21T00:00:00\", \"Symbol\": \"MRK\", \"Adj Close\": 93.12284088134766}, {\"Date\": \"2022-10-21T00:00:00\", \"Symbol\": \"PFE\", \"Adj Close\": 43.208431243896484}, {\"Date\": \"2022-10-21T00:00:00\", \"Symbol\": \"PG\", \"Adj Close\": 125.39664459228516}, {\"Date\": \"2022-10-24T00:00:00\", \"Symbol\": \"JNJ\", \"Adj Close\": 166.20053100585938}, {\"Date\": \"2022-10-24T00:00:00\", \"Symbol\": \"MMM\", \"Adj Close\": 112.07569122314453}, {\"Date\": \"2022-10-24T00:00:00\", \"Symbol\": \"MRK\", \"Adj Close\": 94.77758026123047}, {\"Date\": \"2022-10-24T00:00:00\", \"Symbol\": \"PFE\", \"Adj Close\": 43.775569915771484}, {\"Date\": \"2022-10-24T00:00:00\", \"Symbol\": \"PG\", \"Adj Close\": 126.16706848144531}, {\"Date\": \"2022-10-25T00:00:00\", \"Symbol\": \"JNJ\", \"Adj Close\": 165.93809509277344}, {\"Date\": \"2022-10-25T00:00:00\", \"Symbol\": \"MMM\", \"Adj Close\": 112.18929290771484}, {\"Date\": \"2022-10-25T00:00:00\", \"Symbol\": \"MRK\", \"Adj Close\": 95.10852813720703}, {\"Date\": \"2022-10-25T00:00:00\", \"Symbol\": \"PFE\", \"Adj Close\": 43.823631286621094}, {\"Date\": \"2022-10-25T00:00:00\", \"Symbol\": \"PG\", \"Adj Close\": 127.62018585205078}, {\"Date\": \"2022-10-26T00:00:00\", \"Symbol\": \"JNJ\", \"Adj Close\": 167.3961639404297}, {\"Date\": \"2022-10-26T00:00:00\", \"Symbol\": \"MMM\", \"Adj Close\": 116.1656265258789}, {\"Date\": \"2022-10-26T00:00:00\", \"Symbol\": \"MRK\", \"Adj Close\": 95.7898941040039}, {\"Date\": \"2022-10-26T00:00:00\", \"Symbol\": \"PFE\", \"Adj Close\": 44.275421142578125}, {\"Date\": \"2022-10-26T00:00:00\", \"Symbol\": \"PG\", \"Adj Close\": 128.51739501953125}, {\"Date\": \"2022-10-27T00:00:00\", \"Symbol\": \"JNJ\", \"Adj Close\": 167.4933624267578}, {\"Date\": \"2022-10-27T00:00:00\", \"Symbol\": \"MMM\", \"Adj Close\": 116.26029968261719}, {\"Date\": \"2022-10-27T00:00:00\", \"Symbol\": \"MRK\", \"Adj Close\": 97.08448028564453}, {\"Date\": \"2022-10-27T00:00:00\", \"Symbol\": \"PFE\", \"Adj Close\": 43.96782302856445}, {\"Date\": \"2022-10-27T00:00:00\", \"Symbol\": \"PG\", \"Adj Close\": 128.6149444580078}, {\"Date\": \"2022-10-28T00:00:00\", \"Symbol\": \"JNJ\", \"Adj Close\": 169.98179626464844}, {\"Date\": \"2022-10-28T00:00:00\", \"Symbol\": \"MMM\", \"Adj Close\": 119.8579330444336}, {\"Date\": \"2022-10-28T00:00:00\", \"Symbol\": \"MRK\", \"Adj Close\": 98.08705139160156}, {\"Date\": \"2022-10-28T00:00:00\", \"Symbol\": \"PFE\", \"Adj Close\": 45.59234619140625}, {\"Date\": \"2022-10-28T00:00:00\", \"Symbol\": \"PG\", \"Adj Close\": 131.8722381591797}]}}, {\"mode\": \"vega-lite\"});\n",
       "</script>"
      ],
      "text/plain": [
       "alt.Chart(...)"
      ]
     },
     "execution_count": 31,
     "metadata": {},
     "output_type": "execute_result"
    }
   ],
   "source": [
    "base = alt.Chart(healthcare.reset_index()).mark_line().encode(\n",
    "    x=alt.X('Date:T',\n",
    "            axis=alt.Axis(\n",
    "                format='%m-%d-%Y',\n",
    "                labelAngle=-90)\n",
    "    ),\n",
    "    y='Adj Close:Q',\n",
    "    color='Symbol:N'\n",
    ")\n",
    "base"
   ]
  },
  {
   "cell_type": "markdown",
   "metadata": {
    "slideshow": {
     "slide_type": "subslide"
    }
   },
   "source": [
    "* Inspect missing values:  "
   ]
  },
  {
   "cell_type": "code",
   "execution_count": 32,
   "metadata": {
    "slideshow": {
     "slide_type": "-"
    }
   },
   "outputs": [
    {
     "data": {
      "text/plain": [
       "Symbol\n",
       "AAPL    0\n",
       "AXP     0\n",
       "BA      0\n",
       "BAC     0\n",
       "CAT     0\n",
       "CSCO    0\n",
       "CVX     0\n",
       "DD      0\n",
       "DIS     0\n",
       "GE      0\n",
       "HD      0\n",
       "HPQ     0\n",
       "IBM     0\n",
       "INTC    0\n",
       "JNJ     0\n",
       "JPM     0\n",
       "KO      0\n",
       "MCD     0\n",
       "MMM     0\n",
       "MRK     0\n",
       "MSFT    0\n",
       "PFE     0\n",
       "PG      0\n",
       "T       0\n",
       "TRV     0\n",
       "VZ      0\n",
       "WMT     0\n",
       "XOM     0\n",
       "dtype: int64"
      ]
     },
     "execution_count": 32,
     "metadata": {},
     "output_type": "execute_result"
    }
   ],
   "source": [
    "rawdata['Adj Close'].isna().sum(axis=0)"
   ]
  },
  {
   "cell_type": "code",
   "execution_count": 34,
   "metadata": {
    "slideshow": {
     "slide_type": "subslide"
    }
   },
   "outputs": [
    {
     "data": {
      "text/html": [
       "<div>\n",
       "<style scoped>\n",
       "    .dataframe tbody tr th:only-of-type {\n",
       "        vertical-align: middle;\n",
       "    }\n",
       "\n",
       "    .dataframe tbody tr th {\n",
       "        vertical-align: top;\n",
       "    }\n",
       "\n",
       "    .dataframe thead tr th {\n",
       "        text-align: left;\n",
       "    }\n",
       "\n",
       "    .dataframe thead tr:last-of-type th {\n",
       "        text-align: right;\n",
       "    }\n",
       "</style>\n",
       "<table border=\"1\" class=\"dataframe\">\n",
       "  <thead>\n",
       "    <tr>\n",
       "      <th>Value</th>\n",
       "      <th colspan=\"10\" halign=\"left\">Adj Close</th>\n",
       "      <th>...</th>\n",
       "      <th colspan=\"10\" halign=\"left\">Volume</th>\n",
       "    </tr>\n",
       "    <tr>\n",
       "      <th>Symbol</th>\n",
       "      <th>AAPL</th>\n",
       "      <th>AXP</th>\n",
       "      <th>BA</th>\n",
       "      <th>BAC</th>\n",
       "      <th>CAT</th>\n",
       "      <th>CSCO</th>\n",
       "      <th>CVX</th>\n",
       "      <th>DD</th>\n",
       "      <th>DIS</th>\n",
       "      <th>GE</th>\n",
       "      <th>...</th>\n",
       "      <th>MMM</th>\n",
       "      <th>MRK</th>\n",
       "      <th>MSFT</th>\n",
       "      <th>PFE</th>\n",
       "      <th>PG</th>\n",
       "      <th>T</th>\n",
       "      <th>TRV</th>\n",
       "      <th>VZ</th>\n",
       "      <th>WMT</th>\n",
       "      <th>XOM</th>\n",
       "    </tr>\n",
       "    <tr>\n",
       "      <th>Date</th>\n",
       "      <th></th>\n",
       "      <th></th>\n",
       "      <th></th>\n",
       "      <th></th>\n",
       "      <th></th>\n",
       "      <th></th>\n",
       "      <th></th>\n",
       "      <th></th>\n",
       "      <th></th>\n",
       "      <th></th>\n",
       "      <th></th>\n",
       "      <th></th>\n",
       "      <th></th>\n",
       "      <th></th>\n",
       "      <th></th>\n",
       "      <th></th>\n",
       "      <th></th>\n",
       "      <th></th>\n",
       "      <th></th>\n",
       "      <th></th>\n",
       "      <th></th>\n",
       "    </tr>\n",
       "  </thead>\n",
       "  <tbody>\n",
       "  </tbody>\n",
       "</table>\n",
       "<p>0 rows × 168 columns</p>\n",
       "</div>"
      ],
      "text/plain": [
       "Empty DataFrame\n",
       "Columns: [(Adj Close, AAPL), (Adj Close, AXP), (Adj Close, BA), (Adj Close, BAC), (Adj Close, CAT), (Adj Close, CSCO), (Adj Close, CVX), (Adj Close, DD), (Adj Close, DIS), (Adj Close, GE), (Adj Close, HD), (Adj Close, HPQ), (Adj Close, IBM), (Adj Close, INTC), (Adj Close, JNJ), (Adj Close, JPM), (Adj Close, KO), (Adj Close, MCD), (Adj Close, MMM), (Adj Close, MRK), (Adj Close, MSFT), (Adj Close, PFE), (Adj Close, PG), (Adj Close, T), (Adj Close, TRV), (Adj Close, VZ), (Adj Close, WMT), (Adj Close, XOM), (Close, AAPL), (Close, AXP), (Close, BA), (Close, BAC), (Close, CAT), (Close, CSCO), (Close, CVX), (Close, DD), (Close, DIS), (Close, GE), (Close, HD), (Close, HPQ), (Close, IBM), (Close, INTC), (Close, JNJ), (Close, JPM), (Close, KO), (Close, MCD), (Close, MMM), (Close, MRK), (Close, MSFT), (Close, PFE), (Close, PG), (Close, T), (Close, TRV), (Close, VZ), (Close, WMT), (Close, XOM), (High, AAPL), (High, AXP), (High, BA), (High, BAC), (High, CAT), (High, CSCO), (High, CVX), (High, DD), (High, DIS), (High, GE), (High, HD), (High, HPQ), (High, IBM), (High, INTC), (High, JNJ), (High, JPM), (High, KO), (High, MCD), (High, MMM), (High, MRK), (High, MSFT), (High, PFE), (High, PG), (High, T), (High, TRV), (High, VZ), (High, WMT), (High, XOM), (Low, AAPL), (Low, AXP), (Low, BA), (Low, BAC), (Low, CAT), (Low, CSCO), (Low, CVX), (Low, DD), (Low, DIS), (Low, GE), (Low, HD), (Low, HPQ), (Low, IBM), (Low, INTC), (Low, JNJ), (Low, JPM), ...]\n",
       "Index: []\n",
       "\n",
       "[0 rows x 168 columns]"
      ]
     },
     "execution_count": 34,
     "metadata": {},
     "output_type": "execute_result"
    }
   ],
   "source": [
    "anymissing = rawdata['Adj Close'].isna().any(axis=1)\n",
    "rawdata.loc[anymissing]"
   ]
  },
  {
   "cell_type": "markdown",
   "metadata": {
    "slideshow": {
     "slide_type": "subslide"
    }
   },
   "source": [
    "* Raytheon bought United Technologies in April  \n",
    "    Let's remove UTX and keep other recent data\n",
    "* Remove missing day: '1999-12-31'\n",
    "* Fill '2001-09-12', '2016-01-18' with [`pandas.DataFrame.fillna()`](https://pandas.pydata.org/pandas-docs/stable/reference/api/pandas.DataFrame.fillna.html#pandas.DataFrame.fillna)"
   ]
  },
  {
   "cell_type": "code",
   "execution_count": 35,
   "metadata": {
    "slideshow": {
     "slide_type": "-"
    }
   },
   "outputs": [
    {
     "name": "stderr",
     "output_type": "stream",
     "text": [
      "/tmp/ipykernel_483515/2181891254.py:4: FutureWarning: DataFrame.fillna with 'method' is deprecated and will raise in a future version. Use obj.ffill() or obj.bfill() instead.\n",
      "  ], axis=1).fillna(method='pad').loc['2000-01-03':]\n"
     ]
    }
   ],
   "source": [
    "data_all = pd.concat([\n",
    "    rawdata.loc[:, idx[:, :'TRV']], \n",
    "    rawdata.loc[:, idx[:, 'VZ':]], \n",
    "], axis=1).fillna(method='pad').loc['2000-01-03':]\n",
    "\n",
    "data_all.columns = data_all.columns.set_names(['Value', 'Symbol'])"
   ]
  },
  {
   "cell_type": "markdown",
   "metadata": {
    "slideshow": {
     "slide_type": "subslide"
    }
   },
   "source": [
    "* Double check: did we remove all missing values?"
   ]
  },
  {
   "cell_type": "code",
   "execution_count": 36,
   "metadata": {
    "slideshow": {
     "slide_type": "-"
    }
   },
   "outputs": [
    {
     "name": "stderr",
     "output_type": "stream",
     "text": [
      "/tmp/ipykernel_483515/1028007246.py:1: FutureWarning: The behavior of DataFrame.sum with axis=None is deprecated, in a future version this will reduce over both axes and return a scalar. To retain the old behavior, pass axis=0 (or do not pass axis)\n",
      "  (data_all.isna().sum(axis=None)>0).any()\n"
     ]
    },
    {
     "data": {
      "text/plain": [
       "False"
      ]
     },
     "execution_count": 36,
     "metadata": {},
     "output_type": "execute_result"
    }
   ],
   "source": [
    "(data_all.isna().sum(axis=None)>0).any()"
   ]
  },
  {
   "cell_type": "markdown",
   "metadata": {
    "slideshow": {
     "slide_type": "subslide"
    }
   },
   "source": [
    "* Reset symbols to what is in `data` variable"
   ]
  },
  {
   "cell_type": "code",
   "execution_count": 37,
   "metadata": {
    "slideshow": {
     "slide_type": "-"
    }
   },
   "outputs": [
    {
     "data": {
      "text/html": [
       "<div>\n",
       "<style scoped>\n",
       "    .dataframe tbody tr th:only-of-type {\n",
       "        vertical-align: middle;\n",
       "    }\n",
       "\n",
       "    .dataframe tbody tr th {\n",
       "        vertical-align: top;\n",
       "    }\n",
       "\n",
       "    .dataframe thead th {\n",
       "        text-align: right;\n",
       "    }\n",
       "</style>\n",
       "<table border=\"1\" class=\"dataframe\">\n",
       "  <thead>\n",
       "    <tr style=\"text-align: right;\">\n",
       "      <th></th>\n",
       "      <th>name</th>\n",
       "    </tr>\n",
       "    <tr>\n",
       "      <th>code</th>\n",
       "      <th></th>\n",
       "    </tr>\n",
       "  </thead>\n",
       "  <tbody>\n",
       "    <tr>\n",
       "      <th>AAPL</th>\n",
       "      <td>Apple Inc (AAPL)</td>\n",
       "    </tr>\n",
       "    <tr>\n",
       "      <th>AXP</th>\n",
       "      <td>American Express Co. (AXP)</td>\n",
       "    </tr>\n",
       "    <tr>\n",
       "      <th>BA</th>\n",
       "      <td>The Boeing Co. (BA)</td>\n",
       "    </tr>\n",
       "    <tr>\n",
       "      <th>BAC</th>\n",
       "      <td>Bank of America Corp. (BAC)</td>\n",
       "    </tr>\n",
       "    <tr>\n",
       "      <th>CAT</th>\n",
       "      <td>Caterpillar Inc. (CAT)</td>\n",
       "    </tr>\n",
       "    <tr>\n",
       "      <th>CSCO</th>\n",
       "      <td>Cisco Systems Inc. (CSCO)</td>\n",
       "    </tr>\n",
       "    <tr>\n",
       "      <th>CVX</th>\n",
       "      <td>Chevron Corporation (CVX)</td>\n",
       "    </tr>\n",
       "    <tr>\n",
       "      <th>DD</th>\n",
       "      <td>E.I. du Pont de Nemours and Co. (DD)</td>\n",
       "    </tr>\n",
       "    <tr>\n",
       "      <th>DIS</th>\n",
       "      <td>Disney (Walt) Co. (The) (DIS)</td>\n",
       "    </tr>\n",
       "    <tr>\n",
       "      <th>GE</th>\n",
       "      <td>General Electric Co (GE)</td>\n",
       "    </tr>\n",
       "    <tr>\n",
       "      <th>HD</th>\n",
       "      <td>Home Depot Inc (HD)</td>\n",
       "    </tr>\n",
       "    <tr>\n",
       "      <th>HPQ</th>\n",
       "      <td>Hewlett-Packard Co (HPQ)</td>\n",
       "    </tr>\n",
       "    <tr>\n",
       "      <th>IBM</th>\n",
       "      <td>International Business Machines Corp (IBM)</td>\n",
       "    </tr>\n",
       "    <tr>\n",
       "      <th>INTC</th>\n",
       "      <td>Intel Corp (INTC)</td>\n",
       "    </tr>\n",
       "    <tr>\n",
       "      <th>JNJ</th>\n",
       "      <td>Johnson &amp; Johnson (JNJ)</td>\n",
       "    </tr>\n",
       "    <tr>\n",
       "      <th>JPM</th>\n",
       "      <td>JP Morgan Chase (JPM)</td>\n",
       "    </tr>\n",
       "    <tr>\n",
       "      <th>KO</th>\n",
       "      <td>Coca-Cola Co (The) (KO)</td>\n",
       "    </tr>\n",
       "    <tr>\n",
       "      <th>MCD</th>\n",
       "      <td>McDonald's Corp (MCD)</td>\n",
       "    </tr>\n",
       "    <tr>\n",
       "      <th>MMM</th>\n",
       "      <td>3M Co (MMM)</td>\n",
       "    </tr>\n",
       "    <tr>\n",
       "      <th>MRK</th>\n",
       "      <td>Merck &amp; Co. Inc (MRK)</td>\n",
       "    </tr>\n",
       "    <tr>\n",
       "      <th>MSFT</th>\n",
       "      <td>Microsoft Corporation (MSFT)</td>\n",
       "    </tr>\n",
       "    <tr>\n",
       "      <th>PFE</th>\n",
       "      <td>Pfizer Inc (PFE)</td>\n",
       "    </tr>\n",
       "    <tr>\n",
       "      <th>PG</th>\n",
       "      <td>Procter &amp; Gamble Co. (PG)</td>\n",
       "    </tr>\n",
       "    <tr>\n",
       "      <th>T</th>\n",
       "      <td>AT&amp;T Inc (T)</td>\n",
       "    </tr>\n",
       "    <tr>\n",
       "      <th>TRV</th>\n",
       "      <td>Travelers Companies Inc (The) (TRV)</td>\n",
       "    </tr>\n",
       "    <tr>\n",
       "      <th>VZ</th>\n",
       "      <td>Verizon Communications Inc (VZ)</td>\n",
       "    </tr>\n",
       "    <tr>\n",
       "      <th>WMT</th>\n",
       "      <td>Wal-Mart Stores (WMT)</td>\n",
       "    </tr>\n",
       "    <tr>\n",
       "      <th>XOM</th>\n",
       "      <td>Exxon Mobil Corp. (XOM)</td>\n",
       "    </tr>\n",
       "  </tbody>\n",
       "</table>\n",
       "</div>"
      ],
      "text/plain": [
       "                                            name\n",
       "code                                            \n",
       "AAPL                            Apple Inc (AAPL)\n",
       "AXP                   American Express Co. (AXP)\n",
       "BA                           The Boeing Co. (BA)\n",
       "BAC                  Bank of America Corp. (BAC)\n",
       "CAT                       Caterpillar Inc. (CAT)\n",
       "CSCO                   Cisco Systems Inc. (CSCO)\n",
       "CVX                    Chevron Corporation (CVX)\n",
       "DD          E.I. du Pont de Nemours and Co. (DD)\n",
       "DIS                Disney (Walt) Co. (The) (DIS)\n",
       "GE                      General Electric Co (GE)\n",
       "HD                           Home Depot Inc (HD)\n",
       "HPQ                     Hewlett-Packard Co (HPQ)\n",
       "IBM   International Business Machines Corp (IBM)\n",
       "INTC                           Intel Corp (INTC)\n",
       "JNJ                      Johnson & Johnson (JNJ)\n",
       "JPM                        JP Morgan Chase (JPM)\n",
       "KO                       Coca-Cola Co (The) (KO)\n",
       "MCD                        McDonald's Corp (MCD)\n",
       "MMM                                  3M Co (MMM)\n",
       "MRK                        Merck & Co. Inc (MRK)\n",
       "MSFT                Microsoft Corporation (MSFT)\n",
       "PFE                             Pfizer Inc (PFE)\n",
       "PG                     Procter & Gamble Co. (PG)\n",
       "T                                   AT&T Inc (T)\n",
       "TRV          Travelers Companies Inc (The) (TRV)\n",
       "VZ               Verizon Communications Inc (VZ)\n",
       "WMT                        Wal-Mart Stores (WMT)\n",
       "XOM                      Exxon Mobil Corp. (XOM)"
      ]
     },
     "execution_count": 37,
     "metadata": {},
     "output_type": "execute_result"
    }
   ],
   "source": [
    "symbols = symbols.loc[data_all.columns.levels[1].to_list()]\n",
    "symbols"
   ]
  },
  {
   "cell_type": "code",
   "execution_count": 38,
   "metadata": {
    "slideshow": {
     "slide_type": "subslide"
    }
   },
   "outputs": [
    {
     "data": {
      "text/html": [
       "<div>\n",
       "<style scoped>\n",
       "    .dataframe tbody tr th:only-of-type {\n",
       "        vertical-align: middle;\n",
       "    }\n",
       "\n",
       "    .dataframe tbody tr th {\n",
       "        vertical-align: top;\n",
       "    }\n",
       "\n",
       "    .dataframe thead tr th {\n",
       "        text-align: left;\n",
       "    }\n",
       "\n",
       "    .dataframe thead tr:last-of-type th {\n",
       "        text-align: right;\n",
       "    }\n",
       "</style>\n",
       "<table border=\"1\" class=\"dataframe\">\n",
       "  <thead>\n",
       "    <tr>\n",
       "      <th>Value</th>\n",
       "      <th colspan=\"10\" halign=\"left\">Adj Close</th>\n",
       "      <th>...</th>\n",
       "      <th>High</th>\n",
       "      <th colspan=\"3\" halign=\"left\">Low</th>\n",
       "      <th colspan=\"3\" halign=\"left\">Open</th>\n",
       "      <th colspan=\"3\" halign=\"left\">Volume</th>\n",
       "    </tr>\n",
       "    <tr>\n",
       "      <th>Symbol</th>\n",
       "      <th>AAPL</th>\n",
       "      <th>AXP</th>\n",
       "      <th>BA</th>\n",
       "      <th>BAC</th>\n",
       "      <th>CAT</th>\n",
       "      <th>CSCO</th>\n",
       "      <th>CVX</th>\n",
       "      <th>DD</th>\n",
       "      <th>DIS</th>\n",
       "      <th>GE</th>\n",
       "      <th>...</th>\n",
       "      <th>XOM</th>\n",
       "      <th>VZ</th>\n",
       "      <th>WMT</th>\n",
       "      <th>XOM</th>\n",
       "      <th>VZ</th>\n",
       "      <th>WMT</th>\n",
       "      <th>XOM</th>\n",
       "      <th>VZ</th>\n",
       "      <th>WMT</th>\n",
       "      <th>XOM</th>\n",
       "    </tr>\n",
       "    <tr>\n",
       "      <th>Date</th>\n",
       "      <th></th>\n",
       "      <th></th>\n",
       "      <th></th>\n",
       "      <th></th>\n",
       "      <th></th>\n",
       "      <th></th>\n",
       "      <th></th>\n",
       "      <th></th>\n",
       "      <th></th>\n",
       "      <th></th>\n",
       "      <th></th>\n",
       "      <th></th>\n",
       "      <th></th>\n",
       "      <th></th>\n",
       "      <th></th>\n",
       "      <th></th>\n",
       "      <th></th>\n",
       "      <th></th>\n",
       "      <th></th>\n",
       "      <th></th>\n",
       "      <th></th>\n",
       "    </tr>\n",
       "  </thead>\n",
       "  <tbody>\n",
       "    <tr>\n",
       "      <th>2000-01-03</th>\n",
       "      <td>0.848323</td>\n",
       "      <td>33.063007</td>\n",
       "      <td>25.940285</td>\n",
       "      <td>13.141623</td>\n",
       "      <td>12.968642</td>\n",
       "      <td>37.228062</td>\n",
       "      <td>17.508457</td>\n",
       "      <td>29.504230</td>\n",
       "      <td>23.115252</td>\n",
       "      <td>164.528564</td>\n",
       "      <td>...</td>\n",
       "      <td>40.37500</td>\n",
       "      <td>53.622120</td>\n",
       "      <td>65.5000</td>\n",
       "      <td>38.93750</td>\n",
       "      <td>54.521442</td>\n",
       "      <td>68.375</td>\n",
       "      <td>39.75000</td>\n",
       "      <td>4663843</td>\n",
       "      <td>8369900</td>\n",
       "      <td>13458200</td>\n",
       "    </tr>\n",
       "    <tr>\n",
       "      <th>2000-01-04</th>\n",
       "      <td>0.776801</td>\n",
       "      <td>31.814619</td>\n",
       "      <td>25.899940</td>\n",
       "      <td>12.361607</td>\n",
       "      <td>12.801950</td>\n",
       "      <td>35.139496</td>\n",
       "      <td>17.508457</td>\n",
       "      <td>28.697811</td>\n",
       "      <td>24.469284</td>\n",
       "      <td>157.947372</td>\n",
       "      <td>...</td>\n",
       "      <td>39.09375</td>\n",
       "      <td>51.486229</td>\n",
       "      <td>64.1875</td>\n",
       "      <td>38.25000</td>\n",
       "      <td>53.678326</td>\n",
       "      <td>65.500</td>\n",
       "      <td>38.68750</td>\n",
       "      <td>5005878</td>\n",
       "      <td>6745100</td>\n",
       "      <td>14510800</td>\n",
       "    </tr>\n",
       "    <tr>\n",
       "      <th>2000-01-05</th>\n",
       "      <td>0.788168</td>\n",
       "      <td>31.006538</td>\n",
       "      <td>27.513641</td>\n",
       "      <td>12.497260</td>\n",
       "      <td>13.101996</td>\n",
       "      <td>35.031830</td>\n",
       "      <td>17.822521</td>\n",
       "      <td>29.629372</td>\n",
       "      <td>25.484814</td>\n",
       "      <td>157.673126</td>\n",
       "      <td>...</td>\n",
       "      <td>40.87500</td>\n",
       "      <td>52.610382</td>\n",
       "      <td>62.1875</td>\n",
       "      <td>38.90625</td>\n",
       "      <td>53.060043</td>\n",
       "      <td>63.875</td>\n",
       "      <td>39.00000</td>\n",
       "      <td>6368681</td>\n",
       "      <td>7018700</td>\n",
       "      <td>17485000</td>\n",
       "    </tr>\n",
       "    <tr>\n",
       "      <th>2000-01-06</th>\n",
       "      <td>0.719961</td>\n",
       "      <td>31.638258</td>\n",
       "      <td>27.796030</td>\n",
       "      <td>13.565547</td>\n",
       "      <td>13.768770</td>\n",
       "      <td>34.450493</td>\n",
       "      <td>18.581478</td>\n",
       "      <td>30.463600</td>\n",
       "      <td>24.469284</td>\n",
       "      <td>159.781250</td>\n",
       "      <td>...</td>\n",
       "      <td>42.90625</td>\n",
       "      <td>52.497967</td>\n",
       "      <td>62.6875</td>\n",
       "      <td>40.09375</td>\n",
       "      <td>53.678326</td>\n",
       "      <td>63.000</td>\n",
       "      <td>40.31250</td>\n",
       "      <td>4705763</td>\n",
       "      <td>6544500</td>\n",
       "      <td>19461600</td>\n",
       "    </tr>\n",
       "    <tr>\n",
       "      <th>2000-01-07</th>\n",
       "      <td>0.754065</td>\n",
       "      <td>32.098869</td>\n",
       "      <td>28.602894</td>\n",
       "      <td>13.209449</td>\n",
       "      <td>14.218838</td>\n",
       "      <td>36.474461</td>\n",
       "      <td>18.908613</td>\n",
       "      <td>31.144909</td>\n",
       "      <td>24.082420</td>\n",
       "      <td>165.968185</td>\n",
       "      <td>...</td>\n",
       "      <td>43.12500</td>\n",
       "      <td>51.992096</td>\n",
       "      <td>64.5000</td>\n",
       "      <td>42.00000</td>\n",
       "      <td>52.947628</td>\n",
       "      <td>64.500</td>\n",
       "      <td>42.96875</td>\n",
       "      <td>5043907</td>\n",
       "      <td>7976900</td>\n",
       "      <td>16603800</td>\n",
       "    </tr>\n",
       "  </tbody>\n",
       "</table>\n",
       "<p>5 rows × 168 columns</p>\n",
       "</div>"
      ],
      "text/plain": [
       "Value      Adj Close                                                         \\\n",
       "Symbol          AAPL        AXP         BA        BAC        CAT       CSCO   \n",
       "Date                                                                          \n",
       "2000-01-03  0.848323  33.063007  25.940285  13.141623  12.968642  37.228062   \n",
       "2000-01-04  0.776801  31.814619  25.899940  12.361607  12.801950  35.139496   \n",
       "2000-01-05  0.788168  31.006538  27.513641  12.497260  13.101996  35.031830   \n",
       "2000-01-06  0.719961  31.638258  27.796030  13.565547  13.768770  34.450493   \n",
       "2000-01-07  0.754065  32.098869  28.602894  13.209449  14.218838  36.474461   \n",
       "\n",
       "Value                                                    ...      High  \\\n",
       "Symbol            CVX         DD        DIS          GE  ...       XOM   \n",
       "Date                                                     ...             \n",
       "2000-01-03  17.508457  29.504230  23.115252  164.528564  ...  40.37500   \n",
       "2000-01-04  17.508457  28.697811  24.469284  157.947372  ...  39.09375   \n",
       "2000-01-05  17.822521  29.629372  25.484814  157.673126  ...  40.87500   \n",
       "2000-01-06  18.581478  30.463600  24.469284  159.781250  ...  42.90625   \n",
       "2000-01-07  18.908613  31.144909  24.082420  165.968185  ...  43.12500   \n",
       "\n",
       "Value             Low                          Open                    \\\n",
       "Symbol             VZ      WMT       XOM         VZ     WMT       XOM   \n",
       "Date                                                                    \n",
       "2000-01-03  53.622120  65.5000  38.93750  54.521442  68.375  39.75000   \n",
       "2000-01-04  51.486229  64.1875  38.25000  53.678326  65.500  38.68750   \n",
       "2000-01-05  52.610382  62.1875  38.90625  53.060043  63.875  39.00000   \n",
       "2000-01-06  52.497967  62.6875  40.09375  53.678326  63.000  40.31250   \n",
       "2000-01-07  51.992096  64.5000  42.00000  52.947628  64.500  42.96875   \n",
       "\n",
       "Value        Volume                     \n",
       "Symbol           VZ      WMT       XOM  \n",
       "Date                                    \n",
       "2000-01-03  4663843  8369900  13458200  \n",
       "2000-01-04  5005878  6745100  14510800  \n",
       "2000-01-05  6368681  7018700  17485000  \n",
       "2000-01-06  4705763  6544500  19461600  \n",
       "2000-01-07  5043907  7976900  16603800  \n",
       "\n",
       "[5 rows x 168 columns]"
      ]
     },
     "execution_count": 38,
     "metadata": {},
     "output_type": "execute_result"
    }
   ],
   "source": [
    "data_all.head()"
   ]
  },
  {
   "cell_type": "markdown",
   "metadata": {
    "slideshow": {
     "slide_type": "subslide"
    }
   },
   "source": [
    "### Adjusted Close\n",
    "\n",
    "* [Adjusted closing prices](https://help.yahoo.com/kb/SLN28256.html) accounts for splits, etc"
   ]
  },
  {
   "cell_type": "code",
   "execution_count": 39,
   "metadata": {
    "slideshow": {
     "slide_type": "-"
    }
   },
   "outputs": [
    {
     "data": {
      "text/html": [
       "<div>\n",
       "<style scoped>\n",
       "    .dataframe tbody tr th:only-of-type {\n",
       "        vertical-align: middle;\n",
       "    }\n",
       "\n",
       "    .dataframe tbody tr th {\n",
       "        vertical-align: top;\n",
       "    }\n",
       "\n",
       "    .dataframe thead th {\n",
       "        text-align: right;\n",
       "    }\n",
       "</style>\n",
       "<table border=\"1\" class=\"dataframe\">\n",
       "  <thead>\n",
       "    <tr style=\"text-align: right;\">\n",
       "      <th>Symbol</th>\n",
       "      <th>AAPL</th>\n",
       "      <th>AXP</th>\n",
       "      <th>BA</th>\n",
       "      <th>BAC</th>\n",
       "      <th>CAT</th>\n",
       "      <th>CSCO</th>\n",
       "      <th>CVX</th>\n",
       "      <th>DD</th>\n",
       "      <th>DIS</th>\n",
       "      <th>GE</th>\n",
       "      <th>...</th>\n",
       "      <th>MMM</th>\n",
       "      <th>MRK</th>\n",
       "      <th>MSFT</th>\n",
       "      <th>PFE</th>\n",
       "      <th>PG</th>\n",
       "      <th>T</th>\n",
       "      <th>TRV</th>\n",
       "      <th>VZ</th>\n",
       "      <th>WMT</th>\n",
       "      <th>XOM</th>\n",
       "    </tr>\n",
       "    <tr>\n",
       "      <th>Date</th>\n",
       "      <th></th>\n",
       "      <th></th>\n",
       "      <th></th>\n",
       "      <th></th>\n",
       "      <th></th>\n",
       "      <th></th>\n",
       "      <th></th>\n",
       "      <th></th>\n",
       "      <th></th>\n",
       "      <th></th>\n",
       "      <th></th>\n",
       "      <th></th>\n",
       "      <th></th>\n",
       "      <th></th>\n",
       "      <th></th>\n",
       "      <th></th>\n",
       "      <th></th>\n",
       "      <th></th>\n",
       "      <th></th>\n",
       "      <th></th>\n",
       "      <th></th>\n",
       "    </tr>\n",
       "  </thead>\n",
       "  <tbody>\n",
       "    <tr>\n",
       "      <th>2000-01-03</th>\n",
       "      <td>0.848323</td>\n",
       "      <td>33.063007</td>\n",
       "      <td>25.940285</td>\n",
       "      <td>13.141623</td>\n",
       "      <td>12.968642</td>\n",
       "      <td>37.228062</td>\n",
       "      <td>17.508457</td>\n",
       "      <td>29.504230</td>\n",
       "      <td>23.115252</td>\n",
       "      <td>164.528564</td>\n",
       "      <td>...</td>\n",
       "      <td>24.772842</td>\n",
       "      <td>27.068483</td>\n",
       "      <td>36.205612</td>\n",
       "      <td>13.436362</td>\n",
       "      <td>28.428757</td>\n",
       "      <td>7.016650</td>\n",
       "      <td>18.091146</td>\n",
       "      <td>17.758366</td>\n",
       "      <td>43.717686</td>\n",
       "      <td>18.668196</td>\n",
       "    </tr>\n",
       "    <tr>\n",
       "      <th>2000-01-04</th>\n",
       "      <td>0.776801</td>\n",
       "      <td>31.814619</td>\n",
       "      <td>25.899940</td>\n",
       "      <td>12.361607</td>\n",
       "      <td>12.801950</td>\n",
       "      <td>35.139496</td>\n",
       "      <td>17.508457</td>\n",
       "      <td>28.697811</td>\n",
       "      <td>24.469284</td>\n",
       "      <td>157.947372</td>\n",
       "      <td>...</td>\n",
       "      <td>23.788494</td>\n",
       "      <td>26.117830</td>\n",
       "      <td>34.982567</td>\n",
       "      <td>12.935787</td>\n",
       "      <td>27.881718</td>\n",
       "      <td>6.606101</td>\n",
       "      <td>17.851305</td>\n",
       "      <td>17.184313</td>\n",
       "      <td>42.081871</td>\n",
       "      <td>18.310621</td>\n",
       "    </tr>\n",
       "    <tr>\n",
       "      <th>2000-01-05</th>\n",
       "      <td>0.788168</td>\n",
       "      <td>31.006538</td>\n",
       "      <td>27.513641</td>\n",
       "      <td>12.497260</td>\n",
       "      <td>13.101996</td>\n",
       "      <td>35.031830</td>\n",
       "      <td>17.822521</td>\n",
       "      <td>29.629372</td>\n",
       "      <td>25.484814</td>\n",
       "      <td>157.673126</td>\n",
       "      <td>...</td>\n",
       "      <td>24.477530</td>\n",
       "      <td>27.143545</td>\n",
       "      <td>35.351414</td>\n",
       "      <td>13.146557</td>\n",
       "      <td>27.351286</td>\n",
       "      <td>6.708739</td>\n",
       "      <td>17.714251</td>\n",
       "      <td>17.758366</td>\n",
       "      <td>41.223064</td>\n",
       "      <td>19.308846</td>\n",
       "    </tr>\n",
       "    <tr>\n",
       "      <th>2000-01-06</th>\n",
       "      <td>0.719961</td>\n",
       "      <td>31.638258</td>\n",
       "      <td>27.796030</td>\n",
       "      <td>13.565547</td>\n",
       "      <td>13.768770</td>\n",
       "      <td>34.450493</td>\n",
       "      <td>18.581478</td>\n",
       "      <td>30.463600</td>\n",
       "      <td>24.469284</td>\n",
       "      <td>159.781250</td>\n",
       "      <td>...</td>\n",
       "      <td>26.446239</td>\n",
       "      <td>27.368683</td>\n",
       "      <td>34.167217</td>\n",
       "      <td>13.620778</td>\n",
       "      <td>28.611088</td>\n",
       "      <td>6.578752</td>\n",
       "      <td>18.056887</td>\n",
       "      <td>17.668158</td>\n",
       "      <td>41.672897</td>\n",
       "      <td>20.307060</td>\n",
       "    </tr>\n",
       "    <tr>\n",
       "      <th>2000-01-07</th>\n",
       "      <td>0.754065</td>\n",
       "      <td>32.098869</td>\n",
       "      <td>28.602894</td>\n",
       "      <td>13.209449</td>\n",
       "      <td>14.218838</td>\n",
       "      <td>36.474461</td>\n",
       "      <td>18.908613</td>\n",
       "      <td>31.144909</td>\n",
       "      <td>24.082420</td>\n",
       "      <td>165.968185</td>\n",
       "      <td>...</td>\n",
       "      <td>26.971220</td>\n",
       "      <td>29.995485</td>\n",
       "      <td>34.613731</td>\n",
       "      <td>14.542890</td>\n",
       "      <td>30.898653</td>\n",
       "      <td>6.635137</td>\n",
       "      <td>18.776419</td>\n",
       "      <td>17.537701</td>\n",
       "      <td>44.821896</td>\n",
       "      <td>20.247475</td>\n",
       "    </tr>\n",
       "  </tbody>\n",
       "</table>\n",
       "<p>5 rows × 28 columns</p>\n",
       "</div>"
      ],
      "text/plain": [
       "Symbol          AAPL        AXP         BA        BAC        CAT       CSCO  \\\n",
       "Date                                                                          \n",
       "2000-01-03  0.848323  33.063007  25.940285  13.141623  12.968642  37.228062   \n",
       "2000-01-04  0.776801  31.814619  25.899940  12.361607  12.801950  35.139496   \n",
       "2000-01-05  0.788168  31.006538  27.513641  12.497260  13.101996  35.031830   \n",
       "2000-01-06  0.719961  31.638258  27.796030  13.565547  13.768770  34.450493   \n",
       "2000-01-07  0.754065  32.098869  28.602894  13.209449  14.218838  36.474461   \n",
       "\n",
       "Symbol            CVX         DD        DIS          GE  ...        MMM  \\\n",
       "Date                                                     ...              \n",
       "2000-01-03  17.508457  29.504230  23.115252  164.528564  ...  24.772842   \n",
       "2000-01-04  17.508457  28.697811  24.469284  157.947372  ...  23.788494   \n",
       "2000-01-05  17.822521  29.629372  25.484814  157.673126  ...  24.477530   \n",
       "2000-01-06  18.581478  30.463600  24.469284  159.781250  ...  26.446239   \n",
       "2000-01-07  18.908613  31.144909  24.082420  165.968185  ...  26.971220   \n",
       "\n",
       "Symbol            MRK       MSFT        PFE         PG         T        TRV  \\\n",
       "Date                                                                          \n",
       "2000-01-03  27.068483  36.205612  13.436362  28.428757  7.016650  18.091146   \n",
       "2000-01-04  26.117830  34.982567  12.935787  27.881718  6.606101  17.851305   \n",
       "2000-01-05  27.143545  35.351414  13.146557  27.351286  6.708739  17.714251   \n",
       "2000-01-06  27.368683  34.167217  13.620778  28.611088  6.578752  18.056887   \n",
       "2000-01-07  29.995485  34.613731  14.542890  30.898653  6.635137  18.776419   \n",
       "\n",
       "Symbol             VZ        WMT        XOM  \n",
       "Date                                         \n",
       "2000-01-03  17.758366  43.717686  18.668196  \n",
       "2000-01-04  17.184313  42.081871  18.310621  \n",
       "2000-01-05  17.758366  41.223064  19.308846  \n",
       "2000-01-06  17.668158  41.672897  20.307060  \n",
       "2000-01-07  17.537701  44.821896  20.247475  \n",
       "\n",
       "[5 rows x 28 columns]"
      ]
     },
     "execution_count": 39,
     "metadata": {},
     "output_type": "execute_result"
    }
   ],
   "source": [
    "data = data_all['Adj Close']\n",
    "data.head()"
   ]
  },
  {
   "cell_type": "markdown",
   "metadata": {
    "slideshow": {
     "slide_type": "subslide"
    }
   },
   "source": [
    "### Log returns from stock prices\n",
    "\n",
    "* Data is price per share\n",
    "* We need daily returns from the prices\n",
    "* Given the prices $P_t$ and $P_{t-1}$ for time $t$, the return is, \n",
    "$$ R_t = \\frac{P_t - P_{t-1}}{P_{t-1}} = \\frac{P_t}{P_{t-1}} - 1 $$"
   ]
  },
  {
   "cell_type": "markdown",
   "metadata": {
    "slideshow": {
     "slide_type": "subslide"
    }
   },
   "source": [
    "* Approximation $\\log(1+x)\\approx x$ is good when $x$ is small\n",
    "* Since daily returns of stocks are small, calculate as returns,\n",
    "$$ r_t = \\log(1 + R_t) = \\log\\left(\\frac{P_t}{P_{t-1}}\\right) = \\log(P_t) - \\log(P_{t-1})$$\n",
    "So, in order to compute the log-returns, compute the difference of log prices:"
   ]
  },
  {
   "cell_type": "code",
   "execution_count": 40,
   "metadata": {
    "slideshow": {
     "slide_type": "subslide"
    }
   },
   "outputs": [
    {
     "data": {
      "text/html": [
       "<div>\n",
       "<style scoped>\n",
       "    .dataframe tbody tr th:only-of-type {\n",
       "        vertical-align: middle;\n",
       "    }\n",
       "\n",
       "    .dataframe tbody tr th {\n",
       "        vertical-align: top;\n",
       "    }\n",
       "\n",
       "    .dataframe thead th {\n",
       "        text-align: right;\n",
       "    }\n",
       "</style>\n",
       "<table border=\"1\" class=\"dataframe\">\n",
       "  <thead>\n",
       "    <tr style=\"text-align: right;\">\n",
       "      <th>Symbol</th>\n",
       "      <th>AAPL</th>\n",
       "      <th>AXP</th>\n",
       "      <th>BA</th>\n",
       "      <th>BAC</th>\n",
       "      <th>CAT</th>\n",
       "      <th>CSCO</th>\n",
       "      <th>CVX</th>\n",
       "      <th>DD</th>\n",
       "      <th>DIS</th>\n",
       "      <th>GE</th>\n",
       "      <th>...</th>\n",
       "      <th>MMM</th>\n",
       "      <th>MRK</th>\n",
       "      <th>MSFT</th>\n",
       "      <th>PFE</th>\n",
       "      <th>PG</th>\n",
       "      <th>T</th>\n",
       "      <th>TRV</th>\n",
       "      <th>VZ</th>\n",
       "      <th>WMT</th>\n",
       "      <th>XOM</th>\n",
       "    </tr>\n",
       "    <tr>\n",
       "      <th>Date</th>\n",
       "      <th></th>\n",
       "      <th></th>\n",
       "      <th></th>\n",
       "      <th></th>\n",
       "      <th></th>\n",
       "      <th></th>\n",
       "      <th></th>\n",
       "      <th></th>\n",
       "      <th></th>\n",
       "      <th></th>\n",
       "      <th></th>\n",
       "      <th></th>\n",
       "      <th></th>\n",
       "      <th></th>\n",
       "      <th></th>\n",
       "      <th></th>\n",
       "      <th></th>\n",
       "      <th></th>\n",
       "      <th></th>\n",
       "      <th></th>\n",
       "      <th></th>\n",
       "    </tr>\n",
       "  </thead>\n",
       "  <tbody>\n",
       "    <tr>\n",
       "      <th>2000-01-03</th>\n",
       "      <td>NaN</td>\n",
       "      <td>NaN</td>\n",
       "      <td>NaN</td>\n",
       "      <td>NaN</td>\n",
       "      <td>NaN</td>\n",
       "      <td>NaN</td>\n",
       "      <td>NaN</td>\n",
       "      <td>NaN</td>\n",
       "      <td>NaN</td>\n",
       "      <td>NaN</td>\n",
       "      <td>...</td>\n",
       "      <td>NaN</td>\n",
       "      <td>NaN</td>\n",
       "      <td>NaN</td>\n",
       "      <td>NaN</td>\n",
       "      <td>NaN</td>\n",
       "      <td>NaN</td>\n",
       "      <td>NaN</td>\n",
       "      <td>NaN</td>\n",
       "      <td>NaN</td>\n",
       "      <td>NaN</td>\n",
       "    </tr>\n",
       "    <tr>\n",
       "      <th>2000-01-04</th>\n",
       "      <td>-0.088077</td>\n",
       "      <td>-0.038489</td>\n",
       "      <td>-0.001556</td>\n",
       "      <td>-0.061189</td>\n",
       "      <td>-0.012937</td>\n",
       "      <td>-0.057737</td>\n",
       "      <td>0.000000</td>\n",
       "      <td>-0.027713</td>\n",
       "      <td>0.056926</td>\n",
       "      <td>-0.040822</td>\n",
       "      <td>...</td>\n",
       "      <td>-0.040546</td>\n",
       "      <td>-0.035752</td>\n",
       "      <td>-0.034364</td>\n",
       "      <td>-0.037967</td>\n",
       "      <td>-0.019430</td>\n",
       "      <td>-0.060292</td>\n",
       "      <td>-0.013346</td>\n",
       "      <td>-0.032860</td>\n",
       "      <td>-0.038136</td>\n",
       "      <td>-0.019340</td>\n",
       "    </tr>\n",
       "    <tr>\n",
       "      <th>2000-01-05</th>\n",
       "      <td>0.014527</td>\n",
       "      <td>-0.025728</td>\n",
       "      <td>0.060441</td>\n",
       "      <td>0.010914</td>\n",
       "      <td>0.023167</td>\n",
       "      <td>-0.003069</td>\n",
       "      <td>0.017779</td>\n",
       "      <td>0.031945</td>\n",
       "      <td>0.040664</td>\n",
       "      <td>-0.001738</td>\n",
       "      <td>...</td>\n",
       "      <td>0.028554</td>\n",
       "      <td>0.038521</td>\n",
       "      <td>0.010489</td>\n",
       "      <td>0.016162</td>\n",
       "      <td>-0.019208</td>\n",
       "      <td>0.015417</td>\n",
       "      <td>-0.007707</td>\n",
       "      <td>0.032860</td>\n",
       "      <td>-0.020619</td>\n",
       "      <td>0.053082</td>\n",
       "    </tr>\n",
       "    <tr>\n",
       "      <th>2000-01-06</th>\n",
       "      <td>-0.090514</td>\n",
       "      <td>0.020169</td>\n",
       "      <td>0.010211</td>\n",
       "      <td>0.082024</td>\n",
       "      <td>0.049638</td>\n",
       "      <td>-0.016734</td>\n",
       "      <td>0.041702</td>\n",
       "      <td>0.027766</td>\n",
       "      <td>-0.040664</td>\n",
       "      <td>0.013282</td>\n",
       "      <td>...</td>\n",
       "      <td>0.077358</td>\n",
       "      <td>0.008260</td>\n",
       "      <td>-0.034072</td>\n",
       "      <td>0.035437</td>\n",
       "      <td>0.045031</td>\n",
       "      <td>-0.019566</td>\n",
       "      <td>0.019158</td>\n",
       "      <td>-0.005093</td>\n",
       "      <td>0.010853</td>\n",
       "      <td>0.050405</td>\n",
       "    </tr>\n",
       "    <tr>\n",
       "      <th>2000-01-07</th>\n",
       "      <td>0.046281</td>\n",
       "      <td>0.014454</td>\n",
       "      <td>0.028615</td>\n",
       "      <td>-0.026601</td>\n",
       "      <td>0.032165</td>\n",
       "      <td>0.057089</td>\n",
       "      <td>0.017452</td>\n",
       "      <td>0.022118</td>\n",
       "      <td>-0.015936</td>\n",
       "      <td>0.037990</td>\n",
       "      <td>...</td>\n",
       "      <td>0.019656</td>\n",
       "      <td>0.091647</td>\n",
       "      <td>0.012984</td>\n",
       "      <td>0.065506</td>\n",
       "      <td>0.076918</td>\n",
       "      <td>0.008534</td>\n",
       "      <td>0.039075</td>\n",
       "      <td>-0.007411</td>\n",
       "      <td>0.072846</td>\n",
       "      <td>-0.002939</td>\n",
       "    </tr>\n",
       "  </tbody>\n",
       "</table>\n",
       "<p>5 rows × 28 columns</p>\n",
       "</div>"
      ],
      "text/plain": [
       "Symbol          AAPL       AXP        BA       BAC       CAT      CSCO  \\\n",
       "Date                                                                     \n",
       "2000-01-03       NaN       NaN       NaN       NaN       NaN       NaN   \n",
       "2000-01-04 -0.088077 -0.038489 -0.001556 -0.061189 -0.012937 -0.057737   \n",
       "2000-01-05  0.014527 -0.025728  0.060441  0.010914  0.023167 -0.003069   \n",
       "2000-01-06 -0.090514  0.020169  0.010211  0.082024  0.049638 -0.016734   \n",
       "2000-01-07  0.046281  0.014454  0.028615 -0.026601  0.032165  0.057089   \n",
       "\n",
       "Symbol           CVX        DD       DIS        GE  ...       MMM       MRK  \\\n",
       "Date                                                ...                       \n",
       "2000-01-03       NaN       NaN       NaN       NaN  ...       NaN       NaN   \n",
       "2000-01-04  0.000000 -0.027713  0.056926 -0.040822  ... -0.040546 -0.035752   \n",
       "2000-01-05  0.017779  0.031945  0.040664 -0.001738  ...  0.028554  0.038521   \n",
       "2000-01-06  0.041702  0.027766 -0.040664  0.013282  ...  0.077358  0.008260   \n",
       "2000-01-07  0.017452  0.022118 -0.015936  0.037990  ...  0.019656  0.091647   \n",
       "\n",
       "Symbol          MSFT       PFE        PG         T       TRV        VZ  \\\n",
       "Date                                                                     \n",
       "2000-01-03       NaN       NaN       NaN       NaN       NaN       NaN   \n",
       "2000-01-04 -0.034364 -0.037967 -0.019430 -0.060292 -0.013346 -0.032860   \n",
       "2000-01-05  0.010489  0.016162 -0.019208  0.015417 -0.007707  0.032860   \n",
       "2000-01-06 -0.034072  0.035437  0.045031 -0.019566  0.019158 -0.005093   \n",
       "2000-01-07  0.012984  0.065506  0.076918  0.008534  0.039075 -0.007411   \n",
       "\n",
       "Symbol           WMT       XOM  \n",
       "Date                            \n",
       "2000-01-03       NaN       NaN  \n",
       "2000-01-04 -0.038136 -0.019340  \n",
       "2000-01-05 -0.020619  0.053082  \n",
       "2000-01-06  0.010853  0.050405  \n",
       "2000-01-07  0.072846 -0.002939  \n",
       "\n",
       "[5 rows x 28 columns]"
      ]
     },
     "execution_count": 40,
     "metadata": {},
     "output_type": "execute_result"
    }
   ],
   "source": [
    "logret = np.log(data).diff()\n",
    "logret.head()"
   ]
  },
  {
   "cell_type": "markdown",
   "metadata": {
    "slideshow": {
     "slide_type": "-"
    }
   },
   "source": [
    "* First time period is NaN since there is no data corresponding to $-1$.\n",
    "\n",
    "* Note that $100\\cdot r_t$% represent daily percentage returns."
   ]
  },
  {
   "cell_type": "markdown",
   "metadata": {
    "slideshow": {
     "slide_type": "subslide"
    }
   },
   "source": [
    "### Estimate expected returns\n",
    "\n",
    "Estimate the daily expected returns by computing the means:"
   ]
  },
  {
   "cell_type": "code",
   "execution_count": 41,
   "metadata": {
    "slideshow": {
     "slide_type": "-"
    }
   },
   "outputs": [
    {
     "data": {
      "text/plain": [
       "Symbol\n",
       "AAPL    0.000907\n",
       "AXP     0.000261\n",
       "BA      0.000298\n",
       "BAC     0.000171\n",
       "CAT     0.000489\n",
       "CSCO    0.000030\n",
       "CVX     0.000400\n",
       "DD      0.000113\n",
       "DIS     0.000265\n",
       "GE     -0.000173\n",
       "HD      0.000345\n",
       "HPQ     0.000129\n",
       "IBM     0.000132\n",
       "INTC    0.000020\n",
       "JNJ     0.000333\n",
       "JPM     0.000283\n",
       "KO      0.000242\n",
       "MCD     0.000434\n",
       "MMM     0.000275\n",
       "MRK     0.000224\n",
       "MSFT    0.000325\n",
       "PFE     0.000213\n",
       "PG      0.000267\n",
       "T       0.000157\n",
       "TRV     0.000398\n",
       "VZ      0.000119\n",
       "WMT     0.000203\n",
       "XOM     0.000304\n",
       "dtype: float64"
      ]
     },
     "execution_count": 41,
     "metadata": {},
     "output_type": "execute_result"
    }
   ],
   "source": [
    "mu = logret[1:].mean()\n",
    "mu"
   ]
  },
  {
   "cell_type": "markdown",
   "metadata": {
    "slideshow": {
     "slide_type": "subslide"
    }
   },
   "source": [
    "### Estimate covariance matrix (volatility structure)\n",
    "\n",
    "Estimate the covarince matrix of returns:"
   ]
  },
  {
   "cell_type": "code",
   "execution_count": 42,
   "metadata": {
    "slideshow": {
     "slide_type": "-"
    }
   },
   "outputs": [
    {
     "data": {
      "text/html": [
       "<div>\n",
       "<style scoped>\n",
       "    .dataframe tbody tr th:only-of-type {\n",
       "        vertical-align: middle;\n",
       "    }\n",
       "\n",
       "    .dataframe tbody tr th {\n",
       "        vertical-align: top;\n",
       "    }\n",
       "\n",
       "    .dataframe thead th {\n",
       "        text-align: right;\n",
       "    }\n",
       "</style>\n",
       "<table border=\"1\" class=\"dataframe\">\n",
       "  <thead>\n",
       "    <tr style=\"text-align: right;\">\n",
       "      <th>Symbol</th>\n",
       "      <th>AAPL</th>\n",
       "      <th>AXP</th>\n",
       "      <th>BA</th>\n",
       "      <th>BAC</th>\n",
       "      <th>CAT</th>\n",
       "      <th>CSCO</th>\n",
       "      <th>CVX</th>\n",
       "      <th>DD</th>\n",
       "      <th>DIS</th>\n",
       "      <th>GE</th>\n",
       "      <th>...</th>\n",
       "      <th>MMM</th>\n",
       "      <th>MRK</th>\n",
       "      <th>MSFT</th>\n",
       "      <th>PFE</th>\n",
       "      <th>PG</th>\n",
       "      <th>T</th>\n",
       "      <th>TRV</th>\n",
       "      <th>VZ</th>\n",
       "      <th>WMT</th>\n",
       "      <th>XOM</th>\n",
       "    </tr>\n",
       "    <tr>\n",
       "      <th>Symbol</th>\n",
       "      <th></th>\n",
       "      <th></th>\n",
       "      <th></th>\n",
       "      <th></th>\n",
       "      <th></th>\n",
       "      <th></th>\n",
       "      <th></th>\n",
       "      <th></th>\n",
       "      <th></th>\n",
       "      <th></th>\n",
       "      <th></th>\n",
       "      <th></th>\n",
       "      <th></th>\n",
       "      <th></th>\n",
       "      <th></th>\n",
       "      <th></th>\n",
       "      <th></th>\n",
       "      <th></th>\n",
       "      <th></th>\n",
       "      <th></th>\n",
       "      <th></th>\n",
       "    </tr>\n",
       "  </thead>\n",
       "  <tbody>\n",
       "    <tr>\n",
       "      <th>AAPL</th>\n",
       "      <td>0.000678</td>\n",
       "      <td>0.000213</td>\n",
       "      <td>0.000169</td>\n",
       "      <td>0.000227</td>\n",
       "      <td>0.000189</td>\n",
       "      <td>0.000282</td>\n",
       "      <td>0.000122</td>\n",
       "      <td>0.000168</td>\n",
       "      <td>0.000174</td>\n",
       "      <td>0.000187</td>\n",
       "      <td>...</td>\n",
       "      <td>0.000125</td>\n",
       "      <td>0.000090</td>\n",
       "      <td>0.000233</td>\n",
       "      <td>0.000089</td>\n",
       "      <td>0.000069</td>\n",
       "      <td>0.000113</td>\n",
       "      <td>0.000135</td>\n",
       "      <td>0.000097</td>\n",
       "      <td>0.000099</td>\n",
       "      <td>0.000116</td>\n",
       "    </tr>\n",
       "    <tr>\n",
       "      <th>AXP</th>\n",
       "      <td>0.000213</td>\n",
       "      <td>0.000524</td>\n",
       "      <td>0.000264</td>\n",
       "      <td>0.000437</td>\n",
       "      <td>0.000257</td>\n",
       "      <td>0.000241</td>\n",
       "      <td>0.000204</td>\n",
       "      <td>0.000272</td>\n",
       "      <td>0.000250</td>\n",
       "      <td>0.000291</td>\n",
       "      <td>...</td>\n",
       "      <td>0.000181</td>\n",
       "      <td>0.000137</td>\n",
       "      <td>0.000206</td>\n",
       "      <td>0.000144</td>\n",
       "      <td>0.000105</td>\n",
       "      <td>0.000166</td>\n",
       "      <td>0.000237</td>\n",
       "      <td>0.000140</td>\n",
       "      <td>0.000119</td>\n",
       "      <td>0.000186</td>\n",
       "    </tr>\n",
       "    <tr>\n",
       "      <th>BA</th>\n",
       "      <td>0.000169</td>\n",
       "      <td>0.000264</td>\n",
       "      <td>0.000502</td>\n",
       "      <td>0.000265</td>\n",
       "      <td>0.000218</td>\n",
       "      <td>0.000180</td>\n",
       "      <td>0.000187</td>\n",
       "      <td>0.000236</td>\n",
       "      <td>0.000206</td>\n",
       "      <td>0.000244</td>\n",
       "      <td>...</td>\n",
       "      <td>0.000153</td>\n",
       "      <td>0.000107</td>\n",
       "      <td>0.000167</td>\n",
       "      <td>0.000116</td>\n",
       "      <td>0.000086</td>\n",
       "      <td>0.000128</td>\n",
       "      <td>0.000173</td>\n",
       "      <td>0.000100</td>\n",
       "      <td>0.000092</td>\n",
       "      <td>0.000176</td>\n",
       "    </tr>\n",
       "    <tr>\n",
       "      <th>BAC</th>\n",
       "      <td>0.000227</td>\n",
       "      <td>0.000437</td>\n",
       "      <td>0.000265</td>\n",
       "      <td>0.000805</td>\n",
       "      <td>0.000293</td>\n",
       "      <td>0.000253</td>\n",
       "      <td>0.000224</td>\n",
       "      <td>0.000316</td>\n",
       "      <td>0.000248</td>\n",
       "      <td>0.000335</td>\n",
       "      <td>...</td>\n",
       "      <td>0.000203</td>\n",
       "      <td>0.000143</td>\n",
       "      <td>0.000208</td>\n",
       "      <td>0.000161</td>\n",
       "      <td>0.000112</td>\n",
       "      <td>0.000177</td>\n",
       "      <td>0.000269</td>\n",
       "      <td>0.000145</td>\n",
       "      <td>0.000117</td>\n",
       "      <td>0.000201</td>\n",
       "    </tr>\n",
       "    <tr>\n",
       "      <th>CAT</th>\n",
       "      <td>0.000189</td>\n",
       "      <td>0.000257</td>\n",
       "      <td>0.000218</td>\n",
       "      <td>0.000293</td>\n",
       "      <td>0.000418</td>\n",
       "      <td>0.000194</td>\n",
       "      <td>0.000194</td>\n",
       "      <td>0.000271</td>\n",
       "      <td>0.000185</td>\n",
       "      <td>0.000231</td>\n",
       "      <td>...</td>\n",
       "      <td>0.000181</td>\n",
       "      <td>0.000110</td>\n",
       "      <td>0.000165</td>\n",
       "      <td>0.000118</td>\n",
       "      <td>0.000087</td>\n",
       "      <td>0.000127</td>\n",
       "      <td>0.000169</td>\n",
       "      <td>0.000105</td>\n",
       "      <td>0.000099</td>\n",
       "      <td>0.000182</td>\n",
       "    </tr>\n",
       "    <tr>\n",
       "      <th>CSCO</th>\n",
       "      <td>0.000282</td>\n",
       "      <td>0.000241</td>\n",
       "      <td>0.000180</td>\n",
       "      <td>0.000253</td>\n",
       "      <td>0.000194</td>\n",
       "      <td>0.000562</td>\n",
       "      <td>0.000133</td>\n",
       "      <td>0.000194</td>\n",
       "      <td>0.000205</td>\n",
       "      <td>0.000214</td>\n",
       "      <td>...</td>\n",
       "      <td>0.000146</td>\n",
       "      <td>0.000098</td>\n",
       "      <td>0.000258</td>\n",
       "      <td>0.000111</td>\n",
       "      <td>0.000081</td>\n",
       "      <td>0.000133</td>\n",
       "      <td>0.000158</td>\n",
       "      <td>0.000123</td>\n",
       "      <td>0.000112</td>\n",
       "      <td>0.000128</td>\n",
       "    </tr>\n",
       "    <tr>\n",
       "      <th>CVX</th>\n",
       "      <td>0.000122</td>\n",
       "      <td>0.000204</td>\n",
       "      <td>0.000187</td>\n",
       "      <td>0.000224</td>\n",
       "      <td>0.000194</td>\n",
       "      <td>0.000133</td>\n",
       "      <td>0.000313</td>\n",
       "      <td>0.000194</td>\n",
       "      <td>0.000151</td>\n",
       "      <td>0.000177</td>\n",
       "      <td>...</td>\n",
       "      <td>0.000126</td>\n",
       "      <td>0.000112</td>\n",
       "      <td>0.000133</td>\n",
       "      <td>0.000109</td>\n",
       "      <td>0.000071</td>\n",
       "      <td>0.000116</td>\n",
       "      <td>0.000155</td>\n",
       "      <td>0.000096</td>\n",
       "      <td>0.000069</td>\n",
       "      <td>0.000249</td>\n",
       "    </tr>\n",
       "    <tr>\n",
       "      <th>DD</th>\n",
       "      <td>0.000168</td>\n",
       "      <td>0.000272</td>\n",
       "      <td>0.000236</td>\n",
       "      <td>0.000316</td>\n",
       "      <td>0.000271</td>\n",
       "      <td>0.000194</td>\n",
       "      <td>0.000194</td>\n",
       "      <td>0.000497</td>\n",
       "      <td>0.000201</td>\n",
       "      <td>0.000243</td>\n",
       "      <td>...</td>\n",
       "      <td>0.000188</td>\n",
       "      <td>0.000126</td>\n",
       "      <td>0.000166</td>\n",
       "      <td>0.000130</td>\n",
       "      <td>0.000105</td>\n",
       "      <td>0.000138</td>\n",
       "      <td>0.000185</td>\n",
       "      <td>0.000112</td>\n",
       "      <td>0.000107</td>\n",
       "      <td>0.000181</td>\n",
       "    </tr>\n",
       "    <tr>\n",
       "      <th>DIS</th>\n",
       "      <td>0.000174</td>\n",
       "      <td>0.000250</td>\n",
       "      <td>0.000206</td>\n",
       "      <td>0.000248</td>\n",
       "      <td>0.000185</td>\n",
       "      <td>0.000205</td>\n",
       "      <td>0.000151</td>\n",
       "      <td>0.000201</td>\n",
       "      <td>0.000374</td>\n",
       "      <td>0.000206</td>\n",
       "      <td>...</td>\n",
       "      <td>0.000137</td>\n",
       "      <td>0.000103</td>\n",
       "      <td>0.000172</td>\n",
       "      <td>0.000106</td>\n",
       "      <td>0.000079</td>\n",
       "      <td>0.000129</td>\n",
       "      <td>0.000151</td>\n",
       "      <td>0.000115</td>\n",
       "      <td>0.000097</td>\n",
       "      <td>0.000143</td>\n",
       "    </tr>\n",
       "    <tr>\n",
       "      <th>GE</th>\n",
       "      <td>0.000187</td>\n",
       "      <td>0.000291</td>\n",
       "      <td>0.000244</td>\n",
       "      <td>0.000335</td>\n",
       "      <td>0.000231</td>\n",
       "      <td>0.000214</td>\n",
       "      <td>0.000177</td>\n",
       "      <td>0.000243</td>\n",
       "      <td>0.000206</td>\n",
       "      <td>0.000450</td>\n",
       "      <td>...</td>\n",
       "      <td>0.000172</td>\n",
       "      <td>0.000117</td>\n",
       "      <td>0.000167</td>\n",
       "      <td>0.000128</td>\n",
       "      <td>0.000091</td>\n",
       "      <td>0.000139</td>\n",
       "      <td>0.000186</td>\n",
       "      <td>0.000119</td>\n",
       "      <td>0.000102</td>\n",
       "      <td>0.000169</td>\n",
       "    </tr>\n",
       "    <tr>\n",
       "      <th>HD</th>\n",
       "      <td>0.000168</td>\n",
       "      <td>0.000228</td>\n",
       "      <td>0.000182</td>\n",
       "      <td>0.000237</td>\n",
       "      <td>0.000178</td>\n",
       "      <td>0.000183</td>\n",
       "      <td>0.000127</td>\n",
       "      <td>0.000192</td>\n",
       "      <td>0.000177</td>\n",
       "      <td>0.000186</td>\n",
       "      <td>...</td>\n",
       "      <td>0.000139</td>\n",
       "      <td>0.000102</td>\n",
       "      <td>0.000164</td>\n",
       "      <td>0.000107</td>\n",
       "      <td>0.000086</td>\n",
       "      <td>0.000116</td>\n",
       "      <td>0.000158</td>\n",
       "      <td>0.000105</td>\n",
       "      <td>0.000150</td>\n",
       "      <td>0.000117</td>\n",
       "    </tr>\n",
       "    <tr>\n",
       "      <th>HPQ</th>\n",
       "      <td>0.000256</td>\n",
       "      <td>0.000236</td>\n",
       "      <td>0.000207</td>\n",
       "      <td>0.000245</td>\n",
       "      <td>0.000210</td>\n",
       "      <td>0.000288</td>\n",
       "      <td>0.000158</td>\n",
       "      <td>0.000211</td>\n",
       "      <td>0.000202</td>\n",
       "      <td>0.000212</td>\n",
       "      <td>...</td>\n",
       "      <td>0.000143</td>\n",
       "      <td>0.000103</td>\n",
       "      <td>0.000218</td>\n",
       "      <td>0.000102</td>\n",
       "      <td>0.000065</td>\n",
       "      <td>0.000123</td>\n",
       "      <td>0.000153</td>\n",
       "      <td>0.000111</td>\n",
       "      <td>0.000089</td>\n",
       "      <td>0.000144</td>\n",
       "    </tr>\n",
       "    <tr>\n",
       "      <th>IBM</th>\n",
       "      <td>0.000170</td>\n",
       "      <td>0.000178</td>\n",
       "      <td>0.000146</td>\n",
       "      <td>0.000186</td>\n",
       "      <td>0.000154</td>\n",
       "      <td>0.000205</td>\n",
       "      <td>0.000119</td>\n",
       "      <td>0.000160</td>\n",
       "      <td>0.000144</td>\n",
       "      <td>0.000169</td>\n",
       "      <td>...</td>\n",
       "      <td>0.000114</td>\n",
       "      <td>0.000083</td>\n",
       "      <td>0.000157</td>\n",
       "      <td>0.000088</td>\n",
       "      <td>0.000065</td>\n",
       "      <td>0.000112</td>\n",
       "      <td>0.000124</td>\n",
       "      <td>0.000096</td>\n",
       "      <td>0.000081</td>\n",
       "      <td>0.000117</td>\n",
       "    </tr>\n",
       "    <tr>\n",
       "      <th>INTC</th>\n",
       "      <td>0.000300</td>\n",
       "      <td>0.000248</td>\n",
       "      <td>0.000199</td>\n",
       "      <td>0.000253</td>\n",
       "      <td>0.000204</td>\n",
       "      <td>0.000341</td>\n",
       "      <td>0.000143</td>\n",
       "      <td>0.000201</td>\n",
       "      <td>0.000196</td>\n",
       "      <td>0.000210</td>\n",
       "      <td>...</td>\n",
       "      <td>0.000146</td>\n",
       "      <td>0.000107</td>\n",
       "      <td>0.000273</td>\n",
       "      <td>0.000109</td>\n",
       "      <td>0.000084</td>\n",
       "      <td>0.000134</td>\n",
       "      <td>0.000162</td>\n",
       "      <td>0.000121</td>\n",
       "      <td>0.000110</td>\n",
       "      <td>0.000140</td>\n",
       "    </tr>\n",
       "    <tr>\n",
       "      <th>JNJ</th>\n",
       "      <td>0.000071</td>\n",
       "      <td>0.000106</td>\n",
       "      <td>0.000090</td>\n",
       "      <td>0.000108</td>\n",
       "      <td>0.000089</td>\n",
       "      <td>0.000080</td>\n",
       "      <td>0.000086</td>\n",
       "      <td>0.000096</td>\n",
       "      <td>0.000082</td>\n",
       "      <td>0.000092</td>\n",
       "      <td>...</td>\n",
       "      <td>0.000085</td>\n",
       "      <td>0.000107</td>\n",
       "      <td>0.000081</td>\n",
       "      <td>0.000105</td>\n",
       "      <td>0.000078</td>\n",
       "      <td>0.000077</td>\n",
       "      <td>0.000084</td>\n",
       "      <td>0.000071</td>\n",
       "      <td>0.000064</td>\n",
       "      <td>0.000085</td>\n",
       "    </tr>\n",
       "    <tr>\n",
       "      <th>JPM</th>\n",
       "      <td>0.000222</td>\n",
       "      <td>0.000391</td>\n",
       "      <td>0.000246</td>\n",
       "      <td>0.000540</td>\n",
       "      <td>0.000262</td>\n",
       "      <td>0.000260</td>\n",
       "      <td>0.000200</td>\n",
       "      <td>0.000286</td>\n",
       "      <td>0.000241</td>\n",
       "      <td>0.000305</td>\n",
       "      <td>...</td>\n",
       "      <td>0.000181</td>\n",
       "      <td>0.000139</td>\n",
       "      <td>0.000212</td>\n",
       "      <td>0.000146</td>\n",
       "      <td>0.000101</td>\n",
       "      <td>0.000174</td>\n",
       "      <td>0.000252</td>\n",
       "      <td>0.000153</td>\n",
       "      <td>0.000122</td>\n",
       "      <td>0.000183</td>\n",
       "    </tr>\n",
       "    <tr>\n",
       "      <th>KO</th>\n",
       "      <td>0.000078</td>\n",
       "      <td>0.000119</td>\n",
       "      <td>0.000107</td>\n",
       "      <td>0.000113</td>\n",
       "      <td>0.000097</td>\n",
       "      <td>0.000085</td>\n",
       "      <td>0.000090</td>\n",
       "      <td>0.000106</td>\n",
       "      <td>0.000093</td>\n",
       "      <td>0.000099</td>\n",
       "      <td>...</td>\n",
       "      <td>0.000086</td>\n",
       "      <td>0.000080</td>\n",
       "      <td>0.000087</td>\n",
       "      <td>0.000078</td>\n",
       "      <td>0.000088</td>\n",
       "      <td>0.000085</td>\n",
       "      <td>0.000095</td>\n",
       "      <td>0.000078</td>\n",
       "      <td>0.000068</td>\n",
       "      <td>0.000091</td>\n",
       "    </tr>\n",
       "    <tr>\n",
       "      <th>MCD</th>\n",
       "      <td>0.000099</td>\n",
       "      <td>0.000135</td>\n",
       "      <td>0.000124</td>\n",
       "      <td>0.000134</td>\n",
       "      <td>0.000103</td>\n",
       "      <td>0.000109</td>\n",
       "      <td>0.000094</td>\n",
       "      <td>0.000117</td>\n",
       "      <td>0.000109</td>\n",
       "      <td>0.000113</td>\n",
       "      <td>...</td>\n",
       "      <td>0.000086</td>\n",
       "      <td>0.000078</td>\n",
       "      <td>0.000094</td>\n",
       "      <td>0.000073</td>\n",
       "      <td>0.000072</td>\n",
       "      <td>0.000077</td>\n",
       "      <td>0.000111</td>\n",
       "      <td>0.000069</td>\n",
       "      <td>0.000074</td>\n",
       "      <td>0.000085</td>\n",
       "    </tr>\n",
       "    <tr>\n",
       "      <th>MMM</th>\n",
       "      <td>0.000125</td>\n",
       "      <td>0.000181</td>\n",
       "      <td>0.000153</td>\n",
       "      <td>0.000203</td>\n",
       "      <td>0.000181</td>\n",
       "      <td>0.000146</td>\n",
       "      <td>0.000126</td>\n",
       "      <td>0.000188</td>\n",
       "      <td>0.000137</td>\n",
       "      <td>0.000172</td>\n",
       "      <td>...</td>\n",
       "      <td>0.000227</td>\n",
       "      <td>0.000091</td>\n",
       "      <td>0.000118</td>\n",
       "      <td>0.000101</td>\n",
       "      <td>0.000086</td>\n",
       "      <td>0.000100</td>\n",
       "      <td>0.000133</td>\n",
       "      <td>0.000086</td>\n",
       "      <td>0.000085</td>\n",
       "      <td>0.000124</td>\n",
       "    </tr>\n",
       "    <tr>\n",
       "      <th>MRK</th>\n",
       "      <td>0.000090</td>\n",
       "      <td>0.000137</td>\n",
       "      <td>0.000107</td>\n",
       "      <td>0.000143</td>\n",
       "      <td>0.000110</td>\n",
       "      <td>0.000098</td>\n",
       "      <td>0.000112</td>\n",
       "      <td>0.000126</td>\n",
       "      <td>0.000103</td>\n",
       "      <td>0.000117</td>\n",
       "      <td>...</td>\n",
       "      <td>0.000091</td>\n",
       "      <td>0.000288</td>\n",
       "      <td>0.000099</td>\n",
       "      <td>0.000147</td>\n",
       "      <td>0.000084</td>\n",
       "      <td>0.000098</td>\n",
       "      <td>0.000113</td>\n",
       "      <td>0.000093</td>\n",
       "      <td>0.000077</td>\n",
       "      <td>0.000108</td>\n",
       "    </tr>\n",
       "    <tr>\n",
       "      <th>MSFT</th>\n",
       "      <td>0.000233</td>\n",
       "      <td>0.000206</td>\n",
       "      <td>0.000167</td>\n",
       "      <td>0.000208</td>\n",
       "      <td>0.000165</td>\n",
       "      <td>0.000258</td>\n",
       "      <td>0.000133</td>\n",
       "      <td>0.000166</td>\n",
       "      <td>0.000172</td>\n",
       "      <td>0.000167</td>\n",
       "      <td>...</td>\n",
       "      <td>0.000118</td>\n",
       "      <td>0.000099</td>\n",
       "      <td>0.000375</td>\n",
       "      <td>0.000103</td>\n",
       "      <td>0.000075</td>\n",
       "      <td>0.000114</td>\n",
       "      <td>0.000140</td>\n",
       "      <td>0.000107</td>\n",
       "      <td>0.000101</td>\n",
       "      <td>0.000123</td>\n",
       "    </tr>\n",
       "    <tr>\n",
       "      <th>PFE</th>\n",
       "      <td>0.000089</td>\n",
       "      <td>0.000144</td>\n",
       "      <td>0.000116</td>\n",
       "      <td>0.000161</td>\n",
       "      <td>0.000118</td>\n",
       "      <td>0.000111</td>\n",
       "      <td>0.000109</td>\n",
       "      <td>0.000130</td>\n",
       "      <td>0.000106</td>\n",
       "      <td>0.000128</td>\n",
       "      <td>...</td>\n",
       "      <td>0.000101</td>\n",
       "      <td>0.000147</td>\n",
       "      <td>0.000103</td>\n",
       "      <td>0.000255</td>\n",
       "      <td>0.000082</td>\n",
       "      <td>0.000097</td>\n",
       "      <td>0.000113</td>\n",
       "      <td>0.000089</td>\n",
       "      <td>0.000081</td>\n",
       "      <td>0.000109</td>\n",
       "    </tr>\n",
       "    <tr>\n",
       "      <th>PG</th>\n",
       "      <td>0.000069</td>\n",
       "      <td>0.000105</td>\n",
       "      <td>0.000086</td>\n",
       "      <td>0.000112</td>\n",
       "      <td>0.000087</td>\n",
       "      <td>0.000081</td>\n",
       "      <td>0.000071</td>\n",
       "      <td>0.000105</td>\n",
       "      <td>0.000079</td>\n",
       "      <td>0.000091</td>\n",
       "      <td>...</td>\n",
       "      <td>0.000086</td>\n",
       "      <td>0.000084</td>\n",
       "      <td>0.000075</td>\n",
       "      <td>0.000082</td>\n",
       "      <td>0.000187</td>\n",
       "      <td>0.000083</td>\n",
       "      <td>0.000088</td>\n",
       "      <td>0.000074</td>\n",
       "      <td>0.000078</td>\n",
       "      <td>0.000073</td>\n",
       "    </tr>\n",
       "    <tr>\n",
       "      <th>T</th>\n",
       "      <td>0.000113</td>\n",
       "      <td>0.000166</td>\n",
       "      <td>0.000128</td>\n",
       "      <td>0.000177</td>\n",
       "      <td>0.000127</td>\n",
       "      <td>0.000133</td>\n",
       "      <td>0.000116</td>\n",
       "      <td>0.000138</td>\n",
       "      <td>0.000129</td>\n",
       "      <td>0.000139</td>\n",
       "      <td>...</td>\n",
       "      <td>0.000100</td>\n",
       "      <td>0.000098</td>\n",
       "      <td>0.000114</td>\n",
       "      <td>0.000097</td>\n",
       "      <td>0.000083</td>\n",
       "      <td>0.000265</td>\n",
       "      <td>0.000120</td>\n",
       "      <td>0.000171</td>\n",
       "      <td>0.000086</td>\n",
       "      <td>0.000119</td>\n",
       "    </tr>\n",
       "    <tr>\n",
       "      <th>TRV</th>\n",
       "      <td>0.000135</td>\n",
       "      <td>0.000237</td>\n",
       "      <td>0.000173</td>\n",
       "      <td>0.000269</td>\n",
       "      <td>0.000169</td>\n",
       "      <td>0.000158</td>\n",
       "      <td>0.000155</td>\n",
       "      <td>0.000185</td>\n",
       "      <td>0.000151</td>\n",
       "      <td>0.000186</td>\n",
       "      <td>...</td>\n",
       "      <td>0.000133</td>\n",
       "      <td>0.000113</td>\n",
       "      <td>0.000140</td>\n",
       "      <td>0.000113</td>\n",
       "      <td>0.000088</td>\n",
       "      <td>0.000120</td>\n",
       "      <td>0.000337</td>\n",
       "      <td>0.000108</td>\n",
       "      <td>0.000096</td>\n",
       "      <td>0.000142</td>\n",
       "    </tr>\n",
       "    <tr>\n",
       "      <th>VZ</th>\n",
       "      <td>0.000097</td>\n",
       "      <td>0.000140</td>\n",
       "      <td>0.000100</td>\n",
       "      <td>0.000145</td>\n",
       "      <td>0.000105</td>\n",
       "      <td>0.000123</td>\n",
       "      <td>0.000096</td>\n",
       "      <td>0.000112</td>\n",
       "      <td>0.000115</td>\n",
       "      <td>0.000119</td>\n",
       "      <td>...</td>\n",
       "      <td>0.000086</td>\n",
       "      <td>0.000093</td>\n",
       "      <td>0.000107</td>\n",
       "      <td>0.000089</td>\n",
       "      <td>0.000074</td>\n",
       "      <td>0.000171</td>\n",
       "      <td>0.000108</td>\n",
       "      <td>0.000228</td>\n",
       "      <td>0.000079</td>\n",
       "      <td>0.000099</td>\n",
       "    </tr>\n",
       "    <tr>\n",
       "      <th>WMT</th>\n",
       "      <td>0.000099</td>\n",
       "      <td>0.000119</td>\n",
       "      <td>0.000092</td>\n",
       "      <td>0.000117</td>\n",
       "      <td>0.000099</td>\n",
       "      <td>0.000112</td>\n",
       "      <td>0.000069</td>\n",
       "      <td>0.000107</td>\n",
       "      <td>0.000097</td>\n",
       "      <td>0.000102</td>\n",
       "      <td>...</td>\n",
       "      <td>0.000085</td>\n",
       "      <td>0.000077</td>\n",
       "      <td>0.000101</td>\n",
       "      <td>0.000081</td>\n",
       "      <td>0.000078</td>\n",
       "      <td>0.000086</td>\n",
       "      <td>0.000096</td>\n",
       "      <td>0.000079</td>\n",
       "      <td>0.000225</td>\n",
       "      <td>0.000073</td>\n",
       "    </tr>\n",
       "    <tr>\n",
       "      <th>XOM</th>\n",
       "      <td>0.000116</td>\n",
       "      <td>0.000186</td>\n",
       "      <td>0.000176</td>\n",
       "      <td>0.000201</td>\n",
       "      <td>0.000182</td>\n",
       "      <td>0.000128</td>\n",
       "      <td>0.000249</td>\n",
       "      <td>0.000181</td>\n",
       "      <td>0.000143</td>\n",
       "      <td>0.000169</td>\n",
       "      <td>...</td>\n",
       "      <td>0.000124</td>\n",
       "      <td>0.000108</td>\n",
       "      <td>0.000123</td>\n",
       "      <td>0.000109</td>\n",
       "      <td>0.000073</td>\n",
       "      <td>0.000119</td>\n",
       "      <td>0.000142</td>\n",
       "      <td>0.000099</td>\n",
       "      <td>0.000073</td>\n",
       "      <td>0.000281</td>\n",
       "    </tr>\n",
       "  </tbody>\n",
       "</table>\n",
       "<p>28 rows × 28 columns</p>\n",
       "</div>"
      ],
      "text/plain": [
       "Symbol      AAPL       AXP        BA       BAC       CAT      CSCO       CVX  \\\n",
       "Symbol                                                                         \n",
       "AAPL    0.000678  0.000213  0.000169  0.000227  0.000189  0.000282  0.000122   \n",
       "AXP     0.000213  0.000524  0.000264  0.000437  0.000257  0.000241  0.000204   \n",
       "BA      0.000169  0.000264  0.000502  0.000265  0.000218  0.000180  0.000187   \n",
       "BAC     0.000227  0.000437  0.000265  0.000805  0.000293  0.000253  0.000224   \n",
       "CAT     0.000189  0.000257  0.000218  0.000293  0.000418  0.000194  0.000194   \n",
       "CSCO    0.000282  0.000241  0.000180  0.000253  0.000194  0.000562  0.000133   \n",
       "CVX     0.000122  0.000204  0.000187  0.000224  0.000194  0.000133  0.000313   \n",
       "DD      0.000168  0.000272  0.000236  0.000316  0.000271  0.000194  0.000194   \n",
       "DIS     0.000174  0.000250  0.000206  0.000248  0.000185  0.000205  0.000151   \n",
       "GE      0.000187  0.000291  0.000244  0.000335  0.000231  0.000214  0.000177   \n",
       "HD      0.000168  0.000228  0.000182  0.000237  0.000178  0.000183  0.000127   \n",
       "HPQ     0.000256  0.000236  0.000207  0.000245  0.000210  0.000288  0.000158   \n",
       "IBM     0.000170  0.000178  0.000146  0.000186  0.000154  0.000205  0.000119   \n",
       "INTC    0.000300  0.000248  0.000199  0.000253  0.000204  0.000341  0.000143   \n",
       "JNJ     0.000071  0.000106  0.000090  0.000108  0.000089  0.000080  0.000086   \n",
       "JPM     0.000222  0.000391  0.000246  0.000540  0.000262  0.000260  0.000200   \n",
       "KO      0.000078  0.000119  0.000107  0.000113  0.000097  0.000085  0.000090   \n",
       "MCD     0.000099  0.000135  0.000124  0.000134  0.000103  0.000109  0.000094   \n",
       "MMM     0.000125  0.000181  0.000153  0.000203  0.000181  0.000146  0.000126   \n",
       "MRK     0.000090  0.000137  0.000107  0.000143  0.000110  0.000098  0.000112   \n",
       "MSFT    0.000233  0.000206  0.000167  0.000208  0.000165  0.000258  0.000133   \n",
       "PFE     0.000089  0.000144  0.000116  0.000161  0.000118  0.000111  0.000109   \n",
       "PG      0.000069  0.000105  0.000086  0.000112  0.000087  0.000081  0.000071   \n",
       "T       0.000113  0.000166  0.000128  0.000177  0.000127  0.000133  0.000116   \n",
       "TRV     0.000135  0.000237  0.000173  0.000269  0.000169  0.000158  0.000155   \n",
       "VZ      0.000097  0.000140  0.000100  0.000145  0.000105  0.000123  0.000096   \n",
       "WMT     0.000099  0.000119  0.000092  0.000117  0.000099  0.000112  0.000069   \n",
       "XOM     0.000116  0.000186  0.000176  0.000201  0.000182  0.000128  0.000249   \n",
       "\n",
       "Symbol        DD       DIS        GE  ...       MMM       MRK      MSFT  \\\n",
       "Symbol                                ...                                 \n",
       "AAPL    0.000168  0.000174  0.000187  ...  0.000125  0.000090  0.000233   \n",
       "AXP     0.000272  0.000250  0.000291  ...  0.000181  0.000137  0.000206   \n",
       "BA      0.000236  0.000206  0.000244  ...  0.000153  0.000107  0.000167   \n",
       "BAC     0.000316  0.000248  0.000335  ...  0.000203  0.000143  0.000208   \n",
       "CAT     0.000271  0.000185  0.000231  ...  0.000181  0.000110  0.000165   \n",
       "CSCO    0.000194  0.000205  0.000214  ...  0.000146  0.000098  0.000258   \n",
       "CVX     0.000194  0.000151  0.000177  ...  0.000126  0.000112  0.000133   \n",
       "DD      0.000497  0.000201  0.000243  ...  0.000188  0.000126  0.000166   \n",
       "DIS     0.000201  0.000374  0.000206  ...  0.000137  0.000103  0.000172   \n",
       "GE      0.000243  0.000206  0.000450  ...  0.000172  0.000117  0.000167   \n",
       "HD      0.000192  0.000177  0.000186  ...  0.000139  0.000102  0.000164   \n",
       "HPQ     0.000211  0.000202  0.000212  ...  0.000143  0.000103  0.000218   \n",
       "IBM     0.000160  0.000144  0.000169  ...  0.000114  0.000083  0.000157   \n",
       "INTC    0.000201  0.000196  0.000210  ...  0.000146  0.000107  0.000273   \n",
       "JNJ     0.000096  0.000082  0.000092  ...  0.000085  0.000107  0.000081   \n",
       "JPM     0.000286  0.000241  0.000305  ...  0.000181  0.000139  0.000212   \n",
       "KO      0.000106  0.000093  0.000099  ...  0.000086  0.000080  0.000087   \n",
       "MCD     0.000117  0.000109  0.000113  ...  0.000086  0.000078  0.000094   \n",
       "MMM     0.000188  0.000137  0.000172  ...  0.000227  0.000091  0.000118   \n",
       "MRK     0.000126  0.000103  0.000117  ...  0.000091  0.000288  0.000099   \n",
       "MSFT    0.000166  0.000172  0.000167  ...  0.000118  0.000099  0.000375   \n",
       "PFE     0.000130  0.000106  0.000128  ...  0.000101  0.000147  0.000103   \n",
       "PG      0.000105  0.000079  0.000091  ...  0.000086  0.000084  0.000075   \n",
       "T       0.000138  0.000129  0.000139  ...  0.000100  0.000098  0.000114   \n",
       "TRV     0.000185  0.000151  0.000186  ...  0.000133  0.000113  0.000140   \n",
       "VZ      0.000112  0.000115  0.000119  ...  0.000086  0.000093  0.000107   \n",
       "WMT     0.000107  0.000097  0.000102  ...  0.000085  0.000077  0.000101   \n",
       "XOM     0.000181  0.000143  0.000169  ...  0.000124  0.000108  0.000123   \n",
       "\n",
       "Symbol       PFE        PG         T       TRV        VZ       WMT       XOM  \n",
       "Symbol                                                                        \n",
       "AAPL    0.000089  0.000069  0.000113  0.000135  0.000097  0.000099  0.000116  \n",
       "AXP     0.000144  0.000105  0.000166  0.000237  0.000140  0.000119  0.000186  \n",
       "BA      0.000116  0.000086  0.000128  0.000173  0.000100  0.000092  0.000176  \n",
       "BAC     0.000161  0.000112  0.000177  0.000269  0.000145  0.000117  0.000201  \n",
       "CAT     0.000118  0.000087  0.000127  0.000169  0.000105  0.000099  0.000182  \n",
       "CSCO    0.000111  0.000081  0.000133  0.000158  0.000123  0.000112  0.000128  \n",
       "CVX     0.000109  0.000071  0.000116  0.000155  0.000096  0.000069  0.000249  \n",
       "DD      0.000130  0.000105  0.000138  0.000185  0.000112  0.000107  0.000181  \n",
       "DIS     0.000106  0.000079  0.000129  0.000151  0.000115  0.000097  0.000143  \n",
       "GE      0.000128  0.000091  0.000139  0.000186  0.000119  0.000102  0.000169  \n",
       "HD      0.000107  0.000086  0.000116  0.000158  0.000105  0.000150  0.000117  \n",
       "HPQ     0.000102  0.000065  0.000123  0.000153  0.000111  0.000089  0.000144  \n",
       "IBM     0.000088  0.000065  0.000112  0.000124  0.000096  0.000081  0.000117  \n",
       "INTC    0.000109  0.000084  0.000134  0.000162  0.000121  0.000110  0.000140  \n",
       "JNJ     0.000105  0.000078  0.000077  0.000084  0.000071  0.000064  0.000085  \n",
       "JPM     0.000146  0.000101  0.000174  0.000252  0.000153  0.000122  0.000183  \n",
       "KO      0.000078  0.000088  0.000085  0.000095  0.000078  0.000068  0.000091  \n",
       "MCD     0.000073  0.000072  0.000077  0.000111  0.000069  0.000074  0.000085  \n",
       "MMM     0.000101  0.000086  0.000100  0.000133  0.000086  0.000085  0.000124  \n",
       "MRK     0.000147  0.000084  0.000098  0.000113  0.000093  0.000077  0.000108  \n",
       "MSFT    0.000103  0.000075  0.000114  0.000140  0.000107  0.000101  0.000123  \n",
       "PFE     0.000255  0.000082  0.000097  0.000113  0.000089  0.000081  0.000109  \n",
       "PG      0.000082  0.000187  0.000083  0.000088  0.000074  0.000078  0.000073  \n",
       "T       0.000097  0.000083  0.000265  0.000120  0.000171  0.000086  0.000119  \n",
       "TRV     0.000113  0.000088  0.000120  0.000337  0.000108  0.000096  0.000142  \n",
       "VZ      0.000089  0.000074  0.000171  0.000108  0.000228  0.000079  0.000099  \n",
       "WMT     0.000081  0.000078  0.000086  0.000096  0.000079  0.000225  0.000073  \n",
       "XOM     0.000109  0.000073  0.000119  0.000142  0.000099  0.000073  0.000281  \n",
       "\n",
       "[28 rows x 28 columns]"
      ]
     },
     "execution_count": 42,
     "metadata": {},
     "output_type": "execute_result"
    }
   ],
   "source": [
    "sigma = logret.cov()\n",
    "sigma"
   ]
  },
  {
   "cell_type": "markdown",
   "metadata": {
    "slideshow": {
     "slide_type": "subslide"
    }
   },
   "source": [
    "### Visualize volatility structure\n",
    "\n",
    "* Heatmap visualization of covariance and correlation"
   ]
  },
  {
   "cell_type": "code",
   "execution_count": 46,
   "metadata": {
    "slideshow": {
     "slide_type": "-"
    }
   },
   "outputs": [
    {
     "name": "stderr",
     "output_type": "stream",
     "text": [
      "/tmp/ipykernel_483515/2176223382.py:6: UserWarning: FigureCanvasAgg is non-interactive, and thus cannot be shown\n",
      "  fig.show();\n"
     ]
    },
    {
     "data": {
      "image/png": "[encoded data removed]",
      "text/plain": [
       "<Figure size 2000x800 with 4 Axes>"
      ]
     },
     "metadata": {},
     "output_type": "display_data"
    }
   ],
   "source": [
    "import matplotlib.pyplot as plt \n",
    "import seaborn as sns\n",
    "fig, ax = plt.subplots(1, 2, figsize=(20, 8))\n",
    "sns.heatmap(logret.cov(),  square=True, ax=ax[0]).set_title('Covariance Matrix')\n",
    "sns.heatmap(logret.corr(), square=True, ax=ax[1]).set_title('Correlation Matrix')\n",
    "fig.show();"
   ]
  },
  {
   "cell_type": "markdown",
   "metadata": {
    "slideshow": {
     "slide_type": "subslide"
    }
   },
   "source": [
    "* Reordering variables group similar stocks together"
   ]
  },
  {
   "cell_type": "code",
   "execution_count": 48,
   "metadata": {
    "hideCode": true,
    "slideshow": {
     "slide_type": "-"
    }
   },
   "outputs": [
    {
     "name": "stderr",
     "output_type": "stream",
     "text": [
      "/opt/conda/lib/python3.11/site-packages/seaborn/matrix.py:1124: UserWarning: ``square=True`` ignored in clustermap\n",
      "  warnings.warn(msg)\n"
     ]
    },
    {
     "data": {
      "image/png": "[encoded data removed]",
      "text/plain": [
       "<Figure size 800x800 with 4 Axes>"
      ]
     },
     "metadata": {},
     "output_type": "display_data"
    }
   ],
   "source": [
    "clmap = sns.clustermap(logret.corr(), square=True, figsize=(8, 8));\n",
    "ordering = clmap.dendrogram_col.reordered_ind # save the hierarchical clustering generated variable ordering"
   ]
  },
  {
   "cell_type": "code",
   "execution_count": 49,
   "metadata": {
    "slideshow": {
     "slide_type": "subslide"
    }
   },
   "outputs": [
    {
     "name": "stderr",
     "output_type": "stream",
     "text": [
      "/tmp/ipykernel_483515/25826003.py:4: UserWarning: FigureCanvasAgg is non-interactive, and thus cannot be shown\n",
      "  fig.show()\n"
     ]
    },
    {
     "data": {
      "image/png": "[encoded data removed]",
      "text/plain": [
       "<Figure size 2000x800 with 4 Axes>"
      ]
     },
     "metadata": {},
     "output_type": "display_data"
    }
   ],
   "source": [
    "fig, ax = plt.subplots(1, 2, figsize=(20, 8))\n",
    "sns.heatmap(logret.cov().iloc[ordering, ordering],  square=True, ax=ax[0]).set_title('Covariance Matrix')\n",
    "sns.heatmap(logret.corr().iloc[ordering, ordering], square=True, ax=ax[1]).set_title('Correlation Matrix')\n",
    "fig.show()"
   ]
  },
  {
   "cell_type": "markdown",
   "metadata": {
    "slideshow": {
     "slide_type": "subslide"
    }
   },
   "source": [
    "## Calculate Minimum Variance Portfolio\n",
    "\n",
    "* $\\Sigma$ matrix is all that is specified\n",
    "* $\\Sigma$ characterizes the market\n",
    "* Minimize variance of portfolio $R_p$"
   ]
  },
  {
   "cell_type": "code",
   "execution_count": 50,
   "metadata": {
    "slideshow": {
     "slide_type": "-"
    }
   },
   "outputs": [
    {
     "data": {
      "text/plain": [
       "8.537031276656595e-05"
      ]
     },
     "execution_count": 50,
     "metadata": {},
     "output_type": "execute_result"
    }
   ],
   "source": [
    "import cvxpy as cvx\n",
    "\n",
    "s, _ = sigma.shape # calculated from data\n",
    "\n",
    "w = cvx.Variable(s) # variables\n",
    "risk = cvx.quad_form(w, sigma.values)  # objective function\n",
    "prob = cvx.Problem(cvx.Minimize(risk), # optimization problem \n",
    "               [cvx.sum(w) == 1])      # fully invested portfolio constraint\n",
    "prob.solve()"
   ]
  },
  {
   "cell_type": "code",
   "execution_count": 51,
   "metadata": {
    "slideshow": {
     "slide_type": "subslide"
    }
   },
   "outputs": [
    {
     "data": {
      "text/plain": [
       "array([ 0.01888154, -0.0722179 , -0.00908125, -0.01113457, -0.00650473,\n",
       "       -0.01865737,  0.04087482, -0.03976969,  0.01689272, -0.01371882,\n",
       "       -0.02266262,  0.01256457,  0.09942184, -0.0183748 ,  0.22110174,\n",
       "       -0.03230281,  0.14463161,  0.14935095,  0.08265791,  0.01089526,\n",
       "        0.0160568 ,  0.0314782 ,  0.12043807,  0.0053833 ,  0.01516228,\n",
       "        0.10795069,  0.13283867,  0.01784358])"
      ]
     },
     "execution_count": 51,
     "metadata": {},
     "output_type": "execute_result"
    }
   ],
   "source": [
    "w.value"
   ]
  },
  {
   "cell_type": "markdown",
   "metadata": {
    "slideshow": {
     "slide_type": "-"
    }
   },
   "source": [
    "* Positive weights indicate long positions\n",
    "* Negative weights indicate [short positions](https://en.wikipedia.org/wiki/Short_(finance))\n",
    "* Must sum to 1 (constraint)"
   ]
  },
  {
   "cell_type": "markdown",
   "metadata": {
    "slideshow": {
     "slide_type": "subslide"
    }
   },
   "source": [
    "* Other portfolio optimization variations:  \n",
    "    http://nbviewer.jupyter.org/github/cvxgrp/cvx_short_course/blob/master/applications/portfolio_optimization.ipynb"
   ]
  },
  {
   "cell_type": "markdown",
   "metadata": {
    "hideCode": true,
    "slideshow": {
     "slide_type": "subslide"
    }
   },
   "source": [
    "* `cvxpy` package makes it easy to solve many types of problems easily\n",
    "* Portfolio allocation problem with target expected return constraint:\n",
    "\n",
    "$$ \\min_{x\\in\\mathbb{R}^s}\\ \\ x^\\intercal \\Sigma x\\\\\n",
    "\\text{subject to }\\mu^\\intercal x\\geq \\mu^* \\text{, and } \\mathbf{1}^\\intercal x = 1,$$\n",
    "\n",
    "* Expected returns, $\\mu$, is estimated from data (also $\\Sigma$)\n",
    "* Investor specifies target return $\\mu^*$"
   ]
  },
  {
   "cell_type": "code",
   "execution_count": 52,
   "metadata": {
    "slideshow": {
     "slide_type": "-"
    }
   },
   "outputs": [
    {
     "data": {
      "text/plain": [
       "0.00022535204895130894"
      ]
     },
     "execution_count": 52,
     "metadata": {},
     "output_type": "execute_result"
    }
   ],
   "source": [
    "import cvxpy as cvx\n",
    "\n",
    "s,_ = sigma.shape\n",
    "\n",
    "w = cvx.Variable(s)\n",
    "risk = cvx.quad_form(w, sigma.values)\n",
    "prob = cvx.Problem(cvx.Minimize(risk), \n",
    "               [\n",
    "                   cvx.sum(w) == 1,\n",
    "                   mu.values@w >= 0.001\n",
    "               ]) \n",
    "prob.solve()"
   ]
  },
  {
   "cell_type": "code",
   "execution_count": 53,
   "metadata": {
    "slideshow": {
     "slide_type": "subslide"
    }
   },
   "outputs": [
    {
     "data": {
      "text/plain": [
       "array([ 0.33362346, -0.05160323,  0.02898979, -0.09610361,  0.25006994,\n",
       "       -0.13857834,  0.21356359, -0.18285227,  0.04999301, -0.4151978 ,\n",
       "        0.05636072, -0.05306734, -0.00922225, -0.19495503,  0.40386859,\n",
       "        0.1158206 ,  0.03491069,  0.33346378,  0.12383824, -0.05363371,\n",
       "        0.09300997, -0.02001902,  0.1393429 , -0.02277283,  0.15932802,\n",
       "       -0.04478686,  0.00532561, -0.05871662])"
      ]
     },
     "execution_count": 53,
     "metadata": {},
     "output_type": "execute_result"
    }
   ],
   "source": [
    "w.value"
   ]
  },
  {
   "cell_type": "markdown",
   "metadata": {
    "slideshow": {
     "slide_type": "-"
    }
   },
   "source": [
    "* Higher target return achieved with more short positions\n",
    "* Constraint: $\\mu^\\intercal w=0.001$\n",
    "* Constraint: $\\mathbf{1}^\\intercal w=1$."
   ]
  },
  {
   "cell_type": "code",
   "execution_count": 54,
   "metadata": {
    "slideshow": {
     "slide_type": "subslide"
    }
   },
   "outputs": [
    {
     "data": {
      "text/plain": [
       "1.0000000000000002"
      ]
     },
     "execution_count": 54,
     "metadata": {},
     "output_type": "execute_result"
    }
   ],
   "source": [
    "w.value.sum()"
   ]
  },
  {
   "cell_type": "code",
   "execution_count": 55,
   "metadata": {
    "slideshow": {
     "slide_type": "fragment"
    }
   },
   "outputs": [
    {
     "data": {
      "text/plain": [
       "0.0010000000000000002"
      ]
     },
     "execution_count": 55,
     "metadata": {},
     "output_type": "execute_result"
    }
   ],
   "source": [
    "np.dot(mu.values,w.value)"
   ]
  },
  {
   "cell_type": "markdown",
   "metadata": {
    "slideshow": {
     "slide_type": "slide"
    }
   },
   "source": [
    "### Making the investment\n",
    "\n",
    "* Investing 1 dollar in a stock with 3% return over one time period makes me 3 cents:  \n",
    "    $$\\$1 \\cdot (1 + 0.03) = 1.03$$\n",
    "    \n",
    "* Investing a portfolio of worth $A_0$ dollars returns,\n",
    "    $$ A = A_0 (1+r_t^T w_t), $$\n",
    "    where elements of $r_t$ are returns at time $t$ and $w$ is portfolio allocation\n",
    "\n",
    "* Take allocation `w.value` and compute portfolio returns using historical returns: `logret`."
   ]
  },
  {
   "cell_type": "code",
   "execution_count": 56,
   "metadata": {
    "slideshow": {
     "slide_type": "-"
    }
   },
   "outputs": [
    {
     "name": "stderr",
     "output_type": "stream",
     "text": [
      "/tmp/ipykernel_483515/1318378496.py:1: FutureWarning: DataFrame.fillna with 'method' is deprecated and will raise in a future version. Use obj.ffill() or obj.bfill() instead.\n",
      "  earned = np.dot(logret.fillna(method='bfill').values, w.value)\n"
     ]
    }
   ],
   "source": [
    "earned = np.dot(logret.fillna(method='bfill').values, w.value)"
   ]
  },
  {
   "cell_type": "markdown",
   "metadata": {
    "slideshow": {
     "slide_type": "subslide"
    }
   },
   "source": [
    "* Compute portfolio growth"
   ]
  },
  {
   "cell_type": "code",
   "execution_count": 58,
   "metadata": {
    "slideshow": {
     "slide_type": "fragment"
    }
   },
   "outputs": [
    {
     "data": {
      "image/png": "[encoded data removed]",
      "text/plain": [
       "<Figure size 1000x800 with 1 Axes>"
      ]
     },
     "metadata": {},
     "output_type": "display_data"
    }
   ],
   "source": [
    "earnedcp = (1+earned[1:]).cumprod()\n",
    "ecp = pd.DataFrame(data=earnedcp.T, index=logret.index.values[1:], columns=['Portfolio Value'])\n",
    "ecp.plot(figsize=(10, 8));"
   ]
  },
  {
   "cell_type": "code",
   "execution_count": 59,
   "metadata": {
    "slideshow": {
     "slide_type": "subslide"
    }
   },
   "outputs": [
    {
     "data": {
      "image/png": "[encoded data removed]",
      "text/plain": [
       "<Figure size 1000x800 with 1 Axes>"
      ]
     },
     "metadata": {},
     "output_type": "display_data"
    }
   ],
   "source": [
    "np.log10(ecp).plot(figsize=(10, 8));"
   ]
  },
  {
   "cell_type": "code",
   "execution_count": 60,
   "metadata": {
    "slideshow": {
     "slide_type": "subslide"
    }
   },
   "outputs": [
    {
     "data": {
      "text/html": [
       "<div>\n",
       "<style scoped>\n",
       "    .dataframe tbody tr th:only-of-type {\n",
       "        vertical-align: middle;\n",
       "    }\n",
       "\n",
       "    .dataframe tbody tr th {\n",
       "        vertical-align: top;\n",
       "    }\n",
       "\n",
       "    .dataframe thead th {\n",
       "        text-align: right;\n",
       "    }\n",
       "</style>\n",
       "<table border=\"1\" class=\"dataframe\">\n",
       "  <thead>\n",
       "    <tr style=\"text-align: right;\">\n",
       "      <th></th>\n",
       "      <th>Portfolio Value</th>\n",
       "    </tr>\n",
       "  </thead>\n",
       "  <tbody>\n",
       "    <tr>\n",
       "      <th>2000-01-04</th>\n",
       "      <td>0.987725</td>\n",
       "    </tr>\n",
       "    <tr>\n",
       "      <th>2000-01-05</th>\n",
       "      <td>1.003204</td>\n",
       "    </tr>\n",
       "    <tr>\n",
       "      <th>2000-01-06</th>\n",
       "      <td>1.009728</td>\n",
       "    </tr>\n",
       "    <tr>\n",
       "      <th>2000-01-07</th>\n",
       "      <td>1.049987</td>\n",
       "    </tr>\n",
       "    <tr>\n",
       "      <th>2000-01-10</th>\n",
       "      <td>1.011140</td>\n",
       "    </tr>\n",
       "    <tr>\n",
       "      <th>...</th>\n",
       "      <td>...</td>\n",
       "    </tr>\n",
       "    <tr>\n",
       "      <th>2022-10-24</th>\n",
       "      <td>155.510435</td>\n",
       "    </tr>\n",
       "    <tr>\n",
       "      <th>2022-10-25</th>\n",
       "      <td>156.722918</td>\n",
       "    </tr>\n",
       "    <tr>\n",
       "      <th>2022-10-26</th>\n",
       "      <td>154.396811</td>\n",
       "    </tr>\n",
       "    <tr>\n",
       "      <th>2022-10-27</th>\n",
       "      <td>158.426087</td>\n",
       "    </tr>\n",
       "    <tr>\n",
       "      <th>2022-10-28</th>\n",
       "      <td>162.366803</td>\n",
       "    </tr>\n",
       "  </tbody>\n",
       "</table>\n",
       "<p>5743 rows × 1 columns</p>\n",
       "</div>"
      ],
      "text/plain": [
       "            Portfolio Value\n",
       "2000-01-04         0.987725\n",
       "2000-01-05         1.003204\n",
       "2000-01-06         1.009728\n",
       "2000-01-07         1.049987\n",
       "2000-01-10         1.011140\n",
       "...                     ...\n",
       "2022-10-24       155.510435\n",
       "2022-10-25       156.722918\n",
       "2022-10-26       154.396811\n",
       "2022-10-27       158.426087\n",
       "2022-10-28       162.366803\n",
       "\n",
       "[5743 rows x 1 columns]"
      ]
     },
     "execution_count": 60,
     "metadata": {},
     "output_type": "execute_result"
    }
   ],
   "source": [
    "ecp"
   ]
  },
  {
   "cell_type": "markdown",
   "metadata": {
    "slideshow": {
     "slide_type": "subslide"
    }
   },
   "source": [
    "* 1 dollar invested in 2000 would be 162 dollars today?\n",
    "* Unrealistic! Why?\n",
    "* Having knowledge of 20 years worth of data is cheating!"
   ]
  },
  {
   "cell_type": "markdown",
   "metadata": {
    "slideshow": {
     "slide_type": "subslide"
    }
   },
   "source": [
    "### Quantify results"
   ]
  },
  {
   "cell_type": "code",
   "execution_count": 62,
   "metadata": {
    "slideshow": {
     "slide_type": "-"
    }
   },
   "outputs": [
    {
     "name": "stdout",
     "output_type": "stream",
     "text": [
      "portfolio average returns: 0.0009976888183538578\n",
      "          average stddev : 0.015010138584827939\n",
      "\n",
      "component stocks average: minimum: -0.000173\n",
      "                          average: 0.000256\n",
      "                          maximum: 0.000907\n",
      "component stocks stddev : minimum: 0.012252\n",
      "                          average: 0.019118\n",
      "                          maximum: 0.028380\n"
     ]
    }
   ],
   "source": [
    "retinfo = logret.mean(axis=0).agg(['min', 'mean', 'max'])\n",
    "stdinfo = logret.std(axis=0).agg(['min', 'mean', 'max'])\n",
    "print('portfolio average returns:', earned.mean())\n",
    "print('          average stddev :', earned.std())\n",
    "print('')\n",
    "print(\"component stocks average: minimum: %f\\n                          average: %f\\n                          maximum: %f\" % tuple(retinfo))\n",
    "print(\"component stocks stddev : minimum: %f\\n                          average: %f\\n                          maximum: %f\" % tuple(stdinfo))"
   ]
  },
  {
   "cell_type": "markdown",
   "metadata": {
    "slideshow": {
     "slide_type": "subslide"
    }
   },
   "source": [
    "Annual return would be:"
   ]
  },
  {
   "cell_type": "code",
   "execution_count": 63,
   "metadata": {
    "slideshow": {
     "slide_type": "-"
    }
   },
   "outputs": [
    {
     "data": {
      "text/plain": [
       "0.439038068003903"
      ]
     },
     "execution_count": 63,
     "metadata": {},
     "output_type": "execute_result"
    }
   ],
   "source": [
    "(1+earned.mean())**365 - 1"
   ]
  },
  {
   "cell_type": "markdown",
   "metadata": {
    "slideshow": {
     "slide_type": "fragment"
    }
   },
   "source": [
    "Again, unrealistic"
   ]
  },
  {
   "cell_type": "markdown",
   "metadata": {
    "slideshow": {
     "slide_type": "slide"
    }
   },
   "source": [
    "### Qualitative Visualization of Relationships\n",
    "\n",
    "* Correlations are stricly pairwise quantities (what about other stocks?)\n",
    "* Inverse covariance"
   ]
  },
  {
   "cell_type": "code",
   "execution_count": 64,
   "metadata": {
    "slideshow": {
     "slide_type": "-"
    }
   },
   "outputs": [],
   "source": [
    "from sklearn import preprocessing\n",
    "scaler = preprocessing.StandardScaler()\n",
    "scaled_df = scaler.fit_transform(logret.dropna().values)\n",
    "scaled_df = pd.DataFrame(scaled_df, columns=logret.columns, index=logret.index[1:])"
   ]
  },
  {
   "cell_type": "markdown",
   "metadata": {},
   "source": [
    "#### Correlation Matrix: 2020"
   ]
  },
  {
   "cell_type": "code",
   "execution_count": 65,
   "metadata": {},
   "outputs": [
    {
     "name": "stderr",
     "output_type": "stream",
     "text": [
      "/opt/conda/lib/python3.11/site-packages/seaborn/matrix.py:1124: UserWarning: ``square=True`` ignored in clustermap\n",
      "  warnings.warn(msg)\n"
     ]
    },
    {
     "data": {
      "image/png": "[encoded data removed]",
      "text/plain": [
       "<Figure size 800x800 with 4 Axes>"
      ]
     },
     "metadata": {},
     "output_type": "display_data"
    }
   ],
   "source": [
    "clmap = sns.clustermap(scaled_df.loc['2020':'2020'].corr(), square=True, figsize=(8, 8));\n",
    "ordering = clmap.dendrogram_col.reordered_ind # save the hierarchical clustering generated variable ordering"
   ]
  },
  {
   "cell_type": "markdown",
   "metadata": {
    "slideshow": {
     "slide_type": "subslide"
    }
   },
   "source": [
    "#### Correlation Matrix: 2019 vs. 2020"
   ]
  },
  {
   "cell_type": "code",
   "execution_count": 66,
   "metadata": {
    "slideshow": {
     "slide_type": "-"
    }
   },
   "outputs": [
    {
     "name": "stderr",
     "output_type": "stream",
     "text": [
      "/tmp/ipykernel_483515/1755185094.py:5: UserWarning: FigureCanvasAgg is non-interactive, and thus cannot be shown\n",
      "  fig.show()\n"
     ]
    },
    {
     "data": {
      "image/png": "[encoded data removed]",
      "text/plain": [
       "<Figure size 2000x800 with 4 Axes>"
      ]
     },
     "metadata": {},
     "output_type": "display_data"
    }
   ],
   "source": [
    "fig, ax = plt.subplots(1, 2, figsize=(20, 8))\n",
    "\n",
    "sns.heatmap(scaled_df.loc['2019':'2019'].corr().iloc[ordering, ordering],  square=True, ax=ax[0]).set_title('Correlation Matrix: 2019')\n",
    "sns.heatmap(scaled_df.loc['2020':'2020'].corr().iloc[ordering, ordering],  square=True, ax=ax[1]).set_title('Correlation Matrix: 2020')\n",
    "fig.show()"
   ]
  },
  {
   "cell_type": "markdown",
   "metadata": {
    "slideshow": {
     "slide_type": "slide"
    }
   },
   "source": [
    "### Reality check\n",
    "\n",
    "Obviously, this cannot be realistic. What aspects were unrealistic?\n",
    "\n",
    "1. We didn't take time into consideration: e.g. estimation of $\\Sigma$ and selecting `w`.\n",
    "1. We are investing with knowledge of the future returns!\n",
    "1. We did not take into account transaction costs (we will have to) \n",
    "1. We did not take into account shorting requires borrowing of money\n",
    "1. Is investing in stocks better than leaving our money in a savings account? What is the interest rate?\n",
    "\n",
    "Sharpe ratio tries to quantify the added benefit, i.e., excess returns, of investing in the volatile market by accounting for the volatility:\n",
    "$$\\text{Sharpe ratio}=\\frac{E\\left[R_{p}-R_{f}\\right]}{\\sigma_{p}}$$\n",
    "where $R_f$ is the risk-free rate."
   ]
  },
  {
   "cell_type": "markdown",
   "metadata": {
    "slideshow": {
     "slide_type": "subslide"
    }
   },
   "source": [
    "### Other considerations\n",
    "\n",
    "1. Picking component stocks (choosing what to invest in)\n",
    "    1. Playing the role of the fund manager\n",
    "    1. Expertise about a specific market\n",
    "    1. Warren Buffet says stick with long term _value_ investing strategies\n",
    "    1. High-frequency trading makes money by constantly shuffling investments and making incremental returns\n",
    "    1. Where is the middle ground? i.e., choosing strategies\n",
    "1. Choosing monitoring strategies (keeping an eye out for changes in the market)\n",
    "    1. Estimation of $\\Sigma$ becomes challenging with shorter historical data\n",
    "    1. \"Regularized\" estimates of $\\Sigma$: Ledoit-Wolfe, Condition number, Sparsity inducing, Low-rank\n",
    "    1. How big of a change in the market is signficant change?\n",
    "    1. Where to look for a change? Component stocks? Market indices? Economic indicators? Consumer sentiment? Policy changes?\n",
    "    1. Deciding when to take action. How big of a change warrants an action? (Actions cost money)\n",
    "1. Choosing rebalancing strategy (deciding when to shuffle your investments)  \n",
    "    1. Fixed intervals? dynamic intervals? \n",
    "    1. Allowing for shorts?\n",
    "    1. If many component stocks, do you trade all of them even if the change is small? etc."
   ]
  },
  {
   "cell_type": "markdown",
   "metadata": {},
   "source": [
    "## Other optimization problems for modeling and learning\n",
    "\n",
    "1. [Online advertising](https://github.com/UCSB-PSTAT-134-234/Spring2019/blob/master/labs/lab05/lab05.ipynb)\n",
    "1. [Trend filtering](https://web.stanford.edu/~boyd/l1_tf/), [CVX example](https://www.cvxpy.org/examples/applications/l1_trend_filter.html)\n",
    "1. [Catching a smuggler](https://www.cvxpy.org/examples/applications/interdiction.html)\n",
    "1. [Estimating sparse inverse covariance matrix](https://www.cvxpy.org/examples/applications/sparse_covariance_est.html)\n",
    "1. [Max-flow, Min-cut problem](https://www.cvxpy.org/examples/applications/OOCO.html)\n",
    "1. Many more!!"
   ]
  }
 ],
 "metadata": {
  "celltoolbar": "Slideshow",
  "kernelspec": {
   "display_name": "Python 3 (ipykernel)",
   "language": "python",
   "name": "python3"
  },
  "language_info": {
   "codemirror_mode": {
    "name": "ipython",
    "version": 3
   },
   "file_extension": ".py",
   "mimetype": "text/x-python",
   "name": "python",
   "nbconvert_exporter": "python",
   "pygments_lexer": "ipython3",
   "version": "3.11.5"
  },
  "toc": {
   "base_numbering": 1,
   "nav_menu": {},
   "number_sections": false,
   "sideBar": true,
   "skip_h1_title": false,
   "title_cell": "Table of Contents",
   "title_sidebar": "Contents",
   "toc_cell": false,
   "toc_position": {
    "height": "calc(100% - 180px)",
    "left": "10px",
    "top": "150px",
    "width": "252.667px"
   },
   "toc_section_display": true,
   "toc_window_display": false
  },
  "vscode": {
   "interpreter": {
    "hash": "d4d1e4263499bec80672ea0156c357c1ee493ec2b1c70f0acce89fc37c4a6abe"
   }
  }
 },
 "nbformat": 4,
 "nbformat_minor": 4
}
