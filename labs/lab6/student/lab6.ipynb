{
 "cells": [
  {
   "cell_type": "code",
   "execution_count": null,
   "metadata": {
    "deletable": false,
    "editable": false
   },
   "outputs": [],
   "source": [
    "# Initialize Otter\n",
    "import otter\n",
    "grader = otter.Notebook(\"lab6.ipynb\")"
   ]
  },
  {
   "cell_type": "markdown",
   "metadata": {},
   "source": [
    "# Lab 6: Fitting Models to Data\n",
    "\n",
    "In this lab, you will practice using a numerical optimization package `cvxpy` to compute solutions to optimization problems. The example we will use is a linear fit and a quadratic fit."
   ]
  },
  {
   "cell_type": "code",
   "execution_count": null,
   "metadata": {
    "nbgrader": {
     "grade": false,
     "grade_id": "imports",
     "locked": true,
     "schema_version": 2,
     "solution": false
    }
   },
   "outputs": [],
   "source": [
    "import pandas as pd\n",
    "import numpy as np\n",
    "%matplotlib inline\n",
    "import matplotlib.pyplot as plt\n",
    "import seaborn as sns"
   ]
  },
  {
   "cell_type": "markdown",
   "metadata": {
    "nbgrader": {
     "grade": false,
     "grade_id": "objectives",
     "locked": true,
     "schema_version": 2,
     "solution": false
    }
   },
   "source": [
    "## Objectives for Lab 6:\n",
    "\n",
    "Models and fitting models to data is a common task in data science. In this lab, you will practice fitting models to data. The models you will fit are:\n",
    "\n",
    "* Linear fit\n",
    "* Normal distribution"
   ]
  },
  {
   "cell_type": "markdown",
   "metadata": {},
   "source": [
    "## Boston Housing Dataset\n",
    "\n",
    "__Warning__: The Boston housing prices dataset has an ethical problem: as investigated in [[1]](https://medium.com/%2540docintangible/racist-data-destruction-113e3eff54a8), the authors of this dataset engineered a non-invertible variable “B” assuming that racial self-segregation had a positive impact on house prices [[2]](https://www.researchgate.net/publication/4974606_Hedonic_housing_prices_and_the_demand_for_clean_air). Furthermore the goal of the research that led to the creation of this dataset was to study the impact of air quality but it did not give adequate demonstration of the validity of this assumption.\n",
    "The scikit-learn maintainers therefore strongly discourage the use of this dataset unless the purpose of the code is to study and educate about ethical issues in data science and machine learning.\n",
    "\n",
    "The warning message is from [sklearn.dataset](https://scikit-learn.org/1.0/modules/generated/sklearn.datasets.load_boston.html) documentation.\n",
    "\n",
    "We will remove variable 'B' directly and the following analysis will not be revelant to 'B'."
   ]
  },
  {
   "cell_type": "code",
   "execution_count": null,
   "metadata": {},
   "outputs": [],
   "source": [
    "data_url = \"http://lib.stat.cmu.edu/datasets/boston\"\n",
    "boston_dataset = pd.read_csv( filepath_or_buffer=data_url, delim_whitespace=True, skiprows=21, header=None)\n",
    "\n",
    "columns = ['CRIM','ZN','INDUS','CHAS','NOX','RM','AGE','DIS','RAD', 'TAX','PTRATIO', 'B', 'LSTAT', 'MEDV']\n",
    "#Flatten all the values into a single long list and remove the nulls\n",
    "values_w_nulls = boston_dataset.values.flatten()\n",
    "all_values = values_w_nulls[~np.isnan(values_w_nulls)]"
   ]
  },
  {
   "cell_type": "code",
   "execution_count": null,
   "metadata": {},
   "outputs": [],
   "source": [
    "#Reshape the values to have 14 columns and make a new df out of them\n",
    "housing = pd.DataFrame(\n",
    "    data = all_values.reshape(-1, len(columns)),\n",
    "    columns = columns,\n",
    ")\n",
    "housing.drop(columns=['B'], inplace = True)\n",
    "housing.head()"
   ]
  },
  {
   "cell_type": "code",
   "execution_count": null,
   "metadata": {},
   "outputs": [],
   "source": [
    "fig, ax = plt.subplots(figsize=(10, 7))\n",
    "sns.scatterplot(x='LSTAT', y='MEDV', data=housing)\n",
    "plt.show()"
   ]
  },
  {
   "cell_type": "markdown",
   "metadata": {},
   "source": [
    "The model for the relationship between the response variable MEDV ($y$) and predictor variables LSTAT ($u$) and RM ($v$) is that\n",
    "$$ y_i = \\beta_0 + \\beta_1 u_i + \\epsilon_i, $$\n",
    "where $\\epsilon_i$ is random noise.\n",
    "\n",
    "In order to fit the linear model to data, we minimize the sum of squared errors of all observations, $i=1,2,\\dots,n$. \n",
    "$$\\begin{aligned}\n",
    "&\\min_{\\beta} \\sum_{i=1}^n (y_i - \\beta_0 + \\beta_1 u_i )^2 = \\min_{\\beta} \\sum_{i=1}^n (y_i - x_i^T \\beta)^2 = \\min_{\\beta} \\|y - X \\beta\\|_2^2\n",
    "\\end{aligned}$$\n",
    "where $\\beta = (\\beta_0,\\beta_1)^T$, and $x_i^T = (1, u_i)$. Therefore, $y = (y_1, y_2, \\dots, y_n)^T$ and $i$-th row of $X$ is $x_i^T$. "
   ]
  },
  {
   "cell_type": "markdown",
   "metadata": {
    "deletable": false,
    "editable": false
   },
   "source": [
    "## Question 1: Constructing Data Variables\n",
    "\n",
    "Define $y$ and $X$ from `housing` data."
   ]
  },
  {
   "cell_type": "code",
   "execution_count": null,
   "metadata": {
    "tags": []
   },
   "outputs": [],
   "source": [
    "y = ...\n",
    "X1 = ...\n",
    "...\n",
    "# X.insert(..., 'intercept', ...)"
   ]
  },
  {
   "cell_type": "code",
   "execution_count": null,
   "metadata": {
    "deletable": false,
    "editable": false
   },
   "outputs": [],
   "source": [
    "grader.check(\"q1\")"
   ]
  },
  {
   "cell_type": "markdown",
   "metadata": {},
   "source": [
    "## Installing CVXPY\n",
    "\n",
    "First, install `cvxpy` package by running the following bash command:"
   ]
  },
  {
   "cell_type": "code",
   "execution_count": null,
   "metadata": {},
   "outputs": [],
   "source": [
    "#!pip install cvxpy"
   ]
  },
  {
   "cell_type": "markdown",
   "metadata": {
    "deletable": false,
    "editable": false
   },
   "source": [
    "## Question 2: Fitting Linear Model to Data\n",
    "\n",
    "Read this example of how cvxpy problem is setup and solved: https://www.cvxpy.org/examples/basic/least_squares.html\n",
    "\n",
    "The usage of cvxpy parallels our conceptual understanding of components in an optimization problem:\n",
    "* `beta` are the variables $\\beta$\n",
    "* `loss` is sum of squared errors\n",
    "* `prob` minimizes the loss by choosing $\\beta$\n",
    "\n",
    "Make sure to extract the data array of data frames (or series) by using `values`: e.g., `X.values` "
   ]
  },
  {
   "cell_type": "code",
   "execution_count": null,
   "metadata": {
    "tags": []
   },
   "outputs": [],
   "source": [
    "import cvxpy as cp\n",
    "\n",
    "beta2 = ...\n",
    "loss2 = ...\n",
    "prob2 = ...\n",
    "\n",
    "prob2.solve()\n",
    "\n",
    "yhat2 = ..."
   ]
  },
  {
   "cell_type": "code",
   "execution_count": null,
   "metadata": {
    "deletable": false,
    "editable": false
   },
   "outputs": [],
   "source": [
    "grader.check(\"q2\")"
   ]
  },
  {
   "cell_type": "markdown",
   "metadata": {
    "deletable": false,
    "editable": false
   },
   "source": [
    "<!-- BEGIN QUESTION -->\n",
    "\n",
    "## Question 3: Visualizing resulting Linear Fit\n",
    "\n",
    "Visualize fitted model by plotting `LSTAT` by `MEDV`."
   ]
  },
  {
   "cell_type": "code",
   "execution_count": null,
   "metadata": {
    "tags": []
   },
   "outputs": [],
   "source": [
    "fig, ax = plt.subplots(figsize=(10, 7))\n",
    "\n",
    "...\n",
    "\n",
    "plt.show()"
   ]
  },
  {
   "cell_type": "markdown",
   "metadata": {
    "deletable": false,
    "editable": false
   },
   "source": [
    "<!-- END QUESTION -->\n",
    "\n",
    "## Question 4: Fitting Quadratic Model to Data\n",
    "\n",
    "Add a column of squared `LSTAT` values to `X`. The new model is,\n",
    "\n",
    "Then, fit a quadratic model to data."
   ]
  },
  {
   "cell_type": "code",
   "execution_count": null,
   "metadata": {
    "tags": []
   },
   "outputs": [],
   "source": [
    "X2 = X1.copy()\n",
    "X2.insert(2, 'LSTAT^2', X2['LSTAT']**2)\n",
    "\n",
    "beta4 = ...\n",
    "loss4 = ...\n",
    "prob4 = ...\n",
    "\n",
    "prob4.solve()\n",
    "\n",
    "yhat4 = ..."
   ]
  },
  {
   "cell_type": "code",
   "execution_count": null,
   "metadata": {
    "deletable": false,
    "editable": false
   },
   "outputs": [],
   "source": [
    "grader.check(\"q4a\")"
   ]
  },
  {
   "cell_type": "markdown",
   "metadata": {
    "deletable": false,
    "editable": false
   },
   "source": [
    "<!-- BEGIN QUESTION -->\n",
    "\n",
    "Visualize quadratic fit:"
   ]
  },
  {
   "cell_type": "code",
   "execution_count": null,
   "metadata": {
    "tags": []
   },
   "outputs": [],
   "source": [
    "fig, ax = plt.subplots(figsize=(10, 7))\n",
    "\n",
    "...\n",
    "\n",
    "plt.show()"
   ]
  },
  {
   "cell_type": "markdown",
   "metadata": {
    "deletable": false,
    "editable": false
   },
   "source": [
    "<!-- END QUESTION -->\n",
    "\n"
   ]
  },
  {
   "cell_type": "markdown",
   "metadata": {
    "deletable": false,
    "editable": false
   },
   "source": [
    "## Submission\n",
    "\n",
    "Make sure you have run all cells in your notebook in order before running the cell below, so that all images/graphs appear in the output. The cell below will generate a zip file for you to submit. **Please save before exporting!**"
   ]
  },
  {
   "cell_type": "code",
   "execution_count": null,
   "metadata": {
    "deletable": false,
    "editable": false
   },
   "outputs": [],
   "source": [
    "# Save your notebook first, then run this cell to export your submission.\n",
    "grader.export(pdf=False, run_tests=True)"
   ]
  },
  {
   "cell_type": "markdown",
   "metadata": {},
   "source": [
    " "
   ]
  }
 ],
 "metadata": {
  "kernelspec": {
   "display_name": "Python 3",
   "language": "python",
   "name": "python3"
  },
  "language_info": {
   "codemirror_mode": {
    "name": "ipython",
    "version": 3
   },
   "file_extension": ".py",
   "mimetype": "text/x-python",
   "name": "python",
   "nbconvert_exporter": "python",
   "pygments_lexer": "ipython3",
   "version": "3.11.5"
  },
  "otter": {
   "OK_FORMAT": true,
   "tests": {
    "q1": {
     "name": "q1",
     "points": 3,
     "suites": [
      {
       "cases": [
        {
         "code": ">>> X1.columns\nIndex(['intercept', 'LSTAT'], dtype='object')",
         "hidden": false,
         "locked": false
        },
        {
         "code": ">>> X1.shape\n(506, 2)",
         "hidden": false,
         "locked": false
        },
        {
         "code": ">>> np.all(y == housing['MEDV'])\nTrue",
         "hidden": false,
         "locked": false
        },
        {
         "code": ">>> np.all(X1['intercept'] == 1)\nTrue",
         "hidden": false,
         "locked": false
        },
        {
         "code": ">>> np.all(X1['LSTAT'] == housing['LSTAT'])\nTrue",
         "hidden": false,
         "locked": false
        }
       ],
       "scored": true,
       "setup": "",
       "teardown": "",
       "type": "doctest"
      }
     ]
    },
    "q2": {
     "name": "q2",
     "points": 3,
     "suites": [
      {
       "cases": [
        {
         "code": ">>> np.round(beta2.value, 3)\narray([34.554, -0.95 ])",
         "hidden": false,
         "locked": false
        }
       ],
       "scored": true,
       "setup": "",
       "teardown": "",
       "type": "doctest"
      }
     ]
    },
    "q4a": {
     "name": "q4a",
     "points": 3,
     "suites": [
      {
       "cases": [
        {
         "code": ">>> np.round(beta4.value, 3)\narray([42.862, -2.333,  0.044])",
         "hidden": false,
         "locked": false
        }
       ],
       "scored": true,
       "setup": "",
       "teardown": "",
       "type": "doctest"
      }
     ]
    }
   }
  }
 },
 "nbformat": 4,
 "nbformat_minor": 4
}
