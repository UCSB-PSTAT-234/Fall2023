{
 "cells": [
  {
   "cell_type": "code",
   "execution_count": null,
   "metadata": {
    "deletable": false,
    "editable": false
   },
   "outputs": [],
   "source": [
    "# Initialize Otter\n",
    "import otter\n",
    "grader = otter.Notebook(\"lab7.ipynb\")"
   ]
  },
  {
   "cell_type": "markdown",
   "metadata": {
    "nbgrader": {
     "grade": false,
     "grade_id": "intro",
     "locked": true,
     "schema_version": 2,
     "solution": false
    }
   },
   "source": [
    "# Lab 7: Regular Expressions "
   ]
  },
  {
   "cell_type": "code",
   "execution_count": null,
   "metadata": {
    "nbgrader": {
     "grade": false,
     "grade_id": "imports",
     "locked": true,
     "schema_version": 2,
     "solution": false
    }
   },
   "outputs": [],
   "source": [
    "import pandas as pd\n",
    "import numpy as np\n",
    "import re\n",
    "\n",
    "from pathlib import Path"
   ]
  },
  {
   "cell_type": "markdown",
   "metadata": {},
   "source": [
    "## Objectives:\n",
    "\n",
    "First, read this DS 100 text book section on regular expressions: <https://www.textbook.ds100.org/ch/08/text_regex.html>\n",
    " \n",
    "Then, you will practice the basic usage of regular expressions and also learn to use `re` module in Python. Some of the materials are based on the tutorial at <http://opim.wharton.upenn.edu/~sok/idtresources/python/regex.pdf>. As you work through the first part of the lab, you may also find the website <http://regex101.com> helpful.\n",
    "\n",
    "You will likely run out of time; however, you can finish the exercises on your own."
   ]
  },
  {
   "cell_type": "markdown",
   "metadata": {},
   "source": [
    "---\n",
    "# Part 1: Regular Expressions\n",
    "\n",
    "We'll start by learning about the simplest possible regular expressions. Since regular expressions are used\n",
    "to operate on strings, we'll start with the most common task: matching characters.\n",
    "\n",
    "Most letters and characters will simply match themselves. For example, the regular expression `r'test'` will match the string `test` exactly. There are exceptions to this rule; some characters are special, and don't match themselves.\n",
    "\n",
    "Here is a list of metacharacters that are widely used in regular experssion. \n",
    "\n",
    "|Pattern|Description|\n",
    "|--- |--- |\n",
    "|`^`|Matches beginning of line.|\n",
    "|`$`|Matches end of line.|\n",
    "|`.`|Matches any single character except newline.|\n",
    "|`*`|Matches 0 or more occurrences of preceding expression.|\n",
    "|`+`|Matches 1 or more occurrence of preceding expression.|\n",
    "|`?`|Matches 0 or 1 occurrence of preceding expression.|\n",
    "|`[...]`|Matches any single character in brackets.|\n",
    "|`[^...]`|Matches any single character not in brackets.|\n",
    "|`{n}`|Matches exactly n number of occurrences of preceding expression.|\n",
    "|`{n,}`|Matches n or more occurrences of preceding expression.|\n",
    "|`{n,m}`|Matches at least n and at most m occurrences of preceding expression.|\n",
    "|`a\\|b`|Matches either a or b.|\n",
    "|`\\1...\\9`|Matches n-th grouped subexpression.|\n",
    "\n",
    "Perhaps the most important metacharacter is the backslash, ‘\\’. As in Python string literals, the backslash\n",
    "can be followed by various characters to signal various special sequences. It’s also used to escape all the\n",
    "metacharacters so you can still match them in patterns; for example, if you need to match a `[` or `\\`, you\n",
    "can precede them with a backslash to remove their special meaning:  `\\[` or `\\\\`. \n",
    "\n",
    "The following predefined special sequences are available:\n",
    "\n",
    "|Pattern|Description|\n",
    "|--- |--- |\n",
    "|`\\d`|Matches any decimal digit; this is equivalent to the class `[0-9]`|\n",
    "|`\\D`|Matches any non-digit character; this is equivalent to the class `[^0-9]`.|\n",
    "|`\\s`|Matches any whitespace character; this is equivalent to the class `[ \\t\\n\\r\\f\\v]`|\n",
    "|`\\S`|Matches any non-whitespace character; this is equivalent to the class `[^ \\t\\n\\r\\f\\v]`.|\n",
    "|`\\w`|Matches any alphanumeric character; this is equivalent to the class `[a-zA-Z0-9_]`|\n",
    "|`\\W`|Matches any non-alphanumeric character; this is equivalent to the class `[^a-zA-Z0-9_]`.|"
   ]
  },
  {
   "cell_type": "markdown",
   "metadata": {
    "nbgrader": {
     "grade": false,
     "grade_id": "q1",
     "locked": true,
     "schema_version": 2,
     "solution": false
    }
   },
   "source": [
    "# Question 1\n",
    "In this question, write patterns that match the given sequences. It may be as simple as the common letters on each line."
   ]
  },
  {
   "cell_type": "markdown",
   "metadata": {
    "deletable": false,
    "editable": false,
    "nbgrader": {
     "grade": false,
     "grade_id": "q1a",
     "locked": true,
     "schema_version": 2,
     "solution": false
    }
   },
   "source": [
    "\n",
    "## Question 1a\n",
    "\n",
    "Write a single regular expression to match the following strings without using the `|` operator.\n",
    "\n",
    "1. **Match:** `abcdefg`\n",
    "1. **Match:** `abcde`\n",
    "1. **Match:** `abc`\n",
    "1. **Skip:** `c abc`"
   ]
  },
  {
   "cell_type": "code",
   "execution_count": null,
   "metadata": {
    "nbgrader": {
     "grade": false,
     "grade_id": "q1a-answer",
     "locked": false,
     "schema_version": 2,
     "solution": true
    },
    "tags": []
   },
   "outputs": [],
   "source": [
    "regx1 = r\"\" # fill in your pattern"
   ]
  },
  {
   "cell_type": "code",
   "execution_count": null,
   "metadata": {
    "deletable": false,
    "editable": false
   },
   "outputs": [],
   "source": [
    "grader.check(\"q1a\")"
   ]
  },
  {
   "cell_type": "markdown",
   "metadata": {
    "deletable": false,
    "editable": false,
    "nbgrader": {
     "grade": false,
     "grade_id": "q1b",
     "locked": true,
     "schema_version": 2,
     "solution": false
    }
   },
   "source": [
    "\n",
    "## Question 1b\n",
    "\n",
    "Write a single regular expression to match the following strings without using the `|` operator.\n",
    "\n",
    "1. **Match:** `can`\n",
    "1. **Match:** `man`\n",
    "1. **Match:** `fan`\n",
    "1. **Skip:** `dan`\n",
    "1. **Skip:** `ran`\n",
    "1. **Skip:** `pan`\n"
   ]
  },
  {
   "cell_type": "code",
   "execution_count": null,
   "metadata": {
    "nbgrader": {
     "grade": false,
     "grade_id": "q1b-answer",
     "locked": false,
     "schema_version": 2,
     "solution": true
    },
    "tags": []
   },
   "outputs": [],
   "source": [
    "regx2 = r\"\" # fill in your pattern"
   ]
  },
  {
   "cell_type": "code",
   "execution_count": null,
   "metadata": {
    "deletable": false,
    "editable": false
   },
   "outputs": [],
   "source": [
    "grader.check(\"q1b\")"
   ]
  },
  {
   "cell_type": "markdown",
   "metadata": {
    "nbgrader": {
     "grade": false,
     "grade_id": "q2",
     "locked": true,
     "schema_version": 2,
     "solution": false
    }
   },
   "source": [
    "# Question 2\n",
    "\n",
    "Now that we have written a few regular expressions, we are now ready to move beyond matching. In this question, we'll take a look at some methods from the `re` package."
   ]
  },
  {
   "cell_type": "markdown",
   "metadata": {
    "deletable": false,
    "editable": false,
    "nbgrader": {
     "grade": false,
     "grade_id": "q2a",
     "locked": true,
     "schema_version": 2,
     "solution": false
    }
   },
   "source": [
    "\n",
    "## Question 2a:\n",
    "\n",
    "Write a Python program to extract and print the numbers of a given string. \n",
    "\n",
    "1. **Hint:** use `re.findall`\n",
    "2. **Hint:** use `\\d` for digits and one of either `*` or `+`.\n"
   ]
  },
  {
   "cell_type": "code",
   "execution_count": null,
   "metadata": {
    "nbgrader": {
     "grade": false,
     "grade_id": "q2a-answer",
     "locked": false,
     "schema_version": 2,
     "solution": true
    },
    "tags": []
   },
   "outputs": [],
   "source": [
    "text_q2a = \"Ten 10, Twenty 20, Thirty 30\"\n",
    "\n",
    "res_q2a = ...\n",
    "\n",
    "res_q2a"
   ]
  },
  {
   "cell_type": "code",
   "execution_count": null,
   "metadata": {
    "deletable": false,
    "editable": false
   },
   "outputs": [],
   "source": [
    "grader.check(\"q2a\")"
   ]
  },
  {
   "cell_type": "markdown",
   "metadata": {
    "deletable": false,
    "editable": false,
    "nbgrader": {
     "grade": false,
     "grade_id": "q2b",
     "locked": true,
     "schema_version": 2,
     "solution": false
    }
   },
   "source": [
    "\n",
    "## Question 2b:\n",
    "\n",
    "Write a Python program to replace at most 2 occurrences of space, comma, or dot with a colon.\n",
    "\n",
    "**Hint:** use `re.sub(regex, \"newtext\", string, number_of_occurences)`"
   ]
  },
  {
   "cell_type": "code",
   "execution_count": null,
   "metadata": {
    "nbgrader": {
     "grade": false,
     "grade_id": "q2b-answer",
     "locked": false,
     "schema_version": 2,
     "solution": true
    },
    "tags": []
   },
   "outputs": [],
   "source": [
    "text_q2b = 'Python Exercises, PHP exercises.'\n",
    "res_q2b = ... # Hint: use re.sub()\n",
    "\n",
    "res_q2b"
   ]
  },
  {
   "cell_type": "code",
   "execution_count": null,
   "metadata": {
    "deletable": false,
    "editable": false
   },
   "outputs": [],
   "source": [
    "grader.check(\"q2b\")"
   ]
  },
  {
   "cell_type": "markdown",
   "metadata": {
    "deletable": false,
    "editable": false,
    "nbgrader": {
     "grade": false,
     "grade_id": "q2c",
     "locked": true,
     "schema_version": 2,
     "solution": false
    }
   },
   "source": [
    "\n",
    "## Question 2c: \n",
    "\n",
    "Write a Python program to extract values between quotation marks of a string."
   ]
  },
  {
   "cell_type": "code",
   "execution_count": null,
   "metadata": {
    "nbgrader": {
     "grade": false,
     "grade_id": "q2c-answer",
     "locked": false,
     "schema_version": 2,
     "solution": true
    },
    "tags": []
   },
   "outputs": [],
   "source": [
    "text_q2c = '\"Python\", \"PHP\", \"Java\"'\n",
    "res_q2c = ... # Hint: use re.findall()\n",
    "\n",
    "res_q2c"
   ]
  },
  {
   "cell_type": "code",
   "execution_count": null,
   "metadata": {
    "deletable": false,
    "editable": false
   },
   "outputs": [],
   "source": [
    "grader.check(\"q2c\")"
   ]
  },
  {
   "cell_type": "markdown",
   "metadata": {
    "deletable": false,
    "editable": false
   },
   "source": [
    "## Question 2d:\n",
    "\n",
    "Write a regular expression to extract and print the quantity and type of objects in a string. You may assume that a space separates quantity and type, ie. `\"{quantity} {type}\"`. See the example string below for more detail.\n",
    "\n",
    "1. **Hint:** use `re.findall`\n",
    "2. **Hint:** use `\\d` for digits and one of either `*` or `+`."
   ]
  },
  {
   "cell_type": "code",
   "execution_count": null,
   "metadata": {
    "tags": []
   },
   "outputs": [],
   "source": [
    "text_q2d = \"I've got 10 eggs that I stole from 20 gooses belonging to 30 giants in 40 days.\"\n",
    "\n",
    "res_q2d = ...\n",
    "\n",
    "res_q2d"
   ]
  },
  {
   "cell_type": "code",
   "execution_count": null,
   "metadata": {
    "deletable": false,
    "editable": false
   },
   "outputs": [],
   "source": [
    "grader.check(\"q2d\")"
   ]
  },
  {
   "cell_type": "markdown",
   "metadata": {
    "deletable": false,
    "editable": false
   },
   "source": [
    "<!-- BEGIN QUESTION -->\n",
    "\n",
    "## Question 2e (optional):\n",
    "\n",
    "Write a regular expression to replace all words that are not `\"mushroom\"` with `\"badger\"`.\n"
   ]
  },
  {
   "cell_type": "code",
   "execution_count": null,
   "metadata": {
    "tags": []
   },
   "outputs": [],
   "source": [
    "\n",
    "text_qe = 'this is a word mushroom mushroom'\n",
    "res_qe = ... # Hint: https://www.regextester.com/94017\n",
    "res_qe"
   ]
  },
  {
   "cell_type": "markdown",
   "metadata": {
    "deletable": false,
    "editable": false
   },
   "source": [
    "<!-- END QUESTION -->\n",
    "\n"
   ]
  },
  {
   "cell_type": "markdown",
   "metadata": {
    "deletable": false,
    "editable": false
   },
   "source": [
    "## Submission\n",
    "\n",
    "Make sure you have run all cells in your notebook in order before running the cell below, so that all images/graphs appear in the output. The cell below will generate a zip file for you to submit. **Please save before exporting!**\n",
    "\n",
    "Download the zip file and submit to Gradescope."
   ]
  },
  {
   "cell_type": "code",
   "execution_count": null,
   "metadata": {
    "deletable": false,
    "editable": false
   },
   "outputs": [],
   "source": [
    "# Save your notebook first, then run this cell to export your submission.\n",
    "grader.export(run_tests=True)"
   ]
  },
  {
   "cell_type": "markdown",
   "metadata": {},
   "source": [
    " "
   ]
  }
 ],
 "metadata": {
  "celltoolbar": "Create Assignment",
  "kernelspec": {
   "display_name": "Python 3",
   "language": "python",
   "name": "python3"
  },
  "language_info": {
   "codemirror_mode": {
    "name": "ipython",
    "version": 3
   },
   "file_extension": ".py",
   "mimetype": "text/x-python",
   "name": "python",
   "nbconvert_exporter": "python",
   "pygments_lexer": "ipython3",
   "version": "3.7.8"
  },
  "otter": {
   "OK_FORMAT": true,
   "tests": {
    "q1a": {
     "name": "q1a",
     "points": 4,
     "suites": [
      {
       "cases": [
        {
         "code": ">>> '|' not in regx1\nTrue",
         "hidden": false,
         "locked": false
        },
        {
         "code": ">>> re.search(regx1, 'abc').group()\n'abc'",
         "hidden": false,
         "locked": false
        },
        {
         "code": ">>> re.search(regx1, 'abcde').group()\n'abcde'",
         "hidden": false,
         "locked": false
        },
        {
         "code": ">>> re.search(regx1, 'abcdefg').group()\n'abcdefg'",
         "hidden": false,
         "locked": false
        },
        {
         "code": ">>> re.search(regx1, 'c abc') is None\nTrue",
         "hidden": false,
         "locked": false
        }
       ],
       "scored": true,
       "setup": "",
       "teardown": "",
       "type": "doctest"
      }
     ]
    },
    "q1b": {
     "name": "q1b",
     "points": 4,
     "suites": [
      {
       "cases": [
        {
         "code": ">>> '|' not in regx2\nTrue",
         "hidden": false,
         "locked": false
        },
        {
         "code": ">>> re.match(regx2, 'can').group()\n'can'",
         "hidden": false,
         "locked": false
        },
        {
         "code": ">>> re.match(regx2, 'fan').group()\n'fan'",
         "hidden": false,
         "locked": false
        },
        {
         "code": ">>> re.match(regx2, 'man').group()\n'man'",
         "hidden": false,
         "locked": false
        },
        {
         "code": ">>> re.match(regx2, 'dan') is None\nTrue",
         "hidden": false,
         "locked": false
        },
        {
         "code": ">>> re.match(regx2, 'ran') is None\nTrue",
         "hidden": false,
         "locked": false
        },
        {
         "code": ">>> re.match(regx2, 'pan') is None\nTrue",
         "hidden": false,
         "locked": false
        }
       ],
       "scored": true,
       "setup": "",
       "teardown": "",
       "type": "doctest"
      }
     ]
    },
    "q2a": {
     "name": "q2a",
     "points": 4,
     "suites": [
      {
       "cases": [
        {
         "code": ">>> res_q2a\n['10', '20', '30']",
         "hidden": false,
         "locked": false
        }
       ],
       "scored": true,
       "setup": "",
       "teardown": "",
       "type": "doctest"
      }
     ]
    },
    "q2b": {
     "name": "q2b",
     "points": 4,
     "suites": [
      {
       "cases": [
        {
         "code": ">>> res_q2b\n'Python:Exercises: PHP exercises.'",
         "hidden": false,
         "locked": false
        }
       ],
       "scored": true,
       "setup": "",
       "teardown": "",
       "type": "doctest"
      }
     ]
    },
    "q2c": {
     "name": "q2c",
     "points": 4,
     "suites": [
      {
       "cases": [
        {
         "code": ">>> res_q2c\n['Python', 'PHP', 'Java']",
         "hidden": false,
         "locked": false
        }
       ],
       "scored": true,
       "setup": "",
       "teardown": "",
       "type": "doctest"
      }
     ]
    },
    "q2d": {
     "name": "q2d",
     "points": 4,
     "suites": [
      {
       "cases": [
        {
         "code": ">>> assert res_q2d == ['10 eggs', '20 gooses', '30 giants', '40 days']\n",
         "hidden": false,
         "locked": false
        }
       ],
       "scored": true,
       "setup": "",
       "teardown": "",
       "type": "doctest"
      }
     ]
    }
   }
  },
  "toc": {
   "base_numbering": 1,
   "nav_menu": {},
   "number_sections": true,
   "sideBar": true,
   "skip_h1_title": false,
   "title_cell": "Table of Contents",
   "title_sidebar": "Contents",
   "toc_cell": false,
   "toc_position": {},
   "toc_section_display": true,
   "toc_window_display": false
  }
 },
 "nbformat": 4,
 "nbformat_minor": 4
}
