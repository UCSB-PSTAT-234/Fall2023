{
 "cells": [
  {
   "cell_type": "code",
   "execution_count": null,
   "metadata": {
    "deletable": false,
    "editable": false
   },
   "outputs": [],
   "source": [
    "# Initialize Otter\n",
    "import otter\n",
    "grader = otter.Notebook(\"assignment2.ipynb\")"
   ]
  },
  {
   "cell_type": "markdown",
   "metadata": {
    "hideCode": false,
    "hidePrompt": false
   },
   "source": [
    "# Assignment 2: Exploratory Data Analysis in Professional Basketball\n",
    "\n",
    "In this assignment we'll conduct an exploratory data analysis of professional basketball data.  Basketball is a team sport in which the goal is to try to outscore the amount in a fixed amount of time. Points are scored (either 2 or 3 points) by putting the ball throw a hoop on one end of the court.  An attempt at putting the ball throw the hoop is known as a \"shot\".  If helpful, you can read more about [the rules of basketball](https://en.wikipedia.org/wiki/Rules_of_basketball).\n",
    "\n",
    "The National Basketball Association (NBA) is the professional basketball league in the United States and provides a nice website with many statistics gathered on teams and players in the league: [http://stat.nba.com](http://stat.nba.com). "
   ]
  },
  {
   "cell_type": "markdown",
   "metadata": {
    "deletable": false,
    "editable": false,
    "hideCode": false,
    "hidePrompt": false
   },
   "source": [
    "<!-- BEGIN QUESTION -->\n",
    "\n",
    "## Question 1: Managing data files\n",
    "\n",
    "We will use data that is available from NBA. Although NBA doesn't officially make the data API (application programming interface) public, people have figured out ways to access their data programmatically ([1](https://github.com/swar/nba_api), [2](https://github.com/seemethere/nba_py/wiki/stats.nba.com-Endpoint-Documentation)). However, NBA does not offer an official API and it is possible to get our JupyterHub blocked by the site if we use them. Therefore, in this assignment, the raw data downloads are provided to you in a zip file: https://ucsb.box.com/shared/static/z6y3etgikbzbnf0ld4brvc95xtgjcrie.zip\n",
    "\n",
    "Download and unzip the file to a directory named `data` using command line commands (unzipping on Windows and Mac may not work because different OS have different constraints on filename lengths, etc.). Adding an exclamation point in the Jupyter notebook cell indicates that `bash` shell interpreter will execute your command.\n",
    "```bash\n",
    "wget -nc https://ucsb.box.com/shared/static/z6y3etgikbzbnf0ld4brvc95xtgjcrie.zip -O nba-data.zip\n",
    "unzip -o nba-data.zip -d data\n",
    "```\n",
    "What these commands are doing:\n",
    "* `wget` downloads files ([what do each of the pieces do?](https://explainshell.com/explain?cmd=wget+-nc+https%3A%2F%2Fucsb.box.com%2Fshared%2Fstatic%2F940qiuxyp798gv4nx8iwvazu9qqjs37e.zip+-O+nba-data.zip))\n",
    "* `unzip` will unzip `nba-data.zip` into a directory named `data` (specified by `-d data`) and will overwrite any same filenames when extracting (specified by `-o`)."
   ]
  },
  {
   "cell_type": "code",
   "execution_count": null,
   "metadata": {
    "tags": []
   },
   "outputs": [],
   "source": [
    "# Run your commands in this cell"
   ]
  },
  {
   "cell_type": "markdown",
   "metadata": {
    "deletable": false,
    "editable": false,
    "hideCode": false,
    "hidePrompt": false
   },
   "source": [
    "<!-- END QUESTION -->\n",
    "\n",
    "After unzipping the files, you will find three types of files in `data/` directory:\n",
    "\n",
    "* Team data: `commonTeamYears?LeagueID=00&Season=2018-19`\n",
    "* Player data: `commonallplayers?LeagueID=00&Season=2018-19&IsOnlyCurrentSeason=0`\n",
    "* Player's shot data: `shotchartdetail?PlayerID=[PlayerID]&PlayerPosition=&Season=2018-19&ContextMeasure=FGA&DateFrom=&DateTo=&GameID=&GameSegment=&LastNGames=0&LeagueID=00&Location=&Month=0&OpponentTeamID=0&Outcome=&Period=0&Position=&RookieYear=&SeasonSegment=&`\n",
    "\n",
    "Each player's shot data is identified by replacing `[PlayerID]` with their numeric ID.\n",
    "\n",
    "Here is how we will read in the data:\n",
    "* Each data file contains text in [JSON (Javascript Object Notation) format](https://www.w3schools.com/python/python_json.asp).\n",
    "* First, read the data content as text (using [Path.read_text()](https://docs.python.org/3/library/pathlib.html#pathlib.Path.read_text) from `pathlib` module)\n",
    "* Second, we convert it to a Python dictionary format (using [json.loads()](https://docs.python.org/3/library/json.html#json.loads) in `json` module)\n",
    "* Third, identify DataFrame content \n",
    "* Fourth, identify DataFrame header\n",
    "* Fifth, assemble DataFrame\n",
    "\n",
    "Another way to unzip a file is using `zipfile`."
   ]
  },
  {
   "cell_type": "code",
   "execution_count": null,
   "metadata": {},
   "outputs": [],
   "source": [
    "import zipfile\n",
    "with zipfile.ZipFile('nba-data.zip', 'r') as zip_ref:\n",
    "    zip_ref.extractall('data')"
   ]
  },
  {
   "cell_type": "markdown",
   "metadata": {
    "deletable": false,
    "editable": false,
    "hideCode": false,
    "hidePrompt": false
   },
   "source": [
    "### Question 1a: Team Data\n",
    "\n",
    "Read team data file into a pandas data frame named `allteams` starting from the given code below."
   ]
  },
  {
   "cell_type": "code",
   "execution_count": null,
   "metadata": {
    "deletable": false,
    "editable": false
   },
   "outputs": [],
   "source": [
    "from pathlib import Path\n",
    "import json\n",
    "import pandas as pd\n",
    "import numpy as np\n",
    "\n",
    "fname  = 'data/commonTeamYears?LeagueID=00&Season=2018-19' # directory_name/file_name\n",
    "step_1 = Path(fname).read_text()              # str\n",
    "step_2 = json.loads(step_1)                   # dict\n",
    "step_3 = step_2['resultSets'][0]['rowSet']    # list \n",
    "step_4 = step_2['resultSets'][0]['headers']   # list"
   ]
  },
  {
   "cell_type": "code",
   "execution_count": null,
   "metadata": {
    "deletable": false,
    "editable": false
   },
   "outputs": [],
   "source": [
    "# print out each of step_1 through step_4 and understand what each line does"
   ]
  },
  {
   "cell_type": "markdown",
   "metadata": {
    "deletable": false,
    "editable": false,
    "hideCode": false,
    "hidePrompt": false
   },
   "source": [
    "Use variables constructed above to assemble `allteams` DataFrame.\n",
    "\n",
    "Drop any teams that no longer exist as of 2019. These teams show None in `ABBREVIATION` column.\n",
    "\n"
   ]
  },
  {
   "cell_type": "code",
   "execution_count": null,
   "metadata": {
    "tags": []
   },
   "outputs": [],
   "source": [
    "allteams = ..."
   ]
  },
  {
   "cell_type": "code",
   "execution_count": null,
   "metadata": {
    "deletable": false,
    "editable": false
   },
   "outputs": [],
   "source": [
    "grader.check(\"q1a\")"
   ]
  },
  {
   "cell_type": "markdown",
   "metadata": {
    "deletable": false,
    "editable": false,
    "hideCode": false,
    "hidePrompt": false
   },
   "source": [
    "### Question 1b: Player Data\n",
    "\n",
    "`pathlib` has flexible ways to specify file and directory paths. For example, the following are equivalent:\n",
    "\n",
    "* `Path('data/commonallplayers?LeagueID=00&Season=2018-19&IsOnlyCurrentSeason=0')`\n",
    "* `Path('data') / 'commonallplayers?LeagueID=00&Season=2018-19&IsOnlyCurrentSeason=0')`\n",
    "* `Path('data').joinpath('commonallplayers?LeagueID=00&Season=2018-19&IsOnlyCurrentSeason=0')`\n",
    "\n",
    "Read players data file with name `data/commonallplayers?LeagueID=00&Season=2018-19&IsOnlyCurrentSeason=0`. \n",
    "Assemble pandas DataFrame with name `allplayers`. Set row index to be `PERSON_ID` and `sort_index`.\n"
   ]
  },
  {
   "cell_type": "code",
   "execution_count": null,
   "metadata": {
    "hideCode": false,
    "hidePrompt": false,
    "tags": []
   },
   "outputs": [],
   "source": [
    "dirname  = 'data' # directory_name\n",
    "filename = 'commonallplayers?LeagueID=00&Season=2018-19&IsOnlyCurrentSeason=0' # file_name\n",
    "step_1 = ...\n",
    "...\n",
    "allplayers = ..."
   ]
  },
  {
   "cell_type": "code",
   "execution_count": null,
   "metadata": {
    "deletable": false,
    "editable": false
   },
   "outputs": [],
   "source": [
    "grader.check(\"q1b\")"
   ]
  },
  {
   "cell_type": "markdown",
   "metadata": {
    "deletable": false,
    "editable": false,
    "hideCode": false,
    "hidePrompt": false
   },
   "source": [
    "### Question 1c: Shots Data\n",
    "\n",
    "`pathlib` can also find all filenames that match a given pattern using [`Path.glob()` method](https://docs.python.org/3/library/pathlib.html#pathlib.Path.glob).\n",
    "\n",
    "For example, teams data and players data start with the pattern `common` followed by a wildcard `*`: `common*`. \n",
    "\n",
    "We can use this to retrieve two file names with one call:"
   ]
  },
  {
   "cell_type": "code",
   "execution_count": null,
   "metadata": {
    "deletable": false,
    "editable": false
   },
   "outputs": [],
   "source": [
    "two_files = Path('data').glob('common*') # generator: https://www.educative.io/edpresso/generator-vs-iterator-in-python\n",
    "list(two_files)                          # list"
   ]
  },
  {
   "cell_type": "markdown",
   "metadata": {
    "deletable": false,
    "editable": false,
    "hideCode": false,
    "hidePrompt": false
   },
   "source": [
    "All file names for shots data start with `shotchartdetail`. \n",
    "\n",
    "Use this as the pattern to \n",
    "* First, read all file names into `allshots_files`\n",
    "* Second, loop over each file in `allshots_files` and assemble a dataframe\n",
    "* Third, add as an element in a list named `allshots_list` (each file is an data frame item in the list). \n",
    "* Fourth, concatenate all dataframes into one dataframe named `allshots`. Set the row index to be `PLAYER_ID` and `sort_index`.\n"
   ]
  },
  {
   "cell_type": "code",
   "execution_count": null,
   "metadata": {
    "hideCode": false,
    "hidePrompt": false,
    "tags": []
   },
   "outputs": [],
   "source": [
    "allshots_files = ...\n",
    "allshots_files.sort()\n",
    "allshots_list  = list()\n",
    "\n",
    "for f in allshots_files:\n",
    "    ...\n",
    "\n",
    "allshots = ..."
   ]
  },
  {
   "cell_type": "code",
   "execution_count": null,
   "metadata": {
    "deletable": false,
    "editable": false
   },
   "outputs": [],
   "source": [
    "grader.check(\"q1c\")"
   ]
  },
  {
   "cell_type": "markdown",
   "metadata": {
    "deletable": false,
    "editable": false,
    "hideCode": false,
    "hidePrompt": false
   },
   "source": [
    "### Question 1d: Extract Stephen Curry's Shot Data\n",
    "\n",
    "Use [`allplayers.query()`](https://pandas.pydata.org/pandas-docs/stable/reference/api/pandas.DataFrame.query.html) to find the player id (index) associated with the player named \"[Stephen Curry](https://en.wikipedia.org/wiki/Stephen_Curry)\".  Set the value of `PlayerID` as `curry_id` of type `str`. \n",
    "\n",
    "Subset all of Stephen Curry's shots in a data frame named `curry_data`. Also, set the dtype of `SHOT_MADE_FLAG` to `'bool'` in one command. Something like:  \n",
    "```\n",
    "curry_data = allshots.query(???).astype(????)\n",
    "```\n",
    "\n"
   ]
  },
  {
   "cell_type": "code",
   "execution_count": null,
   "metadata": {
    "tags": []
   },
   "outputs": [],
   "source": [
    "# fill-in all ...\n",
    "query_str = '... == \"Stephen Curry\"'\n",
    "curry_id = str(allplayers.query(...).index.values[...])\n",
    "curry_data = allshots.query('PLAYER_ID == ' + curry_id).astype({... : ...})\n",
    "..."
   ]
  },
  {
   "cell_type": "code",
   "execution_count": null,
   "metadata": {
    "deletable": false,
    "editable": false
   },
   "outputs": [],
   "source": [
    "grader.check(\"q1d\")"
   ]
  },
  {
   "cell_type": "markdown",
   "metadata": {
    "deletable": false,
    "editable": false,
    "hideCode": false,
    "hidePrompt": false
   },
   "source": [
    "## Question 2: Visualization"
   ]
  },
  {
   "cell_type": "markdown",
   "metadata": {
    "deletable": false,
    "editable": false,
    "hideCode": false,
    "hidePrompt": false
   },
   "source": [
    "### Question 2a: All Shots Scatter Plot\n",
    "Use `seaborn` to create scatter plot of the location of Stephen Curry's shot attempts from this year (`LOC_X` and `LOC_Y`).  When you call a scatterplot, seaborn returns a figure in an object, we'll call it `ax`.  We can set properties of the figure by calling methods on `ax`.  Use this approach to set the x-axis limits to span (-300, 300), the y-axis limits to span (-100, 500)."
   ]
  },
  {
   "cell_type": "code",
   "execution_count": null,
   "metadata": {
    "hideCode": false,
    "hidePrompt": false,
    "tags": []
   },
   "outputs": [],
   "source": [
    "%matplotlib inline\n",
    "import matplotlib.pyplot as plt\n",
    "import seaborn as sns\n",
    "\n",
    "plt.figure(figsize=[12, 11])\n",
    "ax2a = ...\n",
    "\n",
    "# Set x/y limits and labels\n",
    "...\n",
    "plt.show()"
   ]
  },
  {
   "cell_type": "code",
   "execution_count": null,
   "metadata": {
    "deletable": false,
    "editable": false
   },
   "outputs": [],
   "source": [
    "grader.check(\"q2a\")"
   ]
  },
  {
   "cell_type": "markdown",
   "metadata": {
    "hideCode": false,
    "hidePrompt": false
   },
   "source": [
    "Understanding any dataset is difficult without context.  Lets add some important context by adding the relevant court lines into our diagram.  If you are interested, you can read more about the lines and dimensions on the [NBA basketball court](https://en.wikipedia.org/wiki/Basketball_court).  We will use code from [http://savvastjortjoglou.com/nba-shot-sharts.html](http://savvastjortjoglou.com/nba-shot-sharts.html) to add the court markings to our diagram.  The `draw_court` function below will do this for us.  The below cell will generate an example court."
   ]
  },
  {
   "cell_type": "code",
   "execution_count": null,
   "metadata": {
    "hideCode": false,
    "hidePrompt": false
   },
   "outputs": [],
   "source": [
    "## code is from http://savvastjortjoglou.com/nba-shot-sharts.html\n",
    "def draw_court(ax=None, color='black', lw=1, outer_lines=False):\n",
    "    \n",
    "    from matplotlib.patches import Circle, Rectangle, Arc\n",
    "    from matplotlib.pyplot import gca\n",
    "    \n",
    "    # If an axes object isn't provided to plot onto, just get current one\n",
    "    if ax is None:\n",
    "        ax = gca()\n",
    "\n",
    "    # Create the various parts of an NBA basketball court\n",
    "\n",
    "    # Create the basketball hoop\n",
    "    # Diameter of a hoop is 18\" so it has a radius of 9\", which is a value\n",
    "    # 7.5 in our coordinate system\n",
    "    hoop = Circle((0, 0), radius=7.5, linewidth=lw, color=color, fill=False)\n",
    "\n",
    "    # Create backboard\n",
    "    backboard = Rectangle((-30, -7.5), 60, 0, linewidth=lw, color=color)\n",
    "\n",
    "    # The paint\n",
    "    # Create the outer box 0f the paint, width=16ft, height=19ft\n",
    "    outer_box = Rectangle((-80, -47.5), 160, 190, linewidth=lw, color=color,\n",
    "                          fill=False)\n",
    "    # Create the inner box of the paint, widt=12ft, height=19ft\n",
    "    inner_box = Rectangle((-60, -47.5), 120, 190, linewidth=lw, color=color,\n",
    "                          fill=False)\n",
    "\n",
    "    # Create free throw top arc\n",
    "    top_free_throw = Arc((0, 142.5), 120, 120, theta1=0, theta2=180,\n",
    "                         linewidth=lw, color=color, fill=False)\n",
    "    # Create free throw bottom arc\n",
    "    bottom_free_throw = Arc((0, 142.5), 120, 120, theta1=180, theta2=0,\n",
    "                            linewidth=lw, color=color, linestyle='dashed')\n",
    "    # Restricted Zone, it is an arc with 4ft radius from center of the hoop\n",
    "    restricted = Arc((0, 0), 80, 80, theta1=0, theta2=180, linewidth=lw,\n",
    "                     color=color)\n",
    "\n",
    "    # Three point line\n",
    "    # Create the side 3pt lines, they are 14ft long before they begin to arc\n",
    "    corner_three_a = Rectangle((-219, -47.5), 0, 140, linewidth=lw,\n",
    "                               color=color)\n",
    "    corner_three_b = Rectangle((219, -47.5), 0, 140, linewidth=lw, color=color)\n",
    "    # 3pt arc - center of arc will be the hoop, arc is 23'9\" away from hoop\n",
    "    # I just played around with the theta values until they lined up with the \n",
    "    # threes\n",
    "    three_arc = Arc((0, 0), 475, 475, theta1=22.5, theta2=157.5, linewidth=lw,\n",
    "                    color=color)\n",
    "\n",
    "    # Center Court\n",
    "    center_outer_arc = Arc((0, 422.5), 120, 120, theta1=180, theta2=0,\n",
    "                           linewidth=lw, color=color)\n",
    "    center_inner_arc = Arc((0, 422.5), 40, 40, theta1=180, theta2=0,\n",
    "                           linewidth=lw, color=color)\n",
    "\n",
    "    # List of the court elements to be plotted onto the axes\n",
    "    court_elements = [hoop, backboard, outer_box, inner_box, top_free_throw,\n",
    "                      bottom_free_throw, restricted, corner_three_a,\n",
    "                      corner_three_b, three_arc, center_outer_arc,\n",
    "                      center_inner_arc]\n",
    "\n",
    "    if outer_lines:\n",
    "        # Draw the half-court line, baseline and side-out bound lines\n",
    "        outer_lines = Rectangle((-250, -47.5), 500, 470, linewidth=lw,\n",
    "                                color=color, fill=False)\n",
    "        court_elements.append(outer_lines)\n",
    "\n",
    "    # Add the court elements onto the axes\n",
    "    for element in court_elements:\n",
    "        ax.add_patch(element)\n",
    "\n",
    "    return ax\n",
    "\n",
    "plt.figure(figsize=(12,11))\n",
    "draw_court(outer_lines=True)\n",
    "plt.xlim(-300,300)\n",
    "plt.ylim(-100,500)\n",
    "plt.show()"
   ]
  },
  {
   "cell_type": "markdown",
   "metadata": {
    "deletable": false,
    "editable": false,
    "hideCode": false,
    "hidePrompt": false
   },
   "source": [
    "<!-- BEGIN QUESTION -->\n",
    "\n",
    "### Question 2b: All Shots Scatter Plot + Court Outline\n",
    "\n",
    "Again use seaborn to make a scatter plot of Stephen Curry's shots. Again, set the x-axis limits to span (-300, 300), the y-axis limits to span (-100, 500) color the points by whether the shot was made or missed.  Set the missed shots to have an 'x' symbol and made shots to be a circular symbol. Call the `draw_court` function with `outer_lines` set to to be true. Save the `Axes` returned by the plot call in a variable called `ax`.\n"
   ]
  },
  {
   "cell_type": "code",
   "execution_count": null,
   "metadata": {
    "hideCode": false,
    "hidePrompt": false,
    "tags": []
   },
   "outputs": [],
   "source": [
    "plt.figure(figsize=(12, 11))\n",
    "markers = {0 : \"X\", 1 : \"o\"}\n",
    "ax = ...\n",
    "\n",
    "...\n",
    "plt.show()"
   ]
  },
  {
   "cell_type": "markdown",
   "metadata": {
    "deletable": false,
    "editable": false,
    "hideCode": false,
    "hidePrompt": false
   },
   "source": [
    "<!-- END QUESTION -->\n",
    "\n",
    "<!-- BEGIN QUESTION -->\n",
    "\n",
    "### Question 2c: Analyzing the Visualization\n",
    "\n",
    "In a few sentences, discuss what makes this an effective or ineffective visualization for understanding the types of shots that Stephen Curry likes to take and is good at taking, relative to other players in the league.  Are there ways it can be improved?"
   ]
  },
  {
   "cell_type": "markdown",
   "metadata": {
    "deletable": false,
    "editable": false,
    "hideCode": false,
    "hidePrompt": false
   },
   "source": [
    "**SOLUTION**"
   ]
  },
  {
   "cell_type": "markdown",
   "metadata": {
    "deletable": false,
    "editable": false,
    "hideCode": false,
    "hidePrompt": false
   },
   "source": [
    "<!-- END QUESTION -->\n",
    "\n",
    "<!-- BEGIN QUESTION -->\n",
    "\n",
    "### Question 2d: A Hexbin plot\n",
    "\n",
    "Visualize Stephen Curry's shots by using a [hexbin plot with marginal histograms](https://seaborn.pydata.org/examples/hexbin_marginals.html). Also refer to setting [figure aesthetics](https://seaborn.pydata.org/tutorial/aesthetics.html) for what commands below do."
   ]
  },
  {
   "cell_type": "code",
   "execution_count": null,
   "metadata": {
    "hideCode": false,
    "hidePrompt": false,
    "tags": []
   },
   "outputs": [],
   "source": [
    "sns.set_style(\"white\")\n",
    "joint_shot_chart = ...\n",
    "joint_shot_chart.fig.set_size_inches(12,11)\n",
    "\n",
    "# A joint plot has 3 Axes, the first one called ax_joint \n",
    "# is the one we want to draw our court onto and adjust some other settings\n",
    "ax = joint_shot_chart.ax_joint\n",
    "draw_court(ax, outer_lines=True)\n",
    "\n",
    "# Adjust the axis limits and orientation of the plot in order\n",
    "# to plot half court, with the hoop by the top of the plot\n",
    "ax.set_xlim(-300, 300)\n",
    "ax.set_ylim(500, -100)\n",
    "\n",
    "# Get rid of axis labels and tick marks\n",
    "ax.set_xlabel('')\n",
    "ax.set_ylabel('')\n",
    "ax.tick_params(labelbottom=False, labelleft=False)\n",
    "\n",
    "# Add a title\n",
    "ax.set_title('Stephen Curry, 2018-19, FGA', \n",
    "             y=1.2, fontsize=10)\n",
    "\n",
    "# Add Data Source and Author\n",
    "ax.text(-250,445,'\\n This plot is based on code by Savvas Tjortjoglou (savvastjortjoglou.com)',\n",
    "        fontsize=12);"
   ]
  },
  {
   "cell_type": "markdown",
   "metadata": {
    "deletable": false,
    "editable": false,
    "hideCode": false,
    "hidePrompt": false
   },
   "source": [
    "<!-- END QUESTION -->\n",
    "\n",
    "## Question 3: Binning and Smoothing Shots\n",
    "\n",
    "So far, in we have worked with dataframes which represent each shot as a single observation (row) within the dataset.  However, this isn't a convenient data structure for the kinds of spatial analyses we will pursue below.\n",
    "\n",
    "In this part, we will divide the court into square regions and create a matrix which includes the number of shots taken by a player in that region.  We divide the court up into square bins (i.e. a 2d histogram) and, for each player, count number of shots that fall into each bin. Fortunately, this function is relatively simple to write using `numpy` module. "
   ]
  },
  {
   "cell_type": "markdown",
   "metadata": {
    "deletable": false,
    "editable": false,
    "hideCode": false,
    "hidePrompt": false
   },
   "source": [
    "### Question 3a: 2D Smoothing\n",
    "\n",
    "Fill in the `bin_shots` function below. Use `np.histgram2d` to count count the shots in each bin.  The bins are defined `bin_edges` which is a pandas Series of the form `(xedges, yedges)`.  If `density = True`, call `ndimage.gaussian_filter` on the result of `np.histogram2d` with smoothing parameter `sigma`.  This will create a smoothed version of the raw data histograms."
   ]
  },
  {
   "cell_type": "code",
   "execution_count": null,
   "metadata": {
    "hideCode": false,
    "hidePrompt": false,
    "tags": []
   },
   "outputs": [],
   "source": [
    "def bin_shots(df, bin_edges, density=False, sigma=1):\n",
    "    \n",
    "    \"\"\"Given data frame of shots, compute a 2d matrix of binned counts is computed\n",
    "    \n",
    "    Args:\n",
    "        df: data frame of shotchartdetail from nba.com. \n",
    "            At the minimum, variables named LOCX and LOCY are required.\n",
    "        bin_edges: bin edge definition: edges in x and edges in y\n",
    "    \n",
    "    Returns:\n",
    "        binned: counts\n",
    "        xedges: bin edges in X direction\n",
    "        yedges: bin edges in Y direction\n",
    "    \"\"\"\n",
    "    import numpy as np\n",
    "    from scipy import ndimage\n",
    "    \n",
    "    ## Call np.histogram2d\n",
    "    binned, xedges, yedges = ...\n",
    "    \n",
    "    if density:\n",
    "\n",
    "        # Recompute 'binned' using \"gaussian_filter\"\n",
    "        binned = ...\n",
    "        \n",
    "        # Normalize the histogram to be a \"density\", e.g. mass across all bins sums to 1.\n",
    "        binned /= np.sum(binned)\n",
    "    \n",
    "    return(binned, xedges, yedges)\n"
   ]
  },
  {
   "cell_type": "code",
   "execution_count": null,
   "metadata": {
    "deletable": false,
    "editable": false
   },
   "outputs": [],
   "source": [
    "grader.check(\"q3a\")"
   ]
  },
  {
   "cell_type": "markdown",
   "metadata": {
    "deletable": false,
    "editable": false,
    "hideCode": false,
    "hidePrompt": false
   },
   "source": [
    "<!-- BEGIN QUESTION -->\n",
    "\n",
    "### Question 3b: Visualize the binning on `curry_data`\n",
    "\n",
    "Call `bin_shots` on `curry_data` to create a binned but unsmoothed matrix of shot counts (call this `curry_binned_unsmoothed`), a binned and smoothed matrix of counts with `sigma=1` (call this `curry_binned_smoothed1`) and one with `sigma=5` (call this `curry_binned_smoothed5`). Use the bin edges defined below:"
   ]
  },
  {
   "cell_type": "code",
   "execution_count": null,
   "metadata": {
    "deletable": false,
    "editable": false,
    "hideCode": false,
    "hidePrompt": false
   },
   "outputs": [],
   "source": [
    "## bin edge definitions in inches\n",
    "xedges = np.linspace(start=-300, stop=300, num=151)\n",
    "yedges = np.linspace(start=-48, stop=372, num=106)"
   ]
  },
  {
   "cell_type": "markdown",
   "metadata": {},
   "source": [
    "_Type your answer here, replacing this text._"
   ]
  },
  {
   "cell_type": "code",
   "execution_count": null,
   "metadata": {
    "hideCode": false,
    "hidePrompt": false,
    "tags": []
   },
   "outputs": [],
   "source": [
    "bin_edges = (xedges, yedges)\n",
    "\n",
    "# curry_binned_unsmoothed, xe, ye = ... \n",
    "# curry_binned_smoothed1,  xe, ye = ... \n",
    "# curry_binned_smoothed5,  xe, ye = ... \n",
    "..."
   ]
  },
  {
   "cell_type": "code",
   "execution_count": null,
   "metadata": {
    "hideCode": false,
    "hidePrompt": false,
    "tags": []
   },
   "outputs": [],
   "source": [
    "def plot_shotchart(binned_counts, xedges, yedges, ax=None, use_log=False, cmap = 'Reds'):\n",
    "    \n",
    "    \"\"\"Plots 2d heatmap from vectorized heatmap counts\n",
    "    \n",
    "    Args:\n",
    "        hist_counts: vectorized output of numpy.histogram2d\n",
    "        xedges, yedges: bin edges in arrays\n",
    "        ax: figure axes [None]\n",
    "        use_log: will convert count x to log(x+1) to increase visibility [False]\n",
    "        cmap: Set the color map https://matplotlib.org/examples/color/colormaps_reference.html\n",
    "    Returns:\n",
    "        ax: axes with plot\n",
    "    \"\"\"\n",
    "    \n",
    "    import numpy as np\n",
    "    import matplotlib.pyplot as plt\n",
    "    \n",
    "    ## number of x and y bins.  \n",
    "    nx = xedges.size - 1\n",
    "    ny = yedges.size - 1\n",
    "\n",
    "    X, Y = np.meshgrid(xedges, yedges)\n",
    "    \n",
    "    if use_log:\n",
    "        counts = np.log(binned_counts + 1)\n",
    "        \n",
    "    if ax is None:\n",
    "        fig, ax = plt.subplots(1,1)\n",
    "    \n",
    "    ax.pcolormesh(X, Y, binned_counts.T, cmap=cmap) \n",
    "    ax.set_aspect('equal')\n",
    "    \n",
    "    draw_court(ax)\n",
    "    \n",
    "    return(ax)"
   ]
  },
  {
   "cell_type": "code",
   "execution_count": null,
   "metadata": {
    "hideCode": false,
    "hidePrompt": false,
    "tags": []
   },
   "outputs": [],
   "source": [
    "fig, ax = plt.subplots(1, 3, figsize=(20,60))\n",
    "\n",
    "...\n",
    "fig.show()"
   ]
  },
  {
   "cell_type": "markdown",
   "metadata": {
    "deletable": false,
    "editable": false,
    "hideCode": false,
    "hidePrompt": false
   },
   "source": [
    "<!-- END QUESTION -->\n",
    "\n",
    "### Vectorize Shot Images"
   ]
  },
  {
   "cell_type": "markdown",
   "metadata": {
    "hideCode": false,
    "hidePrompt": false
   },
   "source": [
    "- Here we proceed create a dictionary of smoothed patterns, each vectorized into a 1-d array (like Lab 6)\n",
    "- In this case, the object `all_smooth` is a dictionary that consists of arrays of length `15750`. \n",
    "- Each entry in `all_smooth` represents the smoothed frequency of shots along the bins generated in the code above for a given player."
   ]
  },
  {
   "cell_type": "code",
   "execution_count": null,
   "metadata": {
    "hideCode": false,
    "hidePrompt": false
   },
   "outputs": [],
   "source": [
    "## number of bins is one less than number of edges (remember homework 1)\n",
    "nx = xedges.size - 1\n",
    "ny = yedges.size - 1\n",
    "\n",
    "## 2d histogram containers for binned counts and smoothed binned counts\n",
    "all_counts = []\n",
    "all_smooth = []\n",
    "pids = []\n",
    "\n",
    "## 2d histogram containers for binned counts and smoothed binned counts\n",
    "\n",
    "## data matrix: players (row) by vectorized 2-d court locations (column)\n",
    "for i, one in enumerate(allshots.groupby('PLAYER_ID')):\n",
    "    \n",
    "    ## what does this line do?\n",
    "    pid, pdf = one\n",
    "        \n",
    "    num_shots = len(pdf.index)\n",
    "    if(num_shots > 100): \n",
    "        \n",
    "        tmp1, xedges, yedges = bin_shots(pdf, bin_edges=(xedges, yedges), density=True, sigma=2)\n",
    "        tmp2, xedges, yedges = bin_shots(pdf, bin_edges=(xedges, yedges), density=False)\n",
    "    \n",
    "        ## vectorize and store into list\n",
    "        all_smooth += [tmp1.reshape(-1)]\n",
    "        all_counts += [tmp2.reshape(-1)]\n",
    "        pids += [pid]\n",
    "        \n",
    "X = np.vstack(all_smooth).T\n",
    "p, n = X.shape\n",
    "\n",
    "print('Number of shot regions (p):', p)\n",
    "print('Number of players (n):', n)"
   ]
  },
  {
   "cell_type": "markdown",
   "metadata": {
    "hideCode": false,
    "hidePrompt": false
   },
   "source": [
    "## Question 4: Non-negative Matrix Factorization (NMF) \n",
    "\n",
    "The non-negative matrix factorization is a dimension reduction technique that is often applied to image data.  It is similar to PCA except that is only applicable for strictly positive data.  We can apply the NMF to vectorized versions of the shot surface. This is useful because we can convert the observed matrix of shot surfaces into:\n",
    "* Bases: Identifying modes of shooting style (number of modes is determined by `n_components` argument to `NMF` function below)\n",
    "* Coefficients: How each players shooting style could be expressed as a (positive) linear combination of these bases\n",
    "\n",
    "The NMF solves the following problem: given some matrix $X$ is $p\\times n$ matrix, NMF computes the following factorization:\n",
    "$$ \\min_{W,H} \\| X - WH \\|_F\\\\\n",
    "\\text{ subject to } W\\geq 0,\\ H\\geq 0, $$\n",
    "where $W$ is ${p\\times r}$ matrix and $H$ is ${r\\times n}$ matrix.\n",
    "\n",
    "In this homework, we have the following:\n",
    " \n",
    "#### The data matrix $X$ \n",
    "$X$ is of dimension $n$={number of players} and $p$={number of total square bins on the court}. Each column corresponds to a player, with entries corresponding to a \"flattened\" or \"vectorized\" version of the 2d histograms plotted in part 4b.\n",
    "\n",
    "#### Bases matrix: $W$\n",
    "\n",
    "Columns $W_i$ contain the shot \"bases\". First, we will try it with $r=3$ bins in 5a, and then with $r=10$ bins in 5d.\n",
    "\n",
    "#### Coefficient matrix: H\n",
    "\n",
    "Each column of $H$ gives a coefficient for each of the bases vectors in $W$, and there are $n$ columns for each player.\n",
    "\n",
    "\n",
    "The `sklearn` library is one of the main Python machine learning libraries.  It has a built in NMF function for us.  The function below runs this function and normalizes the basis surfaces to sum to 1."
   ]
  },
  {
   "cell_type": "code",
   "execution_count": null,
   "metadata": {
    "hideCode": false,
    "hidePrompt": false
   },
   "outputs": [],
   "source": [
    "## Non-negative Matrix Factorization\n",
    "def non_negative_marix_decomp(n_components, array_data):\n",
    "    import sklearn.decomposition as skld\n",
    "    model = skld.NMF(n_components=n_components, init='nndsvda', max_iter=500, random_state=0)\n",
    "    W = model.fit_transform(array_data)\n",
    "    \n",
    "    # Normalize basis vectors to sum to 1\n",
    "    Wsum = W.sum(axis=0)\n",
    "    W = W/Wsum\n",
    "    \n",
    "    ## fix H correspondingly\n",
    "    H = model.components_\n",
    "    H = (H.T * Wsum).T\n",
    "\n",
    "    nmf = (W, H)\n",
    "    return(nmf)"
   ]
  },
  {
   "cell_type": "markdown",
   "metadata": {
    "deletable": false,
    "editable": false,
    "hideCode": false,
    "hidePrompt": false
   },
   "source": [
    "### Question 4a: Computing NMF Factorization\n",
    "\n",
    "Compute the NMF on all player's shot charts, X, assuming with `n_components` = 3 (i.e. each shot chart can be represented as a positive linear combination of 3 \"basis\" shot charts).  Fill in `plot_vectorized_shot_chart`.  This takes a the a vector of binned shot counts, converts it back to a matrix of the appropriate size and then calls `plot_shotchart` on the matrix.  The numpy function `reshape` will be useful here: [https://docs.scipy.org/doc/numpy/reference/generated/numpy.reshape.html](https://docs.scipy.org/doc/numpy/reference/generated/numpy.reshape.html)\n"
   ]
  },
  {
   "cell_type": "code",
   "execution_count": null,
   "metadata": {
    "hideCode": false,
    "hidePrompt": false,
    "tags": []
   },
   "outputs": [],
   "source": [
    "# W3, H3 = ..."
   ]
  },
  {
   "cell_type": "code",
   "execution_count": null,
   "metadata": {
    "deletable": false,
    "editable": false
   },
   "outputs": [],
   "source": [
    "grader.check(\"q4a\")"
   ]
  },
  {
   "cell_type": "markdown",
   "metadata": {
    "deletable": false,
    "editable": false,
    "hideCode": false,
    "hidePrompt": false
   },
   "source": [
    "<!-- BEGIN QUESTION -->\n",
    "\n",
    "### Question 4b: Visualizing Shot Types\n",
    "\n",
    "Plot the first three basis images by calling `plot_vectorized_shot_chart` below on the columns of `W3`."
   ]
  },
  {
   "cell_type": "code",
   "execution_count": null,
   "metadata": {
    "hideCode": false,
    "hidePrompt": false,
    "tags": []
   },
   "outputs": [],
   "source": [
    "def plot_vectorized_shotchart(vec_counts, xedges, yedges, ax=None, use_log=False, cmap = 'Reds'):\n",
    "    \n",
    "    \"\"\"Plots 2d heatmap from vectorized heatmap counts\n",
    "    \n",
    "    Args:\n",
    "        hist_counts: vectorized output of numpy.histogram2d\n",
    "        xedges, yedges: bin edges in arrays\n",
    "        ax: figure axes [None]\n",
    "        use_log: will convert count x to log(x+1) to increase visibility [False]\n",
    "        cmap: Set the color map https://matplotlib.org/examples/color/colormaps_reference.html\n",
    "    Returns:\n",
    "        ax: axes with plot\n",
    "    \"\"\"\n",
    "\n",
    "    nx = ...\n",
    "    ny = ...\n",
    "    \n",
    "    # use reshape to convert a vectorized counts back into a 2d histogram\n",
    "    two_d_counts = ...\n",
    "    \n",
    "    return(plot_shotchart(two_d_counts, xedges, yedges, ax=ax, use_log=use_log, cmap=cmap))\n",
    "\n",
    "fig, ax = plt.subplots(1, 3, figsize=(20,60))\n",
    "\n",
    "## Write a for loop\n",
    "for i in range(3):\n",
    "    # Call plot_vectorized_shot_chart\n",
    "    ax[i].set_title('Shot Basis %i' % (i+1))"
   ]
  },
  {
   "cell_type": "markdown",
   "metadata": {
    "deletable": false,
    "editable": false,
    "hideCode": false,
    "hidePrompt": false
   },
   "source": [
    "<!-- END QUESTION -->\n",
    "\n",
    "<!-- BEGIN QUESTION -->\n",
    "\n",
    "### Question 4c: Reconstruction Error\n",
    "\n",
    "Below we re-construct the shooting pattern for a single player. By \"reconstructing\" we mean use the approximation $$\\hat{X} = WH$$ obtained via NMF.  Find $\\hat X$ by multipling W and H.  In python the `@` symbol is used for matrix multiplication.\n"
   ]
  },
  {
   "cell_type": "markdown",
   "metadata": {},
   "source": [
    "_Type your answer here, replacing this text._"
   ]
  },
  {
   "cell_type": "code",
   "execution_count": null,
   "metadata": {
    "hideCode": false,
    "hidePrompt": false,
    "tags": []
   },
   "outputs": [],
   "source": [
    "X3_hat = ..."
   ]
  },
  {
   "cell_type": "code",
   "execution_count": null,
   "metadata": {
    "hideCode": false,
    "hidePrompt": false,
    "tags": []
   },
   "outputs": [],
   "source": [
    "# Find the player_id of LaMarcus Aldridge\n",
    "player_id = ...\n",
    "\n",
    "## find index in X corresponding to that player\n",
    "to_plot_idx = np.where(pids == player_id)[0][0]\n",
    "\n",
    "fig, ax = plt.subplots(1, 3, figsize=(20,60))\n",
    "\n",
    "## Call plot_vectorized_shot_chart\n",
    "original_shotchart = ...\n",
    "reconstructed_shotchart = ...\n",
    "residual_chart = ...\n",
    "\n",
    "# print(max(abs(X3_hat[:, to_plot_idx] - X[:, to_plot_idx])))\n",
    "ax[0].set_title('Original Shooting Pattern')\n",
    "ax[1].set_title('Reconstructed Shooting pattern (r=3)')\n",
    "ax[2].set_title('Residual Shooting Pattern (r=3)')\n",
    "None # prevents the title string from showing up as output"
   ]
  },
  {
   "cell_type": "markdown",
   "metadata": {
    "deletable": false,
    "editable": false,
    "hideCode": false,
    "hidePrompt": false
   },
   "source": [
    "<!-- END QUESTION -->\n",
    "\n",
    "<!-- BEGIN QUESTION -->\n",
    "\n",
    "### Question 4d: Choice of Colormap\n",
    "\n",
    "Why does it make sense to use a _sequential_ palette for the original and reconstructed shot charts and a _diverging_ palette for the residual?  _Hint:_ Read the introduction to colormaps [here](https://matplotlib.org/users/colormaps.html). \n"
   ]
  },
  {
   "cell_type": "markdown",
   "metadata": {
    "deletable": false,
    "editable": false,
    "hideCode": false,
    "hidePrompt": false
   },
   "source": [
    "**SOLUTION**"
   ]
  },
  {
   "cell_type": "markdown",
   "metadata": {
    "deletable": false,
    "editable": false,
    "hideCode": false,
    "hidePrompt": false
   },
   "source": [
    "What areas of the court does this player to shoot more and where less relative to the reconstructed area.  If its helpful, you can refer to court locations by name using this legend [here](https://en.wikipedia.org/wiki/Basketball_court#/media/File:Basketball_terms.png])."
   ]
  },
  {
   "cell_type": "markdown",
   "metadata": {
    "deletable": false,
    "editable": false,
    "hideCode": false,
    "hidePrompt": false
   },
   "source": [
    "**SOLUTION**"
   ]
  },
  {
   "cell_type": "markdown",
   "metadata": {
    "deletable": false,
    "editable": false,
    "hideCode": false,
    "hidePrompt": false
   },
   "source": [
    "<!-- END QUESTION -->\n",
    "\n",
    "<!-- BEGIN QUESTION -->\n",
    "\n",
    "### Question 4e: More Detailed Modeling\n",
    "\n",
    "Re-run the analysis, this time for 10 basis vectors instead of 3.  Again plot the bases using `plot_vectorized_shotchart` on the columns of `W10`.\n",
    "\n",
    "**Hint**: Study the following code\n",
    "```\n",
    "fig, ax = plt.subplots(2, 5, figsize=(20, 7))\n",
    "ax = ax.flatten() # turn ax into a flat array\n",
    "ax[0].set_title('hello')\n",
    "ax[9].set_title('there')\n",
    "fig.show()\n",
    "```"
   ]
  },
  {
   "cell_type": "code",
   "execution_count": null,
   "metadata": {
    "hideCode": false,
    "hidePrompt": false,
    "tags": []
   },
   "outputs": [],
   "source": [
    "W10, H10 = ...\n",
    "\n",
    "fig, ax = plt.subplots(2, 5, figsize=(20, 7))\n",
    "\n",
    "## Write a for loop\n",
    "for i in range(10):\n",
    "    ...\n",
    "    ax[i//5, i % 5].set_title('Shot Basis %i' % (i+1))\n"
   ]
  },
  {
   "cell_type": "markdown",
   "metadata": {
    "deletable": false,
    "editable": false,
    "hideCode": false,
    "hidePrompt": false
   },
   "source": [
    "<!-- END QUESTION -->\n",
    "\n",
    "<!-- BEGIN QUESTION -->\n",
    "\n",
    "If you did things correctly, you should be really impressed! We've identified potentially interesting patterns of shooting styles without actually specifying anything about the way basketball is played or where the relevant lines are on the court.  The resulting images are based only on the actual behavior of the players.  Even more impressive is that we're capturing similarity in regions that are far apart on the court.  One reason we can do this is that a basketball court is symmetric along the length of the court (i.e. symmetric about x=0).  However, people tend to be left or right hand dominant, which might affect their preferences.  Look carefuly at the shot basis plots above: is there any evidence of _asymmetry_ in player shooting behavior?  Refer to specific basis images in your answer.    \n"
   ]
  },
  {
   "cell_type": "markdown",
   "metadata": {
    "deletable": false,
    "editable": false,
    "hideCode": false,
    "hidePrompt": false
   },
   "source": [
    "**SOLUTION**"
   ]
  },
  {
   "cell_type": "markdown",
   "metadata": {
    "deletable": false,
    "editable": false,
    "hideCode": false,
    "hidePrompt": false
   },
   "source": [
    "<!-- END QUESTION -->\n",
    "\n",
    "Repeat part 5b, and again plot original, reconstructed and residual shot chats for LaMarcus Aldridge.\n"
   ]
  },
  {
   "cell_type": "markdown",
   "metadata": {
    "deletable": false,
    "editable": false
   },
   "source": [
    "<!-- BEGIN QUESTION -->\n",
    "\n"
   ]
  },
  {
   "cell_type": "code",
   "execution_count": null,
   "metadata": {
    "hideCode": false,
    "hidePrompt": false,
    "tags": []
   },
   "outputs": [],
   "source": [
    "X10_hat = ...\n",
    "\n",
    "fig, ax = plt.subplots(1, 3, figsize=(20,60))\n",
    "\n",
    "# I took the first player appearing in first column \n",
    "# (you probably want to do more interesting players)\n",
    "original_shotchart = ...\n",
    "reconstructed_shotchart = ...\n",
    "residual_chart = ...\n",
    "\n",
    "ax[0].set_title('Original Shooting Pattern')\n",
    "ax[1].set_title('Reconstructed Shooting pattern (r=10)')\n",
    "ax[2].set_title('Residual Shooting Pattern (r=10)');"
   ]
  },
  {
   "cell_type": "markdown",
   "metadata": {
    "deletable": false,
    "editable": false
   },
   "source": [
    "<!-- END QUESTION -->\n",
    "\n",
    "<!-- BEGIN QUESTION -->\n",
    "\n",
    "### Question 4f: Comparing Players \n",
    "\n",
    "With `H10` matrix, it is possible to compare any pair of players. For all players pairwise, $i$ and $j$, compare using euclidean distance between their coefficients:\n",
    "\n",
    "$$ \\text{player-distance}(i,j) = \\| H_i - H_j \\|_2 = \\left(\\sum_{k=1}^{10} (H_{ki} - H_{kj})^2 \\right)^{1/2} $$\n",
    "\n",
    "Create a heatmap for comparing pair-wise player distance matrix. Find the two pairs of players with the smallest distances. Also, find two pairs of players with largest distances.\n",
    "\n",
    "Hint: you can construct the distance matrix manually or use `scipy.spatial.distance_matrix`."
   ]
  },
  {
   "cell_type": "markdown",
   "metadata": {
    "deletable": false,
    "editable": false
   },
   "source": [
    "**SOLUTION**"
   ]
  },
  {
   "cell_type": "markdown",
   "metadata": {
    "deletable": false,
    "editable": false
   },
   "source": [
    "<!-- END QUESTION -->\n",
    "\n",
    "<!-- BEGIN QUESTION -->\n",
    "\n",
    "### Question 4g: Residuals\n",
    "\n",
    "The residual betwene `Xhat` and `X` gives a sense of how well a player is decribed by NMF computed matrices `W` and `H`. Calculate RMSE for each player, and plot the histogram. Comment on this distribution and players with smallest and largest RMSEs (use 10 components).\n"
   ]
  },
  {
   "cell_type": "markdown",
   "metadata": {
    "deletable": false,
    "editable": false
   },
   "source": [
    "**SOLUTION**"
   ]
  },
  {
   "cell_type": "markdown",
   "metadata": {
    "deletable": false,
    "editable": false,
    "hideCode": false,
    "hidePrompt": false
   },
   "source": [
    "<!-- END QUESTION -->\n",
    "\n",
    "<!-- BEGIN QUESTION -->\n",
    "\n",
    "### Question 4h: Proposing improvements\n",
    "\n",
    "One of the main purposes of exploratory data analysis is to generate new ideas, directions, and hypothesis for future analyses and experiments. Take two players of your choice and compare their shooting patterns with various visualizations.\n",
    "\n",
    "State any insights and defend your conclusions with visual and/or numerical comparisons."
   ]
  },
  {
   "cell_type": "markdown",
   "metadata": {
    "deletable": false,
    "editable": false,
    "hideCode": false,
    "hidePrompt": false
   },
   "source": [
    "**SOLUTION**"
   ]
  },
  {
   "cell_type": "markdown",
   "metadata": {
    "deletable": false,
    "editable": false
   },
   "source": [
    "<!-- END QUESTION -->\n",
    "\n",
    "_Cell Intentionally Blank_"
   ]
  },
  {
   "cell_type": "markdown",
   "metadata": {
    "deletable": false,
    "editable": false
   },
   "source": [
    "## Submission\n",
    "\n",
    "Make sure you have run all cells in your notebook in order before running the cell below, so that all images/graphs appear in the output. The cell below will generate a zip file for you to submit. **Please save before exporting!**\n",
    "\n",
    "Download the zip file and submit to Gradescope."
   ]
  },
  {
   "cell_type": "code",
   "execution_count": null,
   "metadata": {
    "deletable": false,
    "editable": false
   },
   "outputs": [],
   "source": [
    "# Save your notebook first, then run this cell to export your submission.\n",
    "grader.export(run_tests=True)"
   ]
  },
  {
   "cell_type": "markdown",
   "metadata": {},
   "source": [
    " "
   ]
  }
 ],
 "metadata": {
  "hide_code_all_hidden": false,
  "kernelspec": {
   "display_name": "Python 3 (ipykernel)",
   "language": "python",
   "name": "python3"
  },
  "language_info": {
   "codemirror_mode": {
    "name": "ipython",
    "version": 3
   },
   "file_extension": ".py",
   "mimetype": "text/x-python",
   "name": "python",
   "nbconvert_exporter": "python",
   "pygments_lexer": "ipython3",
   "version": "3.11.5"
  },
  "otter": {
   "OK_FORMAT": true,
   "tests": {
    "q1a": {
     "name": "q1a",
     "points": 3,
     "suites": [
      {
       "cases": [
        {
         "code": ">>> ## TEST ##\n>>> print(type(allteams))\n<class 'pandas.core.frame.DataFrame'>\n",
         "hidden": false,
         "locked": false
        },
        {
         "code": ">>> ## TEST ##\n>>> allteams.columns \nIndex(['LEAGUE_ID', 'TEAM_ID', 'MIN_YEAR', 'MAX_YEAR', 'ABBREVIATION'], dtype='object')",
         "hidden": false,
         "locked": false
        },
        {
         "code": ">>> ## TEST ##\n>>> allteams.shape \n(30, 5)",
         "hidden": false,
         "locked": false
        }
       ],
       "scored": true,
       "setup": "",
       "teardown": "",
       "type": "doctest"
      }
     ]
    },
    "q1b": {
     "name": "q1b",
     "points": 3,
     "suites": [
      {
       "cases": [
        {
         "code": ">>> ## TEST ##\n>>> print(type(allplayers))\n<class 'pandas.core.frame.DataFrame'>\n",
         "hidden": false,
         "locked": false
        },
        {
         "code": ">>> ## TEST ##\n>>> allplayers.columns \nIndex(['DISPLAY_LAST_COMMA_FIRST', 'DISPLAY_FIRST_LAST', 'ROSTERSTATUS',\n       'FROM_YEAR', 'TO_YEAR', 'PLAYERCODE', 'TEAM_ID', 'TEAM_CITY',\n       'TEAM_NAME', 'TEAM_ABBREVIATION', 'TEAM_CODE', 'GAMES_PLAYED_FLAG',\n       'OTHERLEAGUE_EXPERIENCE_CH'],\n      dtype='object')",
         "hidden": false,
         "locked": false
        },
        {
         "code": ">>> ## TEST ##\n>>> allplayers.shape \n(4540, 13)",
         "hidden": false,
         "locked": false
        },
        {
         "code": ">>> ## TEST ##\n>>> allplayers.index.name \n'PERSON_ID'",
         "hidden": false,
         "locked": false
        },
        {
         "code": ">>> ## TEST ##\n>>> allplayers.tail(3).DISPLAY_LAST_COMMA_FIRST\nPERSON_ID\n1629967    Flatten, Skyler\n1630001       Morgan, Matt\n1630003        Scott, MIke\nName: DISPLAY_LAST_COMMA_FIRST, dtype: object",
         "hidden": false,
         "locked": false
        }
       ],
       "scored": true,
       "setup": "",
       "teardown": "",
       "type": "doctest"
      }
     ]
    },
    "q1c": {
     "name": "q1c",
     "points": 4,
     "suites": [
      {
       "cases": [
        {
         "code": ">>> ## TEST ##\n>>> len(allshots_files)\n502",
         "hidden": false,
         "locked": false
        },
        {
         "code": ">>> ## TEST ##\n>>> len(allshots_list)\n502",
         "hidden": false,
         "locked": false
        },
        {
         "code": ">>> ## TEST ##\n>>> all([type(df)==pd.core.frame.DataFrame for df in allshots_list])\nTrue",
         "hidden": false,
         "locked": false
        },
        {
         "code": ">>> ## TEST ##\n>>> print([len(df) for df in allshots_list])\n[36, 652, 720, 135, 117, 578, 104, 311, 381, 1138, 157, 120, 362, 740, 446, 157, 888, 558, 13, 256, 1517, 1314, 365, 749, 741, 842, 298, 1255, 780, 495, 440, 220, 628, 347, 117, 487, 666, 400, 217, 104, 0, 439, 350, 295, 1026, 191, 479, 464, 13, 343, 844, 179, 260, 112, 26, 0, 87, 48, 960, 197, 700, 737, 180, 22, 506, 95, 1360, 729, 74, 49, 483, 268, 0, 1173, 290, 594, 0, 792, 616, 748, 271, 424, 63, 181, 483, 945, 0, 98, 245, 218, 331, 352, 127, 81, 217, 314, 77, 379, 528, 600, 215, 418, 791, 252, 324, 426, 173, 262, 275, 18, 16, 155, 456, 841, 1102, 1036, 586, 611, 650, 282, 795, 1530, 520, 400, 831, 485, 404, 348, 568, 183, 486, 431, 251, 41, 14, 192, 16, 212, 1087, 18, 158, 543, 447, 53, 464, 73, 257, 21, 64, 274, 169, 162, 49, 122, 264, 106, 502, 702, 32, 698, 312, 12, 283, 8, 141, 76, 10, 266, 386, 396, 362, 0, 8, 20, 16, 0, 27, 39, 178, 3, 706, 243, 142, 563, 511, 314, 234, 565, 185, 371, 165, 124, 3, 53, 21, 716, 216, 262, 657, 209, 589, 16, 0, 914, 4, 256, 58, 87, 140, 508, 0, 110, 291, 1206, 557, 63, 34, 244, 69, 50, 518, 19, 171, 46, 279, 1256, 870, 1186, 73, 47, 39, 4, 2, 51, 22, 290, 36, 449, 33, 33, 60, 151, 5, 0, 13, 110, 9, 39, 82, 0, 46, 27, 0, 51, 110, 3, 126, 23, 0, 18, 8, 33, 26, 78, 10, 0, 21, 47, 468, 376, 1319, 746, 1027, 149, 432, 739, 523, 665, 385, 1383, 723, 1120, 687, 123, 213, 841, 690, 239, 273, 870, 259, 753, 1473, 283, 884, 938, 677, 786, 230, 535, 641, 69, 129, 153, 877, 562, 376, 446, 433, 1341, 1909, 660, 730, 1340, 1313, 379, 1159, 416, 659, 537, 575, 457, 158, 355, 39, 477, 630, 663, 493, 698, 552, 443, 619, 128, 371, 72, 189, 593, 635, 1614, 302, 219, 971, 608, 58, 680, 593, 432, 0, 541, 489, 197, 1241, 683, 380, 538, 156, 260, 1684, 29, 1402, 474, 484, 844, 1129, 1354, 446, 1254, 6, 265, 542, 1047, 548, 904, 1051, 403, 182, 113, 453, 532, 99, 105, 1026, 332, 1609, 478, 1533, 1027, 1052, 1027, 572, 242, 979, 67, 388, 30, 1069, 105, 48, 530, 797, 422, 1148, 460, 420, 484, 136, 691, 777, 476, 223, 276, 648, 373, 0, 1243, 345, 1104, 526, 377, 564, 756, 442, 123, 361, 643, 594, 362, 712, 809, 993, 361, 548, 588, 1247, 294, 242, 178, 161, 383, 465, 1, 275, 461, 350, 438, 35, 435, 130, 1135, 412, 1180, 637, 828, 338, 671, 151, 176, 823, 748, 422, 1046, 611, 567, 276, 486, 440, 1089, 1209, 749, 1199, 241, 54, 7, 696, 732, 863, 826, 225, 1206, 0, 526, 261, 587, 802, 419, 99, 94, 463, 116, 1095, 960, 193, 483, 33, 69, 210, 347, 118, 302, 79, 736]\n",
         "hidden": false,
         "locked": false
        },
        {
         "code": ">>> ## TEST ##\n>>> type(allshots) is pd.DataFrame \nTrue",
         "hidden": false,
         "locked": false
        },
        {
         "code": ">>> ## TEST ##\n>>> allshots.shape \n(217317, 23)",
         "hidden": false,
         "locked": false
        },
        {
         "code": ">>> ## TEST ##\n>>> print(allshots.index)\nIndex([   1713,    1713,    1713,    1713,    1713,    1713,    1713,    1713,\n          1713,    1713,\n       ...\n       1629541, 1629541, 1629541, 1629541, 1629541, 1629541, 1629541, 1629541,\n       1629541, 1629541],\n      dtype='object', name='PLAYER_ID', length=217317)\n",
         "hidden": false,
         "locked": false
        }
       ],
       "scored": true,
       "setup": "",
       "teardown": "",
       "type": "doctest"
      }
     ]
    },
    "q1d": {
     "name": "q1d",
     "points": 6,
     "suites": [
      {
       "cases": [
        {
         "code": ">>> ## TEST ##\n>>> type(curry_id) == str\nTrue",
         "hidden": false,
         "locked": false
        },
        {
         "code": ">>> ## TEST ##\n>>> print(type(curry_data))\n<class 'pandas.core.frame.DataFrame'>\n",
         "hidden": false,
         "locked": false
        },
        {
         "code": ">>> ## TEST ##\n>>> curry_data.shape\n(1340, 23)",
         "hidden": false,
         "locked": false
        },
        {
         "code": ">>> ## TEST ##\n>>> curry_data.SHOT_MADE_FLAG.dtype\ndtype('bool')",
         "hidden": false,
         "locked": false
        }
       ],
       "scored": true,
       "setup": "",
       "teardown": "",
       "type": "doctest"
      }
     ]
    },
    "q2a": {
     "name": "q2a",
     "points": 5,
     "suites": [
      {
       "cases": [
        {
         "code": ">>> ## TEST ##\n>>> ax2a.axes.get_ylim()\n(-100.0, 500.0)",
         "hidden": false,
         "locked": false
        },
        {
         "code": ">>> ## TEST ##\n>>> ax2a.axes.get_xlim()\n(-300.0, 300.0)",
         "hidden": false,
         "locked": false
        }
       ],
       "scored": true,
       "setup": "",
       "teardown": "",
       "type": "doctest"
      }
     ]
    },
    "q3a": {
     "name": "q3a",
     "points": 2,
     "suites": [
      {
       "cases": [
        {
         "code": ">>> ## TEST ##\n>>> \n>>> ## Smoothed surface should sum to 1\n>>> xedges = np.linspace(start=-300, stop=300, num=151)\n>>> yedges = np.linspace(start=-48, stop=372, num=106)\n>>> bin_shots(pd.DataFrame({'LOC_X' : curry_data.LOC_X , 'LOC_Y' : curry_data.LOC_Y}), (xedges, yedges), density=True)[0].sum()\n1.0",
         "hidden": false,
         "locked": false
        },
        {
         "code": ">>> ## TEST ##\n>>> \n>>> ## Total number of shots in the binned results is right\n>>> xedges = np.linspace(start=-300, stop=300, num=151)\n>>> yedges = np.linspace(start=-48, stop=372, num=106)\n>>> bin_shots(pd.DataFrame({'LOC_X' : curry_data.LOC_X , 'LOC_Y' : curry_data.LOC_Y}), (xedges, yedges))[0].sum()\n1328.0",
         "hidden": false,
         "locked": false
        },
        {
         "code": ">>> ## TEST ##\n>>> \n>>> ## Number of bined shots in smaller xrange works\n>>> xedges2 = np.linspace(start=-100, stop=100, num=151)\n>>> yedges = np.linspace(start=-48, stop=372, num=106)\n>>> bin_shots(pd.DataFrame({'LOC_X' : curry_data.LOC_X , 'LOC_Y' : curry_data.LOC_Y}), (xedges2, yedges))[0].sum()\n589.0",
         "hidden": false,
         "locked": false
        },
        {
         "code": ">>> ## TEST ##\n>>> \n>>> ## Number of bined shots in smaller yrange works\n>>> xedges = np.linspace(start=-300, stop=300, num=151)\n>>> yedges2 = np.linspace(start=0, stop=100, num=151)\n>>> bin_shots(pd.DataFrame({'LOC_X' : curry_data.LOC_X , 'LOC_Y' : curry_data.LOC_Y}), (xedges, yedges2))[0].sum()\n479.0",
         "hidden": false,
         "locked": false
        }
       ],
       "scored": true,
       "setup": "",
       "teardown": "",
       "type": "doctest"
      }
     ]
    },
    "q4a": {
     "name": "q4a",
     "points": 5,
     "suites": [
      {
       "cases": [
        {
         "code": ">>> ## TEST ##\n>>> type(H3) is np.ndarray\nTrue",
         "hidden": false,
         "locked": false
        },
        {
         "code": ">>> ## TEST ##\n>>> W3.shape\n(15750, 3)",
         "hidden": false,
         "locked": false
        },
        {
         "code": ">>> ## TEST ##\n>>> H3.shape\n(3, 388)",
         "hidden": false,
         "locked": false
        }
       ],
       "scored": true,
       "setup": "",
       "teardown": "",
       "type": "doctest"
      }
     ]
    }
   }
  },
  "toc": {
   "base_numbering": 1,
   "nav_menu": {},
   "number_sections": false,
   "sideBar": true,
   "skip_h1_title": true,
   "title_cell": "Table of Contents",
   "title_sidebar": "Contents",
   "toc_cell": true,
   "toc_position": {},
   "toc_section_display": true,
   "toc_window_display": true
  },
  "vscode": {
   "interpreter": {
    "hash": "d4d1e4263499bec80672ea0156c357c1ee493ec2b1c70f0acce89fc37c4a6abe"
   }
  }
 },
 "nbformat": 4,
 "nbformat_minor": 4
}
