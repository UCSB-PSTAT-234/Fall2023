{
 "cells": [
  {
   "cell_type": "code",
   "execution_count": null,
   "id": "1677a939",
   "metadata": {
    "deletable": false,
    "editable": false
   },
   "outputs": [],
   "source": [
    "# Initialize Otter\n",
    "import otter\n",
    "grader = otter.Notebook(\"assignment4.ipynb\")"
   ]
  },
  {
   "cell_type": "markdown",
   "id": "66037437-b64b-4eb4-a661-c14bc87b527e",
   "metadata": {},
   "source": [
    "# Assignment 4: Accessing JSON Data with APIs\n",
    "\n",
    "Many data providers publish application programming interface (API) for users to access their data. In this assignment we will use the National Aeronautics and Space Administration (NASA) API to access their [NeoWs (Near Earth Object Web Service) service](https://data.nasa.gov/Space-Science/Asteroids-NeoWs-API/73uw-d9i8).\n",
    "\n",
    "We will prepare to gather data about asteroids using the NASA API. "
   ]
  },
  {
   "cell_type": "markdown",
   "id": "1b191db0",
   "metadata": {
    "deletable": false,
    "editable": false
   },
   "source": [
    "## API Key\n",
    "\n",
    "[Get your API key](https://api.nasa.gov) and save it as a variable named `my_api_key`. _Warning: API keys are like passwords. In practice, API key should be kept private. However, in this assignment, we will check if your key works._\n",
    "\n",
    "To check if your API key works, construct a query. Consider the following query that uses a `DEMO_KEY`:\n",
    "```\n",
    "https://api.nasa.gov/neo/rest/v1/neo/3542519?api_key=DEMO_KEY\n",
    "```\n",
    "To use your key instead of the temporary key, replace `DEMO_KEY` with the _value of `my_api_key`_ variable defined earlier. To do that you can replace `DEMO_KEY` with `{my_api_key}`, which tells ipython to replace the term with the value of the variable `my_api_key`.\n",
    "\n",
    "Assign the query result to `check_key` variable."
   ]
  },
  {
   "cell_type": "code",
   "execution_count": null,
   "id": "c2db7bcd",
   "metadata": {
    "tags": []
   },
   "outputs": [],
   "source": [
    "my_api_key = ...\n",
    "check_key = !curl -s ... # the query URL with your API key goes here\n",
    "# inspect the contents of `check_key` but no need to show it in the notebook"
   ]
  },
  {
   "cell_type": "code",
   "execution_count": null,
   "id": "3b53f9f5",
   "metadata": {
    "deletable": false,
    "editable": false
   },
   "outputs": [],
   "source": [
    "grader.check(\"my_api_key\")"
   ]
  },
  {
   "cell_type": "markdown",
   "id": "b1ad7d1c",
   "metadata": {
    "deletable": false,
    "editable": false
   },
   "source": [
    "<!-- BEGIN QUESTION -->\n",
    "\n",
    "## Download `jq` for use\n",
    "\n",
    "`jq` is a lightweight and flexible command-line JSON processor. It is like `sed` for JSON data - you can use it to slice and filter and map and transform structured data with the same ease that `sed`, `awk`, `grep` and friends let you play with text.\n",
    "\n",
    "Applications such as `jq` are often a single executable file. `jq` can be downloaded from the project's [GitHub page](https://github.com/jqlang/jq/releases/tag/jq-1.7). Specifically, you will download the binary `jq-linux-amd64`. The downloaded file can be set as \"executable\" (`x`) for the user (`u`) with the `chmod` command.\n",
    "\n",
    "Command line applications are \"installed\" by placing the executable file in a searchable location as defined in `PATH` environment variable. \n",
    "\n",
    "The `PATH` environment variable is a system variable that operating systems use to locate executables from the command line or Terminal window. `PATH` is essentially a list of directory paths. When you type a command to run, the system looks for it in the directories specified by `PATH`.\n",
    "\n",
    "Fill-in the code below to download `jq` and place it in searchable directory, `/opt/conda/bin`. In other words, replace the following placeholders and remove the comment character `#`.\n",
    "1. `[SEARCHABLE_DIRECTORY]`\n",
    "1. `[JQ_DOWNLOAD_LINK]`"
   ]
  },
  {
   "cell_type": "code",
   "execution_count": null,
   "id": "b71a75ce-f690-475c-a15c-5522d89926ed",
   "metadata": {
    "tags": []
   },
   "outputs": [],
   "source": [
    "%%bash\n",
    "# wget -q [JQ_DOWNLOAD_LINK] -O [SEARCHABLE_DIRECTORY]/jq\n",
    "# chmod u+x [SEARCHABLE_DIRECTORY]/jq\n",
    "echo \"Location of installed jq: $(which jq)\"\n",
    "echo \"Installed jq version: $(jq --version)\""
   ]
  },
  {
   "cell_type": "markdown",
   "id": "df23423e",
   "metadata": {
    "deletable": false,
    "editable": false
   },
   "source": [
    "<!-- END QUESTION -->\n",
    "\n",
    "## Quickstart with `jq`\n",
    "\n",
    "We will use the following data to illustrate key features of `jq`. Running the following cell will create a file `made_up_file.json`."
   ]
  },
  {
   "cell_type": "code",
   "execution_count": null,
   "id": "68965ce4",
   "metadata": {},
   "outputs": [],
   "source": [
    "%%writefile made_up_file.json\n",
    "{\n",
    "  \"company\": \"Big Data Inc.\",\n",
    "  \"employees\": [\n",
    "    {\n",
    "      \"firstName\": \"John\",\n",
    "      \"lastName\": \"Doe\",\n",
    "      \"skills\": [\n",
    "        \"Python\",\n",
    "        \"Java\",\n",
    "        \"C++\"\n",
    "      ]\n",
    "    },\n",
    "    {\n",
    "      \"firstName\": \"Anna\",\n",
    "      \"lastName\": \"Smith\",\n",
    "      \"skills\": [\n",
    "        \"JavaScript\",\n",
    "        \"HTML\",\n",
    "        \"CSS\"\n",
    "      ]\n",
    "    },\n",
    "    {\n",
    "      \"firstName\": \"Peter\",\n",
    "      \"lastName\": \"Jones\",\n",
    "      \"skills\": [\n",
    "        \"Python\",\n",
    "        \"R\",\n",
    "        \"SQL\"\n",
    "      ]\n",
    "    }\n",
    "  ]\n",
    "}"
   ]
  },
  {
   "cell_type": "markdown",
   "id": "f73763ee",
   "metadata": {},
   "source": [
    "Run and understand the following commands to learn what each does:"
   ]
  },
  {
   "cell_type": "code",
   "execution_count": null,
   "id": "aecfb4e2",
   "metadata": {},
   "outputs": [],
   "source": [
    "!jq '.company' made_up_file.json # extract company attribute"
   ]
  },
  {
   "cell_type": "code",
   "execution_count": null,
   "id": "8bfc2f4a",
   "metadata": {},
   "outputs": [],
   "source": [
    "!jq '.employees[1]' made_up_file.json # extract second employee"
   ]
  },
  {
   "cell_type": "code",
   "execution_count": null,
   "id": "88a1ed66",
   "metadata": {},
   "outputs": [],
   "source": [
    "!jq '.employees[].skills[0]' made_up_file.json # extract first skill of each employee"
   ]
  },
  {
   "cell_type": "code",
   "execution_count": null,
   "id": "7b3b02f5",
   "metadata": {},
   "outputs": [],
   "source": [
    "!jq '.employees[] | .firstName' made_up_file.json # using pipe makes some things easier"
   ]
  },
  {
   "cell_type": "code",
   "execution_count": null,
   "id": "9f368ec5",
   "metadata": {},
   "outputs": [],
   "source": [
    "!jq '.employees[] | { first_name: .firstName, last_name: .lastName }' made_up_file.json # create new object from existing attributes"
   ]
  },
  {
   "cell_type": "code",
   "execution_count": null,
   "id": "e8ab41cb",
   "metadata": {},
   "outputs": [],
   "source": [
    "!jq '.employees[] | {name: (.firstName + \" \" + .lastName)}' made_up_file.json # create new object from combining existing attributes"
   ]
  },
  {
   "cell_type": "markdown",
   "id": "26a31f1e",
   "metadata": {},
   "source": [
    "## Download using NASA near earth objects API\n",
    "\n",
    "The near earth objects API contains the following endpoints:\n",
    "\n",
    "- Browse: Browse the overall Asteroid data-set  \n",
    "  Example query: `https://api.nasa.gov/neo/rest/v1/neo/browse?api_key=DEMO_KEY`\n",
    "- Lookup: Lookup a specific Asteroid based on its NASA JPL small body (SPK-ID) ID.  \n",
    "  Example query: `https://api.nasa.gov/neo/rest/v1/neo/3542519?api_key=DEMO_KEY`\n",
    "- Feed: Retrieve a list of Asteroids based on their closest approach date to Earth.  \n",
    "  Example query: `https://api.nasa.gov/neo/rest/v1/feed?start_date=START_DATE&end_date=END_DATE&api_key=API_KEY`"
   ]
  },
  {
   "cell_type": "markdown",
   "id": "5392b167",
   "metadata": {
    "deletable": false,
    "editable": false
   },
   "source": [
    "### The `browse` endpoint\n",
    "\n",
    "Inspect `links` and `page` attributes. The `page` attribute shows the number of `elements` accessible through the `total_pages` when viweing 20 (`size`) results at a time. The `links` attribute contains links to the current set of results (`self`) and the `next` page of results.\n",
    "\n",
    "Let's automate downloading 10 pages of results. Before we start downloading 1657 pages of results, we want to make sure we will not hit any rate limit. What is the [rate limit for this API](https://api.nasa.gov)?\n",
    "\n",
    "To stay well below the rate limit, we will automate downloading 10 pages of results and save them to separate files.\n",
    "\n",
    "Create a list of links for the first 10 pages by replacing the page number in the following URL:  \n",
    "`https://api.nasa.gov/neo/rest/v1/neo/browse?page=0&size=20&api_key=`."
   ]
  },
  {
   "cell_type": "code",
   "execution_count": null,
   "id": "bdb737b9",
   "metadata": {
    "tags": []
   },
   "outputs": [],
   "source": [
    "url_template = 'https://api.nasa.gov/neo/rest/v1/neo/browse?page=0&size=20&api_key='\n",
    "\n",
    "urls = []\n",
    "for page_num in range(0, 10):\n",
    "  url = url_template.replace('page=0', ... + str(...)) # replace the ... with the correct page number\n",
    "  urls += [url + my_api_key]\n",
    " \n",
    "urls # should be a list of 10 URLs"
   ]
  },
  {
   "cell_type": "code",
   "execution_count": null,
   "id": "acbc8d34",
   "metadata": {
    "deletable": false,
    "editable": false
   },
   "outputs": [],
   "source": [
    "grader.check(\"nasa_api\")"
   ]
  },
  {
   "cell_type": "markdown",
   "id": "58809ece",
   "metadata": {
    "deletable": false,
    "editable": false
   },
   "source": [
    "<!-- BEGIN QUESTION -->\n",
    "\n",
    "Download from the 10 urls created in the previous question. Save them to files as shown in the code."
   ]
  },
  {
   "cell_type": "code",
   "execution_count": null,
   "id": "94a7ecf3",
   "metadata": {
    "tags": []
   },
   "outputs": [],
   "source": [
    "for page_num, url in enumerate(urls):\n",
    "  print('processing:', url)\n",
    "  !curl -s '...' > browse_page_{page_num}.json # the query URL goes here"
   ]
  },
  {
   "cell_type": "markdown",
   "id": "0c8a5cb1",
   "metadata": {
    "deletable": false,
    "editable": false
   },
   "source": [
    "<!-- END QUESTION -->\n",
    "\n",
    "<!-- BEGIN QUESTION -->\n",
    "\n",
    "Run and inspect the following shell code and explain what `xargs` does. What does `wc` tell you about each file?"
   ]
  },
  {
   "cell_type": "markdown",
   "id": "12a56f2b",
   "metadata": {},
   "source": [
    "_Type your answer here, replacing this text._"
   ]
  },
  {
   "cell_type": "code",
   "execution_count": null,
   "id": "886b9bc3",
   "metadata": {
    "tags": []
   },
   "outputs": [],
   "source": [
    "!ls -1 browse_page_*.json | xargs wc"
   ]
  },
  {
   "cell_type": "markdown",
   "id": "7d55bb5c",
   "metadata": {
    "deletable": false,
    "editable": false
   },
   "source": [
    "<!-- END QUESTION -->\n",
    "\n",
    "<!-- BEGIN QUESTION -->\n",
    "\n",
    "Complete the following code to collect all `near_earth_objects` arrays into one single file `asteroids_all.json`"
   ]
  },
  {
   "cell_type": "code",
   "execution_count": null,
   "id": "8cd5c493",
   "metadata": {
    "tags": []
   },
   "outputs": [],
   "source": [
    "!ls -1 browse_page_*.json | xargs cat | jq -c '...' > asteroids_all.json # the jq command goes here\n",
    "\n",
    "# keep below lines\n",
    "!wc asteroids_all.json\n",
    "!head -n 20 asteroids_all.json > asteroids_20.json # create a small file for testing"
   ]
  },
  {
   "cell_type": "markdown",
   "id": "53ea135d",
   "metadata": {
    "deletable": false,
    "editable": false
   },
   "source": [
    "<!-- END QUESTION -->\n",
    "\n",
    "<!-- BEGIN QUESTION -->\n",
    "\n",
    "## Near Earth Asteroid Data\n",
    "\n",
    "We can use `jq` directly on a json file: e.g., \n",
    "```\n",
    "jq '.name' asteroids_20.json\n",
    "```\n",
    "\n",
    "Synthesize a new asteroid data from `asteroids_20.json`. The new data will consist of the following:\n",
    "\n",
    "- `name`: asteroid name\n",
    "- `id`: asteroid ID\n",
    "- `diameter`: maximum estimated diameter of asteroid in kilometers\n",
    "- `hazardous`: whether asteroid is potentially hazardous\n",
    "- `approach_dates`: list of all `close_approach_date` in `close_approach_data`: e.g., `[\"1900-12-27\",\"1907-11-05\",...]`\n",
    "\n",
    "Use the compact mode to put one record on one output row (refer to `jq --help`). Save the result to a file named `reformatted_20.json`.\n",
    "\n",
    "First few lines of `reformatted_20.json` looks like this: \n",
    "```\n",
    "[\n",
    "  {\n",
    "    \"name\": \"433 Eros (A898 PA)\",\n",
    "    \"id\": \"2000433\",\n",
    "    \"diameter\": 49.2084832235,\n",
    "    \"hazardous\": false,\n",
    "    \"close_approach_date\": [\n",
    "      \"1900-12-27\",\n",
    "      \"1907-11-05\",\n",
    "      \"1917-04-20\",\n",
    "```"
   ]
  },
  {
   "cell_type": "code",
   "execution_count": null,
   "id": "99926041",
   "metadata": {
    "tags": []
   },
   "outputs": [],
   "source": [
    "!jq ... '{name: ..., id: ..., diameter: ..., hazardous:..., close_approach_date:[...]}' asteroids_20.json | jq -s > reformatted_20.json # synthesize the output by replacing all ...'s"
   ]
  },
  {
   "cell_type": "markdown",
   "id": "e15a3694",
   "metadata": {
    "deletable": false,
    "editable": false
   },
   "source": [
    "<!-- END QUESTION -->\n",
    "\n",
    "## Reading JSON data with Pandas\n",
    "\n",
    "Study the following code."
   ]
  },
  {
   "cell_type": "code",
   "execution_count": null,
   "id": "770df1a7",
   "metadata": {},
   "outputs": [],
   "source": [
    "import pandas as pd\n",
    "\n",
    "# read in the reformatted JSON file\n",
    "asteroids_20 = \\\n",
    "  pd.read_json('reformatted_20.json')\\\n",
    "    .astype({'id': 'category'})\n",
    "\n",
    "# dataframe with asteroid information\n",
    "asteroids_20_info = \\\n",
    "  asteroids_20\\\n",
    "    .loc[:, ['name', 'id', 'diameter', 'hazardous']]\\\n",
    "    .set_index('id')\n",
    "\n",
    "# dataframe listing all close approach dates\n",
    "asteroids_20_dates = \\\n",
    "  asteroids_20\\\n",
    "    .loc[:, ['id','close_approach_date']]\\\n",
    "    .explode('close_approach_date')\\\n",
    "    .astype({'close_approach_date': 'datetime64[s]'})\n",
    "\n",
    "# add a column with the number of days since the last close approach\n",
    "asteroids_20_dates['days_since_last'] = \\\n",
    "  asteroids_20_dates\\\n",
    "    .groupby('id', observed=False)['close_approach_date']\\\n",
    "    .transform(lambda x: x.sort_values().diff().dt.days.astype('Int64'))\n",
    "\n",
    "# set multi-level index\n",
    "asteroids_20_dates = \\\n",
    "  asteroids_20_dates\\\n",
    "    .set_index(['id','close_approach_date'])"
   ]
  },
  {
   "cell_type": "markdown",
   "id": "7a53f1d8",
   "metadata": {},
   "source": [
    "First few rows of `asteroids_20` dataframe:"
   ]
  },
  {
   "cell_type": "markdown",
   "id": "5e65266d",
   "metadata": {},
   "source": [
    "```\n",
    "                     name       id   diameter  hazardous  \\\n",
    "0      433 Eros (A898 PA)  2000433  49.208483      False   \n",
    "1    719 Albert (A911 TB)  2000719   4.529393      False   \n",
    "2    887 Alinda (A918 AA)  2000887   9.954971      False   \n",
    "3  1036 Ganymed (A924 UB)  2001036  83.567994      False   \n",
    "4    1221 Amor (1932 EA1)  2001221   1.995446      False   \n",
    "\n",
    "                                 close_approach_date  \n",
    "0  [1900-12-27, 1907-11-05, 1917-04-20, 1924-03-0...  \n",
    "1  [1909-08-21, 1911-09-08, 1941-09-08, 1956-09-1...  \n",
    "2  [1910-01-04, 1914-01-02, 1918-01-03, 1922-01-0...  \n",
    "3  [1910-02-25, 1911-10-15, 1924-10-17, 1998-10-1...  \n",
    "4  [1900-03-08, 1908-03-14, 1916-03-17, 1924-03-2...  \n",
    "```"
   ]
  },
  {
   "cell_type": "markdown",
   "id": "5e2ad425",
   "metadata": {},
   "source": [
    "First few rows of `asteroids_20_info` dataframe:"
   ]
  },
  {
   "cell_type": "markdown",
   "id": "c45bb05a",
   "metadata": {},
   "source": [
    "```\n",
    "                           name   diameter  hazardous\n",
    "id                                                   \n",
    "2000433      433 Eros (A898 PA)  49.208483      False\n",
    "2000719    719 Albert (A911 TB)   4.529393      False\n",
    "2000887    887 Alinda (A918 AA)   9.954971      False\n",
    "2001036  1036 Ganymed (A924 UB)  83.567994      False\n",
    "2001221    1221 Amor (1932 EA1)   1.995446      False\n",
    "```                           "
   ]
  },
  {
   "cell_type": "markdown",
   "id": "15d65625",
   "metadata": {},
   "source": [
    "First few rows of `asteroids_20_dates` dataframe:"
   ]
  },
  {
   "cell_type": "markdown",
   "id": "92d45d40",
   "metadata": {},
   "source": [
    "```\n",
    "                             days_since_last\n",
    "id      close_approach_date                 \n",
    "2000433 1900-12-27                      <NA>\n",
    "        1907-11-05                      2504\n",
    "        1917-04-20                      3454\n",
    "        1924-03-05                      2511\n",
    "        1931-01-30                      2522\n",
    "```"
   ]
  },
  {
   "cell_type": "markdown",
   "id": "1b92bc68",
   "metadata": {
    "deletable": false,
    "editable": false
   },
   "source": [
    "## Potentially Hazardous Asteroid 2023\n",
    "\n",
    "Filter for potentially hazardous asteroids in 2025 from `asteroids_20.json`"
   ]
  },
  {
   "cell_type": "code",
   "execution_count": null,
   "id": "f3281f97",
   "metadata": {
    "tags": []
   },
   "outputs": [],
   "source": [
    "# filter for hazardous asteroids\n",
    "haz_20 = asteroids_20_info.query('hazardous == True').index.values\n",
    "\n",
    "# subset dates dataframe to only include hazardous asteroids\n",
    "haz_20_dates = asteroids_20_dates.loc[haz_20]\n",
    "\n",
    "# filter for close approach dates in 2023\n",
    "idx = pd.IndexSlice\n",
    "# filter dates between '2025-01-01' and '2025-12-31'\n",
    "haz_20_date_2025 = haz_20_dates.loc[..., :] # replace ... with multi-level index"
   ]
  },
  {
   "cell_type": "code",
   "execution_count": null,
   "id": "7bb70f97",
   "metadata": {
    "deletable": false,
    "editable": false
   },
   "outputs": [],
   "source": [
    "grader.check(\"hazardous_asteroids_2023\")"
   ]
  },
  {
   "cell_type": "markdown",
   "id": "b5f4545f",
   "metadata": {
    "deletable": false,
    "editable": false
   },
   "source": [
    "## Read from All Files\n",
    "\n",
    "Now, we are ready to combine all 10 query results files (we saved file names in variable called `files`). Loop through each file name, and apply the constructed `jq` command to concatenate all rows."
   ]
  },
  {
   "cell_type": "code",
   "execution_count": null,
   "id": "00119b08",
   "metadata": {
    "tags": []
   },
   "outputs": [],
   "source": [
    "!jq ... '{name: ..., id: ..., diameter: ..., hazardous:..., close_approach_date:[...]}' asteroids_all.json | jq -s > reformatted_all.json # synthesize the output by replacing all ...'s\n",
    "\n",
    "# read in the reformatted JSON file\n",
    "asteroids_all = ...\n",
    "\n",
    "# dataframe with asteroid information\n",
    "asteroids_all_info = ...\n",
    "\n",
    "# dataframe listing all close approach dates\n",
    "asteroids_all_dates = ...\n",
    "\n",
    "# add a column with the number of days since the last close approach\n",
    "asteroids_all_dates['days_since_last'] = ...\n",
    "\n",
    "# set multi-level index\n",
    "asteroids_all_dates = ..."
   ]
  },
  {
   "cell_type": "code",
   "execution_count": null,
   "id": "4c0ac83a",
   "metadata": {
    "deletable": false,
    "editable": false
   },
   "outputs": [],
   "source": [
    "grader.check(\"asteroids_all\")"
   ]
  },
  {
   "cell_type": "code",
   "execution_count": null,
   "id": "72d88dcd",
   "metadata": {
    "tags": []
   },
   "outputs": [],
   "source": [
    "# filter for hazardous asteroids\n",
    "haz_all = asteroids_all_info.query('hazardous == True').index.values\n",
    "\n",
    "# subset dates dataframe to only include hazardous asteroids\n",
    "haz_all_dates = asteroids_all_dates.loc[haz_all]\n",
    "\n",
    "# filter for close approach dates in 2025\n",
    "haz_all_dates.loc[idx[:, '2025-01-01':'2025-12-31'], :]\n",
    "\n",
    "# filter dates between '2025-01-01' and '2025-12-31'\n",
    "haz_all_date_2025 = haz_all_dates.loc[..., :] # replace ... with multi-level index"
   ]
  },
  {
   "cell_type": "code",
   "execution_count": null,
   "id": "8ca9c10b",
   "metadata": {
    "deletable": false,
    "editable": false
   },
   "outputs": [],
   "source": [
    "grader.check(\"hazardous_asteroids_2025\")"
   ]
  },
  {
   "cell_type": "markdown",
   "id": "41a473a2",
   "metadata": {
    "deletable": false,
    "editable": false
   },
   "source": [
    "---\n",
    "\n",
    "To double-check your work, the cell below will rerun all of the autograder tests."
   ]
  },
  {
   "cell_type": "code",
   "execution_count": null,
   "id": "aa924c31",
   "metadata": {
    "deletable": false,
    "editable": false
   },
   "outputs": [],
   "source": [
    "grader.check_all()"
   ]
  },
  {
   "cell_type": "markdown",
   "id": "379e5d61",
   "metadata": {
    "deletable": false,
    "editable": false
   },
   "source": [
    "## Submission\n",
    "\n",
    "Make sure you have run all cells in your notebook in order before running the cell below, so that all images/graphs appear in the output. The cell below will generate a zip file for you to submit. **Please save before exporting!**\n",
    "\n",
    "Download the zip file and submit to Gradescope."
   ]
  },
  {
   "cell_type": "code",
   "execution_count": null,
   "id": "baec6324",
   "metadata": {
    "deletable": false,
    "editable": false
   },
   "outputs": [],
   "source": [
    "# Save your notebook first, then run this cell to export your submission.\n",
    "grader.export(run_tests=True)"
   ]
  },
  {
   "cell_type": "markdown",
   "id": "e3296888",
   "metadata": {},
   "source": [
    " "
   ]
  }
 ],
 "metadata": {
  "kernelspec": {
   "display_name": "Python 3 (ipykernel)",
   "language": "python",
   "name": "python3"
  },
  "language_info": {
   "codemirror_mode": {
    "name": "ipython",
    "version": 3
   },
   "file_extension": ".py",
   "mimetype": "text/x-python",
   "name": "python",
   "nbconvert_exporter": "python",
   "pygments_lexer": "ipython3",
   "version": "3.11.6"
  },
  "otter": {
   "OK_FORMAT": true,
   "tests": {
    "asteroids_all": {
     "name": "asteroids_all",
     "points": 10,
     "suites": [
      {
       "cases": [
        {
         "code": ">>> asteroids_all.shape\n(200, 5)",
         "hidden": false,
         "locked": false
        },
        {
         "code": ">>> print(asteroids_all.iloc[-1])\nname                                                     18736 (1998 NU)\nid                                                               2018736\ndiameter                                                        3.767385\nhazardous                                                          False\nclose_approach_date    [1918-04-01, 1921-06-08, 1927-03-01, 1936-02-2...\nName: 199, dtype: object\n",
         "hidden": false,
         "locked": false
        }
       ],
       "scored": true,
       "setup": "",
       "teardown": "",
       "type": "doctest"
      }
     ]
    },
    "hazardous_asteroids_2023": {
     "name": "hazardous_asteroids_2023",
     "points": 4,
     "suites": [
      {
       "cases": [
        {
         "code": ">>> print(haz_20_date_2025)\n                             days_since_last\nid      close_approach_date                 \n2001566 2025-05-24                       349\n        2025-07-03                        40\n",
         "hidden": false,
         "locked": false
        },
        {
         "code": ">>> print(asteroids_20_info.loc[haz_20_date_2025.index.get_level_values('id')])\n                          name  diameter  hazardous\nid                                                 \n2001566  1566 Icarus (1949 MA)  2.857854       True\n2001566  1566 Icarus (1949 MA)  2.857854       True\n",
         "hidden": false,
         "locked": false
        }
       ],
       "scored": true,
       "setup": "",
       "teardown": "",
       "type": "doctest"
      }
     ]
    },
    "hazardous_asteroids_2025": {
     "name": "hazardous_asteroids_2025",
     "points": 10,
     "suites": [
      {
       "cases": [
        {
         "code": ">>> print(haz_all_date_2025)\n                             days_since_last\nid      close_approach_date                 \n2001566 2025-05-24                       349\n        2025-07-03                        40\n2002101 2025-08-19                      1872\n2003361 2025-11-19                      1251\n2004034 2025-03-04                       419\n        2025-04-01                        28\n2004450 2025-09-24                      1943\n2004953 2025-04-23                      1567\n        2025-05-16                        23\n2005604 2025-02-09                      2063\n        2025-03-08                        27\n2006037 2025-08-11                       657\n2006239 2025-02-05                      1758\n2006489 2025-03-25                      4318\n2006491 2025-03-10                      4345\n2011500 2025-11-12                      2336\n2016960 2025-05-02                      6033\n        2025-05-21                        19\n",
         "hidden": false,
         "locked": false
        }
       ],
       "scored": true,
       "setup": "",
       "teardown": "",
       "type": "doctest"
      }
     ]
    },
    "my_api_key": {
     "name": "my_api_key",
     "points": 5,
     "suites": [
      {
       "cases": [
        {
         "code": ">>> (len(my_api_key), type(my_api_key), type(check_key), type(check_key[0]))\n(40, str, IPython.utils.text.SList, str)",
         "hidden": false,
         "locked": false,
         "points": 3
        },
        {
         "code": ">>> ('DEMO_KEY' not in check_key[0]) & ('API_KEY_INVALID' not in check_key[0])\nTrue",
         "hidden": false,
         "locked": false,
         "points": 2
        }
       ],
       "scored": true,
       "setup": "",
       "teardown": "",
       "type": "doctest"
      }
     ]
    },
    "nasa_api": {
     "name": "nasa_api",
     "points": 4,
     "suites": [
      {
       "cases": [
        {
         "code": ">>> all([url_template.replace('page=0', 'page=' + str(p)) in u for p, u in enumerate(urls)])\nTrue",
         "hidden": false,
         "locked": false
        }
       ],
       "scored": true,
       "setup": "",
       "teardown": "",
       "type": "doctest"
      }
     ]
    }
   }
  }
 },
 "nbformat": 4,
 "nbformat_minor": 5
}
